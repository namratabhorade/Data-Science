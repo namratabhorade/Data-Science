{
  "nbformat": 4,
  "nbformat_minor": 0,
  "metadata": {
    "colab": {
      "name": "DS-Exp8.ipynb",
      "provenance": []
    },
    "kernelspec": {
      "name": "python3",
      "display_name": "Python 3"
    },
    "language_info": {
      "name": "python"
    }
  },
  "cells": [
    {
      "cell_type": "markdown",
      "metadata": {
        "id": "8-H409u2DXCX"
      },
      "source": [
        "Name: Namrata Bhorade\n",
        "\n",
        "Class: BE COMPS\n",
        "\n",
        "Batch: A\n",
        "\n",
        "UID: 2018130004\n",
        "\n",
        "Roll No.: 03"
      ]
    },
    {
      "cell_type": "markdown",
      "metadata": {
        "id": "hiWMGe_lDaAN"
      },
      "source": [
        "# CEEL 82B, Data Science, 2022\n",
        "# Lab 8: Support Vector Machine\n"
      ]
    },
    {
      "cell_type": "markdown",
      "metadata": {
        "id": "xVSScaUW8VSA"
      },
      "source": [
        "**Objective**: Understanding Support Vector Machine algorithm through building SVM algorithm in Python"
      ]
    },
    {
      "cell_type": "markdown",
      "source": [
        "This notebook elaborates the Support Vector Machine algorithm with the help of a randomly generated dataset in python. It explains the effect of using various kernels of SVM on the results. It then presents the classification of Pulsar data using various kernels of SVM such as Linear, Polynomial and Radial and comapres the results."
      ],
      "metadata": {
        "id": "FelcepLgOJ3d"
      }
    },
    {
      "cell_type": "code",
      "source": [
        "import numpy as np # linear algebra\n",
        "import pandas as pd # data processing\n",
        "\n",
        "import matplotlib as mpl\n",
        "import matplotlib.pyplot as plt\n",
        "import seaborn as sns\n",
        "\n",
        "from sklearn.model_selection import train_test_split\n",
        "\n",
        "from sklearn.metrics import accuracy_score, confusion_matrix, roc_curve, roc_auc_score, auc, classification_report\n",
        "\n",
        "from prettytable import PrettyTable\n",
        "\n",
        "import os\n",
        "\n",
        "import warnings\n",
        "warnings.filterwarnings(\"ignore\")"
      ],
      "metadata": {
        "id": "lbs8FZUFbvtG"
      },
      "execution_count": null,
      "outputs": []
    },
    {
      "cell_type": "code",
      "source": [
        "# We'll define a function to draw a nice plot of an SVM\n",
        "def plot_svc(svc, X, y, h=0.02, pad=0.25):\n",
        "    x_min, x_max = X[:, 0].min()-pad, X[:, 0].max()+pad\n",
        "    y_min, y_max = X[:, 1].min()-pad, X[:, 1].max()+pad\n",
        "    xx, yy = np.meshgrid(np.arange(x_min, x_max, h), np.arange(y_min, y_max, h))\n",
        "    Z = svc.predict(np.c_[xx.ravel(), yy.ravel()])\n",
        "    Z = Z.reshape(xx.shape)\n",
        "    plt.contourf(xx, yy, Z, cmap=plt.cm.Paired, alpha=0.2)\n",
        "\n",
        "    plt.scatter(X[:,0], X[:,1], s=70, c=y, cmap=mpl.cm.Paired)\n",
        "    # Support vectors indicated in plot by vertical lines\n",
        "    sv = svc.support_vectors_\n",
        "    plt.scatter(sv[:,0], sv[:,1], c='k', marker='x', s=100, linewidths='1')\n",
        "    plt.xlim(x_min, x_max)\n",
        "    plt.ylim(y_min, y_max)\n",
        "    plt.xlabel('X1')\n",
        "    plt.ylabel('X2')\n",
        "    plt.show()\n",
        "    print('Number of support vectors: ', svc.support_.size)"
      ],
      "metadata": {
        "id": "pq0J28pmb5hc"
      },
      "execution_count": null,
      "outputs": []
    },
    {
      "cell_type": "markdown",
      "source": [
        "# 1. Support Vector Machines\n",
        "\n",
        "Use the  SVC  module from the  sklearn.svm  package to demonstrate the support vector classifier and the SVM"
      ],
      "metadata": {
        "id": "n_HnYO-FdmBd"
      }
    },
    {
      "cell_type": "code",
      "source": [
        "from sklearn.svm import SVC"
      ],
      "metadata": {
        "id": "taONun4rdKNN"
      },
      "execution_count": null,
      "outputs": []
    },
    {
      "cell_type": "markdown",
      "source": [
        "# 2. Support vector Classifier"
      ],
      "metadata": {
        "id": "D1csYckddyjq"
      }
    },
    {
      "cell_type": "markdown",
      "source": [
        "The  SVC()  function can be used to fit a support vector classifier when the argument kernel=\"linear\"  is used. This function uses a slightly different formulation of the equations we saw in lecture to build the support vector classifier. The  c  argument allows us to specify the cost of a violation to the margin. When the  c  argument is small, then the margins will be wide and many support vectors will be on the margin or will violate the margin. When the  c  argument is large, then the margins will be narrow and there will be few support vectors on the margin or violating the margin.\n",
        "\n",
        "We can use the  SVC()  function to fit the support vector classifier for a given value of the  cost  parameter. Here we demonstrate the use of this function on a two-dimensional example so that we can plot the resulting decision boundary. Let's start by generating a set of observations, which belong to two classes:"
      ],
      "metadata": {
        "id": "wMvzaKbKd7JC"
      }
    },
    {
      "cell_type": "code",
      "source": [
        "# Generating random data: 20 observations of 2 features and divide into two classes.\n",
        "np.random.seed(5)\n",
        "X = np.random.randn(20,2)\n",
        "y = np.repeat([1,-1], 10)\n",
        "\n",
        "X[y == -1] = X[y == -1]+1"
      ],
      "metadata": {
        "id": "4kX92CP3dx7G"
      },
      "execution_count": null,
      "outputs": []
    },
    {
      "cell_type": "markdown",
      "source": [
        "Let's plot the data to see whether the classes are linearly separable:"
      ],
      "metadata": {
        "id": "DCPebd03eEgt"
      }
    },
    {
      "cell_type": "code",
      "source": [
        "plt.scatter(X[:,0], X[:,1], s=70, c=y, cmap=mpl.cm.Paired)\n",
        "plt.xlabel('X1')\n",
        "plt.ylabel('X2')"
      ],
      "metadata": {
        "colab": {
          "base_uri": "https://localhost:8080/",
          "height": 297
        },
        "id": "dEHBwbE1eBMS",
        "outputId": "f28f5e44-2efd-44b6-fbc0-2c28457fa9b1"
      },
      "execution_count": null,
      "outputs": [
        {
          "output_type": "execute_result",
          "data": {
            "text/plain": [
              "Text(0, 0.5, 'X2')"
            ]
          },
          "metadata": {},
          "execution_count": 91
        },
        {
          "output_type": "display_data",
          "data": {
            "text/plain": [
              "<Figure size 432x288 with 1 Axes>"
            ],
            "image/png": "[encoded data removed]"
          },
          "metadata": {
            "needs_background": "light"
          }
        }
      ]
    },
    {
      "cell_type": "markdown",
      "source": [
        "Linear or Non Linear?\n",
        "\n",
        "From the above plot, we can see that the classes are not linearly separable"
      ],
      "metadata": {
        "id": "qCxfjTT9echb"
      }
    },
    {
      "cell_type": "markdown",
      "source": [
        "Nope; not linear. Next, we fit the support vector classifier:"
      ],
      "metadata": {
        "id": "C5THX_tUem9n"
      }
    },
    {
      "cell_type": "code",
      "source": [
        "svc = SVC(C=1, kernel='linear')\n",
        "svc.fit(X, y)"
      ],
      "metadata": {
        "colab": {
          "base_uri": "https://localhost:8080/"
        },
        "id": "DsFYxzKTeShq",
        "outputId": "fe0b8ead-5084-4690-919f-b1db788866be"
      },
      "execution_count": null,
      "outputs": [
        {
          "output_type": "execute_result",
          "data": {
            "text/plain": [
              "SVC(C=1, kernel='linear')"
            ]
          },
          "metadata": {},
          "execution_count": 92
        }
      ]
    },
    {
      "cell_type": "markdown",
      "source": [
        "We can now plot the support vector classifier by calling the  plot_svc()  function on the output of the call to  SVC() , as well as the data used in the call to  SVC() :"
      ],
      "metadata": {
        "id": "9SORLcZIes3j"
      }
    },
    {
      "cell_type": "code",
      "source": [
        "plot_svc(svc, X, y)\n"
      ],
      "metadata": {
        "colab": {
          "base_uri": "https://localhost:8080/",
          "height": 297
        },
        "id": "rAgqlbc-epQx",
        "outputId": "90df63fa-61cc-44ba-9e5d-868f86c9ce3f"
      },
      "execution_count": null,
      "outputs": [
        {
          "output_type": "display_data",
          "data": {
            "text/plain": [
              "<Figure size 432x288 with 1 Axes>"
            ],
            "image/png": "[encoded data removed]"
          },
          "metadata": {
            "needs_background": "light"
          }
        },
        {
          "output_type": "stream",
          "name": "stdout",
          "text": [
            "Number of support vectors:  13\n"
          ]
        }
      ]
    },
    {
      "cell_type": "markdown",
      "source": [
        "The region of feature space that will be assigned to the −1 class is shown in light blue, and the region that will be assigned to the +1 class is shown in brown. The decision boundary between the two classes is linear (because we used the argument  kernel=\"linear\" ).\n",
        "\n",
        "The support vectors are plotted with crosses and the remaining observations are plotted as circles; we see here that there are 13 support vectors. We can determine their identities as follows:"
      ],
      "metadata": {
        "id": "79Y8F3H8fCYC"
      }
    },
    {
      "cell_type": "code",
      "source": [
        "svc.support_"
      ],
      "metadata": {
        "colab": {
          "base_uri": "https://localhost:8080/"
        },
        "id": "eAhe0aCYfbdS",
        "outputId": "caa0cf04-93fd-4c4d-8c17-4980fc5743b7"
      },
      "execution_count": null,
      "outputs": [
        {
          "output_type": "execute_result",
          "data": {
            "text/plain": [
              "array([10, 11, 13, 14, 15, 16, 17,  0,  1,  2,  4,  6,  8], dtype=int32)"
            ]
          },
          "metadata": {},
          "execution_count": 94
        }
      ]
    },
    {
      "cell_type": "code",
      "source": [
        "svc.support_vectors_"
      ],
      "metadata": {
        "colab": {
          "base_uri": "https://localhost:8080/"
        },
        "id": "uZPB894mf8w5",
        "outputId": "9bfde2f3-667f-41dd-b643-cd7d47b498a5"
      },
      "execution_count": null,
      "outputs": [
        {
          "output_type": "execute_result",
          "data": {
            "text/plain": [
              "array([[ 0.01939211,  0.14314685],\n",
              "       [ 0.12812082,  0.57749207],\n",
              "       [ 1.05914424,  0.63668912],\n",
              "       [ 1.00328884,  0.89406956],\n",
              "       [ 1.79305332,  0.36842837],\n",
              "       [ 0.99380509,  0.89893239],\n",
              "       [ 0.94769185,  1.24921766],\n",
              "       [ 0.44122749, -0.33087015],\n",
              "       [ 2.43077119, -0.25209213],\n",
              "       [ 0.10960984,  1.58248112],\n",
              "       [ 0.18760323, -0.32986996],\n",
              "       [-0.35882895,  0.6034716 ],\n",
              "       [ 1.15139101,  1.85733101]])"
            ]
          },
          "metadata": {},
          "execution_count": 95
        }
      ]
    },
    {
      "cell_type": "code",
      "source": [
        "len(svc.support_vectors_)"
      ],
      "metadata": {
        "colab": {
          "base_uri": "https://localhost:8080/"
        },
        "id": "ArJtga1KgEVG",
        "outputId": "59e4793f-bb62-4867-97ae-41fea0fc525a"
      },
      "execution_count": null,
      "outputs": [
        {
          "output_type": "execute_result",
          "data": {
            "text/plain": [
              "13"
            ]
          },
          "metadata": {},
          "execution_count": 96
        }
      ]
    },
    {
      "cell_type": "markdown",
      "source": [
        "Number of Support vectors?\n",
        "\n",
        "Ans: 13\n"
      ],
      "metadata": {
        "id": "OuOvvoq5e8eX"
      }
    },
    {
      "cell_type": "markdown",
      "source": [
        "What if we instead used a smaller value of the  cost  parameter?"
      ],
      "metadata": {
        "id": "rB05Xb1mgR7Y"
      }
    },
    {
      "cell_type": "code",
      "source": [
        "svc2 = SVC(C=0.1, kernel='linear')\n",
        "svc2.fit(X, y)\n",
        "plot_svc(svc2, X, y)"
      ],
      "metadata": {
        "colab": {
          "base_uri": "https://localhost:8080/",
          "height": 297
        },
        "id": "hfMLLAZfexlV",
        "outputId": "360eb408-06bd-4b08-fb17-b1dd738442f8"
      },
      "execution_count": null,
      "outputs": [
        {
          "output_type": "display_data",
          "data": {
            "text/plain": [
              "<Figure size 432x288 with 1 Axes>"
            ],
            "image/png": "[encoded data removed]"
          },
          "metadata": {
            "needs_background": "light"
          }
        },
        {
          "output_type": "stream",
          "name": "stdout",
          "text": [
            "Number of support vectors:  16\n"
          ]
        }
      ]
    },
    {
      "cell_type": "code",
      "source": [
        "svc2.support_"
      ],
      "metadata": {
        "colab": {
          "base_uri": "https://localhost:8080/"
        },
        "outputId": "64c2183b-48c5-4874-8ba6-f9bd5ea11a61",
        "id": "C48rNGaVgspD"
      },
      "execution_count": null,
      "outputs": [
        {
          "output_type": "execute_result",
          "data": {
            "text/plain": [
              "array([10, 11, 13, 14, 15, 16, 17, 19,  0,  1,  2,  3,  4,  6,  8,  9],\n",
              "      dtype=int32)"
            ]
          },
          "metadata": {},
          "execution_count": 98
        }
      ]
    },
    {
      "cell_type": "code",
      "source": [
        "svc2.support_vectors_"
      ],
      "metadata": {
        "colab": {
          "base_uri": "https://localhost:8080/"
        },
        "outputId": "ecc60da5-9f18-486b-c487-58633353fa97",
        "id": "nXbtO1npgspD"
      },
      "execution_count": null,
      "outputs": [
        {
          "output_type": "execute_result",
          "data": {
            "text/plain": [
              "array([[ 0.01939211,  0.14314685],\n",
              "       [ 0.12812082,  0.57749207],\n",
              "       [ 1.05914424,  0.63668912],\n",
              "       [ 1.00328884,  0.89406956],\n",
              "       [ 1.79305332,  0.36842837],\n",
              "       [ 0.99380509,  0.89893239],\n",
              "       [ 0.94769185,  1.24921766],\n",
              "       [ 0.91312439,  2.56153229],\n",
              "       [ 0.44122749, -0.33087015],\n",
              "       [ 2.43077119, -0.25209213],\n",
              "       [ 0.10960984,  1.58248112],\n",
              "       [-0.9092324 , -0.59163666],\n",
              "       [ 0.18760323, -0.32986996],\n",
              "       [-0.35882895,  0.6034716 ],\n",
              "       [ 1.15139101,  1.85733101],\n",
              "       [-1.51117956,  0.64484751]])"
            ]
          },
          "metadata": {},
          "execution_count": 99
        }
      ]
    },
    {
      "cell_type": "code",
      "source": [
        "len(svc2.support_vectors_)"
      ],
      "metadata": {
        "colab": {
          "base_uri": "https://localhost:8080/"
        },
        "outputId": "6b85c416-cc6a-4d2b-b2f1-96ec19e1b458",
        "id": "k4k2Et2KgspD"
      },
      "execution_count": null,
      "outputs": [
        {
          "output_type": "execute_result",
          "data": {
            "text/plain": [
              "16"
            ]
          },
          "metadata": {},
          "execution_count": 100
        }
      ]
    },
    {
      "cell_type": "markdown",
      "source": [
        "Number of support vectors?\n",
        "\n",
        "Ans - 16"
      ],
      "metadata": {
        "id": "NKCNSxrsgmx_"
      }
    },
    {
      "cell_type": "markdown",
      "source": [
        "Now that a smaller value of the c parameter is being used, we obtain a larger number of support vectors, because the margin is now wider."
      ],
      "metadata": {
        "id": "FSBdJCBZg-10"
      }
    },
    {
      "cell_type": "markdown",
      "source": [
        "The  sklearn.grid_search  module includes a function  GridSearchCV() to perform cross-validation. In order to use this function, we pass in relevant information about the set of models that are under consideration. The following command indicates that we want perform 10-fold cross-validation to compare SVMs with a linear kernel, using a range of values of the cost parameter:"
      ],
      "metadata": {
        "id": "YbU0X3xPhDd_"
      }
    },
    {
      "cell_type": "code",
      "source": [
        "from sklearn.model_selection import GridSearchCV\n",
        "\n",
        "# Select the optimal C parameter by cross-validation\n",
        "tuned_parameters = [{'C': [0.001, 0.01, 0.1, 1, 5, 10, 100]}]\n",
        "clf = GridSearchCV(SVC(kernel='linear'), tuned_parameters, cv=10, scoring='accuracy')\n",
        "clf.fit(X, y)"
      ],
      "metadata": {
        "colab": {
          "base_uri": "https://localhost:8080/"
        },
        "id": "e46soqHOgfw2",
        "outputId": "37d2302a-6f21-4001-c387-0fac4594f6fc"
      },
      "execution_count": null,
      "outputs": [
        {
          "output_type": "execute_result",
          "data": {
            "text/plain": [
              "GridSearchCV(cv=10, estimator=SVC(kernel='linear'),\n",
              "             param_grid=[{'C': [0.001, 0.01, 0.1, 1, 5, 10, 100]}],\n",
              "             scoring='accuracy')"
            ]
          },
          "metadata": {},
          "execution_count": 101
        }
      ]
    },
    {
      "cell_type": "markdown",
      "source": [
        "We can easily access the cross-validation errors for each of these models:"
      ],
      "metadata": {
        "id": "WOiuknIwhP8-"
      }
    },
    {
      "cell_type": "code",
      "source": [
        "clf.cv_results_"
      ],
      "metadata": {
        "colab": {
          "base_uri": "https://localhost:8080/"
        },
        "id": "PkvKtKB3hNCm",
        "outputId": "704bbf28-60ef-4f49-cdce-b079d4fa4638"
      },
      "execution_count": null,
      "outputs": [
        {
          "output_type": "execute_result",
          "data": {
            "text/plain": [
              "{'mean_fit_time': array([0.00327022, 0.00113573, 0.00127213, 0.0017777 , 0.00105324,\n",
              "        0.00092235, 0.00212891]),\n",
              " 'mean_score_time': array([0.00101511, 0.00081689, 0.00059557, 0.00076165, 0.00056376,\n",
              "        0.00050237, 0.00062985]),\n",
              " 'mean_test_score': array([0.8 , 0.8 , 0.8 , 0.75, 0.75, 0.75, 0.75]),\n",
              " 'param_C': masked_array(data=[0.001, 0.01, 0.1, 1, 5, 10, 100],\n",
              "              mask=[False, False, False, False, False, False, False],\n",
              "        fill_value='?',\n",
              "             dtype=object),\n",
              " 'params': [{'C': 0.001},\n",
              "  {'C': 0.01},\n",
              "  {'C': 0.1},\n",
              "  {'C': 1},\n",
              "  {'C': 5},\n",
              "  {'C': 10},\n",
              "  {'C': 100}],\n",
              " 'rank_test_score': array([1, 1, 1, 4, 4, 4, 4], dtype=int32),\n",
              " 'split0_test_score': array([0.5, 0.5, 0.5, 0.5, 0.5, 0.5, 0.5]),\n",
              " 'split1_test_score': array([0.5, 0.5, 0.5, 0. , 0. , 0. , 0. ]),\n",
              " 'split2_test_score': array([0.5, 0.5, 0.5, 0.5, 0.5, 0.5, 0.5]),\n",
              " 'split3_test_score': array([1., 1., 1., 1., 1., 1., 1.]),\n",
              " 'split4_test_score': array([1., 1., 1., 1., 1., 1., 1.]),\n",
              " 'split5_test_score': array([1., 1., 1., 1., 1., 1., 1.]),\n",
              " 'split6_test_score': array([1., 1., 1., 1., 1., 1., 1.]),\n",
              " 'split7_test_score': array([1., 1., 1., 1., 1., 1., 1.]),\n",
              " 'split8_test_score': array([0.5, 0.5, 0.5, 0.5, 0.5, 0.5, 0.5]),\n",
              " 'split9_test_score': array([1., 1., 1., 1., 1., 1., 1.]),\n",
              " 'std_fit_time': array([0.00380127, 0.00016169, 0.00065007, 0.00219329, 0.00016746,\n",
              "        0.00012007, 0.00230749]),\n",
              " 'std_score_time': array([9.10666109e-04, 5.58273148e-04, 3.17071613e-05, 5.11526861e-04,\n",
              "        7.77442152e-05, 7.30834773e-05, 5.88981529e-05]),\n",
              " 'std_test_score': array([0.24494897, 0.24494897, 0.24494897, 0.3354102 , 0.3354102 ,\n",
              "        0.3354102 , 0.3354102 ])}"
            ]
          },
          "metadata": {},
          "execution_count": 102
        }
      ]
    },
    {
      "cell_type": "markdown",
      "source": [
        "The  GridSearchCV()  function stores the best parameters obtained, which can be accessed as follows:"
      ],
      "metadata": {
        "id": "_Dai1AnChVyU"
      }
    },
    {
      "cell_type": "code",
      "source": [
        "clf.best_params_"
      ],
      "metadata": {
        "colab": {
          "base_uri": "https://localhost:8080/"
        },
        "id": "xH1dW1CzhSR_",
        "outputId": "9a017b54-3180-41cd-ca0d-c028dd6126c6"
      },
      "execution_count": null,
      "outputs": [
        {
          "output_type": "execute_result",
          "data": {
            "text/plain": [
              "{'C': 0.001}"
            ]
          },
          "metadata": {},
          "execution_count": 103
        }
      ]
    },
    {
      "cell_type": "markdown",
      "source": [
        "c=0.001 is best according to GridSearchCV."
      ],
      "metadata": {
        "id": "23B2JNaahw2l"
      }
    },
    {
      "cell_type": "markdown",
      "source": [
        "We can see the best score of the grid search model as follows:"
      ],
      "metadata": {
        "id": "iHCofkMhkebi"
      }
    },
    {
      "cell_type": "code",
      "source": [
        "clf.best_score_"
      ],
      "metadata": {
        "colab": {
          "base_uri": "https://localhost:8080/"
        },
        "id": "_-h5JSlakYr2",
        "outputId": "8f761cd6-ef68-49c5-c3fb-9e25c98dc295"
      },
      "execution_count": null,
      "outputs": [
        {
          "output_type": "execute_result",
          "data": {
            "text/plain": [
              "0.8"
            ]
          },
          "metadata": {},
          "execution_count": 104
        }
      ]
    },
    {
      "cell_type": "markdown",
      "source": [
        "As usual, the  predict()  function can be used to predict the class label on a set of test observations, at any given value of the cost parameter. Let's generate a test data set:"
      ],
      "metadata": {
        "id": "vt5g7W-jh075"
      }
    },
    {
      "cell_type": "code",
      "source": [
        "np.random.seed(1)\n",
        "X_test = np.random.randn(20,2)\n",
        "y_test = np.random.choice([-1,1], 20)\n",
        "X_test[y_test == 1] = X_test[y_test == 1]-1"
      ],
      "metadata": {
        "id": "XrdmVBKvhuFD"
      },
      "execution_count": null,
      "outputs": []
    },
    {
      "cell_type": "markdown",
      "source": [
        "Now we predict the class labels of these test observations. Here we use the best model obtained through cross-validation in order to make predictions:"
      ],
      "metadata": {
        "id": "Wkf_pxoKh-MQ"
      }
    },
    {
      "cell_type": "code",
      "source": [
        "svc2 = SVC(C=0.001, kernel='linear', probability=True)\n",
        "svc2.fit(X, y)\n",
        "\n",
        "y_pred = svc2.predict(X_test)"
      ],
      "metadata": {
        "id": "7W7uFI_Rh7mj"
      },
      "execution_count": null,
      "outputs": []
    },
    {
      "cell_type": "markdown",
      "metadata": {
        "id": "zisFLAi0ZT50"
      },
      "source": [
        "### Accuracy"
      ]
    },
    {
      "cell_type": "code",
      "execution_count": null,
      "metadata": {
        "colab": {
          "base_uri": "https://localhost:8080/"
        },
        "outputId": "8eef7d55-fe2a-4329-f41c-beab09c6603d",
        "id": "5L3Q_4v6ZT50"
      },
      "outputs": [
        {
          "output_type": "stream",
          "name": "stdout",
          "text": [
            "Accuracy -  70.0\n"
          ]
        }
      ],
      "source": [
        "acc = accuracy_score(y_test, y_pred)\n",
        "print(\"Accuracy - \", round(acc*100,4))"
      ]
    },
    {
      "cell_type": "markdown",
      "metadata": {
        "id": "6hHZftFyZT50"
      },
      "source": [
        "### Confusion Matrix"
      ]
    },
    {
      "cell_type": "code",
      "execution_count": null,
      "metadata": {
        "colab": {
          "base_uri": "https://localhost:8080/",
          "height": 112
        },
        "outputId": "92aacb7c-4d60-450d-de3d-5ce36c426286",
        "id": "Ebu0fa9aZT50"
      },
      "outputs": [
        {
          "output_type": "execute_result",
          "data": {
            "text/plain": [
              "    -1   1\n",
              "-1   2   6\n",
              " 1   0  12"
            ],
            "text/html": [
              "\n",
              "  <div id=\"df-b7b87b03-7cbe-467f-8b71-47d8bda93466\">\n",
              "    <div class=\"colab-df-container\">\n",
              "      <div>\n",
              "<style scoped>\n",
              "    .dataframe tbody tr th:only-of-type {\n",
              "        vertical-align: middle;\n",
              "    }\n",
              "\n",
              "    .dataframe tbody tr th {\n",
              "        vertical-align: top;\n",
              "    }\n",
              "\n",
              "    .dataframe thead th {\n",
              "        text-align: right;\n",
              "    }\n",
              "</style>\n",
              "<table border=\"1\" class=\"dataframe\">\n",
              "  <thead>\n",
              "    <tr style=\"text-align: right;\">\n",
              "      <th></th>\n",
              "      <th>-1</th>\n",
              "      <th>1</th>\n",
              "    </tr>\n",
              "  </thead>\n",
              "  <tbody>\n",
              "    <tr>\n",
              "      <th>-1</th>\n",
              "      <td>2</td>\n",
              "      <td>6</td>\n",
              "    </tr>\n",
              "    <tr>\n",
              "      <th>1</th>\n",
              "      <td>0</td>\n",
              "      <td>12</td>\n",
              "    </tr>\n",
              "  </tbody>\n",
              "</table>\n",
              "</div>\n",
              "      <button class=\"colab-df-convert\" onclick=\"convertToInteractive('df-b7b87b03-7cbe-467f-8b71-47d8bda93466')\"\n",
              "              title=\"Convert this dataframe to an interactive table.\"\n",
              "              style=\"display:none;\">\n",
              "        \n",
              "  <svg xmlns=\"http://www.w3.org/2000/svg\" height=\"24px\"viewBox=\"0 0 24 24\"\n",
              "       width=\"24px\">\n",
              "    <path d=\"M0 0h24v24H0V0z\" fill=\"none\"/>\n",
              "    <path d=\"M18.56 5.44l.94 2.06.94-2.06 2.06-.94-2.06-.94-.94-2.06-.94 2.06-2.06.94zm-11 1L8.5 8.5l.94-2.06 2.06-.94-2.06-.94L8.5 2.5l-.94 2.06-2.06.94zm10 10l.94 2.06.94-2.06 2.06-.94-2.06-.94-.94-2.06-.94 2.06-2.06.94z\"/><path d=\"M17.41 7.96l-1.37-1.37c-.4-.4-.92-.59-1.43-.59-.52 0-1.04.2-1.43.59L10.3 9.45l-7.72 7.72c-.78.78-.78 2.05 0 2.83L4 21.41c.39.39.9.59 1.41.59.51 0 1.02-.2 1.41-.59l7.78-7.78 2.81-2.81c.8-.78.8-2.07 0-2.86zM5.41 20L4 18.59l7.72-7.72 1.47 1.35L5.41 20z\"/>\n",
              "  </svg>\n",
              "      </button>\n",
              "      \n",
              "  <style>\n",
              "    .colab-df-container {\n",
              "      display:flex;\n",
              "      flex-wrap:wrap;\n",
              "      gap: 12px;\n",
              "    }\n",
              "\n",
              "    .colab-df-convert {\n",
              "      background-color: #E8F0FE;\n",
              "      border: none;\n",
              "      border-radius: 50%;\n",
              "      cursor: pointer;\n",
              "      display: none;\n",
              "      fill: #1967D2;\n",
              "      height: 32px;\n",
              "      padding: 0 0 0 0;\n",
              "      width: 32px;\n",
              "    }\n",
              "\n",
              "    .colab-df-convert:hover {\n",
              "      background-color: #E2EBFA;\n",
              "      box-shadow: 0px 1px 2px rgba(60, 64, 67, 0.3), 0px 1px 3px 1px rgba(60, 64, 67, 0.15);\n",
              "      fill: #174EA6;\n",
              "    }\n",
              "\n",
              "    [theme=dark] .colab-df-convert {\n",
              "      background-color: #3B4455;\n",
              "      fill: #D2E3FC;\n",
              "    }\n",
              "\n",
              "    [theme=dark] .colab-df-convert:hover {\n",
              "      background-color: #434B5C;\n",
              "      box-shadow: 0px 1px 3px 1px rgba(0, 0, 0, 0.15);\n",
              "      filter: drop-shadow(0px 1px 2px rgba(0, 0, 0, 0.3));\n",
              "      fill: #FFFFFF;\n",
              "    }\n",
              "  </style>\n",
              "\n",
              "      <script>\n",
              "        const buttonEl =\n",
              "          document.querySelector('#df-b7b87b03-7cbe-467f-8b71-47d8bda93466 button.colab-df-convert');\n",
              "        buttonEl.style.display =\n",
              "          google.colab.kernel.accessAllowed ? 'block' : 'none';\n",
              "\n",
              "        async function convertToInteractive(key) {\n",
              "          const element = document.querySelector('#df-b7b87b03-7cbe-467f-8b71-47d8bda93466');\n",
              "          const dataTable =\n",
              "            await google.colab.kernel.invokeFunction('convertToInteractive',\n",
              "                                                     [key], {});\n",
              "          if (!dataTable) return;\n",
              "\n",
              "          const docLinkHtml = 'Like what you see? Visit the ' +\n",
              "            '<a target=\"_blank\" href=https://colab.research.google.com/notebooks/data_table.ipynb>data table notebook</a>'\n",
              "            + ' to learn more about interactive tables.';\n",
              "          element.innerHTML = '';\n",
              "          dataTable['output_type'] = 'display_data';\n",
              "          await google.colab.output.renderOutput(dataTable, element);\n",
              "          const docLink = document.createElement('div');\n",
              "          docLink.innerHTML = docLinkHtml;\n",
              "          element.appendChild(docLink);\n",
              "        }\n",
              "      </script>\n",
              "    </div>\n",
              "  </div>\n",
              "  "
            ]
          },
          "metadata": {},
          "execution_count": 108
        }
      ],
      "source": [
        "cm = confusion_matrix(y_test, y_pred)\n",
        "pd.DataFrame(cm, index=svc2.classes_, columns=svc2.classes_)"
      ]
    },
    {
      "cell_type": "markdown",
      "source": [
        "With this value of  c , 14 of the test observations are correctly classified."
      ],
      "metadata": {
        "id": "dL2vll1elDFb"
      }
    },
    {
      "cell_type": "markdown",
      "metadata": {
        "id": "ggN3TsryZT50"
      },
      "source": [
        "### Specificity"
      ]
    },
    {
      "cell_type": "code",
      "execution_count": null,
      "metadata": {
        "colab": {
          "base_uri": "https://localhost:8080/"
        },
        "outputId": "af0b8505-81c0-4810-d23d-d39eb9faacbc",
        "id": "T3ebG4wtZT52"
      },
      "outputs": [
        {
          "output_type": "stream",
          "name": "stdout",
          "text": [
            "Specificity:  25.0 %\n"
          ]
        }
      ],
      "source": [
        "specificity = cm[0,0]/(cm[0,0]+cm[0,1]) * 100\n",
        "print('Specificity: ', round(specificity, 4), \"%\")"
      ]
    },
    {
      "cell_type": "markdown",
      "metadata": {
        "id": "QAfO47JkZT52"
      },
      "source": [
        "### Sensitivity"
      ]
    },
    {
      "cell_type": "code",
      "execution_count": null,
      "metadata": {
        "colab": {
          "base_uri": "https://localhost:8080/"
        },
        "outputId": "0cb3ecdc-6c0a-4c34-a918-479ddc379b62",
        "id": "pxfYqBmyZT53"
      },
      "outputs": [
        {
          "output_type": "stream",
          "name": "stdout",
          "text": [
            "Sensitivity:  100.0 %\n"
          ]
        }
      ],
      "source": [
        "sensitivity = cm[1,1]/(cm[1,0]+cm[1,1]) * 100\n",
        "print('Sensitivity: ', round(sensitivity, 4), \"%\")"
      ]
    },
    {
      "cell_type": "markdown",
      "metadata": {
        "id": "D1USEEIJZT54"
      },
      "source": [
        "### Classification Report"
      ]
    },
    {
      "cell_type": "code",
      "execution_count": null,
      "metadata": {
        "colab": {
          "base_uri": "https://localhost:8080/"
        },
        "outputId": "1917ea87-24e6-43c9-b708-27c39030d93d",
        "id": "O69T4AyWZT54"
      },
      "outputs": [
        {
          "output_type": "stream",
          "name": "stdout",
          "text": [
            "              precision    recall  f1-score   support\n",
            "\n",
            "          -1       1.00      0.25      0.40         8\n",
            "           1       0.67      1.00      0.80        12\n",
            "\n",
            "    accuracy                           0.70        20\n",
            "   macro avg       0.83      0.62      0.60        20\n",
            "weighted avg       0.80      0.70      0.64        20\n",
            "\n"
          ]
        }
      ],
      "source": [
        "print(classification_report(y_test, y_pred))"
      ]
    },
    {
      "cell_type": "markdown",
      "metadata": {
        "id": "JWV6U3XwZT54"
      },
      "source": [
        "### ROC Curve and AUC"
      ]
    },
    {
      "cell_type": "code",
      "execution_count": null,
      "metadata": {
        "id": "RVVGM6UJZT54"
      },
      "outputs": [],
      "source": [
        "y_prob = svc2.predict_proba(X_test)\n",
        "\n",
        "y_prob = y_prob[:, 1]\n",
        "\n",
        "n_classes = len(svc2.classes_)\n",
        "\n",
        "fpr, tpr,_ = roc_curve(y_test, y_prob)\n",
        "roc_auc = auc(fpr, tpr)"
      ]
    },
    {
      "cell_type": "code",
      "execution_count": null,
      "metadata": {
        "colab": {
          "base_uri": "https://localhost:8080/",
          "height": 295
        },
        "outputId": "6b845b2e-0e1e-451e-8e42-c9b30e513e78",
        "id": "mGsBxN1GZT54"
      },
      "outputs": [
        {
          "output_type": "display_data",
          "data": {
            "text/plain": [
              "<Figure size 432x288 with 1 Axes>"
            ],
            "image/png": "[encoded data removed]"
          },
          "metadata": {
            "needs_background": "light"
          }
        }
      ],
      "source": [
        "lw = 2\n",
        "plt.plot(\n",
        "    fpr,\n",
        "    tpr,\n",
        "    color=\"darkorange\",\n",
        "    lw=lw,\n",
        "    label=\"ROC curve (area = %0.2f)\" % roc_auc,\n",
        ")\n",
        "plt.plot([0, 1], [0, 1], color=\"navy\", lw=lw, linestyle=\"--\")\n",
        "plt.xlim([0.0, 1.0])\n",
        "plt.ylim([0.0, 1.05])\n",
        "plt.xlabel(\"False Positive Rate\")\n",
        "plt.ylabel(\"True Positive Rate\")\n",
        "plt.title(\"Receiver Operating Characteristic Curve\")\n",
        "plt.legend(loc=\"lower right\")\n",
        "plt.show()"
      ]
    },
    {
      "cell_type": "markdown",
      "source": [
        "AUC is 0.10 here."
      ],
      "metadata": {
        "id": "GP5RJuBYt-Le"
      }
    },
    {
      "cell_type": "markdown",
      "source": [
        "Now consider a situation in which the two classes are linearly separable. Then we can find a separating hyperplane using the  svm()  function. First we'll give our simulated data a little nudge so that they are linearly separable:"
      ],
      "metadata": {
        "id": "w3eVU4I_iUw8"
      }
    },
    {
      "cell_type": "code",
      "source": [
        "X_test[y_test == 1] = X_test[y_test == 1] -1\n",
        "plt.scatter(X_test[:,0], X_test[:,1], s=70, c=y_test, cmap=mpl.cm.Paired)\n",
        "plt.xlabel('X1')\n",
        "plt.ylabel('X2')\n",
        "plt.show()"
      ],
      "metadata": {
        "colab": {
          "base_uri": "https://localhost:8080/",
          "height": 279
        },
        "id": "RdKragbHiD4Q",
        "outputId": "dd839f9d-9271-44f2-b77e-bddc946a553b"
      },
      "execution_count": null,
      "outputs": [
        {
          "output_type": "display_data",
          "data": {
            "text/plain": [
              "<Figure size 432x288 with 1 Axes>"
            ],
            "image/png": "[encoded data removed]"
          },
          "metadata": {
            "needs_background": "light"
          }
        }
      ]
    },
    {
      "cell_type": "markdown",
      "source": [
        "Now the observations are linearly separable. We fit the support vector classifier and plot the resulting hyperplane, using a very large value of  cost  so that no observations are misclassified."
      ],
      "metadata": {
        "id": "Lr8m1Eimmp7m"
      }
    },
    {
      "cell_type": "code",
      "source": [
        "svc3 = SVC(C=1e5, kernel='linear')\n",
        "svc3.fit(X_test, y_test)\n",
        "plot_svc(svc3, X_test, y_test)"
      ],
      "metadata": {
        "colab": {
          "base_uri": "https://localhost:8080/",
          "height": 297
        },
        "id": "QajqrtVnmWFj",
        "outputId": "af7ae02b-108c-4170-ba1d-9236e8269916"
      },
      "execution_count": null,
      "outputs": [
        {
          "output_type": "display_data",
          "data": {
            "text/plain": [
              "<Figure size 432x288 with 1 Axes>"
            ],
            "image/png": "[encoded data removed]"
          },
          "metadata": {
            "needs_background": "light"
          }
        },
        {
          "output_type": "stream",
          "name": "stdout",
          "text": [
            "Number of support vectors:  3\n"
          ]
        }
      ]
    },
    {
      "cell_type": "markdown",
      "source": [
        "Number of support vectors?\n",
        "\n",
        "Ans: 3"
      ],
      "metadata": {
        "id": "8zSfA6cjnVEN"
      }
    },
    {
      "cell_type": "markdown",
      "source": [
        "No training errors were made and only three support vectors were used. However, we can see from the figure that the margin is very narrow (because the observations that are not support vectors, indicated as circles, are very close to the decision boundary). It seems likely that this model will perform poorly on test data. Let's try a smaller value of  cost :"
      ],
      "metadata": {
        "id": "D-7v1NuYnQvV"
      }
    },
    {
      "cell_type": "code",
      "source": [
        "svc4 = SVC(C=1, kernel='linear')\n",
        "svc4.fit(X_test, y_test)\n",
        "plot_svc(svc4, X_test, y_test)"
      ],
      "metadata": {
        "colab": {
          "base_uri": "https://localhost:8080/",
          "height": 297
        },
        "id": "YdoTorctmvaG",
        "outputId": "f618a693-4a65-44c7-f01d-908b57c1f36b"
      },
      "execution_count": null,
      "outputs": [
        {
          "output_type": "display_data",
          "data": {
            "text/plain": [
              "<Figure size 432x288 with 1 Axes>"
            ],
            "image/png": "[encoded data removed]"
          },
          "metadata": {
            "needs_background": "light"
          }
        },
        {
          "output_type": "stream",
          "name": "stdout",
          "text": [
            "Number of support vectors:  5\n"
          ]
        }
      ]
    },
    {
      "cell_type": "markdown",
      "source": [
        "Number of support vectors?\n",
        "\n",
        "Ans: 5"
      ],
      "metadata": {
        "id": "svOeB8p4_5vC"
      }
    },
    {
      "cell_type": "markdown",
      "source": [
        "Using  cost = 1 , we misclassify a training observation, but we also obtain a much wider margin and make use of five support vectors. It seems likely that this model will perform better on test data than the model with  cost=1e5 ."
      ],
      "metadata": {
        "id": "DZ_AJtKBngXA"
      }
    },
    {
      "cell_type": "markdown",
      "source": [
        "# Support Vector Machine"
      ],
      "metadata": {
        "id": "1s0BWCHLp1Te"
      }
    },
    {
      "cell_type": "markdown",
      "source": [
        "Support Vectore Machine: Kernel Method"
      ],
      "metadata": {
        "id": "QWwjJjIQAFFc"
      }
    },
    {
      "cell_type": "markdown",
      "source": [
        "In order to fit an SVM using a non-linear kernel, we once again use the  SVC()  function. However, now we use a different value of the parameter kernel. To fit an SVM with a polynomial kernel we use  kernel=\"poly\" , and to fit an SVM with a radial kernel we use  kernel=\"rbf\" . In the former case we also use the  degree  argument to specify a degree for the polynomial kernel, and in the latter case we use  gamma  to specify a value of  γ  for the radial basis kernel.\n",
        "\n",
        "Let's generate some data with a non-linear class boundary:"
      ],
      "metadata": {
        "id": "OAQzTSb8p7JT"
      }
    },
    {
      "cell_type": "code",
      "source": [
        "from sklearn.model_selection import train_test_split\n",
        "\n",
        "np.random.seed(8)\n",
        "X = np.random.randn(200,2)\n",
        "X[:100] = X[:100] +2\n",
        "X[101:150] = X[101:150] -2\n",
        "y = np.concatenate([np.repeat(-1, 150), np.repeat(1,50)])\n",
        "\n",
        "X_train, X_test, y_train, y_test = train_test_split(X, y, train_size=0.5, random_state=2)\n",
        "\n",
        "plt.scatter(X[:,0], X[:,1], s=70, c=y, cmap=mpl.cm.Paired)\n",
        "plt.xlabel('X1')\n",
        "plt.ylabel('X2')"
      ],
      "metadata": {
        "colab": {
          "base_uri": "https://localhost:8080/",
          "height": 297
        },
        "id": "T85fIfkhnZbu",
        "outputId": "5e7a8b31-fd72-472e-84c1-d1a88ad4f9b9"
      },
      "execution_count": null,
      "outputs": [
        {
          "output_type": "execute_result",
          "data": {
            "text/plain": [
              "Text(0, 0.5, 'X2')"
            ]
          },
          "metadata": {},
          "execution_count": 117
        },
        {
          "output_type": "display_data",
          "data": {
            "text/plain": [
              "<Figure size 432x288 with 1 Axes>"
            ],
            "image/png": "[encoded data removed]"
          },
          "metadata": {
            "needs_background": "light"
          }
        }
      ]
    },
    {
      "cell_type": "markdown",
      "source": [
        "We can see that one class is kind of stuck in the middle of another class. This suggests that we might want to use a radial kernel in our SVM. Now let's fit the training data using the  SVC()  function with a radial kernel and  γ=1 :"
      ],
      "metadata": {
        "id": "YN9doJ-FqZZY"
      }
    },
    {
      "cell_type": "code",
      "source": [
        "svm = SVC(C=1.0, kernel='rbf', gamma=1)\n",
        "svm.fit(X_train, y_train)\n",
        "plot_svc(svm, X_test, y_test)"
      ],
      "metadata": {
        "id": "d2JJ102mqUPw",
        "colab": {
          "base_uri": "https://localhost:8080/",
          "height": 297
        },
        "outputId": "f9734aee-6965-4922-e671-c1b69792901f"
      },
      "execution_count": null,
      "outputs": [
        {
          "output_type": "display_data",
          "data": {
            "text/plain": [
              "<Figure size 432x288 with 1 Axes>"
            ],
            "image/png": "[encoded data removed]"
          },
          "metadata": {
            "needs_background": "light"
          }
        },
        {
          "output_type": "stream",
          "name": "stdout",
          "text": [
            "Number of support vectors:  51\n"
          ]
        }
      ]
    },
    {
      "cell_type": "markdown",
      "source": [
        "Number of support vectors?\n",
        "\n",
        "Ans: 51"
      ],
      "metadata": {
        "id": "eXpTRy9RAL2Z"
      }
    },
    {
      "cell_type": "markdown",
      "source": [
        "The plot shows that the resulting SVM has a decidedly non-linear boundary. We can see from the figure that there are a fair number of training errors in this SVM fit. If we increase the value of cost, we can reduce the number of training errors:"
      ],
      "metadata": {
        "id": "ty-1uYIjlYPu"
      }
    },
    {
      "cell_type": "code",
      "source": [
        "# Increasing C parameter, allowing more flexibility\n",
        "svm2 = SVC(C=100, kernel='rbf', gamma=1.0)\n",
        "svm2.fit(X_train, y_train)\n",
        "plot_svc(svm2, X_test, y_test)"
      ],
      "metadata": {
        "colab": {
          "base_uri": "https://localhost:8080/",
          "height": 297
        },
        "id": "A6Nkh5ea9GEY",
        "outputId": "56626da0-aba9-4349-fe68-7e3a751fa4b9"
      },
      "execution_count": null,
      "outputs": [
        {
          "output_type": "display_data",
          "data": {
            "text/plain": [
              "<Figure size 432x288 with 1 Axes>"
            ],
            "image/png": "[encoded data removed]"
          },
          "metadata": {
            "needs_background": "light"
          }
        },
        {
          "output_type": "stream",
          "name": "stdout",
          "text": [
            "Number of support vectors:  36\n"
          ]
        }
      ]
    },
    {
      "cell_type": "markdown",
      "source": [
        "However, this comes at the price of a more irregular decision boundary that seems to be at risk of overfitting the data. We can perform cross-validation using  GridSearchCV()  to select the best choice of  γ  and cost for an SVM with a radial kernel:"
      ],
      "metadata": {
        "id": "3nVZTcGnlYJl"
      }
    },
    {
      "cell_type": "code",
      "source": [
        "tuned_parameters = [{'C': [0.01, 0.1, 1, 10, 100],\n",
        "                     'gamma': [0.5, 1,2,3,4]}]\n",
        "clf = GridSearchCV(SVC(kernel='rbf'), tuned_parameters, cv=10, scoring='accuracy')\n",
        "clf.fit(X_train, y_train)\n",
        "clf.best_params_"
      ],
      "metadata": {
        "colab": {
          "base_uri": "https://localhost:8080/"
        },
        "id": "HFUs9OJf9Q4N",
        "outputId": "a79309e4-ee33-47d7-93c2-2393cfb3005e"
      },
      "execution_count": null,
      "outputs": [
        {
          "output_type": "execute_result",
          "data": {
            "text/plain": [
              "{'C': 10, 'gamma': 0.5}"
            ]
          },
          "metadata": {},
          "execution_count": 120
        }
      ]
    },
    {
      "cell_type": "markdown",
      "source": [
        "Therefore, the best choice of parameters involves  cost=1  and  gamma=0.5 . We can plot the resulting fit using the  plot_svc()  function, and view the test set predictions for this model by applying the  predict()  function to the test data:"
      ],
      "metadata": {
        "id": "kJFIjWnM9Vur"
      }
    },
    {
      "cell_type": "code",
      "source": [
        "plot_svc(clf.best_estimator_, X_test, y_test)\n",
        "print(confusion_matrix(y_test, clf.best_estimator_.predict(X_test)))\n",
        "print(clf.best_estimator_.score(X_test, y_test))"
      ],
      "metadata": {
        "colab": {
          "base_uri": "https://localhost:8080/",
          "height": 352
        },
        "id": "zhc6z84q_JnB",
        "outputId": "fcc1ea0f-db4f-4483-c275-d34305dfc31a"
      },
      "execution_count": null,
      "outputs": [
        {
          "output_type": "display_data",
          "data": {
            "text/plain": [
              "<Figure size 432x288 with 1 Axes>"
            ],
            "image/png": "[encoded data removed]"
          },
          "metadata": {
            "needs_background": "light"
          }
        },
        {
          "output_type": "stream",
          "name": "stdout",
          "text": [
            "Number of support vectors:  32\n",
            "[[66  7]\n",
            " [ 6 21]]\n",
            "0.87\n"
          ]
        }
      ]
    },
    {
      "cell_type": "markdown",
      "source": [
        "Number of support vectors?\n",
        "\n",
        "Ans: 32"
      ],
      "metadata": {
        "id": "XTLWa5muAZk4"
      }
    },
    {
      "cell_type": "markdown",
      "source": [
        "How many test observations are correctly classified by this SVM?\n",
        "\n",
        "87% of test observations are correctly classified by this SVM. "
      ],
      "metadata": {
        "id": "JcwEF_um_O6i"
      }
    },
    {
      "cell_type": "markdown",
      "source": [
        "Draw ROC curve and Analyse the result."
      ],
      "metadata": {
        "id": "fFh12oDJAlfv"
      }
    },
    {
      "cell_type": "markdown",
      "source": [
        "## ROC Curves"
      ],
      "metadata": {
        "id": "43ANLIR0AoYa"
      }
    },
    {
      "cell_type": "markdown",
      "source": [
        "The  auc()  function from the  sklearn.metrics  package can be used to produce ROC curves "
      ],
      "metadata": {
        "id": "IW6GaUhJAxDj"
      }
    },
    {
      "cell_type": "code",
      "source": [
        "from sklearn.metrics import auc\n",
        "from sklearn.metrics import roc_curve"
      ],
      "metadata": {
        "id": "a3BTU_ZVA540"
      },
      "execution_count": null,
      "outputs": []
    },
    {
      "cell_type": "code",
      "source": [
        "# More constrained model\n",
        "svm3 = SVC(C=1, kernel='rbf', gamma=1)\n",
        "svm3.fit(X_train, y_train)"
      ],
      "metadata": {
        "colab": {
          "base_uri": "https://localhost:8080/"
        },
        "id": "E3BqvSvtBSle",
        "outputId": "459c17eb-3580-4359-8c71-03dc2791e0c4"
      },
      "execution_count": null,
      "outputs": [
        {
          "output_type": "execute_result",
          "data": {
            "text/plain": [
              "SVC(C=1, gamma=1)"
            ]
          },
          "metadata": {},
          "execution_count": 123
        }
      ]
    },
    {
      "cell_type": "code",
      "source": [
        "# More flexible model\n",
        "svm4 = SVC(C=1, kernel='rbf', gamma=50)\n",
        "svm4.fit(X_train, y_train)"
      ],
      "metadata": {
        "colab": {
          "base_uri": "https://localhost:8080/"
        },
        "id": "SEc38rjHBVs6",
        "outputId": "9995d246-f73e-4d18-d846-2882a8d27f0e"
      },
      "execution_count": null,
      "outputs": [
        {
          "output_type": "execute_result",
          "data": {
            "text/plain": [
              "SVC(C=1, gamma=50)"
            ]
          },
          "metadata": {},
          "execution_count": 124
        }
      ]
    },
    {
      "cell_type": "code",
      "source": [
        "y_train_score = clf.decision_function(X_train)\n",
        "\n",
        "false_pos_rate, true_pos_rate, _ = roc_curve(y_train, y_train_score)\n",
        "roc_auc = auc(false_pos_rate, true_pos_rate)\n",
        "\n",
        "\n",
        "\n",
        "fig, (ax1,ax2) = plt.subplots(1, 2, figsize=(14,6))\n",
        "ax1.plot(false_pos_rate, true_pos_rate, label='SVM $\\gamma = 1$ ROC curve (area = %0.2f)' % roc_auc, color='b')\n",
        "ax1.set_title('Training Data')\n",
        "\n",
        "y_test_score = clf.decision_function(X_test)\n",
        "\n",
        "false_pos_rate, true_pos_rate, _ = roc_curve(y_test, y_test_score)\n",
        "roc_auc = auc(false_pos_rate, true_pos_rate)\n",
        "\n",
        "\n",
        "ax2.plot(false_pos_rate, true_pos_rate, label='SVM $\\gamma = 1$ ROC curve (area = %0.2f)' % roc_auc, color='b')\n",
        "ax2.set_title('Test Data')\n",
        "\n",
        "for ax in fig.axes:\n",
        "    ax.plot([0, 1], [0, 1], 'k--')\n",
        "    ax.set_xlim([-0.05, 1.0])\n",
        "    ax.set_ylim([0.0, 1.05])\n",
        "    ax.set_xlabel('False Positive Rate')\n",
        "    ax.set_ylabel('True Positive Rate')\n",
        "    ax.legend(loc=\"lower right\")"
      ],
      "metadata": {
        "colab": {
          "base_uri": "https://localhost:8080/",
          "height": 404
        },
        "id": "3sxlaPCoBYt_",
        "outputId": "6b2729e2-bb04-4e66-d16f-3bc73f860de3"
      },
      "execution_count": null,
      "outputs": [
        {
          "output_type": "display_data",
          "data": {
            "text/plain": [
              "<Figure size 1008x432 with 2 Axes>"
            ],
            "image/png": "[encoded data removed]"
          },
          "metadata": {
            "needs_background": "light"
          }
        }
      ]
    },
    {
      "cell_type": "markdown",
      "source": [
        "From the above plot, we can see that the AUC for training data is 0.99 and for testing data, AUC is 0.88"
      ],
      "metadata": {
        "id": "pajy0MmaCMus"
      }
    },
    {
      "cell_type": "markdown",
      "source": [
        "# Pulsar Classification"
      ],
      "metadata": {
        "id": "94WbC_9brCcx"
      }
    },
    {
      "cell_type": "code",
      "source": [
        "pulsar_data = pd.read_csv('/content/drive/MyDrive/DS-Lab/Lab/Exp8/Pulsar.csv')"
      ],
      "metadata": {
        "id": "BcnJhDTVrGMT"
      },
      "execution_count": null,
      "outputs": []
    },
    {
      "cell_type": "code",
      "source": [
        "pulsar_data"
      ],
      "metadata": {
        "colab": {
          "base_uri": "https://localhost:8080/",
          "height": 423
        },
        "id": "EFQLDiP_rS0u",
        "outputId": "c1db684d-2ff4-4069-d53d-78083da732e2"
      },
      "execution_count": null,
      "outputs": [
        {
          "output_type": "execute_result",
          "data": {
            "text/plain": [
              "       Mean_Integrated         SD        EK  Skewness  Mean_DMSNR_Curve  \\\n",
              "0           140.562500  55.683782 -0.234571 -0.699648          3.199833   \n",
              "1           102.507812  58.882430  0.465318 -0.515088          1.677258   \n",
              "2           103.015625  39.341649  0.323328  1.051164          3.121237   \n",
              "3           136.750000  57.178449 -0.068415 -0.636238          3.642977   \n",
              "4            88.726562  40.672225  0.600866  1.123492          1.178930   \n",
              "...                ...        ...       ...       ...               ...   \n",
              "17893       136.429688  59.847421 -0.187846 -0.738123          1.296823   \n",
              "17894       122.554688  49.485605  0.127978  0.323061         16.409699   \n",
              "17895       119.335938  59.935939  0.159363 -0.743025         21.430602   \n",
              "17896       114.507812  53.902400  0.201161 -0.024789          1.946488   \n",
              "17897        57.062500  85.797340  1.406391  0.089520        188.306020   \n",
              "\n",
              "       SD_DMSNR_Curve  EK_DMSNR_Curve  Skewness_DMSNR_Curve  Class  \n",
              "0           19.110426        7.975532             74.242225      0  \n",
              "1           14.860146       10.576487            127.393580      0  \n",
              "2           21.744669        7.735822             63.171909      0  \n",
              "3           20.959280        6.896499             53.593661      0  \n",
              "4           11.468720       14.269573            252.567306      0  \n",
              "...               ...             ...                   ...    ...  \n",
              "17893       12.166062       15.450260            285.931022      0  \n",
              "17894       44.626893        2.945244              8.297092      0  \n",
              "17895       58.872000        2.499517              4.595173      0  \n",
              "17896       13.381731       10.007967            134.238910      0  \n",
              "17897       64.712562       -1.597527              1.429475      0  \n",
              "\n",
              "[17898 rows x 9 columns]"
            ],
            "text/html": [
              "\n",
              "  <div id=\"df-d264f5ef-7b21-47f1-bcf0-7ed3a5b3d38a\">\n",
              "    <div class=\"colab-df-container\">\n",
              "      <div>\n",
              "<style scoped>\n",
              "    .dataframe tbody tr th:only-of-type {\n",
              "        vertical-align: middle;\n",
              "    }\n",
              "\n",
              "    .dataframe tbody tr th {\n",
              "        vertical-align: top;\n",
              "    }\n",
              "\n",
              "    .dataframe thead th {\n",
              "        text-align: right;\n",
              "    }\n",
              "</style>\n",
              "<table border=\"1\" class=\"dataframe\">\n",
              "  <thead>\n",
              "    <tr style=\"text-align: right;\">\n",
              "      <th></th>\n",
              "      <th>Mean_Integrated</th>\n",
              "      <th>SD</th>\n",
              "      <th>EK</th>\n",
              "      <th>Skewness</th>\n",
              "      <th>Mean_DMSNR_Curve</th>\n",
              "      <th>SD_DMSNR_Curve</th>\n",
              "      <th>EK_DMSNR_Curve</th>\n",
              "      <th>Skewness_DMSNR_Curve</th>\n",
              "      <th>Class</th>\n",
              "    </tr>\n",
              "  </thead>\n",
              "  <tbody>\n",
              "    <tr>\n",
              "      <th>0</th>\n",
              "      <td>140.562500</td>\n",
              "      <td>55.683782</td>\n",
              "      <td>-0.234571</td>\n",
              "      <td>-0.699648</td>\n",
              "      <td>3.199833</td>\n",
              "      <td>19.110426</td>\n",
              "      <td>7.975532</td>\n",
              "      <td>74.242225</td>\n",
              "      <td>0</td>\n",
              "    </tr>\n",
              "    <tr>\n",
              "      <th>1</th>\n",
              "      <td>102.507812</td>\n",
              "      <td>58.882430</td>\n",
              "      <td>0.465318</td>\n",
              "      <td>-0.515088</td>\n",
              "      <td>1.677258</td>\n",
              "      <td>14.860146</td>\n",
              "      <td>10.576487</td>\n",
              "      <td>127.393580</td>\n",
              "      <td>0</td>\n",
              "    </tr>\n",
              "    <tr>\n",
              "      <th>2</th>\n",
              "      <td>103.015625</td>\n",
              "      <td>39.341649</td>\n",
              "      <td>0.323328</td>\n",
              "      <td>1.051164</td>\n",
              "      <td>3.121237</td>\n",
              "      <td>21.744669</td>\n",
              "      <td>7.735822</td>\n",
              "      <td>63.171909</td>\n",
              "      <td>0</td>\n",
              "    </tr>\n",
              "    <tr>\n",
              "      <th>3</th>\n",
              "      <td>136.750000</td>\n",
              "      <td>57.178449</td>\n",
              "      <td>-0.068415</td>\n",
              "      <td>-0.636238</td>\n",
              "      <td>3.642977</td>\n",
              "      <td>20.959280</td>\n",
              "      <td>6.896499</td>\n",
              "      <td>53.593661</td>\n",
              "      <td>0</td>\n",
              "    </tr>\n",
              "    <tr>\n",
              "      <th>4</th>\n",
              "      <td>88.726562</td>\n",
              "      <td>40.672225</td>\n",
              "      <td>0.600866</td>\n",
              "      <td>1.123492</td>\n",
              "      <td>1.178930</td>\n",
              "      <td>11.468720</td>\n",
              "      <td>14.269573</td>\n",
              "      <td>252.567306</td>\n",
              "      <td>0</td>\n",
              "    </tr>\n",
              "    <tr>\n",
              "      <th>...</th>\n",
              "      <td>...</td>\n",
              "      <td>...</td>\n",
              "      <td>...</td>\n",
              "      <td>...</td>\n",
              "      <td>...</td>\n",
              "      <td>...</td>\n",
              "      <td>...</td>\n",
              "      <td>...</td>\n",
              "      <td>...</td>\n",
              "    </tr>\n",
              "    <tr>\n",
              "      <th>17893</th>\n",
              "      <td>136.429688</td>\n",
              "      <td>59.847421</td>\n",
              "      <td>-0.187846</td>\n",
              "      <td>-0.738123</td>\n",
              "      <td>1.296823</td>\n",
              "      <td>12.166062</td>\n",
              "      <td>15.450260</td>\n",
              "      <td>285.931022</td>\n",
              "      <td>0</td>\n",
              "    </tr>\n",
              "    <tr>\n",
              "      <th>17894</th>\n",
              "      <td>122.554688</td>\n",
              "      <td>49.485605</td>\n",
              "      <td>0.127978</td>\n",
              "      <td>0.323061</td>\n",
              "      <td>16.409699</td>\n",
              "      <td>44.626893</td>\n",
              "      <td>2.945244</td>\n",
              "      <td>8.297092</td>\n",
              "      <td>0</td>\n",
              "    </tr>\n",
              "    <tr>\n",
              "      <th>17895</th>\n",
              "      <td>119.335938</td>\n",
              "      <td>59.935939</td>\n",
              "      <td>0.159363</td>\n",
              "      <td>-0.743025</td>\n",
              "      <td>21.430602</td>\n",
              "      <td>58.872000</td>\n",
              "      <td>2.499517</td>\n",
              "      <td>4.595173</td>\n",
              "      <td>0</td>\n",
              "    </tr>\n",
              "    <tr>\n",
              "      <th>17896</th>\n",
              "      <td>114.507812</td>\n",
              "      <td>53.902400</td>\n",
              "      <td>0.201161</td>\n",
              "      <td>-0.024789</td>\n",
              "      <td>1.946488</td>\n",
              "      <td>13.381731</td>\n",
              "      <td>10.007967</td>\n",
              "      <td>134.238910</td>\n",
              "      <td>0</td>\n",
              "    </tr>\n",
              "    <tr>\n",
              "      <th>17897</th>\n",
              "      <td>57.062500</td>\n",
              "      <td>85.797340</td>\n",
              "      <td>1.406391</td>\n",
              "      <td>0.089520</td>\n",
              "      <td>188.306020</td>\n",
              "      <td>64.712562</td>\n",
              "      <td>-1.597527</td>\n",
              "      <td>1.429475</td>\n",
              "      <td>0</td>\n",
              "    </tr>\n",
              "  </tbody>\n",
              "</table>\n",
              "<p>17898 rows × 9 columns</p>\n",
              "</div>\n",
              "      <button class=\"colab-df-convert\" onclick=\"convertToInteractive('df-d264f5ef-7b21-47f1-bcf0-7ed3a5b3d38a')\"\n",
              "              title=\"Convert this dataframe to an interactive table.\"\n",
              "              style=\"display:none;\">\n",
              "        \n",
              "  <svg xmlns=\"http://www.w3.org/2000/svg\" height=\"24px\"viewBox=\"0 0 24 24\"\n",
              "       width=\"24px\">\n",
              "    <path d=\"M0 0h24v24H0V0z\" fill=\"none\"/>\n",
              "    <path d=\"M18.56 5.44l.94 2.06.94-2.06 2.06-.94-2.06-.94-.94-2.06-.94 2.06-2.06.94zm-11 1L8.5 8.5l.94-2.06 2.06-.94-2.06-.94L8.5 2.5l-.94 2.06-2.06.94zm10 10l.94 2.06.94-2.06 2.06-.94-2.06-.94-.94-2.06-.94 2.06-2.06.94z\"/><path d=\"M17.41 7.96l-1.37-1.37c-.4-.4-.92-.59-1.43-.59-.52 0-1.04.2-1.43.59L10.3 9.45l-7.72 7.72c-.78.78-.78 2.05 0 2.83L4 21.41c.39.39.9.59 1.41.59.51 0 1.02-.2 1.41-.59l7.78-7.78 2.81-2.81c.8-.78.8-2.07 0-2.86zM5.41 20L4 18.59l7.72-7.72 1.47 1.35L5.41 20z\"/>\n",
              "  </svg>\n",
              "      </button>\n",
              "      \n",
              "  <style>\n",
              "    .colab-df-container {\n",
              "      display:flex;\n",
              "      flex-wrap:wrap;\n",
              "      gap: 12px;\n",
              "    }\n",
              "\n",
              "    .colab-df-convert {\n",
              "      background-color: #E8F0FE;\n",
              "      border: none;\n",
              "      border-radius: 50%;\n",
              "      cursor: pointer;\n",
              "      display: none;\n",
              "      fill: #1967D2;\n",
              "      height: 32px;\n",
              "      padding: 0 0 0 0;\n",
              "      width: 32px;\n",
              "    }\n",
              "\n",
              "    .colab-df-convert:hover {\n",
              "      background-color: #E2EBFA;\n",
              "      box-shadow: 0px 1px 2px rgba(60, 64, 67, 0.3), 0px 1px 3px 1px rgba(60, 64, 67, 0.15);\n",
              "      fill: #174EA6;\n",
              "    }\n",
              "\n",
              "    [theme=dark] .colab-df-convert {\n",
              "      background-color: #3B4455;\n",
              "      fill: #D2E3FC;\n",
              "    }\n",
              "\n",
              "    [theme=dark] .colab-df-convert:hover {\n",
              "      background-color: #434B5C;\n",
              "      box-shadow: 0px 1px 3px 1px rgba(0, 0, 0, 0.15);\n",
              "      filter: drop-shadow(0px 1px 2px rgba(0, 0, 0, 0.3));\n",
              "      fill: #FFFFFF;\n",
              "    }\n",
              "  </style>\n",
              "\n",
              "      <script>\n",
              "        const buttonEl =\n",
              "          document.querySelector('#df-d264f5ef-7b21-47f1-bcf0-7ed3a5b3d38a button.colab-df-convert');\n",
              "        buttonEl.style.display =\n",
              "          google.colab.kernel.accessAllowed ? 'block' : 'none';\n",
              "\n",
              "        async function convertToInteractive(key) {\n",
              "          const element = document.querySelector('#df-d264f5ef-7b21-47f1-bcf0-7ed3a5b3d38a');\n",
              "          const dataTable =\n",
              "            await google.colab.kernel.invokeFunction('convertToInteractive',\n",
              "                                                     [key], {});\n",
              "          if (!dataTable) return;\n",
              "\n",
              "          const docLinkHtml = 'Like what you see? Visit the ' +\n",
              "            '<a target=\"_blank\" href=https://colab.research.google.com/notebooks/data_table.ipynb>data table notebook</a>'\n",
              "            + ' to learn more about interactive tables.';\n",
              "          element.innerHTML = '';\n",
              "          dataTable['output_type'] = 'display_data';\n",
              "          await google.colab.output.renderOutput(dataTable, element);\n",
              "          const docLink = document.createElement('div');\n",
              "          docLink.innerHTML = docLinkHtml;\n",
              "          element.appendChild(docLink);\n",
              "        }\n",
              "      </script>\n",
              "    </div>\n",
              "  </div>\n",
              "  "
            ]
          },
          "metadata": {},
          "execution_count": 127
        }
      ]
    },
    {
      "cell_type": "code",
      "source": [
        "pulsar_data.info()"
      ],
      "metadata": {
        "colab": {
          "base_uri": "https://localhost:8080/"
        },
        "id": "5-FT-Tf4rUMx",
        "outputId": "a9f65d95-e6bb-4d34-8c95-8bd9139eb5d3"
      },
      "execution_count": null,
      "outputs": [
        {
          "output_type": "stream",
          "name": "stdout",
          "text": [
            "<class 'pandas.core.frame.DataFrame'>\n",
            "RangeIndex: 17898 entries, 0 to 17897\n",
            "Data columns (total 9 columns):\n",
            " #   Column                Non-Null Count  Dtype  \n",
            "---  ------                --------------  -----  \n",
            " 0   Mean_Integrated       17898 non-null  float64\n",
            " 1   SD                    17898 non-null  float64\n",
            " 2   EK                    17898 non-null  float64\n",
            " 3   Skewness              17898 non-null  float64\n",
            " 4   Mean_DMSNR_Curve      17898 non-null  float64\n",
            " 5   SD_DMSNR_Curve        17898 non-null  float64\n",
            " 6   EK_DMSNR_Curve        17898 non-null  float64\n",
            " 7   Skewness_DMSNR_Curve  17898 non-null  float64\n",
            " 8   Class                 17898 non-null  int64  \n",
            "dtypes: float64(8), int64(1)\n",
            "memory usage: 1.2 MB\n"
          ]
        }
      ]
    },
    {
      "cell_type": "markdown",
      "source": [
        "We can see that the dataset consists of 17898 rows and 9 columns."
      ],
      "metadata": {
        "id": "S0XRc6CbTRTW"
      }
    },
    {
      "cell_type": "code",
      "source": [
        "pulsar_data.isna().sum()"
      ],
      "metadata": {
        "colab": {
          "base_uri": "https://localhost:8080/"
        },
        "id": "cxYShW1erXG8",
        "outputId": "a8c7fdd7-5889-4e19-bb5a-ec7cfe2c0d78"
      },
      "execution_count": null,
      "outputs": [
        {
          "output_type": "execute_result",
          "data": {
            "text/plain": [
              "Mean_Integrated         0\n",
              "SD                      0\n",
              "EK                      0\n",
              "Skewness                0\n",
              "Mean_DMSNR_Curve        0\n",
              "SD_DMSNR_Curve          0\n",
              "EK_DMSNR_Curve          0\n",
              "Skewness_DMSNR_Curve    0\n",
              "Class                   0\n",
              "dtype: int64"
            ]
          },
          "metadata": {},
          "execution_count": 129
        }
      ]
    },
    {
      "cell_type": "markdown",
      "source": [
        "We can see that there are no null values present in the dataset."
      ],
      "metadata": {
        "id": "YBQwdusArb2E"
      }
    },
    {
      "cell_type": "code",
      "source": [
        "X = pulsar_data.drop(columns = ['Class'], axis=1)\n",
        "\n",
        "Y = pulsar_data['Class']\n",
        "\n",
        "# Splitting dataset into training and testing set\n",
        "X_train, X_test, y_train, y_test = train_test_split(X, Y, test_size=0.30, random_state=42)"
      ],
      "metadata": {
        "id": "c7saO9-trakg"
      },
      "execution_count": null,
      "outputs": []
    },
    {
      "cell_type": "markdown",
      "source": [
        "## Baseline Model"
      ],
      "metadata": {
        "id": "rRj2scKHRJgl"
      }
    },
    {
      "cell_type": "code",
      "source": [
        "svc_model = SVC(probability=True)\n",
        "svc_model.fit(X_train, y_train)\n",
        "\n",
        "pulsar_y_pred = svc_model.predict(X_test)"
      ],
      "metadata": {
        "id": "IyY-a94yr9sn"
      },
      "execution_count": null,
      "outputs": []
    },
    {
      "cell_type": "markdown",
      "metadata": {
        "id": "Kst26p94s0Ev"
      },
      "source": [
        "### Accuracy"
      ]
    },
    {
      "cell_type": "code",
      "execution_count": null,
      "metadata": {
        "colab": {
          "base_uri": "https://localhost:8080/"
        },
        "outputId": "fe7c142c-b761-4a67-ef2c-760576e77ad8",
        "id": "AjLV7ck3s0Ev"
      },
      "outputs": [
        {
          "output_type": "stream",
          "name": "stdout",
          "text": [
            "Accuracy -  97.2812\n"
          ]
        }
      ],
      "source": [
        "pulsar_acc = accuracy_score(y_test, pulsar_y_pred)\n",
        "print(\"Accuracy - \", round(pulsar_acc*100,4))"
      ]
    },
    {
      "cell_type": "markdown",
      "metadata": {
        "id": "uE-O7Wrfs0Ew"
      },
      "source": [
        "### Confusion Matrix"
      ]
    },
    {
      "cell_type": "code",
      "execution_count": null,
      "metadata": {
        "colab": {
          "base_uri": "https://localhost:8080/",
          "height": 112
        },
        "outputId": "3b40dbbb-14ae-4041-8712-0600ffde47f3",
        "id": "3HBKgUN9s0Ew"
      },
      "outputs": [
        {
          "output_type": "execute_result",
          "data": {
            "text/plain": [
              "      0    1\n",
              "0  4861   23\n",
              "1   123  363"
            ],
            "text/html": [
              "\n",
              "  <div id=\"df-9c96e484-8656-434e-b0bb-7d57c54d1bc2\">\n",
              "    <div class=\"colab-df-container\">\n",
              "      <div>\n",
              "<style scoped>\n",
              "    .dataframe tbody tr th:only-of-type {\n",
              "        vertical-align: middle;\n",
              "    }\n",
              "\n",
              "    .dataframe tbody tr th {\n",
              "        vertical-align: top;\n",
              "    }\n",
              "\n",
              "    .dataframe thead th {\n",
              "        text-align: right;\n",
              "    }\n",
              "</style>\n",
              "<table border=\"1\" class=\"dataframe\">\n",
              "  <thead>\n",
              "    <tr style=\"text-align: right;\">\n",
              "      <th></th>\n",
              "      <th>0</th>\n",
              "      <th>1</th>\n",
              "    </tr>\n",
              "  </thead>\n",
              "  <tbody>\n",
              "    <tr>\n",
              "      <th>0</th>\n",
              "      <td>4861</td>\n",
              "      <td>23</td>\n",
              "    </tr>\n",
              "    <tr>\n",
              "      <th>1</th>\n",
              "      <td>123</td>\n",
              "      <td>363</td>\n",
              "    </tr>\n",
              "  </tbody>\n",
              "</table>\n",
              "</div>\n",
              "      <button class=\"colab-df-convert\" onclick=\"convertToInteractive('df-9c96e484-8656-434e-b0bb-7d57c54d1bc2')\"\n",
              "              title=\"Convert this dataframe to an interactive table.\"\n",
              "              style=\"display:none;\">\n",
              "        \n",
              "  <svg xmlns=\"http://www.w3.org/2000/svg\" height=\"24px\"viewBox=\"0 0 24 24\"\n",
              "       width=\"24px\">\n",
              "    <path d=\"M0 0h24v24H0V0z\" fill=\"none\"/>\n",
              "    <path d=\"M18.56 5.44l.94 2.06.94-2.06 2.06-.94-2.06-.94-.94-2.06-.94 2.06-2.06.94zm-11 1L8.5 8.5l.94-2.06 2.06-.94-2.06-.94L8.5 2.5l-.94 2.06-2.06.94zm10 10l.94 2.06.94-2.06 2.06-.94-2.06-.94-.94-2.06-.94 2.06-2.06.94z\"/><path d=\"M17.41 7.96l-1.37-1.37c-.4-.4-.92-.59-1.43-.59-.52 0-1.04.2-1.43.59L10.3 9.45l-7.72 7.72c-.78.78-.78 2.05 0 2.83L4 21.41c.39.39.9.59 1.41.59.51 0 1.02-.2 1.41-.59l7.78-7.78 2.81-2.81c.8-.78.8-2.07 0-2.86zM5.41 20L4 18.59l7.72-7.72 1.47 1.35L5.41 20z\"/>\n",
              "  </svg>\n",
              "      </button>\n",
              "      \n",
              "  <style>\n",
              "    .colab-df-container {\n",
              "      display:flex;\n",
              "      flex-wrap:wrap;\n",
              "      gap: 12px;\n",
              "    }\n",
              "\n",
              "    .colab-df-convert {\n",
              "      background-color: #E8F0FE;\n",
              "      border: none;\n",
              "      border-radius: 50%;\n",
              "      cursor: pointer;\n",
              "      display: none;\n",
              "      fill: #1967D2;\n",
              "      height: 32px;\n",
              "      padding: 0 0 0 0;\n",
              "      width: 32px;\n",
              "    }\n",
              "\n",
              "    .colab-df-convert:hover {\n",
              "      background-color: #E2EBFA;\n",
              "      box-shadow: 0px 1px 2px rgba(60, 64, 67, 0.3), 0px 1px 3px 1px rgba(60, 64, 67, 0.15);\n",
              "      fill: #174EA6;\n",
              "    }\n",
              "\n",
              "    [theme=dark] .colab-df-convert {\n",
              "      background-color: #3B4455;\n",
              "      fill: #D2E3FC;\n",
              "    }\n",
              "\n",
              "    [theme=dark] .colab-df-convert:hover {\n",
              "      background-color: #434B5C;\n",
              "      box-shadow: 0px 1px 3px 1px rgba(0, 0, 0, 0.15);\n",
              "      filter: drop-shadow(0px 1px 2px rgba(0, 0, 0, 0.3));\n",
              "      fill: #FFFFFF;\n",
              "    }\n",
              "  </style>\n",
              "\n",
              "      <script>\n",
              "        const buttonEl =\n",
              "          document.querySelector('#df-9c96e484-8656-434e-b0bb-7d57c54d1bc2 button.colab-df-convert');\n",
              "        buttonEl.style.display =\n",
              "          google.colab.kernel.accessAllowed ? 'block' : 'none';\n",
              "\n",
              "        async function convertToInteractive(key) {\n",
              "          const element = document.querySelector('#df-9c96e484-8656-434e-b0bb-7d57c54d1bc2');\n",
              "          const dataTable =\n",
              "            await google.colab.kernel.invokeFunction('convertToInteractive',\n",
              "                                                     [key], {});\n",
              "          if (!dataTable) return;\n",
              "\n",
              "          const docLinkHtml = 'Like what you see? Visit the ' +\n",
              "            '<a target=\"_blank\" href=https://colab.research.google.com/notebooks/data_table.ipynb>data table notebook</a>'\n",
              "            + ' to learn more about interactive tables.';\n",
              "          element.innerHTML = '';\n",
              "          dataTable['output_type'] = 'display_data';\n",
              "          await google.colab.output.renderOutput(dataTable, element);\n",
              "          const docLink = document.createElement('div');\n",
              "          docLink.innerHTML = docLinkHtml;\n",
              "          element.appendChild(docLink);\n",
              "        }\n",
              "      </script>\n",
              "    </div>\n",
              "  </div>\n",
              "  "
            ]
          },
          "metadata": {},
          "execution_count": 133
        }
      ],
      "source": [
        "cm = confusion_matrix(y_test, pulsar_y_pred)\n",
        "pd.DataFrame(cm, index=svc_model.classes_, columns=svc_model.classes_)"
      ]
    },
    {
      "cell_type": "markdown",
      "metadata": {
        "id": "Hw1-7k9ys0Ew"
      },
      "source": [
        "### Specificity"
      ]
    },
    {
      "cell_type": "markdown",
      "metadata": {
        "id": "lIao9LwKs0Ew"
      },
      "source": [
        "![image.png](data:image/png;base64,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)"
      ]
    },
    {
      "cell_type": "code",
      "execution_count": null,
      "metadata": {
        "colab": {
          "base_uri": "https://localhost:8080/"
        },
        "outputId": "a187a02d-5b7c-48bf-f9d8-c1667d2887a3",
        "id": "3fCjgWkxs0Ey"
      },
      "outputs": [
        {
          "output_type": "stream",
          "name": "stdout",
          "text": [
            "Specificity:  99.5291 %\n"
          ]
        }
      ],
      "source": [
        "specificity_baseline = cm[0,0]/(cm[0,0]+cm[0,1]) * 100\n",
        "print('Specificity: ', round(specificity_baseline, 4), \"%\")"
      ]
    },
    {
      "cell_type": "markdown",
      "metadata": {
        "id": "3Kl7jSUes0Ey"
      },
      "source": [
        "### Sensitivity"
      ]
    },
    {
      "cell_type": "markdown",
      "metadata": {
        "id": "gFcArKmis0Ey"
      },
      "source": [
        "![image.png](data:image/png;base64,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)"
      ]
    },
    {
      "cell_type": "code",
      "execution_count": null,
      "metadata": {
        "colab": {
          "base_uri": "https://localhost:8080/"
        },
        "outputId": "fcc23745-675e-46e5-fb70-cd1f32ec8e08",
        "id": "hdRCCYVns0E0"
      },
      "outputs": [
        {
          "output_type": "stream",
          "name": "stdout",
          "text": [
            "Sensitivity:  74.6914 %\n"
          ]
        }
      ],
      "source": [
        "sensitivity_baseline = cm[1,1]/(cm[1,0]+cm[1,1]) * 100\n",
        "print('Sensitivity: ', round(sensitivity_baseline, 4), \"%\")"
      ]
    },
    {
      "cell_type": "markdown",
      "metadata": {
        "id": "dLtG9Ss9s0E0"
      },
      "source": [
        "### Classification Report"
      ]
    },
    {
      "cell_type": "code",
      "execution_count": null,
      "metadata": {
        "colab": {
          "base_uri": "https://localhost:8080/"
        },
        "outputId": "37762477-cbde-4b25-8636-8f595029f1cd",
        "id": "fgwRFky8s0E0"
      },
      "outputs": [
        {
          "output_type": "stream",
          "name": "stdout",
          "text": [
            "              precision    recall  f1-score   support\n",
            "\n",
            "           0       0.98      1.00      0.99      4884\n",
            "           1       0.94      0.75      0.83       486\n",
            "\n",
            "    accuracy                           0.97      5370\n",
            "   macro avg       0.96      0.87      0.91      5370\n",
            "weighted avg       0.97      0.97      0.97      5370\n",
            "\n"
          ]
        }
      ],
      "source": [
        "print(classification_report(y_test, pulsar_y_pred))"
      ]
    },
    {
      "cell_type": "markdown",
      "metadata": {
        "id": "WGDhUtk3s0E0"
      },
      "source": [
        "### ROC Curve and AUC"
      ]
    },
    {
      "cell_type": "code",
      "execution_count": null,
      "metadata": {
        "id": "RPPMJmvas0E1"
      },
      "outputs": [],
      "source": [
        "y_prob = svc_model.predict_proba(X_test)\n",
        "\n",
        "y_prob = y_prob[:, 1]\n",
        "\n",
        "n_classes = len(svc_model.classes_)\n",
        "\n",
        "fpr, tpr,_ = roc_curve(y_test, y_prob)\n",
        "pulsar_roc_auc = auc(fpr, tpr)"
      ]
    },
    {
      "cell_type": "code",
      "execution_count": null,
      "metadata": {
        "colab": {
          "base_uri": "https://localhost:8080/",
          "height": 295
        },
        "outputId": "b97c28a7-38ba-4a3b-bb55-adb27fd4bbcc",
        "id": "6VZ7Gx-Qs0E1"
      },
      "outputs": [
        {
          "output_type": "display_data",
          "data": {
            "text/plain": [
              "<Figure size 432x288 with 1 Axes>"
            ],
            "image/png": "[encoded data removed]"
          },
          "metadata": {
            "needs_background": "light"
          }
        }
      ],
      "source": [
        "lw = 2\n",
        "plt.plot(\n",
        "    fpr,\n",
        "    tpr,\n",
        "    color=\"darkorange\",\n",
        "    lw=lw,\n",
        "    label=\"ROC curve (area = %0.2f)\" % pulsar_roc_auc,\n",
        ")\n",
        "plt.plot([0, 1], [0, 1], color=\"navy\", lw=lw, linestyle=\"--\")\n",
        "plt.xlim([0.0, 1.0])\n",
        "plt.ylim([0.0, 1.05])\n",
        "plt.xlabel(\"False Positive Rate\")\n",
        "plt.ylabel(\"True Positive Rate\")\n",
        "plt.title(\"Receiver Operating Characteristic Curve\")\n",
        "plt.legend(loc=\"lower right\")\n",
        "plt.show()"
      ]
    },
    {
      "cell_type": "markdown",
      "source": [
        "From the above ROC plot we can see that the area under curve is 0.95 for baseline SVC model."
      ],
      "metadata": {
        "id": "8W3_jlRpO6uo"
      }
    },
    {
      "cell_type": "markdown",
      "source": [
        "## Linear Kernel"
      ],
      "metadata": {
        "id": "2HVDIN_xPwnA"
      }
    },
    {
      "cell_type": "code",
      "source": [
        "# Select the optimal parameters by cross-validation\n",
        "pulsar_tuned_parameters = [{'C': [0.001, 0.01, 0.1, 1]\n",
        "                     }]\n",
        "pulsar_clf_linear = GridSearchCV(SVC(kernel = 'linear'), pulsar_tuned_parameters, cv=10, scoring='accuracy')\n",
        "pulsar_clf_linear.fit(X, Y)"
      ],
      "metadata": {
        "id": "J85o8aajstiG",
        "colab": {
          "base_uri": "https://localhost:8080/"
        },
        "outputId": "a1a044a2-8f0e-460c-e03f-b102a0f92d89"
      },
      "execution_count": null,
      "outputs": [
        {
          "output_type": "execute_result",
          "data": {
            "text/plain": [
              "GridSearchCV(cv=10, estimator=SVC(kernel='linear'),\n",
              "             param_grid=[{'C': [0.001, 0.01, 0.1, 1]}], scoring='accuracy')"
            ]
          },
          "metadata": {},
          "execution_count": 139
        }
      ]
    },
    {
      "cell_type": "markdown",
      "source": [
        "The  GridSearchCV()  function stores the best parameters obtained, which can be accessed as follows:"
      ],
      "metadata": {
        "id": "P8nh4EpXPPls"
      }
    },
    {
      "cell_type": "code",
      "source": [
        "pulsar_clf_linear.best_params_"
      ],
      "metadata": {
        "colab": {
          "base_uri": "https://localhost:8080/"
        },
        "outputId": "879b43e3-9e10-40f7-c6de-f2e46849d152",
        "id": "77mFzJUrPPlt"
      },
      "execution_count": null,
      "outputs": [
        {
          "output_type": "execute_result",
          "data": {
            "text/plain": [
              "{'C': 1}"
            ]
          },
          "metadata": {},
          "execution_count": 140
        }
      ]
    },
    {
      "cell_type": "markdown",
      "source": [
        "c=1 is best according to GridSearchCV."
      ],
      "metadata": {
        "id": "nITFYZvqPPlt"
      }
    },
    {
      "cell_type": "code",
      "source": [
        "svc_model_linear = SVC(probability=True,**pulsar_clf_linear.best_params_ , kernel='linear')\n",
        "svc_model_linear.fit(X_train, y_train)\n",
        "\n",
        "pulsar_y_pred_linear = svc_model_linear.predict(X_test)"
      ],
      "metadata": {
        "id": "shwP4BXXPrRw"
      },
      "execution_count": null,
      "outputs": []
    },
    {
      "cell_type": "code",
      "source": [
        "svc_model_linear.get_params()"
      ],
      "metadata": {
        "colab": {
          "base_uri": "https://localhost:8080/"
        },
        "id": "FOAC_SUSWW_M",
        "outputId": "f41257b2-f5fe-4fa4-9bc7-6c32695b4b17"
      },
      "execution_count": null,
      "outputs": [
        {
          "output_type": "execute_result",
          "data": {
            "text/plain": [
              "{'C': 1,\n",
              " 'break_ties': False,\n",
              " 'cache_size': 200,\n",
              " 'class_weight': None,\n",
              " 'coef0': 0.0,\n",
              " 'decision_function_shape': 'ovr',\n",
              " 'degree': 3,\n",
              " 'gamma': 'scale',\n",
              " 'kernel': 'linear',\n",
              " 'max_iter': -1,\n",
              " 'probability': True,\n",
              " 'random_state': None,\n",
              " 'shrinking': True,\n",
              " 'tol': 0.001,\n",
              " 'verbose': False}"
            ]
          },
          "metadata": {},
          "execution_count": 142
        }
      ]
    },
    {
      "cell_type": "markdown",
      "metadata": {
        "id": "3gG5yDpKPrRx"
      },
      "source": [
        "### Accuracy"
      ]
    },
    {
      "cell_type": "code",
      "execution_count": null,
      "metadata": {
        "colab": {
          "base_uri": "https://localhost:8080/"
        },
        "outputId": "36eafbc3-65d2-4a66-fa60-1b5864841259",
        "id": "bBUH6_wCPrRx"
      },
      "outputs": [
        {
          "output_type": "stream",
          "name": "stdout",
          "text": [
            "Accuracy (Linear Kernel) -  97.8585\n"
          ]
        }
      ],
      "source": [
        "pulsar_acc_linear = accuracy_score(y_test, pulsar_y_pred_linear)\n",
        "print(\"Accuracy (Linear Kernel) - \", round(pulsar_acc_linear*100,4))"
      ]
    },
    {
      "cell_type": "markdown",
      "metadata": {
        "id": "3y4l3llLPrRx"
      },
      "source": [
        "### Confusion Matrix"
      ]
    },
    {
      "cell_type": "code",
      "execution_count": null,
      "metadata": {
        "colab": {
          "base_uri": "https://localhost:8080/",
          "height": 112
        },
        "outputId": "cff3a52c-90a3-47cb-9ad9-f012ef5dcff0",
        "id": "HLKJ9cS1PrRx"
      },
      "outputs": [
        {
          "output_type": "execute_result",
          "data": {
            "text/plain": [
              "      0    1\n",
              "0  4863   21\n",
              "1    94  392"
            ],
            "text/html": [
              "\n",
              "  <div id=\"df-01be957a-e13b-4158-9184-56d912f28f63\">\n",
              "    <div class=\"colab-df-container\">\n",
              "      <div>\n",
              "<style scoped>\n",
              "    .dataframe tbody tr th:only-of-type {\n",
              "        vertical-align: middle;\n",
              "    }\n",
              "\n",
              "    .dataframe tbody tr th {\n",
              "        vertical-align: top;\n",
              "    }\n",
              "\n",
              "    .dataframe thead th {\n",
              "        text-align: right;\n",
              "    }\n",
              "</style>\n",
              "<table border=\"1\" class=\"dataframe\">\n",
              "  <thead>\n",
              "    <tr style=\"text-align: right;\">\n",
              "      <th></th>\n",
              "      <th>0</th>\n",
              "      <th>1</th>\n",
              "    </tr>\n",
              "  </thead>\n",
              "  <tbody>\n",
              "    <tr>\n",
              "      <th>0</th>\n",
              "      <td>4863</td>\n",
              "      <td>21</td>\n",
              "    </tr>\n",
              "    <tr>\n",
              "      <th>1</th>\n",
              "      <td>94</td>\n",
              "      <td>392</td>\n",
              "    </tr>\n",
              "  </tbody>\n",
              "</table>\n",
              "</div>\n",
              "      <button class=\"colab-df-convert\" onclick=\"convertToInteractive('df-01be957a-e13b-4158-9184-56d912f28f63')\"\n",
              "              title=\"Convert this dataframe to an interactive table.\"\n",
              "              style=\"display:none;\">\n",
              "        \n",
              "  <svg xmlns=\"http://www.w3.org/2000/svg\" height=\"24px\"viewBox=\"0 0 24 24\"\n",
              "       width=\"24px\">\n",
              "    <path d=\"M0 0h24v24H0V0z\" fill=\"none\"/>\n",
              "    <path d=\"M18.56 5.44l.94 2.06.94-2.06 2.06-.94-2.06-.94-.94-2.06-.94 2.06-2.06.94zm-11 1L8.5 8.5l.94-2.06 2.06-.94-2.06-.94L8.5 2.5l-.94 2.06-2.06.94zm10 10l.94 2.06.94-2.06 2.06-.94-2.06-.94-.94-2.06-.94 2.06-2.06.94z\"/><path d=\"M17.41 7.96l-1.37-1.37c-.4-.4-.92-.59-1.43-.59-.52 0-1.04.2-1.43.59L10.3 9.45l-7.72 7.72c-.78.78-.78 2.05 0 2.83L4 21.41c.39.39.9.59 1.41.59.51 0 1.02-.2 1.41-.59l7.78-7.78 2.81-2.81c.8-.78.8-2.07 0-2.86zM5.41 20L4 18.59l7.72-7.72 1.47 1.35L5.41 20z\"/>\n",
              "  </svg>\n",
              "      </button>\n",
              "      \n",
              "  <style>\n",
              "    .colab-df-container {\n",
              "      display:flex;\n",
              "      flex-wrap:wrap;\n",
              "      gap: 12px;\n",
              "    }\n",
              "\n",
              "    .colab-df-convert {\n",
              "      background-color: #E8F0FE;\n",
              "      border: none;\n",
              "      border-radius: 50%;\n",
              "      cursor: pointer;\n",
              "      display: none;\n",
              "      fill: #1967D2;\n",
              "      height: 32px;\n",
              "      padding: 0 0 0 0;\n",
              "      width: 32px;\n",
              "    }\n",
              "\n",
              "    .colab-df-convert:hover {\n",
              "      background-color: #E2EBFA;\n",
              "      box-shadow: 0px 1px 2px rgba(60, 64, 67, 0.3), 0px 1px 3px 1px rgba(60, 64, 67, 0.15);\n",
              "      fill: #174EA6;\n",
              "    }\n",
              "\n",
              "    [theme=dark] .colab-df-convert {\n",
              "      background-color: #3B4455;\n",
              "      fill: #D2E3FC;\n",
              "    }\n",
              "\n",
              "    [theme=dark] .colab-df-convert:hover {\n",
              "      background-color: #434B5C;\n",
              "      box-shadow: 0px 1px 3px 1px rgba(0, 0, 0, 0.15);\n",
              "      filter: drop-shadow(0px 1px 2px rgba(0, 0, 0, 0.3));\n",
              "      fill: #FFFFFF;\n",
              "    }\n",
              "  </style>\n",
              "\n",
              "      <script>\n",
              "        const buttonEl =\n",
              "          document.querySelector('#df-01be957a-e13b-4158-9184-56d912f28f63 button.colab-df-convert');\n",
              "        buttonEl.style.display =\n",
              "          google.colab.kernel.accessAllowed ? 'block' : 'none';\n",
              "\n",
              "        async function convertToInteractive(key) {\n",
              "          const element = document.querySelector('#df-01be957a-e13b-4158-9184-56d912f28f63');\n",
              "          const dataTable =\n",
              "            await google.colab.kernel.invokeFunction('convertToInteractive',\n",
              "                                                     [key], {});\n",
              "          if (!dataTable) return;\n",
              "\n",
              "          const docLinkHtml = 'Like what you see? Visit the ' +\n",
              "            '<a target=\"_blank\" href=https://colab.research.google.com/notebooks/data_table.ipynb>data table notebook</a>'\n",
              "            + ' to learn more about interactive tables.';\n",
              "          element.innerHTML = '';\n",
              "          dataTable['output_type'] = 'display_data';\n",
              "          await google.colab.output.renderOutput(dataTable, element);\n",
              "          const docLink = document.createElement('div');\n",
              "          docLink.innerHTML = docLinkHtml;\n",
              "          element.appendChild(docLink);\n",
              "        }\n",
              "      </script>\n",
              "    </div>\n",
              "  </div>\n",
              "  "
            ]
          },
          "metadata": {},
          "execution_count": 144
        }
      ],
      "source": [
        "cm = confusion_matrix(y_test, pulsar_y_pred_linear)\n",
        "pd.DataFrame(cm, index=svc_model_linear.classes_, columns=svc_model_linear.classes_)"
      ]
    },
    {
      "cell_type": "markdown",
      "metadata": {
        "id": "mfnNPeeTPrRx"
      },
      "source": [
        "### Specificity"
      ]
    },
    {
      "cell_type": "markdown",
      "metadata": {
        "id": "tkMPU0TJPrRx"
      },
      "source": [
        "![image.png](data:image/png;base64,iVBORw0KGgoAAAANSUhEUgAAAToAAABkCAYAAAAWsfxvAAAgAElEQVR4nO1deVBcR3r/zT0DzAzMADPAcItDgBASYCRZsuTYlmVZ3siO5CMpJ3Ec23Hteu311l5OUuVa7+FUKvF6t5J4Yyuxvd74ULJaW458ryx0Yp0IIYG4j4GB4YaBuTt/sN3q1zxkhOQVkPeropiZ916/Pn/99fd9/bWKEEKgQIECBUsY6uudAQUKFCj4qqEQnQIFCpY8FKJToEDBkodCdAoUKFjyUIhOgQIFSx4K0SlQoGDJQyE6BQoULHkoRKdAgYIlD4XoFChQsOShEJ0CBQqWPBSiU6BAwZKHQnQKFChY8lCIToECBUseCtEpUKBgyUMhOgUKFCx5KESnQIGCJQ/t9c6AAgX/nxGNRqFSqaBSqQAAhBCoVCpEIhH2OyEEND4u/Y1/LhqNghACrVbL0qD38u+g4J+n96rVS1vmUSkRhhUouH6gw4+SmUqlglqthtyw5AmM3svfJ/ecSIr8+3hypd9FQlwqWNo0rkDBAgdPLryEdqX3yj1HCGHSHi8V0vtnewf/3FKBQnQKFFxHiEtSnmj4e8T7+GdFKU1O8uPTkUtDo9HMkBCXEhQdnQIF1xGRSARqtRqRSASBQADBYBAAEAqFoFKpoNVqJWQFTJNTJBKBVquFSqWCwWCA0Whkeja/349gMIhoNIpoNAq1Wo2YmBjo9Xp2DyW9qakpBAIB9k6DwQCTyQSDwfAHromvFgrRKVBwHaHRaEAIgdfrxb59+/DTn/50hhGCfqakF4lEAICR3De+8Q089thjCIVC0Ol0+OKLL/DGG29g//797D1/93d/h61btyIpKQnAtD5PpVJh165d+PnPfw5g2mhRVlaGhx56CFu3bpUYOBY7lkYpFChYpKC6td7eXtTX12N0dBRbtmzBunXrYLfbUVdXh127dmFwcBBf//rXsXr1aoRCIbS1teFf/uVfYLPZGGlRCS8/Px+rVq1CfX09Tp48iXA4jFOnTqG0tBRJSUkSfV55eTluuukmvPHGG8jPz8f69etRWFi45KywS6s0ChQsQqhUKni9XvT39yMnJwd/+qd/ivvvvx9f+9rXsHr1akQiEdhsNtx8883YuXMn7rvvPtxzzz1ISEhAfn4+HA4HW6JGo1E4nU6UlJSgtLQUaWlpMJlMqK2tRUtLywxjRl5eHsrLy2E0GrFhwwZs2LAB6enpMyywix0K0SlQcJ2hVqsxODgIv9+PDRs2YM2aNUhISMDk5CS8Xi/GxsaQnZ0Nu90Og8GAmJgYpKamIikpCSUlJUhNTZVYVqmLSkJCAlauXImcnBy0tbWhubkZfr+fvZc3gBgMBtx4441wuVzQ6/XXsTa+GihEp0DBdQYhBOPj47BYLPjzP/9zxMbGghCCwcFB9PT0QKfTYcWKFTCbzYzIdDodCgsLsXLlSqSlpTFdGrWeDg4OYnJyEmvXrsXtt98OvV6PtrY2dHV1SZyMp6am4PP5oNPpkJ+fj/j4eInBYqlA0dEpUHAdQcnk/vvvx/bt25GQkACdTodoNIqenh60tbVBp9OhuLgY8fHxzDBhNpvx/PPPIyYmBjExMTPSdbvd6OjowNq1a+F0OvHZZ5+hra0NtbW1yM/PZ3o9t9uNrq4uZGZmIjU1VWJtVZauChQouCag0pXFYoHT6YTBYGBS28DAADo6OqDVapGfnw+LxcKe02q1cDqdMJvN0Gg07PdoNIqpqSkMDAzA5/MhMzMTpaWlsNlsaGlpwYkTJ9gSlxpB+vr6kJWVBZPJxNIQHYwXOxSiU6BggYAnF0IIenp60NnZCbPZjMzMTCa5iX51IjweD/r7+6HVapGdnY3s7GwsW7YMANDa2oqBgQHmotLb2wuv14vi4mIJYQKKRKdAgYJrCNHCqVarMTExAbfbjaGhIaSlpSExMRF6vV4iZYmb92k6bW1tGB0dRWJiIpxOJ6xWK1avXo3U1FT09fXh/PnzCIfD8Pv96Ovrw+TkJEpKSph+bykRHIVCdAoUXEcQQpi+jP9zu93wer0wm80oKSmBTqdj91Jjgdye2Egkgu7ubhgMBuTl5bGlcXFxMVwuF3p6enDo0CGEQiG43W709/fDYDBIDBrKXlcFChRcU4hhmOj/7u5uDA8PIz4+HsuWLWPSFr2H+s2Je2M1Gg2amppACEFeXh4IIdBoNMjOzobD4cDQ0BCqq6vh8/nQ19eHkZERWK1WlJSUwGAwMNcU/n1LAYrVVYGC6wgxsgiV1jo6OuDxeBAXF4fi4uIZvm1UuuPTAMCWrmq1GmlpaYysEhMTUVRUhLS0NLS0tMDj8eDixYuIRCJIT0+H0WhkaVFEo9EZervFCkWiU6DgOoNfsgLTZNPR0YH+/n6YzWYUFRVBp9Oxa3ISIDC9bPV4PBgYGEBsbCzS0tLYdb1ej7y8PBQVFWFkZAR1dXVoaGiAXq9HTk4OAMxYripLVwUKFFwTUIKjujfqxNvd3Y2JiQnYbDa4XC62+Z/f/QBAIgmGQiHU19cjEAggOTkZDodDQooZGRkoKipCMBjEkSNHUFdXB71ej+zsbNl0l9J+16VTEgUKFiHE4JjhcBh9fX3o6emBXq9ny09+axfVzQFSKSwYDOLChQtQqVSw2+2Ii4uTxJ9LSUlBbm4uotEojh49imPHjiEUCsHlciESibBlKk1TIbrfIxKJSCw/4XB4TuIuvU8MMLgYQGN8Ucy2lJgteKJ4L99R+c+zLSEuFzV2rgiHw8yPajYLm1wbRaNRhEIh9qyCqwclL0pmU1NTaG5uhs/nQ2JiIlwuF7sPuNT/5EgoHA7jzJkz0Gq1bLsYb6E1GAzIzc3F+vXr0d3djfHxcdjtdiYx0nalZLrYxublcFVExzeQWKnioOVnLL6RFlNUUzFsdTAYlIj7sxFbKBSSjRArF/qa/x+NRhEOhyXp0TTEd8wV9NAVsTx8mnwwSP5gFZVKBY1GsyT3Qi4EUKL7/PPP0dfXB2DmORC0LWifoqQ0NTWF1tZWHD9+HCMjI5I06XMajQaJiYm44YYbEIlE2G6MhIQERrj8e5aS1XXeRMeLxCyx388ClxsAYtx7mtZihEg49Dc5QuK/889TiYknFPqbXF2Jz8+nM/K+WBTi5CROYjRfcqG+FcwffN/3eDzYu3cvPvvsMxa2qaamBh988AGLOiI3VkKhEC5evIhdu3ahtbUV3d3dOHnyJE6cOCF5RqVSIT4+nvnlOZ1OJCcnM4uraMVViA6Xj2PPzw48IYqzhtwybaFCbHi1Wg2dTicbCRaQLkloQMTZXAl4nYiYHq+PofmQq/e5gk9PJFaaD5oH6ktFSY2/TzxCT8H8wLfn0NAQTpw4gdjYWJSVlSEnJwdjY2M4duwYAoGA5F7a96g6oa+vD3V1dSws0/DwMBobG2dMxrGxsVi+fDnWrFmDjRs3Ijs7e0Y+6PelhKs67pAug/gBy3d+ugQSQ0Or1WqEw2EmTi8GhMNhieVL3HbDL8vFJQBfL5FIhNWbSHq08/Lg65Bf/mu1WrasuRJ/J/puSlY0HQq6XKZLVPHMUEAqcS4lhfX1Aq9CoGdByIEfM7NJXFT1QNuG9o1IJMLUIDRwAE0jGo0iEAhAp9NJ3r2UJrKrJjpeT0DBK7hn87CW0zssZPCdArhEYHJSGN8Jaf1QYpiYmEBjYyPee+89HDlyhPlKrVq1Cs899xzi4+PZO6klLBQKQa1WszMDRElYlPrmWh7aTqKHPSVNfsDw1xZDey0myB2Ewxu9+BO6+N/oJCjqyAHpcpUSpNwKgZfi6R8/dpcK5r0zglasqL+hoIPb7/fj6NGjOHPmDDo7OzE2NgZCCAwGA5xOJ4qKilBRUYGMjIwFfRAHf3I6/U47ICV8cZsOIN1w3d/fj4MHD+Ktt95CaWkpdu7ciXPnzuHChQuIRCISBTO/lBU7Or0+n6WrXDvxUin9LBoteD8vWp6lpse5HuAnGgCSuueJi5Ia/5u4cqD/RdUGT1i0zfj25d/PW16XEq6K6OQGGpVcgsEgent78dFHH6G2thZTU1OIiYlBXFwcQqEQmpubceLECVy8eBFJSUmSTcULFXJl/eSTT9De3o709HTceeed7D5+liWEIBgM4vjx4/jNb36DtrY2PPbYY6ioqEBVVRXq6+thsVhgMpkkkiGdJNrb25GTk4PVq1cjNjaW1bHcTD4XnDp1Cg0NDTAYDLjppptgs9kkZeSlVp7MxIlNwbUBL1HzfUzOEEXvoxMtPw7lVkm8UUtOtyrq1uc7gS50XDOiEwfA8PAwDhw4gOeeew7FxcX4kz/5E2zevBnp6ekIBoP4zW9+g127dqGlpYVJRAsZ4rKRhtL593//dxw+fBjbtm1jRAfMNND09/dj//79OHXqFLZu3YrKykrEx8cjPj4epaWljKx4l46JiQm8/PLL+Pzzz/HAAw+gsLAQZrMZoVBIoi+80iXGu+++i7feegsZGRlYsWIFi1xL800jW0xMTCApKQkpKSkzJLn5EKyCmRDHDzC9LOWXlPQ3eh/vSydHSHwb8T53/BgVpTxeLSFKhUsB8+6pdKDxsz//3+12Y8+ePRgeHsaOHTuwY8cOZGZmIhqNwmg04vbbb0d5eTlsNptkL99CBi0r9TFzu90YGxtDamoqioqKZpA9Xyfnzp3DxYsXERcXh02bNrGQ1dFolJEb3wHp7+fPnwchBKmpqXA6nZIljUajYeF75gqVSoWmpiYMDQ3B6XQiPz8fGo2GvTccDsPn8+H555/HE088gffff1/SzgquLXidGAVv6BFJi7aDaPHnSZEnSTpBU8LjCZP/o+DVL0uF5IBrINGJswZtJK/Xi0OHDiEzMxMZGRkwm82s4qPRKKxWK5588klMTU0hKSlpxqzDi9E8wcg1KO0QVDLk42rRtIBLllN+FuWNBTzRiAYF/v102ZCdnY1//dd/RTgchs1mm6En4fN/9uxZtLe3IyEhAenp6ay8YiwyfqkRHx+Pt99+G+FwGMnJySw9/hm+fKKhhEoGopL5Jz/5CZ555hmYzeYZDsHRaBQDAwM4cOAAcnJykJycPKPdab7573w++Hv55Tt/ne8/tN0oaculw6cv6pnoZ16XSe/nrdY85JylrxfE/ImSspz+TbwmpsdDtNKKz3zZ9+sFcQUlXrsSb4N5Ex0/cOQaKRgMYnh4GACYDxCVUqgkkpaWxtICZipC+f13cjOe2EkpYfHEyw8mMWCh+F3UUYidSpRetVotC1HN54tHIBCA2+3GyZMn0dnZCZfLhezsbEbG4uDn36/X61FQUCCrf+GJndaR2CaiFEafy8jIkJAfnQAikQg6Ozvx3nvvYXBwEFVVVUhISJDUlTih8HUmSn5i+9DrNM9yCnb+Xrn6Ea/x+kO+DikoiYiTIp/ubFuq/lC4EmKZLwktFPKaK0SHeWCmW9OVtNlVaf/lZlo6e8fExCA9PR29vb04cOAAXC4XiouLJeI4X6hQKITz58+jra0NIyMjMBgMqKqqQmpqKjuZvLa2Fn6/H1arFStWrEBBQQGTEPn8RCIR9Pb2or29HZ2dnRgaGgIAxMfHo7y8HC6Xix0Ewlekz+dDR0cHOjs70d/fj8nJSQBATEwMcnNzUVhYCK1Wi9bWVhw7dowRcWVlJSoqKmYQodvtxscff4yWlhacOnUKY2NjcLvd+K//+i8AQEFBAYqKimbowE6cOIGTJ08y4q6srEReXh47HIWvO7/fj8HBQbS0tKCvrw9jY2PMzy45ORlr166Fw+FAe3s79u3bx54vLCzEqlWrGJF1dXWhtrYWhw4dQnV1NSYnJ9HZ2Yl9+/ahvr4eer0eRUVFKCoqAjAdL62xsRFDQ0Ow2WwoLS1lEW0JIRgZGUFtbS0aGhqgVqsRGxuLm2++GSkpKTP6Ed8GctIcT9py9/KTA50sv2xgy0mOChYmrkVbXRNjBL9UA6Y7mdPpxG233YZ3330Xe/bsgVqtxgMPPIC8vDzExsaydFSqaQttS0sLDh06hC+++ALnz5/H4OAgfvKTn6CkpATBYBAnT57Enj170NbWBpPJhB07duDBBx9kej+ah8nJSbjdblRXV6O+vh5NTU3o6+tDKBSCz+fDo48+irvvvht5eXmScgwMDODcuXM4cOAAWlpa0NPTg+HhYYyOjmJqagr33nsvHnnkEVitVpw6dQovvPACOjo6YDAY8Ld/+7coLy+fsTTweDx499130dXVhYGBAcTHx8Pv9+O1114DIQR33nkn7HY7UlJSJA15+vRpvPDCC2hra0MkEsE//uM/wul0wmKxSFQFk5OTaGlpwcGDB3H27FmmM6TngZaXl7NtPp2dnfjlL3+JhoYGhEIhPProo8jKyoLNZoNWq2UT0gcffICOjg4EAgH09/fjwIEDIIQgLi4O27dvR3JyMnw+H6qrq3Hw4EHU1NTAarXi4YcfRkpKCiPj8fFx7N+/H//5n/8Jr9eLgoICZGZmshhpVKqT23bmdrsxODiIqakpVp+8tEufo+3HPx8OhxEfHw+n0ynxSRR9zGZbEilYGBDVLXzbA/PYpkbmiVAoRKLRKCGEkGg0SiKRiOT62NgYqa6uJuXl5SQ2NpYYjUZy8803k88++4xMTU2RSCRCIpEIiUajZHh4mHz/+98nu3btIjU1NeSVV14hFouFPPPMM+Rb3/oWefbZZ8m+ffvIyMgIef3110lZWRmpqKggv/jFL9j76f9Tp06R++67j8TGxpJHHnmE7N+/n/T09JDf/e53JDk5maxatYq8/vrrJBqNsucikQh59dVXSUVFBcnIyCA/+9nPSGdnJ+np6SEvvvgisdvt5JlnniFNTU2EEEJ6e3vJrl27iM1mIxUVFeRXv/rVjPLT8vn9fnL48GGyadMmctddd5F3332XRKNREg6HWR5oPUQiERIOh4nP5yNvvvkmAUBUKhXZu3cvCYVCJBAIsHKGw2Fy4MAB8hd/8RfEYrGQp556ihw+fJh4vV7y/vvvk+XLl5NNmzaRI0eOsPZqbGwkLpeLaDQa8uyzz7Lyh8NhEgqFSDgcJtXV1aSsrIyYTCayd+/eGe3e29tLfv7zn5Mf/OAHpKWlhfzgBz8gWVlZZMeOHaS6upqVnb7vhz/8IbFareShhx4idXV1JBgMEr/fz9ILBAKsL9H/P/zhD0lhYSHRarVEr9cTvV5PtFot0Wg0RKfTEZPJxL4bDAZiMpmITqcjGo2G6PV6cscdd5D/+Z//YWWjdS2Cr3MFCwvhcJiNCxG0/19Ju81bohM95EWdh9FoRFlZGV5++WW89tpr+PDDD3Hy5El85zvfwdNPP41bb70VSUlJiEajMJvNeOKJJ6DT6RAIBHDq1CkEg0HU1tZi/fr1uPHGG1FSUoK4uDjceeed+PWvf42GhgZ0d3ezdxNCcPToUfzqV7/CsWPH8PDDD+OBBx5AcXExjEYjMjIyoNfr4fV6MTo6CgBsu83HH3+MvXv3ghCC7373u/ja174Gh8MBAGyplZubi5iYGLZtymKxsKit/HKMcEstQqa3azU2NmJwcBBOpxOJiYkzdiPQMtDvBoMBRqMRBoMBK1asgNVqZdenpqZgNBrR1NSEPXv24OTJk9i5cycee+wxuFwuGAwGxMfHIyMjA7m5uYiNjWXLOaPRCEKmzxKg4X94/VQwGER/fz/a2trYgck0f7Rsdrsd999/P0KhEMxmMzZt2oRPP/0UAwMD6O7unmH8CIfD0Ol02LJlC5xOJ1M10O1IVM/HS2p/9Vd/hXvuuQfBYJDpXEUjkqj+oG0ZjU6fkZqUlMRUKXz+RR0iMDNCiILrD37HB99mvBHvSnDVxgj6GZAq4zUaDYt3/5d/+ZdIT0/H//7v/+LYsWN46aWXEB8fjw0bNrDggJQsOjs7JURUUlKC4uJiWK1WAIDNZoNer2dLNDpQx8fHcfToUezfvx9WqxU7duxAcXExzGYzpqamMDQ0hHA4jIyMDNhsNtaxBwcHsXfvXrS0tGD16tXYtm2bZCl5ww034IUXXsC6deuYv1kwGMTAwABCoRAyMjIYKYoNEo1Oh3JqaGjAxMQE7HY7C6Q4m0GFEIKxsTEMDQ1Bq9WitLSUER1vVfzwww9x6NAhJCQk4MEHH0R2djY7Di83NxdPP/00rFYr0tPTAUwbRQYHBxGJRJCfn4+UlBSJ0ykAjI6OwuPxIBKJoLy8HFarVaKiAKbdGiiJhMNhlJWVISEhAX19fejt7ZWUnx6OXFpairKyMtbWcjss6Ge1Wo3U1FTWH+QMRLMpqmebOOh1eg/Fvn378P7770t2CShYGCC/V21s27YNW7duZb/Ltf1ccNXGCP6lYiZUqml3EiqVGI1GeDwepmwvKChgAQLps0NDQyy6anl5OQoKCpjCPBKJYGxsDMFgEFqtlvneRaNRNDc3o7a2FhMTE7jppptQXFwMQgg6OzvR3NyMjz/+GDExMdi4cSMKCwsBTO8xPH36NE6cOAGTyYS1a9cy1w9qWXS5XPizP/szVh6VSoXx8XFcvHgRwWAQaWlpSEpKkgxICrV6Orz1mTNnEAgEkJSUxFxpxOCV/LODg4Nwu93Q6XQoKiqCxWKR1G13dzcOHTqEkZERrFmzBpWVlZesuACSkpJw6623SiQrn8+H5uZmhMNhZGZmMrcRngi8Xi97L20bWm5KFHx+aXyz5ORkNDc3o7W1lV2LRqNobW1Ff38/tmzZgpSUFInPnxi5hT4nFyqIn935/IgSHr32ZRBXIktpT+dSgtimVyN1X9OdEXIZodczMzNx8803o6GhAa+99hra29vR19fHjnKjSxmPx4OOjg7ExcVh69atEotkJBJBe3s7JicnmXQETA+WU6dOobW1FbGxsXA4HDh37hwmJyfR29uLs2fP4uDBg1i7di22b9+OoqIitgw8cOAABgYGsGbNGpSWlkrM1zTiA10S0QFBLYparRYpKSlM2hR9CaPRKCYmJnD+/HkYDAYkJycjJiZG4hLCi+Y0YojX60VnZydzX6GTAZWizpw5g/b2djgcDqxevRomk+mStVGthopb7lHyGB8fx9mzZxEMBpGamoqkpCS2VKRE4vF40N7eDp1Oh/T0dMTFxUlITnSfoXWUnp4OQgja2trYJETLoNFosHXrVhiNRvY+nrR5kqKSVW9vLwYHB1kMNrGj80ESeHcVet1qtSIpKYlJ4Pz7+H2kd9xxB7Zs2cKcahUsHKhUl4IRAJC0MyCdFOeCeROd6CQMgEkVvJ8V78hpt9tRUVGBd955Z0YYdvrs4OAgent7YbFYkJOTg7i4OITDYTZA2tvbMTU1BYfDgfT0dKYDam9vR09PD9rb2/GjH/0Izz//PDIyMpCTk4MVK1bg7//+73HLLbdILL7AtJuEz+dDUlISsrKyWJ4BsIghABgZq1QqDA8P4+zZs8jIyEBycjL0er2kPuh/n8+HtrY2hMNh5OTkMJ0kXyeiRBGNRtHV1YWGhgZotVpkZ2cjLi6OSa9+vx+dnZ0IBALIzc1Fbm4uq2vg0gQkHkY8MjKCs2fPIhQKITMzc4YOS6PRoKenh7mDFBUVwWw2s7qg4Zz4SBi0HFlZWUhKSkIgEIDX60VqaioOHjyI0dFRVFVVYfny5ZK64aU2vuyUlH75y1/izTffREtLCyNZnU4n0dfx2wZ5yRUAbrvtNjz++OPYvn07q1Naz3y98P1Xsb4uLIjOwPxnPmrSXDFvohMVuPSlTz/9NHJzc/Hwww+zLSf8jEwHularlXhs087Y1dWFnp4eVFRUMEmKpjM5OYn9+/ejr68PW7ZsQVVVFUufDqD169fjn//5n6FSTTvc6vV6mEwmWCwWtu2KShL81iuz2cyWyPw9VKKjZRweHkZ3dzeCwSBWrlyJhISEWUPlTE5OoqOjA8FgEMuWLWN6J6qA58Ev03p6etDT04OCggIkJiayJR/NM230mJgYWK3WGdFMaD3zHveUnOmylUaV5SUct9uNjo4OZGVlwWw2y8bHk9vR4XQ6YbPZMDExAY/HA7VajT179sDpdEr2/4oQ06b5eOyxx7Bz507maM7fK2eI4NsLADNG8Ppi+qzcAOGXzmJ6vIRPIUqk/LP8JCC3WV98B58vvn7l7psLxLxdLr7dXCDmXSQgOV3rXPIs7mKieQdmRtQROWI+k9I1CRdCxczOzk4WqaSnpwfZ2dmS5YLP50NLSwtCoRCysrLgcDgk6/De3l709vYiEAhISAmY9ss6c+YMqqur4XQ6sXr1arhcrhmDnDoF87P01NQU3G439u7di40bNyItLU3ie6dWq6HlAk3yeiEaPomSE7VKUqmHjyYiaWxCMDo6iosXLyIcDiM1NRWJiYkA5AOSAmCSl8fjQTgcRkFBwYw9wDRfvJRCy89viaL1FgqFMDExgd7eXoyMjOCmm26SGAVoPsbGxjA6Ogq1Wg2n08mCMw4PD6O3txejo6Ns8uHzHIlE2LkDfX19uHDhAvbv3w+DwYBVq1YhKyvrivtSamoqUlNTr7QbymI2XR5/XS4P9L84efBLZD5N/hl+YPLp0MCs/HKM33FCwe/iod/nqkfk8wLI7xgR75kreMlZJGlRjSXmmVdPzLY7hb9PfC///vmoGa6K6PiC+f1+tLa2wufzobGxEYcOHYLNZoPFYoHf74fX60VNTQ1qampQUVGB8vJyZq2kFdPd3Y2hoSFmdAgEAohGoxgbG8Pp06exe/duDA0N4b777kNVVRViYmJYwW02G8xmMyYmJtDU1ITMzEyo1WoMDg7iwoULOH78OAgh7EAbYFqycjgcMBqN6OvvR3t7Owst7fV60dHRgampKeTl5SExMREajQZjY2MYGBiARqOBw+FAMBhEfX09IpGI9KBhTOvyzpw5w46Us9vtskp9WpfRaBRDQ0MYGRlhMf0JIUwfmJGRAZ1Oh4SEBOh0OgwMDKCrqwv5+fnQ6XSYmJhAT08PRkdHYbFY2PY0n8+H4eFhRko6nQ5NTU0YG+IzDNAAABjjSURBVBtjOy74070ImT7QZ2hoCMePH0dLSwtycnIQiUQkxEvz7nK5kJSUhIMHD+KDDz5Af38//viP/xhVVVUwGAzzGlRfFWYbSHJWWQpRj3i563ISKHBpIIuDVPzOH4Y0H7cXkYjk3jHf9KgAwOtZ6T08ZisjT/C8ZCaSpdyK5HJ1PBdcNdFRkgoGgxgfH4fRaERbWxvee+89mM1muFwujI+Po7m5GTU1NRgdHcW3v/1tVFRUMMmC+lW53W4MDw9DrVYjEAigtrYWbreb7XQ4ePAg1qxZg3vuuQclJSWSvBQXF2PFihVobm7G7t278Ud/9EdQqVTo6OjA6dOn0dLSgu985ztwOp2sgvV6PaqqqnDmzBm0tLTgvffew6ZNm0AIYQeMEELgcDgQHx8PtXo63LnJZGLuE+fPn4fH44FGo0Fubq4kxDk9EV2j0cDlcjG/NP7UdbGhgelQ1zqdDsPDw2hqasKhQ4fgcDhgtVrhdDpRWFiIZcuWobe3F/v372ex7EZHR9HQ0ICBgQEUFhYiIyMDsbGx0Ol0LN/j4+Noa2vD8PAwhoeHYbPZEBsbi9jYWNjtdsTExMDj8eD48ePQ6/WoqalBMBjEXXfdxWZofgBSdxCHw4GhoSHs27cPN954I9auXYtly5Zd0cbrrwJykgcP0V9Lbo80lZypFV3U8/En24nSGi+BU/2v6EcpEqmob73SpRpPJPy7ZiOmuaYn7qkGpGoB/ne55TLVydKIyvwyX5QIRWGA70fzkurIPBEMBiVey36/nxw6dIh897vfJbfccgvJzc1l3usajYaUlpaSZ555hhw/fpz4/X7JbgCa1j/8wz+QlStXkuLiYvLkk08Sl8tFDAYDsdvt5JZbbiH/9m//RoaHh5lndCgUIoQQ5t1++PBh8vjjjxOLxUK0Wi0xGo1k/fr15Gc/+xlxu93M25r3uI5Go+SVV14ht956K4mPjyc6nY7Y7XayefNm8k//9E/k7Nmzkh0UfX195NVXXyWZmZlEp9ORm2++mbz88suku7tbct/4+Dh54403iF6vJ6WlpWzXAC0zn4dwOEympqbYTolXX32V7U5YuXIleemll0hHRwe7HgwGyeeff04eeeQRkpKSwuq4oqKCfP/73yfV1dWS90QiEXLkyBGyceNGYjQaSV5eHnn22WfJxYsXJXVYU1NDnnrqKeJwOIjJZCJ33nknefvtt8nIyAh7bzAYlLQd/fzSSy+R3Nxc4nA4yKeffsqeWSiIyrQ7LUMgEJiRV1pe2rf4nUCEXOpz/H30OdGrn+4Uoe/k302vz7YLYLb8XQ5y6dF8zWcXiJhnuZ0m/E4f/l6+vvk65MevWLfie6/F7pV5nxlBCJmxVqeOuZOTkwgEAggEAuxaTEwMEhISEB8fD4PBMIPxVSoVnnzySdTU1GDNmjV46qmnMDIywsKLm0wmOBwO2Gw2Scw2OlOqVCqMjo6ynQ/UyBAXF8feq9frJbMjzbvX68Xg4CB8Ph/TLZhMJsTHxyMhIYG5b9DZe3R0FG63G8FgEGazGXa7HVarFTqdjt3X1dWFt956Cz/+8Y+xbds2fO9730NpaemMOqT5oFKtTqfD4OAgPB4P01VSiVKv17PnJiYmMDAwwOoIAGJjY2GxWGCxWFhYLAqfz4fu7m5MTExAr9fDbrfDbrdDp9Ox+hwbG4PX68XIyAgikQisVisSEhJgsVjYrgqx7gBgYGAAL774It5//31s3boV3/zmN2G32yV1fb2smmL3FqWG8fFx1NbW4sc//jFGRkZkjQai2xAhBHq9Hhs3bsSPfvQj1teampqwb98+vPXWW0yXd/fdd+PBBx+UuEkRQnD48GF873vfY8+mpaVh8+bNePTRR5nkcznd4uXKy9/P9zG5evgyRKNR1NXV4Z133sGnn37KnpWrV/resrIyPP3000hPT4fBYIBarcaJEyfw3HPPob+/X7KMp5JcbGwsUlNTccMNN2Dbtm1IT0+fcSCT+C4iY1iaDVflXsIXWKVSIS4ujunNRGWs2AB8AagSvqurCxqNBsuWLUNmZiaysrLYdQAzrLT0M/1vNpsRFxcnqzAGLp0+T0V5KjInJCTMGJj887zPFnWStdvtkjLS9GkH7evrQ1tbGysP75PGp0vzQl1ZCJneZiW3VYz/Hhsby9KkaYng6zouLo6FfOLrjn9eTJPeS0mYX1JRq1kgEMB7772HxsZGrFq1Cvfffz8SEhIWjBOu2EfFa+Pj46irq8PJkydRXFzMnMZHRkbw6quvoqurCxs3bsQdd9wBjUaDvr4+7N69GxMTEygvL5fo0uLj45GamgqLxYJjx45hcnISKSkpqKioQGpqqmRJmZiYiIqKCrz++uuwWCwoLy9HSUmJZCktttFcID5D+40Yq+9KkJycDKfTiUgkgrq6OhQVFeH2229Henq6JG+/+93vWJAHq9UqiSyUlJSEdevW4ac//SlGR0dx00034bbbboPNZkM0GoXb7caZM2fwxhtvoLm5Gd/+9reRkpIiCWcm18fnimtmjABmKlz5AcpDNKFHIhH09PRgcHAQRqMRycnJkoKJ+0LFgcqTFi/tiWwvp6CVa3g5KyqV5niI/jyX8jS9la2hoQExMTEoLy9nrityA48SB98x+DzTTs/nj4ccqdM88e4jchClBlrvvM6JJzx6wJHBYIDZbMbRo0fxwQcfwGg0YuvWrRLd6WwEcz0htvf4+DgaGxtht9uxfft23H333UhLS0NbWxt2794Ni8WC9evX47HHHoNOp4PH48Hp06fR39/PLMo0zcTERJSWlqKqqorpljs6OlBbW4tbbrkFwKW6cLlc2L59O3bv3o1Vq1Zhy5YtqKysBHDJIZqmPVfJhZ7FcuHCBWRnZ6OsrIy9c54LNwCA0+lEaWkpCgoK0NjYiNWrV+P+++/HihUrJPnSarUYHR1le7ppOQiZjpB9991348UXX4TP58MNN9yAv/mbv4HdbkckEkFrayv+4z/+A7/+9a/x29/+FnfddResVitzlv+y4KFfhqva1E8hWlOAS4paleqShzM/W4nSRHd3N6amppCamsoOa+EHHD/YRdcKYObRfKIESWc1/roodYjpiw7A4uxKl5q8cSMajWJ8fPpIw87OTixfvhzr1q2T7K+lafDHCtJzIGbzyeOJV4ymy99LyZdXbvNuJCIxixMGTV8kQCptHj58GHV1dYiLi0NWVhZeeuklmEwmPPDAA9i8efOMpaFcPV8viFIxME107e3tqKysxKZNm5CVlQWfzwev1wuPx4PExESkpaWxpbvL5UJycjLi4uKQm5vLJlng0tm8NKCFwWDA8PAwzp07B7/fz1ym6L10b3JlZSWKiookOzT4tp0r0QUCARw4cAC/+MUvsHPnTqxcuVIygfIroCtxV6H/qT9rfn6+ZLcOzVtOTg42btzI1Ev0PZS0qQXeYrEwMgSmCTIvLw+VlZU4duwYzp49i8bGRixfvpxtQ6R54MfflZDdVS9daQVSB2DegkIHJG8tocTHV3QoFEJdXR1zd6CFE8Vtnnhop6XXqFMtfT8Veek91NrDH9jML615QuR3eESjUWYlFSuZ77g8YdTU1OD48eOw2Wz45je/idjYWNmlME94NBAoLUM0GmU6OR60bCLJ8eTML+fFNMR80LajoAOQLxP9rFar0dLSgj179qClpQVqtRoxMTF4/vnnsXXrVsTFxTEiES11CwFi/RAyraPr6+vDo48+ymIbjo2Nob29ne0LTkpKAnCJvGkknJycHJYu/ZuamoLH40FxcTHS0tJw8OBBtLa2oqWlBXl5eaztQqEQRkZGAEwvDWlcQNr+vBuHXD+YDXzgUTl/tSvVldK6mpiYYG5PhYWFsuqJTZs2YdOmTTNWTrS8Ho8HAFBYWMii51BEo9PHKzgcDnYey9TUlCT/chP0XHFVOyP4//zvYsbEDIkhniKRCJqbmzE2Nobjx4/jrbfegsFgQFFREZv1xHTEpSX/Xe4+lUol8fSX032ISzwqCYllBqQkEP39bo++vj48/vjjGB8fR3Z2NrZv347169ezXQhinuRAyUFOYha/y3WC2Z6RK8OXGQvkls0+nw9+vx8OhwObN2/GvffeixUrVrAdIrRu+H5wvSEnBdC6q6iowCuvvAKXy8Um2PHxcZw/fx6hUAj5+flITU2V6OL++q//Gmq1GgkJCZKJhpBLkZULCwuRlpaG5uZm5iKUmZkpMfw0NDQgMTGRvZv2KV5vK/Zpvj3ECVssKxUG+H59pQRB06R7l41GIwoKChAXFyd5H7+85J+j7+d3CRUUFLCoOnxZenp6cPHiRRaejLqf8XUw3yX4Ve+MmG0Qyl2b7XeTyYSdO3eisrISKpUK6enpSE5Olux6mM/755qfK71frGw6aGJiYnD33XcDmA5iQCOviDsWviwffyiCuJL6oGXetm0bOzmssLAQxcXFMJlMC0pyuxLQsPzApTJOTEyrHmgYLqozpnUhDlJgup4CgQAGBgbgdruRlpaGjIwMfPHFFzhy5AgOHDiAHTt2MOl+aGgI9fX1SE1NZQ7g4kAW+4vchC/2RTZhCUtgXhCQ01/PBkKmnex7enrg9XqRnp6O+Ph4toJyu904evQokpOTUVxcLDkkis8rjfgTDoeRlZWFxMREZuAihKCvrw+NjY1wu92w2WwoKChgEbVFVdd8sCBOjDYajdi8efMMx0FgYSq0RVApzGq14qGHHpqh2JfTgy3k8gDyRppwOIx169Zh3bp1kvItJOltvuD1y6Ojo6ivr4dGo0FKSsoMnbFIHMAlC67H44Hf70dmZiZycnKQk5MDk8mE2tpaDAwMIC4uDlqtFmNjY2hsbERpaSksFsuX1p9IgLxkJ0cC9G5e2pwvvF4vent7Qch0rEOqyhkeHkZNTQ1ef/11bN++XbKU5+tUpZp2/aqrqwMAZGRkMKIbHx+H1+tFdXU1jh8/DovFgjvuuAPp6elML3otxsuCIDoKKvqKormcEvl6Qk6EpmQnbuYmhMzYNrUYiA6YedqaaHwBMKsktxjKR8H3r1AoBK/Xi6amJqSlpcHhcLDQWqKxTSS7gYEBeDwemM1mpKSkID4+HsuXL0dRURFOnDiBCxcusEPLqS/mjh072DkbgJS0+D4mvk+O5GgexWeoxwDto1cClUrF4goaDAaYTCZ2PnFTUxPef/99nDhxAl//+teZ7ybNGx/YdWhoiBGd3+9HT08P24N+4cIFfPTRRxgeHsbmzZvxxBNPsJ1IvOeFWCd/EB3dtQY/+C+nU1komEtexI4qEvhChtygoDMs79c427OLCSrVpfOGvV4vuru7odfrUVpays6+pX6OFOKSKhwOo6enB0NDQygtLYVer4dKpUJmZiaKi4tx+PBhfPrppygoKAAwHR7M7/dLgs/SvIgQra5y44QaLgAwHe/lrPZzjWhCCEFXVxc8Hg+6u7vx5ptvslPsqHSbkJCAkpISFiCW5oEaXmhUm7a2NoRCITz55JMSHb/L5cKGDRtw55134sYbb2QeCmK5+fE0F7UWjwVDdGLjEULYnjjRKLCQIM4wogJ5to67GMiAdwqn0hyfdzEUO7D4SI6HWj0d9LSrqwsmkwnZ2dkwm82s74kHoFNQRXx3dzc8Hg/Ky8uZq1FaWhqKiooQDodRXV2Ne++9FyrVtEO5RqNhMRdFiMRH6/3s2bPYu3cvPv74Y6bqoYSg0WjgdrvR29uLXbt24aOPPmLp0XayWq244YYb8OSTT0okydlAiW5wcBBlZWX41re+hfT0dGg0Gpw4cQKff/45AoEAMxrKqWdGR0fR29sLrVaLBx54AHfccQeLTqNSTXsvWCwW2Gw2WK1WiZcGBSVyfv/woiQ6YOYB1rx5XI7h/5CYq65QblnBu7HQexYTIchJd3PN/2LQsVJEo1H09vaitbUVarUaK1askEgp4vJJbM/+/n4MDQ2x8Foq1fQOFpfLhYKCAuZETCPgFBYWMreSLwN9p91uR2VlpcTqSa+FQiF88cUXGB8fZ7sXKCjRGQwGpKenX5HLCj0ydM2aNdiyZQuzsIfDYRZSjN9eyRs9gOklPSW6srIyrFmzhhGdXKRtOeOLnCFvUS5deYhmdvrblViLvuq8UYj6OtFHbrY0FgNEZTv/mxxZy0k6iwW0TFSi02g0bDkGzHQ9Ep8dHx/HwMAAsyrSe7VaLZxOJ9asWYO3334bzc3NMBqN8Pl8KCkpmZVwRIMc/Z6SkoKUlBTceuutkvumHdXHYTKZUF9fj8rKSnzjG9+QOKXzE+9cdHXRaJSdEaxSqeByuSRWVVou6iRN25sKJLRO6bJVq9XC5XIhJiaG3SfWP30vzSdPcOIOqUVLdGIkWAp+cF0vaYiv4MvlYbYGuVZm8j8kaGfj9S6ihD1bWRbbcpYuz4eGhjAwMICYmBh2bsaXQaVSob29HYODg7BarZKT3tRqNRwOB6qqqvDOO++grq4OJpMJgUAA2dnZkqX/bGoOShyigzvvHMzrxADpbhv6neoZ5yoshEIh1NfXY2JiAunp6cjPz2dtTi2wNDQZcGkvOU9M1AWlsbEROp0OLpeLhTmj5RNJTU4lwvc1WidXYlhZMETHkwgw0+IqWi+vB0TpbbZ7gEu7Knil8GJaxgGXpAA+fh4vbc9FYlssZVWppqMsd3V1YWxsDJWVlZKdL4D8lkRaFxcvXsT4+DjS0tKY3x2tH5vNhqqqKuj1epw+fRrBYBDp6ekoKSlh0T14iFF4RSKg4L0UxD+tVisJl8+fmDdXkgiFQrhw4QKGhoaQkpKCtLQ0ltdQKMT0gjyJ0ndQg4dKNX1qXXNzM7Kzs+FyuSQO9HSM8Mt3cZlKJyF+or3SfrVgNPyieCr3+0KAXCXzv/Fe7fzsyZdtsQx+0QgkdjL+/+XqZDFApZo+r8Tr9bJIL/xWOzFaD32Gor29HRMTE0hISJghbWm1Wtjtdqxfvx5+vx8ejwd6vR7Z2dmy+jk5N6rZXKtovxKJkc+reI0HJSWKSCTC9kuHw2G0tbXB5/PB4XAgKytLEhpNjiz5CR4AO9EtNjYW+fn5ku2FNG80H/RP7Fe0DmfT1c0FC4M9BCz2QQMszjyLmG1gLTUQQjA5OcmOzKSb8+k1kTz45VswGER/fz/Onj3LdFn8MosSicFgwIYNG1jcwsTERDidTlmyuJo65i2xfGj82dyb6LvEZaff70dHRweOHDmCwcHBGXXAv0MUTCixRqNRHD16FI2NjWzpPTo6KnmGnxTEfIp1cjX1siCJToGCPyQCgQAOHjyITz75BG1tbZicnMSFCxfw+eefY2BgYIZahYLGUfzv//5vnDp1Cl1dXWhubsYXX3zBgqHSgavT6bBq1SokJCQgISEBLpdLEvvvWkJc8om6Ljnwv0ciEbS1teHNN9/EuXPn2OHnR48eRW9v7wxiou/kP4dCIZw7dw4ffvghGhoaGHF+/PHH6O/vlzwvpvNVQCE6Bf/v4ff78cknn6CzsxNWqxXJyclwu93YvXs3uru7WeBR0ZhEJZS3334b0WgUiYmJ8Hg8+OCDDzA5OcmMCDqdDgaDAdnZ2cjJycHKlStRVFR0za3SavV0QE96zi7d6SFKSXysO17/TaWwQCCA5uZm/Pa3v0VaWhoKCgowMjKCgwcPoqWlhcVlpDo6mga//AwEAjhy5AjcbjdiY2OZgebDDz9k28l4I5cYe/JaY96h1BUoWCoghLDQ/3x4KY1Gw0LN87ok0drs8/mYcp7qZU0mk2xUkampKRZ6STR2XItyBINB+P1+dp4xzSt/KA9dLvNxIvk8UklwampKctSnWq2G0WhkRgF6sDx1jhaX9+FwGH6/n0m3dPsgTYMufXkdI33/tSY7hegUKIDUzwy45AtGd+eIZzhQiAEtAWnIfwret4x+52MfXkuIQ5rPG++awUtVVIfG+7+J26zob7S+6DUqkfEkx8ck5PPB71kXl8u8Nf9aGx+VpasCBZhd2S3GfKPGBV6nxFun+eUtfw8d5PSer2Iwy4EnMz5//C4kOUumnEVdJHq+3KI0JhouRNLkLazie7+KpatCdAoUQN7SP9uySrRgiqQgSjc8eAfsrwJy76TfRfcNMc+iK5SYnhyZ8d/F38UoPrP9RklfJM1rCYXoFCjAzH2VwLRTLL+RHLh0LoQooQFgujzx3A7eJYXf3cBLhteyHKJUxLt78HmlhMNLqeKzfN7FeuKvi5Icnxf6WZR6xcOv5VQD1wqKjk6Bgt9DXEqJrhOUFC53MNTlpBHR6firWrpebqsYMHMvKiDdfknBS2n0Gq9j43dZUOmXTx+Q6j5FPaVc+nJkey2gEJ0CBb/Hl1n7LufrdaWWwq/CssinDchHARHffaX+a7M9K/4+3/S/KihEp0CBgiUPRUenQIGCJQ+F6BQoULDkoRCdAgUKljwUolOgQMGSh0J0ChQoWPJQiE6BAgVLHgrRKVCgYMlDIToFChQseShEp0CBgiUPhegUKFCw5KEQnQIFCpY8/g/MiETwCGGINgAAAABJRU5ErkJggg==)"
      ]
    },
    {
      "cell_type": "code",
      "execution_count": null,
      "metadata": {
        "colab": {
          "base_uri": "https://localhost:8080/"
        },
        "outputId": "f7d6196e-695d-4bcb-da4b-963eae46cb3b",
        "id": "nysK4I1yPrRz"
      },
      "outputs": [
        {
          "output_type": "stream",
          "name": "stdout",
          "text": [
            "Specificity (Linear Kernel):  99.57 %\n"
          ]
        }
      ],
      "source": [
        "specificity_linear = cm[0,0]/(cm[0,0]+cm[0,1]) * 100\n",
        "print('Specificity (Linear Kernel): ', round(specificity_linear, 4), \"%\")"
      ]
    },
    {
      "cell_type": "markdown",
      "metadata": {
        "id": "3hfzXiBGPrRz"
      },
      "source": [
        "### Sensitivity"
      ]
    },
    {
      "cell_type": "markdown",
      "metadata": {
        "id": "hKTB7uz-PrRz"
      },
      "source": [
        "![image.png](data:image/png;base64,iVBORw0KGgoAAAANSUhEUgAAATsAAABaCAYAAADHA/GMAAAAAXNSR0IArs4c6QAAAARnQU1BAACxjwv8YQUAAAAJcEhZcwAAEnQAABJ0Ad5mH3gAAC1NSURBVHhe7d0JuHbV/D7wLWMIicxknkKSqaJXEY0qZU6lK5KZjEn/KEPGJGPGTCVllowhMs9kKvM8hczs//6s3KfV/p3zvs9z6pxO56z7uta11/hd872/a9jPc5F+QNfQ0NCwzLHW/54NDQ0NyxqN7BoaGlYEGtk1NDSsCDSya2hoWBFoZNfQ0LAi0MiuoaFhRaCRXUNDw4pAI7uGhoYVgUZ2DQ0XEP773/92udPvyR17DPznP/+ZsQP7v//97/KUJukgMmNqP3L++c9/Fj9I2oQl/nJF+4KioWGREZK56EUv2l3kIheZIZy11lqruOspyc4v9totfuJGjmdkMEhMPomb+NwpB6QsyxmN7BoaFhmmXIjmYhe72IxfTVI18YyJKmGJFzd5s/nFDuyRU0MeiFE4+3JEW8Y2NCwyQihzEVj95B/tS5oxEUUGExk1aGyQOFDLZB/nvVzRNLuGhkVGiGcuwqvJh7E/d/GLX7z4x49J+mhvITbgx4yXp+Jzk1nnEw1zOaORXUPDIsJ0i0FWCKfWsv7xj390l7jEJUo4ICv2Oh5I+69//as8EydGXP5jWKYiOcQmnBukJzvlWa5oZNfQsMgw5X7/+993Rx55ZPfVr361+9Of/lRIJkQznpLIKcR005vetNt55527zTffvJCTuN/+9re7E044ofvkJz9ZZPBj2BGZtNe85jW7293udt2d73zn7iY3ucmMZhdSTDpPZjmi7dk1NFwAQHDHH3989/nPf75be+21uzvc4Q6FwK5ylat0X/va17of/vCHxb7VVlt1W2yxRSGir3zlK93Xv/71ooWF/BDT5S53ue6qV71q96Mf/agQ3m9+85vuete7XrflllsWcrv5zW/e/eIXv+iOOeaY7qijjirxohWG2Gqtcbniov9vwP/sDQ0NCwyk5a7bj3/84+4lL3lJd5vb3Kbbc889uwc+8IHdbW972+6Pf/xj9+Uvf7m72c1u1u21117dHnvsUYjwzDPP7E4//fRu/fXX7+53v/t166yzzgxZXfayl+0uf/nLd5/97Ge7n//8591d73rX7qEPfWi36667lrQbbrhhSY9YaZI3utGNuutc5zrdpS996VImMpRruS9jm2bX0LCIQCp/+ctfiqZFo7vnPe/ZbbrppkU7Q4K0urPOOqtodVe/+tUL+VjG3vjGNy5L0Ste8Yrdta51rbKvJywamTghrKtd7WrFJO21r33tbtWqVd3GG2/c/fnPf+4+9rGPlTKIL73n+CBjOaKRXUPDIgIZIbOf/vSn3SabbFK0OcQGyO673/1uIaJ11123aHGAjK5xjWt0t7jFLbrrX//6hZjAUhZBcUtreYrckKFlrXT8ERpNMIQqnoMQZWEC8ZczGtk1NCwykNj222/fHXrooWVJiXDsoTm0OO2007rLXOYyRRujxYXQuPfee+9u9913LzJqbQxxSUtbRIZXvvKVS7gwV1bYkatwy10aHq2SP1Pv/y1nNLJraFhE0LIQkCWqvTTEFsL69a9/XZaZDhcsQ3O3Thrxrnvd6xatDTkhKfCkCdqr++tf/1qWuzRF/rQ4QKSWx4x9urvc5S5FyyOXQbaeyx2N7BoaLiCEtBCNgwkHENzI7kpXulKJk2Wmp7BoYTX+8Ic/dN/73veKHJoizVHcv/3tb93Pfvaz7kMf+lB38sknF7cDi1vf+tYzhxOB+MxyRiO7hoZFBNLKnhvNKwRGq3O1BOzPWcKG4DxpeOIhtPowQdjvfve7csoqjL/l6re+9a3i9/73v7874ogjujPOOKNcYdlnn3269dZbr8iQFty5S5mWM+G1S8UNDYsIhGTKjcnF/bgDDzyw+/SnP9296lWv6nbYYYdCeIjIyWuIDKSxNLXMRVjvfe97uyc96UnlcrG9OECMwix/kZxT3zvd6U6FSKW95CUvWcLJZcha7mhk19CwyKgJL18ynHjiid2+++5b9t6QlwvBTlZDcHlCpmw0sze/+c3dox/96O6GN7xh95jHPKYcZogjXB4OJZzu2qfLp2i1vCAEGbnLDW0Z29CwiBgTFdKxX/eTn/ykfFXhgIFGl3t0gByBW/oQGXLytYRlKz8HHq6z3P72ty97cz4Pc7XFPp49wBAdI61n8uBmj3s5opFdQ8MFgBAX0nLAgLAAWdHEIMSTZ4iqhgMIX2NYltLsLnWpS/2f+EztF7CHSCFxlivmTXZ1owWz+TWcg4VoHzKnlZv4rb8WHwiFyVIWaHY0NIR1y1vesuyzpV+zrEwasDQV5mnZ65Iwrc0prj07cZOuJrNAOktkIEf8fIHBLFdMTXYag8qbRkzjcNd+40YTVvuNw5cilDHljn2+qNNH3ursk4LM9MdcaWt/8VKO2t6weNDmDglCfDQzV0cQ1gYbbFCuhdQE5wkhMEifSuukNWRHswPp7AdGDngiuoB97I785YipamZSQd3omWgaMn7sjA4R7oi99hN/rom5lJA6peyM+qTsqcskiKw6LVmRmzZhnxTSkJlBmrTk1GYsk5t/0rA3LB60O03q73//eyE9S1G/csLPxWEaXsaV/jF/MvcgfcfP8pdBdvmUjH/ySP+2Pp6HZhekATVq7R4TmcbWAfHLk/9Sx2xEptzMfMgJxvX39o2caWTVcsbpanfs9eSp04z7q2HxgIx8xvWd73yn++Uvf1n86n7Ks36Zxd+48UVEvqUly9cX6cuMqbG8lYypyC4NriHHk22uxuSvs6CeVHPFX2oYk4E2qN3zQdJHVtzTtEnd5pEROVCHwzgcavc4rGFhYVz5nvWd73xnd+qppxbCYo499thyIZg9/ZdxkrGI6OzVHXfcceUiMjdZr3nNa4p/CC5pGs7GVGSn8TWgpw6Aelk3nmCxa/DEvzBBmTPAUsfYU7d6eTEJ6oHLeBHMd0DWbV2XEeKOqeNC/JVnHNaw8DBu8tWEMeCayA1ucIPuE5/4RNm/88sokH4SP2MRuUn7gx/8oJzcOsH1Le1JJ51U/OvxlPHGrHRMfalYo5scaUTf2+U2djqkVrv55ca2+PwubJNLuTPQLBeC1HeS2+eRES3Xh9/S198oisNou0mQ+OM2TV4Bd13uhDPZ12lYPOh3hGWfLW2fvkzfp/+Es4/HRPylYa/D07f8jTfzT3jG3krF1GSXTgENmEZNw6dBuUFYUNth7F5qUJ/UDdgZ/gYsqO+k9Ug67VbLJWOcx6SQrk4jj5R7jOTNiAPi1faGxcFs/V33Xd0X6eMa+rIee9KJV48txsus9e/ZmIrs0hGeSRbCA340lu9///vlOz0bqE6a0sh+jcGJkV9dYGptYykig0e92D0zeFLnDK5JETmzpeE3jSwgL+nIrSdBCFkZ2et48Q/4Nyw80vZB+iVKAnfGlL5lZutPcvJkSv+R/b9+rPOp+3klY2qyG0+u+vnb3/62+8xnPlN+UoZb3HSeX2bww4S+0dtpp526RzziETMdvFSRpvGMUad3vetdZUPY5zl+UltdJ8FYnuWF2/Pve9/7yneLt7rVrcrnQtNgPDm4LavZ7fs4rfvc5z5XftLbJ0R+8SLlkKYu+6T1aJg/6rYHy1n2zAX9FnJiF19Y7DAmL/7jvktcaGR3Nqb6wx0NqnPSAdxpaP7+KMTPyfgFB9/n3fe+9y1/JLLNNtuUfzjykzO+AfTDhXe7293+J/UczNZpY4zjpFPrsgD72A3jeKtD4ia+J3J6+MMfXgjKL8L696YxfONo45mWa6/S3oy0GcjJW7wvfelL3WMf+9hyOdSFUn+VB5OUsS5bHVceSO9Xv/pVIeaDDjqo9Bcy9Y1kysAoo0upTvFcSFXeWtbqyiEsEGdNcecKmw+S9zQytf/5WYb5QP51GeKO3zgsRJWyj+ddbfjV42vsvjDh/B4vMDXlZ5ABu04AmtsXv/jF8iOBW2+9dXf/+9+//HOSz1doGv6r8u53v3v55yPf8EWOZ23GqP3ydmOSb9zx8wSTPb/UCglnhCUe1PbECQyWDBjEYFnuUMbH1W6sJ25kcCMwP9Fz+OGHz/wgI9SdR6Zflv3mN79ZSAbJ0b4CcqRj6vKMQU7ikR8NwZOm7cKpE7uNNtqoPMUHMsVXn2c961ndox71qLLtkLap844d4geedfzEhTpeHV4j/pOilkEr9oINIidxUpbYGfE9lxL0QT0u5oL+TN9BxmSNOjxjYRLZSwHpo/RjbQ/G7mkx7wOKDBoNym6p9LrXva7cGzJ5tttuu5mfh04n+P7PgHMCeYUrXKH4QV0EdhNImkzcOny2zktDpXPTUBkQSZ+0cecpHnvixpCT00r2TBZakHBLcoYfI3+XQ/1h8ZOf/OTyG2P+9g4pip92ICcyaXfaBRFpk/weWfJnxFUO6SJn3DYpu/iewpEzTVQelq/yyBKXIdPPA73yla8sf8iCnN3gl1Z44KZ/TtyTf8Adw98LRvrsbSpX4gXxmwbJQ9rUtZYfv9quvep2SvkhchqWHtJHeEAf6bf06Xnps3NG7QTIBEgBars3rUmhgJZP7JB4Bp4J51+P7E/VGgEZtTFAPVPpgDuTmTx5pkHGaZKvcsSvliduQGbcnoz0ZKac/ExgWhjyQgrIQ1jiusFuz9ISl79lKRKJ3OQvPoN4tAl5XgxkK0vaOXI9+Y3d6g9kcyurMIbd8tn9K1pofp02dRHunpbfUbOEtrwVV9rEiSGHPwjT9kHixK6N5BOIKy9IPDJS3tR1TUhadZYm+aass0E5Eq+OK/2k+TYsDvRHxoUxw56xDNwx88VUml0GSAaXpLFbAr3hDW8oWoLf0LIssp9lkklnYJsICs8dWRmQwpGF2+O+E7QspiXQdPyFnP0mvwaRv6H7whe+UJZp9s38UoQ9QY1kX9BJsF+S8LtgltJIJ78GkcGuHLQwJ8cmPe2Kn3AE5QcQ/VExEnCbXf0sTwP7kNlfU3aXQe3T2a/0a7PqYimPFJEYkveDjOT5lQr/7K6e8hOWX5HVpspHI3O4oHxk2ee8xz3uUWSpp8ujymQPlAanfdRVG/v8yB8ik6HN/CGy7QPkKj8y3/3udxeSe8973lNeTtLf6173mukffaddydDWyqxstiAcdHhhZejosw9+8IPFLb1w8mjwysqPAbKVATJ+ErY6iMto61pe8uRfy0p8hj8TN0yab8PiIHygX9LHdd9lzrLPF1MfUGSwjDNmRzD27Qx+4SamycaE6BIXyOKH1Ew8hEErsiS2l2XCfvSjHy2T0Smlfz43ue0LimOiIiCyaS/SIBxy/Pb+xz/+8VIGYQisLq/TVH8W/IEPfKD8kzryQS40Mwah5p+aLAOdML/61a/ujjnmmFIuBzAIlkzaBg0JySFbxGlJqn7Ki1zszyEAJOGGvIMDy36/SmsP0FUce3bIAcHIQ92Q0jve8Y5CyP4VSlsiafXUBkhGOCIj33JTmBfP2972thJHG0srDPTP61//+vJSsGenjYSxO6zQDrRNLypto17qx+gLL4FsUYCDKf9u/6Y3vam0OYIP2WmfaHrip889kbR+V175rsl4OYjvGaOtvCzGpAryyCRKGcak2LA0oE8yP9NXNQHqyzrOvDAImQpDAWZMMEz2fiCsfpg8/YEHHtivv/76/TD5+kEj6w855JB+mCD9MBhL3GGwzdiB+/TTT+8PPfTQkm7TTTfth0nTDxOvP+WUU/odd9yxH8isf9nLXtYPk6o/9thj+yc+8Yn9QCj9c57znH7QPkqcgRT6nXbaqR8IrKR98Ytf3A/Lr34gyH4g4JKXMsvPcyCZfosttuhXrVrVn3DCCf2w3O0Hsu7f8pa39FtvvXW/4YYb9sNE7wetrqQdNJv+hS98YT90RL/VVlv1AwmXepAXnHnmmf3BBx/cD9pbv8suu/QDYRb/5BtwS3+f+9ynHwihf8ITntCfdtppJWzQaPuBwPp99tmnHwixP/zww/tNNtmkH8il1HEg6VLegw46qLTPQOolnCxusvXFa1/72n6zzTbrN9poo34g1X4g1FKG1F+9tMFAsqX95CWdMPAcXir9fvvt1w8vglKmHXbYoR80u9LHA3nPxB207VIfbT1op/0b3/jG4l8jeQfSDKTaP/3pT++HF8NUZtDm+0Fr79ddd91+u+22K+VmavljKGvCx/3WsDSgT2puAP2WcSYs9vlgqtfbkFF5hl25BxkzrEsb8Dv6Nrqd/nnz+jh5IKdyKkgDyttXGun5+4ORYYIUjeFFL3pRt+2225blKU3OclJ8b3CagqXc4x//+HIw4A1Ao/HWp43502HfCbq8bElo+UajGiZCySvl5vepT32qaDIuObsGY1+KfHlb8tF2aFr8A+WQX346O/WgoXjSOhxe0CJpfrQl/pC8tcHQaUV+Dgws+9Vn6Oyi+bm797jHPa4sbXMAIr32Eb755pt3D37wg4tmKS8yBhIoZRKXpqvtlF24pae2Ij99pU2+8Y1vdANBl706fSddHUe5BjIqmpr66AtLev2q7mfX6eylJXnawR+7KCcZqTuID5Gv/uQ98pGPLKuBSY0ltQ/naZy0X2NHuZnkoQ3SJ5BnwtMXKWMzF7wB/ZK+gdqf/ZwxNz9Mfam4hkGlAPwT5omY7F1ZXiEVE80e3q677lpICFIBv9xgn0+avfbaq3vAAx5QJrQ0BvSgoRU5g2ZXrnNk+SRvF5Mte31A7Y9GXHkx8cGS6ilPeUqZyIjU1Zc0JrJ5xjOeUZakLgZbyduf4q8+rouY0MiGPH6Wdm9961u7QZvsBg2vkKK6KKeyeH7kIx/pXvGKV5S4z372s0v6LOUy0Ux2bsvPI488spD0hz/84UIQ8ko7Kgu3F8dhhx1WlpSW0uqTTXrGslF57AciDvlJq00tZcX3RJpkyxsshZ/61KeWZfzDHvawQq6WyKmLeCmLJ/OCF7ygvLy8iHx0nn1QS3XL8QMOOKB7+ctf3g2abykvkCdO8iWHX9qjDlsdpJFW2dJPQdKLA8LG+dqmeOYzn1nsqdck+TYsDvSZjw2GFUqZI15edT8x4z6dFvO6epKnzBUKMhgzCO1zITqk4zoKMnnpS19aNC8Q30kprc9Escfz/Oc/v2zE20+jJdmvsy9Hw3KNgwwagXxMeI1jv4g2gbwQITjcMCnJQ5BPe9rTyiEFpKHs6SFS2p39LERp34xWmL2tQBr7VogMOTN3vOMdCymrr3AddPTRR5d8lQ3B0ixDvlB3EgJCUtoBYfun9xriOoxBmojer2JoSySi/sK1MVKzv0jjdd1HmLLsv//+hVBpiUcddVSJL4wBBOVAwkGHlwKNHBIO0iQdDEv80gb2JPWZMqufvUVhSJ52TeNESiAtGTXGg3YcPhvISTr2jLOULf4J40588AIblvbF3rD0oJ8cillV6bd6/IA+HY+baTFvsoMwcDAWZTIef/zx5W/eLH9oAyojnmWPJd8ee+xRNDgVpV14a+fna2zsy2O//fYrSypLM2mRiQm3yy67lM19SzpfIYCGsOHtMMEhgLxpizaxhaWMyoaY3ImTHy1t55137jbbbLOiKSIycTOp1INWhxzJRbzRxMhVThoibdHS+Nhjjy2akk7TSeko8pQZ0SIOS1J2p7TCGRAfiT3vec8rZUTa7i/moEU7Wb4ffPDBheQQtjpIZ5m+++67l/bbbbfdyv+RSiMs7edwQl8oqxcOrRuE12UFdWOngWpXy0canFNX/Y9Uab077rhjIV2aX0AOmWknBriVUx3VY1JETkBjNTagll1PjqAOD8Z+tbtOW2Mct8Zc6VYnby7MlmZ1ea8Jtbw1yZkr79XFD8SZK32wujBIeMaseTSbzGlwzlpgQqRQMjWgDFgaiAkEwhMHYdiXoVVl4oC04jjZk16YvRikZT8OsdhzQWaIwESutShkgdA87Z9ZAoJJSW6I0jKLtmZpF6Sx7HFZvtEIEY5TVGRlD8ipLqQuiMWyD9G5bmJvLESXzki+SF195Zk6yzP5il//lPbGG29cNMnEjSxu+2naFsHRlhALQxaCRjrsykQjls5LhBbjWg5N10m0OMI8DRpEj+yUJSfOQfJOeWogZJqvvvai8rTc117sruNoG/nEpD61G/SVOngpeOFNYvbcc89u7733Ls/4eQEoa/peHuOy8084qHftBn7pSxDOPYbwmKD2q/0DfrXsSZD4SRM7o2zxmxTj/Mf1H9tjAunTHrV/wM88ST51+WPSpnEH7BkfMYG+jJZX+88H/3dErwEZSAptYlu+IAhLGYURzqQy4wqkojGAbBxMmLz2pWhc9n+23377sueUBkpjmljIyaS1VLSBzh8RiIN0THiaVX0FIiZ1QDK0E9qRJY68LM9csZBf3iYmtmUfNy2C3JSFnyfysO+IDBAIf8STgckdQxbypKk6PKjby1MZyRSHTMQqzwwW9+5cKbFs9qUGQtMmwpXL1ZIcPNDcgExh4gjzowzKp/1yFxKUJfmA8sQgO8Qo3FaBPO35uUqDhHLJOmkDMuUvLGXUDspHa5/tIGI2Y3zYTrAS8HJkjD3ISyDy5ZV8PZn4yzvxlVUadv4pJ3vCuMEz8oA8SBrxE5ZyMPEXb1KkzBAZUOc/rTxImdUPUm7+saeesSfvpEm+/NUTyNem4hsXMJYnPDL4R+409TgvOLsFpkAaXgFVioblvhqC4Z/GFI6M7L3RMmhn2bQWFgM0MGGWmvaBTCiaF03K50wmZjRAhrZj8CNbE8aeHlkaVWPSGBECf1pRBrY9QhPEHp/y8rMHSIa9LSfIZLgvKCyTwJKZQY6WuDQy+SRPiJaKWE16bSFfE9NhDU1OXGWwt2X5Ji555JIVk8FBnvjaR7uIh6gsJ10oftCDHlROURFhBhIC8+JRh7RpIJxsbaM8ymgZKD3op+xjQuqWZ8iORi0PLwb9izC9BJBy2iWQVj6pk/6LPPWhCeqnNRlLdMZKIX7axMsl8oB8ZQjq/NM+NYGlzZnEZbjHdRnHqSEsdWNSDoY9aZlJIQ9llZ4JyBJWk+AkSBlruyeTujLB2A2pAyMs8kKW5BiLkZ1w9cAXSRe53OrgudCYmuzqgpqIljC0LAaBWH6qFG0ICXoTmyR+/cRSK2k1ir0dZGM5Y98GeQmnzTjcoDXQ0JBC3RnyMNn5kxHNDRKu8RCdTiDLqaelrXwcTthn8lWATmCQiPwtl03AyCLHgQny0IkIRFwyHY6YPOkwkDc53NrGIYsvGlI+nU+eF0EmuzI5Va3jARmMNIiEBuWwRztbujpUyYloBpe6IFLl0i7KphzaEmGLU+fhxaG8lqO0anGRbOokrrbn1lfIBeFpfwc18thiiy1m9ukiW3ymzgvWGtylrINd+LRIPdM2kc+e/MZ5Aj9pk75G0sSAdgTxIfUJIgtqf+UI6jR5jvOeC0krvnxSvyB1n0YeiJ8yJg9GHnWcPNMO7AmvEf86LZM84maCOu44z4XEVF9QQAqukDQEm/WWNBqFm3ZgMtKgLDtMaktFn04hirpRTR5xTUITzgSlKZhwNDek4lMx6WlT0okjjWsbJrw7ctmXAo0sX8TAz+SkhfBHLojGEtCENtERLc1RfrRUV1Rs3OeqijxpQZaGymZSKyuCUib7c0gQySm3uAgWCbjuoP6WkvWemyVvtFWaCqJBUDRC2op8ldcLQ5loWrRPLwGETRtURnWD1N1TOaTRRohbGyu3JbHlPo3ZS4pbeZVHeWmm4tEUHb5YYkdm3Wf6V/nVTXs6HFEW+YjLiMvUbih+g6xCEpW/OGtC4kRunXY8sWqM3fKeLU4tTxwySzkHJCwQp5aRMsUOkVmHjdOtDknnRQPmV9LXecRMg8iuyxd3La8Oj3vcfrPZxUv78Yt/7ON8avtCYmqyqxtAZZCPCWTy+EyLxmSZhWwsNSwZ733ve5c4JlYtg9s9N09kY7Oa1kWbM6GltfxNOg2IrBAFMhWGCGkaGRTiICOTUjwT2oXYVatWzRCGgeNJm0LWnojFt6U0UHuIiAzUk4aImMii0bFvueWWJV5IwXIRiZCDXE855ZRCLn71RBmVL5OHlobIEah40pKnLULq6sEgIPXQvpaL2sS1F8Q422DxpC1qQ4RkfxDZ6oO0k/zVSVvS0MTj5zSVQZKRpwy1bC8m7aDse+21VzmUoLGLFw0w8YGdEV67x/ZJUcvRntzGoPKP5SoL1O2p3aNZezlze9LcY68NP/2tbhljoK+92IQbb4nPbmx5kSqXPJXTGE55JqnzuA4hDm7jl7y6LdaExJFePbil96KzLeGln3qok/Zg1J0/u3pxy7suDxkUHuFJYxxn3gbia3vytX/6wOok8hYSU189UTGF0mAaS6d6WroKU2h2lTUAPfPWD2q7hk5aRkdKw9AcNJhwcjPYDCKNqpHEkY9w6cXR2OSmY+UvXsomXJi8PFMfeTHkMZABQWOSbwYazS1xpCc7+YrPTxx5iy+fNDUZJkvKmHhkpDzs4mlf8cbyQNnEEyad+Ay3dMohXFval2PnJ504yqs9QF20p7jqmvYgVxx2aVwfcveP3bUYWqAwsqFOC6mPJ7BDyhD3miA+kzKBJz/5kaN/PMXhL1y5UjZt4kDHy83kBO2l7p4pU+SDtFYQD3nIQ8qLQB9oQ/uwLmXbCpEOpJOePOkcVNF6XRuyAsgYnASpm3LpE+5xuaZByqh8ZAIZyu/7a6fagTjC1EN/cmvjwEV3yoOVmjb18vODtl7M4lJUfERg1ZWXsrIb8w4eXb63kpCHlZKrVRSDaes0Lab+gqKOrhIasS5k/DxrGCAZlJFR22E2N1MPJiAnedSyEg/majjxx3ITV1gdHtkgLpNJXA8Y8TIY6jQQeTVS9qRNXnXc2DMJa2Kt48YdiKutM+ESlnjjvGs38Is/JJ4nLdTpu2Wyu3vRMIOkSbmAn7RxB8qYfMdhsyHlSllijwyoy5x6MWlD5I58aP20cpORFmyVYFUhrn1QPzILvtyxSjEhDznkkHIXNP2PLE1aX63QaNwccFcxBya0cWltd1hZuGxt71q/TFJfSB2V3fhih7q+qeMkSHpgl86L1GeDLuCrj/Lnk0ny09b63H6xlYC9+PzCjhcMwvOjE+5gCldPbevLH1p/8tPn5LivahWI4NyP1XZWGpPWY76YnRFWA5WvGzgDK40Xv7phIelqJE38Z3PnGX+GO2F1/OThCXX6GokPwkJcdVp1gjqf1Ivhrg3UcfMc22u/yArqsDzlmZdE2hkSV9nHMlIHSLzEEcYNqSOMZVhqIAEDHEk4vHBx2HLa/Uen1wZojeQd+TXIl1/yFGe2eHMh8et0sZOtHdhTd/a0FzvtVNmRlJNjl61paj5ts7w3cW0TcCM7xsGLPVVbFbS79IM8TGhkn1UIDdcWQ8gS8flaiDZDC7Ts146TQrmZuj3tRfu1GvdQo5FPg8jRLrHT5m032Ru3atAG+jb1cEmc3aePrnG5KkWjU2dA3rao8k26dmHcQrA0RoYgP+1HBgK0N639bINYdaQ8C4mpyC4F8qzN6pDwDBTwzKCEWk7scevwYBwGtdszgyODZRw3+dYDqc6jRp1WXHWApI2sOt4YwhKefOq08avjQdzjfKGOy6+2Q7S6GnPlI17tBnHtPXrT+1LCVyE+S6MBuMBtHzKXvCHp6zyTz1h+ysF/trzXhOQxTk9uZAd1nS3HaFmu2tgftY9qktI2nIIjd5PYZE86S0/7nfZ6TU79kDzFyYsGWboWo01AOAJBgGTYcnGoQwOCyM8zqN3sccuT3Y2Ht7/97WVfO0t2GKerMQ6LGSN1sX/MkO0FwI8dQdH27Glrt/hrE3YE6uXnIA5xGj/27e3LBeIjSUStzVyotzJIny40zpdcMghq1AMxT2CPexynlhG3J/meMRC/oLaDtOLEPg6PW1iWJoGwlGWcNnL51QbG9jHGftwpY43Z0oJyjsPixyhbyj3GuB4wW7vm6a3s4MLVGZ/cuUJkcPqe1sSeK13tB7V/2i7uaTFXGv7aIXU3+Zi0DbsJZslGa7EEy3IT2dG6bMIjOxM9ckxw3ySrN9RtSJYDCiRhb06bQNICrSmfOCI6cWvtNuWs7THyISt2T0j+cSd+7NFmg9qd8Hq8k0f7dKCFQHOHkb+40Zid0tOGfaNuWR+5jDjaQtt5iTho4+fQ0ZZBIK6XjkMK7ZLL8IuF2WdGw4pDBm0GNxIwEE1YBGGfxaazt/ZSRiZgiALUx9LKNRkb8S6Pm6wmt2UtDcQSjvaG8KSTxhLWp2k230HbhACQownObUM+e1NpPzJcKaLR0WYs32h+yJ4Rro1TxiDy+TP6gFt9xI9GR3sXzp66SjtG8mLEC9FJx6QutF5EpM6IO+XISyTupM1Lix+3i/L8aMK0Wf72LB1aSCuOpxcoTVc7a29tI+5sZT+/0ciuocBgNKgZdtqM37LziyzPfe5zy96NCV1rBUsVyh8giEw2daNR5JDA5M4FbJvl0c5CQuqa036kI03kuDJh4oKlLzKVxsT1RB40RocXJjXtz96UsqQ85HvKj4ns9EHixO1Zk2UgT+VLWvJTDk9pY2dSP3Z1VxcnqrRdy/zkyRx99NHl13aEy1ca8qUnN362AsRHlsiOQfZOe5Fp8osGqb3kB2RIu9BoZNdQYDAyGcjevLQ4G9M0IXss3sLClzIysevlETeYUKknYxK6fG0SIiSTL6QSOcAeE7e9KCeLgOws7ZAIcnNp3UGCpzAX6oWH3CCEVxv5xd+TCQnEv3YHSa8ecQN5CYsBz8TVBgjJnmUunUvnMMV9UXuE2ghqOWkbT0t62jEy90LUjvZFlRHh0YBTN6To+o59UOMpZVwMNLJrmIGBF5NBDSaYgVpPsKWMejKO6wGpC8JyVYKmUZMdTaMGv6QlF5G6XO3ARloHBy6nO61mXMPweSJ5fozS6bVl8mxIW6eN50L6hUFUSRcg0oSTlfKKwy8Y188y3hKUP4LL9SLfpPuPFKeqym4/DsiNPE/ascMI9+Zoa16KCNMJLvKjEfrqR93EdyWH9ogU63ItBhrZNRRkwtXaB8Q+1hqWOmgNNTKxlD9kYflG+6KZWH5lQtdxgZud0UZIgbbi6xREQPvxK8guW7trZnlrG8DvM9rvI1u7QiY9OeTFzdAMyUUONCUGOdCGEJKrM8psg18c/pbK9gXZLRGRjvqkvJEfIuUH6WdkR5by2F9D1u4EujDuniFZtDBEBmNZNENlYEd07i3am/TTap7aAuGpm4MQdUKG4pIj30XDUPiGhnNhGITlz0+YGsOALX+utJRRl3HQumb+pCV1EpZ6+XOmYeKVP4c67rjjZv7wRRzx2dMOgwYz82cvAyn0hx12WEm7//77lz8kOuuss/pBUyx/mMQu/jC5SxlAWnJTHs9AvIFAyx9F7bbbbuVPi4al3rnMOuus0w/EWsq69tprn8ufGbSoUp6BYPth+TlTR2BP/ZNv/E488cTyp1MD6ZQ/ShqWtP1AqP1ASv0BBxzQb7vttuVPncRXF0a6GPHF22abbfqTTjppRvZAyOUPsNZbb71+33337YcXQz9o0f0GG2xQ/pTqjDPOKOnrdlhoNM2uoWAYCzNawDBYy9Nb13MYkDPu8RJvqUEZGXVR1mgynjHq4koETUbd/OhDPmtKHbVBnYYmxG8grPLDDA4gHFy4PkGbcZAxkE/RWjzJkCayIG2nbGlbIEd6+6QHHXRQ0RR9Y874bUVPB0W0RBqTJaKf1+Lvmd9g9BcGfpDW6XDdb6kzyDdPfpagluHK7MIwLY5deZzEaxv1S7t4pk2AZkerlKd4ZDJkuKDtGov2sjymgWo/+5jyIYM8ftpkodHIrqEgAzgDMJOBiT3xLgxIPVJe5TehUkcb8iYhf7f/EQ0kfLb6pl0sJ7P0c+poYouXcCQDkRUZZNbuvFQCS2+Xtt1V8/cAjM/afGmQvwtApvYC6/AY8Vz9cOKsHHVeQZ0fwkd2yutuXE5ipZGPLyjcrXNwETIit5aB7CxVkZoXRupIjjuKDmaceLtzJy/LYaSYwy5xU9aFRiO7hhlkwI0HH/eFDSl/npmg3Opj34tmx+5TMJMbxIvmVbcB8KPd5OsAE9ZGOw1oHL921/bkf27J50B44qbMIRDpGFDG2h+SNib+wA21TGSvLg4SXLRG2iCuryG8BBAvwop/Lcd+nsvn5GgHaRJH3siZBudeHbKjAbqcrK3rcmjTyF1INLJrmBMZtOC5GAPyvCJlzmQC9hBY3A4CEJYlpAmJsAIaVx23lpnTR9odbTBaSo1oRzHBudpweCYe/3OFjZCyBOLV9Qtmi5dnjDjSMuqBqCxZaZQOW5KmRtIlLE+aYa7uIDsaZQ2aomU++a7pOKGmeWZZTM5s9VgonLt1GhqWATKBov2YWLQHbhPM5MypJz9LURPSck44AoRM6siTzomnaycm7OoI4ryCzJBXiMHeFpOw+E+KxE07aAOEpw6+4/WclHykR/iu3yDt7PVJzwiXj6WsdsoJspNppCgMPCfN87yikV3DsoOJVk9sJJXJBQjLdQjXNEzUXNVgB5MvaWo5CPPUU08taV2jsDyzjKPtLQRS9kBZQnLCmEmJIvHTNkhOXVwb4e9KS53XmuBbX2lpa9K5s6gd6vIopy0CS9fkm31HkO9iLWGhkV3DssKYqEy4Gm70+wTKT1aZnCbtEUcc0Z188snn+kmipCOPHHGdfvqhS3ffpPP072ZkLgRS/hAIOz/184yZBIkrrcOZ1NmdQfXmducQgU8CbeFHN901pG36A3wXtCHl9bTUp/VZ0tLofJJnjzDlCQknzUJi6p9lb2hYyjBpmEymIHaT2edRJpxrHD6Fc/nVUiuHDbSNmuwYE9J1ExqdpZi0vnc1mS0Bc5q7EEhdEBPCkK88Q37TQF0Quj00ZXb52c8yOUkl08Xqev9yLtjv9AKwB6cNkZn0uVIiH9CWCDYXjZ3wjvf2Ur9p6zItpv5Z9oaGpQzDmcmEywSqh3nCAGGYjGPiSDiSA5O2lhEkbcjx/IT85C9vSFnq8rPX5Z4LSVuXU9nJifxp65LypYx1mcjKtkAgPLLZa/dioJFdw7KDIW2ymYAmXiZkvScHIYlM8po0VucnPXnsDH/x2BcC8mPkkbzHRDIpIocMz8h0OEMm9zSIvIBcfiFQSJm1Uw5/gnFZFhKLR6sNDYuI8cSJ28QC7kxyJOVpMgb8ahni5qZ/SC5p4j4/IT8m9pTFs9b0EmdNCNlETuTzV4+8GCZF0jM5mGDIqNuijofo0v7csS8WGtk1LDuYcDGZUJmAJlmeTPzryc4/aWO4aT6Jzz0tQUyDcVmYlDlh0+Qtbk1C7GSpm3rEPSlSplruuDxp+8Sbrey5ShP3QqItYxuWJTKxQlSZTHEH7PUkhDptUBNFjUyfOv35ibpsKc9cZZkW55e8uox1e4ztTJ0XN21zIV8aNRrZNTQ0rAicP6+IhoaGhiWORnYNDQ0rAo3sGhoaVgQa2TU0NKwINLJraGhYEWhk19DQsCLQyK6hoWFFoJFdQ0PDikAju4aGhhWBRnYNDQ0rAF33/wGJ8JbrDCaPSQAAAABJRU5ErkJggg==)"
      ]
    },
    {
      "cell_type": "code",
      "execution_count": null,
      "metadata": {
        "colab": {
          "base_uri": "https://localhost:8080/"
        },
        "outputId": "e31b7f4b-fd44-40f4-bc04-278744e337c1",
        "id": "h9OrVA-xPrR0"
      },
      "outputs": [
        {
          "output_type": "stream",
          "name": "stdout",
          "text": [
            "Sensitivity (Linear Kernel):  80.6584 %\n"
          ]
        }
      ],
      "source": [
        "sensitivity_linear = cm[1,1]/(cm[1,0]+cm[1,1]) * 100\n",
        "print('Sensitivity (Linear Kernel): ', round(sensitivity_linear, 4), \"%\")"
      ]
    },
    {
      "cell_type": "markdown",
      "metadata": {
        "id": "rMTU9SAyPrR0"
      },
      "source": [
        "### Classification Report"
      ]
    },
    {
      "cell_type": "code",
      "execution_count": null,
      "metadata": {
        "colab": {
          "base_uri": "https://localhost:8080/"
        },
        "outputId": "f0905ef9-b66b-43ea-df78-cfd354e08095",
        "id": "KrWc1q2FPrR0"
      },
      "outputs": [
        {
          "output_type": "stream",
          "name": "stdout",
          "text": [
            "              precision    recall  f1-score   support\n",
            "\n",
            "           0       0.98      1.00      0.99      4884\n",
            "           1       0.95      0.81      0.87       486\n",
            "\n",
            "    accuracy                           0.98      5370\n",
            "   macro avg       0.97      0.90      0.93      5370\n",
            "weighted avg       0.98      0.98      0.98      5370\n",
            "\n"
          ]
        }
      ],
      "source": [
        "print(classification_report(y_test, pulsar_y_pred_linear))"
      ]
    },
    {
      "cell_type": "markdown",
      "metadata": {
        "id": "-j6MT-ZaPrR1"
      },
      "source": [
        "### ROC Curve and AUC"
      ]
    },
    {
      "cell_type": "code",
      "execution_count": null,
      "metadata": {
        "id": "Syd-ERQgPrR1"
      },
      "outputs": [],
      "source": [
        "y_prob = svc_model_linear.predict_proba(X_test)\n",
        "\n",
        "y_prob = y_prob[:, 1]\n",
        "\n",
        "n_classes = len(svc_model_linear.classes_)\n",
        "\n",
        "fpr, tpr,_ = roc_curve(y_test, y_prob)\n",
        "pulsar_roc_auc_linear = auc(fpr, tpr)"
      ]
    },
    {
      "cell_type": "code",
      "execution_count": null,
      "metadata": {
        "colab": {
          "base_uri": "https://localhost:8080/",
          "height": 295
        },
        "outputId": "f5dff390-349b-4c96-c9bd-1c0896feeda4",
        "id": "YHZItPw1PrR1"
      },
      "outputs": [
        {
          "output_type": "display_data",
          "data": {
            "text/plain": [
              "<Figure size 432x288 with 1 Axes>"
            ],
            "image/png": "[encoded data removed]"
          },
          "metadata": {
            "needs_background": "light"
          }
        }
      ],
      "source": [
        "lw = 2\n",
        "plt.plot(\n",
        "    fpr,\n",
        "    tpr,\n",
        "    color=\"darkorange\",\n",
        "    lw=lw,\n",
        "    label=\"ROC curve (area = %0.2f)\" % pulsar_roc_auc_linear,\n",
        ")\n",
        "plt.plot([0, 1], [0, 1], color=\"navy\", lw=lw, linestyle=\"--\")\n",
        "plt.xlim([0.0, 1.0])\n",
        "plt.ylim([0.0, 1.05])\n",
        "plt.xlabel(\"False Positive Rate\")\n",
        "plt.ylabel(\"True Positive Rate\")\n",
        "plt.title(\"Receiver Operating Characteristic Curve\")\n",
        "plt.legend(loc=\"lower right\")\n",
        "plt.show()"
      ]
    },
    {
      "cell_type": "markdown",
      "source": [
        "The area under curve is 0.97 for linear kernel."
      ],
      "metadata": {
        "id": "zE_wYywpPIRk"
      }
    },
    {
      "cell_type": "markdown",
      "source": [
        "## Polynomial Kernel"
      ],
      "metadata": {
        "id": "Z6ihGVqQR_Kr"
      }
    },
    {
      "cell_type": "code",
      "source": [
        "# Select the optimal parameters by cross-validation\n",
        "pulsar_tuned_parameters = [{'C': [0.001, 0.01, 0.1, 1]\n",
        "                     }]\n",
        "pulsar_clf_poly = GridSearchCV(SVC(kernel = 'poly'), pulsar_tuned_parameters, cv=10, scoring='accuracy')\n",
        "pulsar_clf_poly.fit(X, Y)"
      ],
      "metadata": {
        "colab": {
          "base_uri": "https://localhost:8080/"
        },
        "id": "YaDqHDE_R_Ky",
        "outputId": "87e1a15a-9c00-4960-984b-c996a3460858"
      },
      "execution_count": null,
      "outputs": [
        {
          "output_type": "execute_result",
          "data": {
            "text/plain": [
              "GridSearchCV(cv=10, estimator=SVC(kernel='poly'),\n",
              "             param_grid=[{'C': [0.001, 0.01, 0.1, 1]}], scoring='accuracy')"
            ]
          },
          "metadata": {},
          "execution_count": 150
        }
      ]
    },
    {
      "cell_type": "markdown",
      "source": [
        "The  GridSearchCV()  function stores the best parameters obtained, which can be accessed as follows:"
      ],
      "metadata": {
        "id": "_4v44ISvR_Ky"
      }
    },
    {
      "cell_type": "code",
      "source": [
        "pulsar_clf_poly.best_params_"
      ],
      "metadata": {
        "colab": {
          "base_uri": "https://localhost:8080/"
        },
        "outputId": "e4ebcc9a-f591-4459-de91-585e6ffe844d",
        "id": "nbqmD8H4R_Ky"
      },
      "execution_count": null,
      "outputs": [
        {
          "output_type": "execute_result",
          "data": {
            "text/plain": [
              "{'C': 1}"
            ]
          },
          "metadata": {},
          "execution_count": 151
        }
      ]
    },
    {
      "cell_type": "markdown",
      "source": [
        "c=1 is best according to GridSearchCV."
      ],
      "metadata": {
        "id": "wwwBl_o5R_Ky"
      }
    },
    {
      "cell_type": "code",
      "source": [
        "svc_model_poly = SVC(probability=True,**pulsar_clf_poly.best_params_, kernel='poly' )\n",
        "svc_model_poly.fit(X_train, y_train)\n",
        "\n",
        "pulsar_y_pred_poly = svc_model_poly.predict(X_test)"
      ],
      "metadata": {
        "id": "JyzxpnDfR_Kz"
      },
      "execution_count": null,
      "outputs": []
    },
    {
      "cell_type": "code",
      "source": [
        "svc_model_poly.get_params()"
      ],
      "metadata": {
        "colab": {
          "base_uri": "https://localhost:8080/"
        },
        "id": "jmJIDAtuWgLD",
        "outputId": "7b908376-83e7-4953-b308-e090675a3493"
      },
      "execution_count": null,
      "outputs": [
        {
          "output_type": "execute_result",
          "data": {
            "text/plain": [
              "{'C': 1,\n",
              " 'break_ties': False,\n",
              " 'cache_size': 200,\n",
              " 'class_weight': None,\n",
              " 'coef0': 0.0,\n",
              " 'decision_function_shape': 'ovr',\n",
              " 'degree': 3,\n",
              " 'gamma': 'scale',\n",
              " 'kernel': 'poly',\n",
              " 'max_iter': -1,\n",
              " 'probability': True,\n",
              " 'random_state': None,\n",
              " 'shrinking': True,\n",
              " 'tol': 0.001,\n",
              " 'verbose': False}"
            ]
          },
          "metadata": {},
          "execution_count": 153
        }
      ]
    },
    {
      "cell_type": "markdown",
      "metadata": {
        "id": "obDsRbxMR_Kz"
      },
      "source": [
        "### Accuracy"
      ]
    },
    {
      "cell_type": "code",
      "execution_count": null,
      "metadata": {
        "colab": {
          "base_uri": "https://localhost:8080/"
        },
        "outputId": "2ffd118e-007c-4aa8-b72e-ada3137bb68f",
        "id": "yXI-nVHHR_Kz"
      },
      "outputs": [
        {
          "output_type": "stream",
          "name": "stdout",
          "text": [
            "Accuracy (Polynomial Kernel) -  97.2439\n"
          ]
        }
      ],
      "source": [
        "pulsar_acc_poly = accuracy_score(y_test, pulsar_y_pred_poly)\n",
        "print(\"Accuracy (Polynomial Kernel) - \", round(pulsar_acc_poly*100,4))"
      ]
    },
    {
      "cell_type": "markdown",
      "metadata": {
        "id": "RtMepuQtR_Kz"
      },
      "source": [
        "### Confusion Matrix"
      ]
    },
    {
      "cell_type": "code",
      "execution_count": null,
      "metadata": {
        "colab": {
          "base_uri": "https://localhost:8080/",
          "height": 112
        },
        "outputId": "921334e9-1105-4456-d6d4-b31e20477e2b",
        "id": "X9bs7c5_R_Kz"
      },
      "outputs": [
        {
          "output_type": "execute_result",
          "data": {
            "text/plain": [
              "      0    1\n",
              "0  4851   33\n",
              "1   115  371"
            ],
            "text/html": [
              "\n",
              "  <div id=\"df-2cdd8bbe-b5be-4306-8dcf-5d7aa16754c0\">\n",
              "    <div class=\"colab-df-container\">\n",
              "      <div>\n",
              "<style scoped>\n",
              "    .dataframe tbody tr th:only-of-type {\n",
              "        vertical-align: middle;\n",
              "    }\n",
              "\n",
              "    .dataframe tbody tr th {\n",
              "        vertical-align: top;\n",
              "    }\n",
              "\n",
              "    .dataframe thead th {\n",
              "        text-align: right;\n",
              "    }\n",
              "</style>\n",
              "<table border=\"1\" class=\"dataframe\">\n",
              "  <thead>\n",
              "    <tr style=\"text-align: right;\">\n",
              "      <th></th>\n",
              "      <th>0</th>\n",
              "      <th>1</th>\n",
              "    </tr>\n",
              "  </thead>\n",
              "  <tbody>\n",
              "    <tr>\n",
              "      <th>0</th>\n",
              "      <td>4851</td>\n",
              "      <td>33</td>\n",
              "    </tr>\n",
              "    <tr>\n",
              "      <th>1</th>\n",
              "      <td>115</td>\n",
              "      <td>371</td>\n",
              "    </tr>\n",
              "  </tbody>\n",
              "</table>\n",
              "</div>\n",
              "      <button class=\"colab-df-convert\" onclick=\"convertToInteractive('df-2cdd8bbe-b5be-4306-8dcf-5d7aa16754c0')\"\n",
              "              title=\"Convert this dataframe to an interactive table.\"\n",
              "              style=\"display:none;\">\n",
              "        \n",
              "  <svg xmlns=\"http://www.w3.org/2000/svg\" height=\"24px\"viewBox=\"0 0 24 24\"\n",
              "       width=\"24px\">\n",
              "    <path d=\"M0 0h24v24H0V0z\" fill=\"none\"/>\n",
              "    <path d=\"M18.56 5.44l.94 2.06.94-2.06 2.06-.94-2.06-.94-.94-2.06-.94 2.06-2.06.94zm-11 1L8.5 8.5l.94-2.06 2.06-.94-2.06-.94L8.5 2.5l-.94 2.06-2.06.94zm10 10l.94 2.06.94-2.06 2.06-.94-2.06-.94-.94-2.06-.94 2.06-2.06.94z\"/><path d=\"M17.41 7.96l-1.37-1.37c-.4-.4-.92-.59-1.43-.59-.52 0-1.04.2-1.43.59L10.3 9.45l-7.72 7.72c-.78.78-.78 2.05 0 2.83L4 21.41c.39.39.9.59 1.41.59.51 0 1.02-.2 1.41-.59l7.78-7.78 2.81-2.81c.8-.78.8-2.07 0-2.86zM5.41 20L4 18.59l7.72-7.72 1.47 1.35L5.41 20z\"/>\n",
              "  </svg>\n",
              "      </button>\n",
              "      \n",
              "  <style>\n",
              "    .colab-df-container {\n",
              "      display:flex;\n",
              "      flex-wrap:wrap;\n",
              "      gap: 12px;\n",
              "    }\n",
              "\n",
              "    .colab-df-convert {\n",
              "      background-color: #E8F0FE;\n",
              "      border: none;\n",
              "      border-radius: 50%;\n",
              "      cursor: pointer;\n",
              "      display: none;\n",
              "      fill: #1967D2;\n",
              "      height: 32px;\n",
              "      padding: 0 0 0 0;\n",
              "      width: 32px;\n",
              "    }\n",
              "\n",
              "    .colab-df-convert:hover {\n",
              "      background-color: #E2EBFA;\n",
              "      box-shadow: 0px 1px 2px rgba(60, 64, 67, 0.3), 0px 1px 3px 1px rgba(60, 64, 67, 0.15);\n",
              "      fill: #174EA6;\n",
              "    }\n",
              "\n",
              "    [theme=dark] .colab-df-convert {\n",
              "      background-color: #3B4455;\n",
              "      fill: #D2E3FC;\n",
              "    }\n",
              "\n",
              "    [theme=dark] .colab-df-convert:hover {\n",
              "      background-color: #434B5C;\n",
              "      box-shadow: 0px 1px 3px 1px rgba(0, 0, 0, 0.15);\n",
              "      filter: drop-shadow(0px 1px 2px rgba(0, 0, 0, 0.3));\n",
              "      fill: #FFFFFF;\n",
              "    }\n",
              "  </style>\n",
              "\n",
              "      <script>\n",
              "        const buttonEl =\n",
              "          document.querySelector('#df-2cdd8bbe-b5be-4306-8dcf-5d7aa16754c0 button.colab-df-convert');\n",
              "        buttonEl.style.display =\n",
              "          google.colab.kernel.accessAllowed ? 'block' : 'none';\n",
              "\n",
              "        async function convertToInteractive(key) {\n",
              "          const element = document.querySelector('#df-2cdd8bbe-b5be-4306-8dcf-5d7aa16754c0');\n",
              "          const dataTable =\n",
              "            await google.colab.kernel.invokeFunction('convertToInteractive',\n",
              "                                                     [key], {});\n",
              "          if (!dataTable) return;\n",
              "\n",
              "          const docLinkHtml = 'Like what you see? Visit the ' +\n",
              "            '<a target=\"_blank\" href=https://colab.research.google.com/notebooks/data_table.ipynb>data table notebook</a>'\n",
              "            + ' to learn more about interactive tables.';\n",
              "          element.innerHTML = '';\n",
              "          dataTable['output_type'] = 'display_data';\n",
              "          await google.colab.output.renderOutput(dataTable, element);\n",
              "          const docLink = document.createElement('div');\n",
              "          docLink.innerHTML = docLinkHtml;\n",
              "          element.appendChild(docLink);\n",
              "        }\n",
              "      </script>\n",
              "    </div>\n",
              "  </div>\n",
              "  "
            ]
          },
          "metadata": {},
          "execution_count": 155
        }
      ],
      "source": [
        "cm = confusion_matrix(y_test, pulsar_y_pred_poly)\n",
        "pd.DataFrame(cm, index=svc_model_poly.classes_, columns=svc_model_poly.classes_)"
      ]
    },
    {
      "cell_type": "markdown",
      "metadata": {
        "id": "dbSp9C1jR_Kz"
      },
      "source": [
        "### Specificity"
      ]
    },
    {
      "cell_type": "markdown",
      "metadata": {
        "id": "Z0TvE0L7R_K0"
      },
      "source": [
        "![image.png](data:image/png;base64,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)"
      ]
    },
    {
      "cell_type": "code",
      "execution_count": null,
      "metadata": {
        "colab": {
          "base_uri": "https://localhost:8080/"
        },
        "outputId": "cebe78d4-6493-45bc-f95e-7bc1d4d9b0cf",
        "id": "dcp5_8EXR_K1"
      },
      "outputs": [
        {
          "output_type": "stream",
          "name": "stdout",
          "text": [
            "Specificity (Polynomial Kernel):  99.3243 %\n"
          ]
        }
      ],
      "source": [
        "specificity_polynomial = cm[0,0]/(cm[0,0]+cm[0,1]) * 100\n",
        "print('Specificity (Polynomial Kernel): ', round(specificity_polynomial, 4), \"%\")"
      ]
    },
    {
      "cell_type": "markdown",
      "metadata": {
        "id": "KumayiFoR_K1"
      },
      "source": [
        "### Sensitivity"
      ]
    },
    {
      "cell_type": "markdown",
      "metadata": {
        "id": "j512mIw5R_K1"
      },
      "source": [
        "![image.png](data:image/png;base64,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)"
      ]
    },
    {
      "cell_type": "code",
      "execution_count": null,
      "metadata": {
        "colab": {
          "base_uri": "https://localhost:8080/"
        },
        "outputId": "504df2e4-470c-4577-ee9c-4345f6d6b899",
        "id": "9wkMwncQR_K2"
      },
      "outputs": [
        {
          "output_type": "stream",
          "name": "stdout",
          "text": [
            "Sensitivity (Polynomial Kernel):  76.3374 %\n"
          ]
        }
      ],
      "source": [
        "sensitivity_polynomial = cm[1,1]/(cm[1,0]+cm[1,1]) * 100\n",
        "print('Sensitivity (Polynomial Kernel): ', round(sensitivity_polynomial, 4), \"%\")"
      ]
    },
    {
      "cell_type": "markdown",
      "metadata": {
        "id": "QXRQVpFXR_K2"
      },
      "source": [
        "### Classification Report"
      ]
    },
    {
      "cell_type": "code",
      "execution_count": null,
      "metadata": {
        "colab": {
          "base_uri": "https://localhost:8080/"
        },
        "outputId": "9748c095-5819-4fdc-c711-6536dd5bf48c",
        "id": "OWqF6C0cR_K2"
      },
      "outputs": [
        {
          "output_type": "stream",
          "name": "stdout",
          "text": [
            "              precision    recall  f1-score   support\n",
            "\n",
            "           0       0.98      0.99      0.98      4884\n",
            "           1       0.92      0.76      0.83       486\n",
            "\n",
            "    accuracy                           0.97      5370\n",
            "   macro avg       0.95      0.88      0.91      5370\n",
            "weighted avg       0.97      0.97      0.97      5370\n",
            "\n"
          ]
        }
      ],
      "source": [
        "print(classification_report(y_test, pulsar_y_pred_poly))"
      ]
    },
    {
      "cell_type": "markdown",
      "metadata": {
        "id": "TyREmgCjR_K3"
      },
      "source": [
        "### ROC Curve and AUC"
      ]
    },
    {
      "cell_type": "code",
      "execution_count": null,
      "metadata": {
        "id": "Tn3_bbhNR_K3"
      },
      "outputs": [],
      "source": [
        "y_prob = svc_model_poly.predict_proba(X_test)\n",
        "\n",
        "y_prob = y_prob[:, 1]\n",
        "\n",
        "n_classes = len(svc_model_poly.classes_)\n",
        "\n",
        "fpr, tpr,_ = roc_curve(y_test, y_prob)\n",
        "pulsar_roc_auc_poly = auc(fpr, tpr)"
      ]
    },
    {
      "cell_type": "code",
      "execution_count": null,
      "metadata": {
        "colab": {
          "base_uri": "https://localhost:8080/",
          "height": 295
        },
        "outputId": "3f0dd15f-b5f8-4159-b469-15f4278a4f46",
        "id": "h_5uk4EPR_K3"
      },
      "outputs": [
        {
          "output_type": "display_data",
          "data": {
            "text/plain": [
              "<Figure size 432x288 with 1 Axes>"
            ],
            "image/png": "[encoded data removed]"
          },
          "metadata": {
            "needs_background": "light"
          }
        }
      ],
      "source": [
        "lw = 2\n",
        "plt.plot(\n",
        "    fpr,\n",
        "    tpr,\n",
        "    color=\"darkorange\",\n",
        "    lw=lw,\n",
        "    label=\"ROC curve (area = %0.2f)\" % pulsar_roc_auc_poly,\n",
        ")\n",
        "plt.plot([0, 1], [0, 1], color=\"navy\", lw=lw, linestyle=\"--\")\n",
        "plt.xlim([0.0, 1.0])\n",
        "plt.ylim([0.0, 1.05])\n",
        "plt.xlabel(\"False Positive Rate\")\n",
        "plt.ylabel(\"True Positive Rate\")\n",
        "plt.title(\"Receiver Operating Characteristic Curve\")\n",
        "plt.legend(loc=\"lower right\")\n",
        "plt.show()"
      ]
    },
    {
      "cell_type": "markdown",
      "source": [
        "The area under curve is 0.96 for polynomial kernel."
      ],
      "metadata": {
        "id": "JVixUyFHPPRN"
      }
    },
    {
      "cell_type": "markdown",
      "source": [
        "## Radial Kernel"
      ],
      "metadata": {
        "id": "C3YvYyfkR_8B"
      }
    },
    {
      "cell_type": "code",
      "source": [
        "# Select the optimal parameters by cross-validation\n",
        "pulsar_tuned_parameters = [{'C': [0.001, 0.01, 0.1, 1]\n",
        "                     }]\n",
        "pulsar_clf_rbf = GridSearchCV(SVC(kernel = 'rbf'), pulsar_tuned_parameters, cv=10, scoring='accuracy')\n",
        "pulsar_clf_rbf.fit(X, Y)"
      ],
      "metadata": {
        "colab": {
          "base_uri": "https://localhost:8080/"
        },
        "id": "ZLfFkTd3R_8B",
        "outputId": "7a47b222-0275-4419-cc98-47dd520adf8f"
      },
      "execution_count": null,
      "outputs": [
        {
          "output_type": "execute_result",
          "data": {
            "text/plain": [
              "GridSearchCV(cv=10, estimator=SVC(), param_grid=[{'C': [0.001, 0.01, 0.1, 1]}],\n",
              "             scoring='accuracy')"
            ]
          },
          "metadata": {},
          "execution_count": 161
        }
      ]
    },
    {
      "cell_type": "markdown",
      "source": [
        "The  GridSearchCV()  function stores the best parameters obtained, which can be accessed as follows:"
      ],
      "metadata": {
        "id": "_XKxcd4QR_8B"
      }
    },
    {
      "cell_type": "code",
      "source": [
        "pulsar_clf_rbf.best_params_"
      ],
      "metadata": {
        "colab": {
          "base_uri": "https://localhost:8080/"
        },
        "outputId": "e349f8d4-170a-4e42-963e-ea49b678d114",
        "id": "Ok1CXTw0R_8B"
      },
      "execution_count": null,
      "outputs": [
        {
          "output_type": "execute_result",
          "data": {
            "text/plain": [
              "{'C': 1}"
            ]
          },
          "metadata": {},
          "execution_count": 162
        }
      ]
    },
    {
      "cell_type": "markdown",
      "source": [
        "c=1 is best according to GridSearchCV."
      ],
      "metadata": {
        "id": "fwO4dt3jR_8B"
      }
    },
    {
      "cell_type": "code",
      "source": [
        "svc_model_rbf = SVC(probability=True,**pulsar_clf_rbf.best_params_, kernel='rbf' )\n",
        "svc_model_rbf.fit(X_train, y_train)\n",
        "\n",
        "pulsar_y_pred_rbf = svc_model_rbf.predict(X_test)"
      ],
      "metadata": {
        "id": "S4Nce5_tR_8C"
      },
      "execution_count": null,
      "outputs": []
    },
    {
      "cell_type": "code",
      "source": [
        "svc_model_rbf.get_params()"
      ],
      "metadata": {
        "colab": {
          "base_uri": "https://localhost:8080/"
        },
        "id": "nC-uR_oWWnGi",
        "outputId": "044482a4-8f4a-4f4a-fbf1-2f9a6cd75ad2"
      },
      "execution_count": null,
      "outputs": [
        {
          "output_type": "execute_result",
          "data": {
            "text/plain": [
              "{'C': 1,\n",
              " 'break_ties': False,\n",
              " 'cache_size': 200,\n",
              " 'class_weight': None,\n",
              " 'coef0': 0.0,\n",
              " 'decision_function_shape': 'ovr',\n",
              " 'degree': 3,\n",
              " 'gamma': 'scale',\n",
              " 'kernel': 'rbf',\n",
              " 'max_iter': -1,\n",
              " 'probability': True,\n",
              " 'random_state': None,\n",
              " 'shrinking': True,\n",
              " 'tol': 0.001,\n",
              " 'verbose': False}"
            ]
          },
          "metadata": {},
          "execution_count": 164
        }
      ]
    },
    {
      "cell_type": "markdown",
      "metadata": {
        "id": "otGJPtpCR_8C"
      },
      "source": [
        "### Accuracy"
      ]
    },
    {
      "cell_type": "code",
      "execution_count": null,
      "metadata": {
        "colab": {
          "base_uri": "https://localhost:8080/"
        },
        "outputId": "2457660d-2e68-4d1e-e6f2-ce9a2dc8a999",
        "id": "IC5fugpcR_8C"
      },
      "outputs": [
        {
          "output_type": "stream",
          "name": "stdout",
          "text": [
            "Accuracy (Radial Kernel) -  97.2812\n"
          ]
        }
      ],
      "source": [
        "pulsar_acc_rbf = accuracy_score(y_test, pulsar_y_pred_rbf)\n",
        "print(\"Accuracy (Radial Kernel) - \", round(pulsar_acc_rbf*100,4))"
      ]
    },
    {
      "cell_type": "markdown",
      "metadata": {
        "id": "d4GlMk1wR_8C"
      },
      "source": [
        "### Confusion Matrix"
      ]
    },
    {
      "cell_type": "code",
      "execution_count": null,
      "metadata": {
        "colab": {
          "base_uri": "https://localhost:8080/",
          "height": 112
        },
        "outputId": "f469db1a-da3e-44d6-873e-9806494a1a07",
        "id": "hygy80vdR_8C"
      },
      "outputs": [
        {
          "output_type": "execute_result",
          "data": {
            "text/plain": [
              "      0    1\n",
              "0  4861   23\n",
              "1   123  363"
            ],
            "text/html": [
              "\n",
              "  <div id=\"df-e7bfea31-25a4-4ca1-a1fd-91e223caffee\">\n",
              "    <div class=\"colab-df-container\">\n",
              "      <div>\n",
              "<style scoped>\n",
              "    .dataframe tbody tr th:only-of-type {\n",
              "        vertical-align: middle;\n",
              "    }\n",
              "\n",
              "    .dataframe tbody tr th {\n",
              "        vertical-align: top;\n",
              "    }\n",
              "\n",
              "    .dataframe thead th {\n",
              "        text-align: right;\n",
              "    }\n",
              "</style>\n",
              "<table border=\"1\" class=\"dataframe\">\n",
              "  <thead>\n",
              "    <tr style=\"text-align: right;\">\n",
              "      <th></th>\n",
              "      <th>0</th>\n",
              "      <th>1</th>\n",
              "    </tr>\n",
              "  </thead>\n",
              "  <tbody>\n",
              "    <tr>\n",
              "      <th>0</th>\n",
              "      <td>4861</td>\n",
              "      <td>23</td>\n",
              "    </tr>\n",
              "    <tr>\n",
              "      <th>1</th>\n",
              "      <td>123</td>\n",
              "      <td>363</td>\n",
              "    </tr>\n",
              "  </tbody>\n",
              "</table>\n",
              "</div>\n",
              "      <button class=\"colab-df-convert\" onclick=\"convertToInteractive('df-e7bfea31-25a4-4ca1-a1fd-91e223caffee')\"\n",
              "              title=\"Convert this dataframe to an interactive table.\"\n",
              "              style=\"display:none;\">\n",
              "        \n",
              "  <svg xmlns=\"http://www.w3.org/2000/svg\" height=\"24px\"viewBox=\"0 0 24 24\"\n",
              "       width=\"24px\">\n",
              "    <path d=\"M0 0h24v24H0V0z\" fill=\"none\"/>\n",
              "    <path d=\"M18.56 5.44l.94 2.06.94-2.06 2.06-.94-2.06-.94-.94-2.06-.94 2.06-2.06.94zm-11 1L8.5 8.5l.94-2.06 2.06-.94-2.06-.94L8.5 2.5l-.94 2.06-2.06.94zm10 10l.94 2.06.94-2.06 2.06-.94-2.06-.94-.94-2.06-.94 2.06-2.06.94z\"/><path d=\"M17.41 7.96l-1.37-1.37c-.4-.4-.92-.59-1.43-.59-.52 0-1.04.2-1.43.59L10.3 9.45l-7.72 7.72c-.78.78-.78 2.05 0 2.83L4 21.41c.39.39.9.59 1.41.59.51 0 1.02-.2 1.41-.59l7.78-7.78 2.81-2.81c.8-.78.8-2.07 0-2.86zM5.41 20L4 18.59l7.72-7.72 1.47 1.35L5.41 20z\"/>\n",
              "  </svg>\n",
              "      </button>\n",
              "      \n",
              "  <style>\n",
              "    .colab-df-container {\n",
              "      display:flex;\n",
              "      flex-wrap:wrap;\n",
              "      gap: 12px;\n",
              "    }\n",
              "\n",
              "    .colab-df-convert {\n",
              "      background-color: #E8F0FE;\n",
              "      border: none;\n",
              "      border-radius: 50%;\n",
              "      cursor: pointer;\n",
              "      display: none;\n",
              "      fill: #1967D2;\n",
              "      height: 32px;\n",
              "      padding: 0 0 0 0;\n",
              "      width: 32px;\n",
              "    }\n",
              "\n",
              "    .colab-df-convert:hover {\n",
              "      background-color: #E2EBFA;\n",
              "      box-shadow: 0px 1px 2px rgba(60, 64, 67, 0.3), 0px 1px 3px 1px rgba(60, 64, 67, 0.15);\n",
              "      fill: #174EA6;\n",
              "    }\n",
              "\n",
              "    [theme=dark] .colab-df-convert {\n",
              "      background-color: #3B4455;\n",
              "      fill: #D2E3FC;\n",
              "    }\n",
              "\n",
              "    [theme=dark] .colab-df-convert:hover {\n",
              "      background-color: #434B5C;\n",
              "      box-shadow: 0px 1px 3px 1px rgba(0, 0, 0, 0.15);\n",
              "      filter: drop-shadow(0px 1px 2px rgba(0, 0, 0, 0.3));\n",
              "      fill: #FFFFFF;\n",
              "    }\n",
              "  </style>\n",
              "\n",
              "      <script>\n",
              "        const buttonEl =\n",
              "          document.querySelector('#df-e7bfea31-25a4-4ca1-a1fd-91e223caffee button.colab-df-convert');\n",
              "        buttonEl.style.display =\n",
              "          google.colab.kernel.accessAllowed ? 'block' : 'none';\n",
              "\n",
              "        async function convertToInteractive(key) {\n",
              "          const element = document.querySelector('#df-e7bfea31-25a4-4ca1-a1fd-91e223caffee');\n",
              "          const dataTable =\n",
              "            await google.colab.kernel.invokeFunction('convertToInteractive',\n",
              "                                                     [key], {});\n",
              "          if (!dataTable) return;\n",
              "\n",
              "          const docLinkHtml = 'Like what you see? Visit the ' +\n",
              "            '<a target=\"_blank\" href=https://colab.research.google.com/notebooks/data_table.ipynb>data table notebook</a>'\n",
              "            + ' to learn more about interactive tables.';\n",
              "          element.innerHTML = '';\n",
              "          dataTable['output_type'] = 'display_data';\n",
              "          await google.colab.output.renderOutput(dataTable, element);\n",
              "          const docLink = document.createElement('div');\n",
              "          docLink.innerHTML = docLinkHtml;\n",
              "          element.appendChild(docLink);\n",
              "        }\n",
              "      </script>\n",
              "    </div>\n",
              "  </div>\n",
              "  "
            ]
          },
          "metadata": {},
          "execution_count": 166
        }
      ],
      "source": [
        "cm = confusion_matrix(y_test, pulsar_y_pred_rbf)\n",
        "pd.DataFrame(cm, index=svc_model_rbf.classes_, columns=svc_model_rbf.classes_)"
      ]
    },
    {
      "cell_type": "markdown",
      "metadata": {
        "id": "iMXDyWKaR_8C"
      },
      "source": [
        "### Specificity"
      ]
    },
    {
      "cell_type": "markdown",
      "metadata": {
        "id": "h06N5wdrR_8C"
      },
      "source": [
        "![image.png](data:image/png;base64,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)"
      ]
    },
    {
      "cell_type": "code",
      "execution_count": null,
      "metadata": {
        "colab": {
          "base_uri": "https://localhost:8080/"
        },
        "outputId": "2604f679-4577-4bbd-ba2d-a13ffaae477d",
        "id": "TFBEJzWZR_8E"
      },
      "outputs": [
        {
          "output_type": "stream",
          "name": "stdout",
          "text": [
            "Specificity (Radial Kernel):  99.5291 %\n"
          ]
        }
      ],
      "source": [
        "specificity_rbf = cm[0,0]/(cm[0,0]+cm[0,1]) * 100\n",
        "print('Specificity (Radial Kernel): ', round(specificity_rbf, 4), \"%\")"
      ]
    },
    {
      "cell_type": "markdown",
      "metadata": {
        "id": "vpwLX2xxR_8E"
      },
      "source": [
        "### Sensitivity"
      ]
    },
    {
      "cell_type": "markdown",
      "metadata": {
        "id": "xbAibMuTR_8E"
      },
      "source": [
        "![image.png](data:image/png;base64,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)"
      ]
    },
    {
      "cell_type": "code",
      "execution_count": null,
      "metadata": {
        "colab": {
          "base_uri": "https://localhost:8080/"
        },
        "outputId": "19de9c89-7d8f-4d1c-8fb1-4a673685b270",
        "id": "Ck3LURUpR_8F"
      },
      "outputs": [
        {
          "output_type": "stream",
          "name": "stdout",
          "text": [
            "Sensitivity (Radial Kernel):  74.6914 %\n"
          ]
        }
      ],
      "source": [
        "sensitivity_rbf = cm[1,1]/(cm[1,0]+cm[1,1]) * 100\n",
        "print('Sensitivity (Radial Kernel): ', round(sensitivity_rbf, 4), \"%\")"
      ]
    },
    {
      "cell_type": "markdown",
      "metadata": {
        "id": "l-uMWjTXR_8F"
      },
      "source": [
        "### Classification Report"
      ]
    },
    {
      "cell_type": "code",
      "execution_count": null,
      "metadata": {
        "colab": {
          "base_uri": "https://localhost:8080/"
        },
        "outputId": "37146c54-d606-4ab9-97ca-a4bbf9473cbe",
        "id": "XhwLrxmhR_8F"
      },
      "outputs": [
        {
          "output_type": "stream",
          "name": "stdout",
          "text": [
            "              precision    recall  f1-score   support\n",
            "\n",
            "           0       0.98      1.00      0.99      4884\n",
            "           1       0.94      0.75      0.83       486\n",
            "\n",
            "    accuracy                           0.97      5370\n",
            "   macro avg       0.96      0.87      0.91      5370\n",
            "weighted avg       0.97      0.97      0.97      5370\n",
            "\n"
          ]
        }
      ],
      "source": [
        "print(classification_report(y_test, pulsar_y_pred_rbf))"
      ]
    },
    {
      "cell_type": "markdown",
      "metadata": {
        "id": "z9YuTx51R_8G"
      },
      "source": [
        "### ROC Curve and AUC"
      ]
    },
    {
      "cell_type": "code",
      "execution_count": null,
      "metadata": {
        "id": "PJxMuTqER_8G"
      },
      "outputs": [],
      "source": [
        "y_prob = svc_model_rbf.predict_proba(X_test)\n",
        "\n",
        "y_prob = y_prob[:, 1]\n",
        "\n",
        "n_classes = len(svc_model_rbf.classes_)\n",
        "\n",
        "fpr, tpr,_ = roc_curve(y_test, y_prob)\n",
        "pulsar_roc_auc_rbf = auc(fpr, tpr)"
      ]
    },
    {
      "cell_type": "code",
      "execution_count": null,
      "metadata": {
        "colab": {
          "base_uri": "https://localhost:8080/",
          "height": 295
        },
        "outputId": "1738ec3e-dbcc-4f0a-ba50-8bea7b45a1b8",
        "id": "dkgdGoYdR_8G"
      },
      "outputs": [
        {
          "output_type": "display_data",
          "data": {
            "text/plain": [
              "<Figure size 432x288 with 1 Axes>"
            ],
            "image/png": "[encoded data removed]"
          },
          "metadata": {
            "needs_background": "light"
          }
        }
      ],
      "source": [
        "lw = 2\n",
        "plt.plot(\n",
        "    fpr,\n",
        "    tpr,\n",
        "    color=\"darkorange\",\n",
        "    lw=lw,\n",
        "    label=\"ROC curve (area = %0.2f)\" % pulsar_roc_auc_rbf,\n",
        ")\n",
        "plt.plot([0, 1], [0, 1], color=\"navy\", lw=lw, linestyle=\"--\")\n",
        "plt.xlim([0.0, 1.0])\n",
        "plt.ylim([0.0, 1.05])\n",
        "plt.xlabel(\"False Positive Rate\")\n",
        "plt.ylabel(\"True Positive Rate\")\n",
        "plt.title(\"Receiver Operating Characteristic Curve\")\n",
        "plt.legend(loc=\"lower right\")\n",
        "plt.show()"
      ]
    },
    {
      "cell_type": "markdown",
      "source": [
        "The area under curve is 0.95 for radial kernel."
      ],
      "metadata": {
        "id": "LzxO7JpyPUYv"
      }
    },
    {
      "cell_type": "markdown",
      "source": [
        "## Comparison of Results"
      ],
      "metadata": {
        "id": "7k_xvvLvZlJm"
      }
    },
    {
      "cell_type": "code",
      "source": [
        "results_table = PrettyTable(['Metric', 'Baseline Model', 'Linear Kernel', 'Polynomial Kernel', 'Radial Kernel'])\n",
        "results_table.add_row(['Accuracy (%)', round(pulsar_acc*100,4), round(pulsar_acc_linear*100,4), round(pulsar_acc_poly*100,4), round(pulsar_acc_rbf*100,4)  ])\n",
        "results_table.add_row(['Specificity (%)', round(specificity_baseline, 4), round(specificity_linear, 4), round(specificity_polynomial, 4), round(specificity_rbf, 4)  ])\n",
        "results_table.add_row(['Sensitivity (%)', round(sensitivity_baseline, 4), round(sensitivity_linear, 4), round(sensitivity_polynomial, 4), round(sensitivity_rbf, 4) ])\n",
        "results_table.add_row(['AUC', round(pulsar_roc_auc,2), round(pulsar_roc_auc_linear,2), round(pulsar_roc_auc_poly,2), round(pulsar_roc_auc_rbf,2) ])\n",
        "\n",
        "print(results_table)"
      ],
      "metadata": {
        "colab": {
          "base_uri": "https://localhost:8080/"
        },
        "id": "ljBAdWIGZpDx",
        "outputId": "2448b123-98e1-49a8-a53d-5fac5a95f080"
      },
      "execution_count": null,
      "outputs": [
        {
          "output_type": "stream",
          "name": "stdout",
          "text": [
            "+-----------------+----------------+---------------+-------------------+---------------+\n",
            "|      Metric     | Baseline Model | Linear Kernel | Polynomial Kernel | Radial Kernel |\n",
            "+-----------------+----------------+---------------+-------------------+---------------+\n",
            "|   Accuracy (%)  |    97.2812     |    97.8585    |      97.2439      |    97.2812    |\n",
            "| Specificity (%) |    99.5291     |     99.57     |      99.3243      |    99.5291    |\n",
            "| Sensitivity (%) |    74.6914     |    80.6584    |      76.3374      |    74.6914    |\n",
            "|       AUC       |      0.95      |      0.97     |        0.96       |      0.95     |\n",
            "+-----------------+----------------+---------------+-------------------+---------------+\n"
          ]
        }
      ]
    },
    {
      "cell_type": "markdown",
      "source": [
        "We can see from the above table that SVC using linear kernel outperformed other kernel models with accuracy of 97.8595 % and AUC of 0.97"
      ],
      "metadata": {
        "id": "mI3ngLG3v531"
      }
    },
    {
      "cell_type": "markdown",
      "source": [
        "# Inference:\n",
        "1. In Support Vector Classifier, the C argument specifies the cost of a violation to the margin. If the C value is small, then the margins are wide and many support vectors are present on the margin or violate the margin. If C value is large, the margins are narrow and very few support vectors are on the margin.\n",
        "2. The model with smaller value of cost i.e. C performs better on the test data due to larger margin comapred to model with larger value of cost C.\n",
        "3. The radial kernel is used in the case where the distribution of classes involves one class being stuck inside on another. The resulting SVM has a non-linear boundary. \n",
        "4. The results of Pulsar Classification suggests that liear kernel is suitable for this dataset as it outperformed the polynoial and radial kernel with accuracy of 97.8595%\n",
        "5. The Linear Kernel is the most basic type of kernel, usually one dimensional in nature. It proves to be the best function when there are lots of features. Linear kernel functions are faster than other functions. "
      ],
      "metadata": {
        "id": "lJc4OPmZumGR"
      }
    }
  ]
}