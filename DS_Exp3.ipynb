{
  "nbformat": 4,
  "nbformat_minor": 0,
  "metadata": {
    "colab": {
      "name": "DS-Exp3.ipynb",
      "provenance": []
    },
    "kernelspec": {
      "name": "python3",
      "display_name": "Python 3"
    },
    "language_info": {
      "name": "python"
    }
  },
  "cells": [
    {
      "cell_type": "markdown",
      "source": [
        "Name: Namrata Bhorade\n",
        "\n",
        "Class: BE COMPS\n",
        "\n",
        "Batch: A\n",
        "\n",
        "UID: 2018130004\n",
        "\n",
        "Roll No.: 03"
      ],
      "metadata": {
        "id": "8-H409u2DXCX"
      }
    },
    {
      "cell_type": "markdown",
      "source": [
        "# CEEL 82B, Data Science, 2022\n",
        "# Lab 3: Data Classification\n"
      ],
      "metadata": {
        "id": "hiWMGe_lDaAN"
      }
    },
    {
      "cell_type": "markdown",
      "source": [
        "**Objective**:\n",
        "\n",
        "(i) Apply Naive bayes classifier for given data see Naive_bayes_handout.zip file in edmodo.\n",
        "\n",
        "(ii) Apply and compare Linear Discriminating Analysis with Naive bayes classifiers w.r.t. error, specificity and sensitivity"
      ],
      "metadata": {
        "id": "br5gJMM5KDTa"
      }
    },
    {
      "cell_type": "markdown",
      "source": [
        "This notebook presents the classification on Amazon Reviews Dataset. It compares the classification results for Linear Discriminating Analysis and Naive Bayes Classifier. As the dataset is text corpus, various preprocessing operations such as cleaning, tokenization and lemmatization are performed. The performance of classifier is evaluated before and after dimensionality reduction."
      ],
      "metadata": {
        "id": "57MrvQ9mrUYW"
      }
    },
    {
      "cell_type": "code",
      "source": [
        "import numpy as np # linear algebra\n",
        "import pandas as pd # data processing, CSV file I/O (e.g. pd.read_csv)\n",
        "import bz2 # To open zipped files\n",
        "import re # regular expressions\n",
        "import os\n",
        "import gc\n",
        "\n",
        "import matplotlib.pyplot as plt\n",
        "import seaborn as sns\n",
        "\n",
        "from wordcloud import WordCloud, STOPWORDS\n",
        "\n",
        "from nltk.corpus import stopwords\n",
        "import nltk\n",
        "from nltk import pos_tag\n",
        "from nltk import sent_tokenize, word_tokenize\n",
        "from nltk.stem import WordNetLemmatizer\n",
        "from string import punctuation\n",
        "\n",
        "from sklearn.feature_extraction.text import CountVectorizer\n",
        "\n",
        "from sklearn.preprocessing import StandardScaler, MinMaxScaler\n",
        "\n",
        "from sklearn.naive_bayes import MultinomialNB\n",
        "\n",
        "from sklearn.discriminant_analysis import LinearDiscriminantAnalysis\n",
        "\n",
        "from sklearn.metrics import accuracy_score, confusion_matrix, roc_curve, roc_auc_score, auc, classification_report\n",
        "\n",
        "from prettytable import PrettyTable\n",
        "\n",
        "import warnings\n",
        "warnings.filterwarnings(\"ignore\")"
      ],
      "metadata": {
        "id": "ATfBnIDTWqfD"
      },
      "execution_count": null,
      "outputs": []
    },
    {
      "cell_type": "markdown",
      "source": [
        "# Load the Dataset"
      ],
      "metadata": {
        "id": "d52zMrCg914i"
      }
    },
    {
      "cell_type": "code",
      "source": [
        "train_file = bz2.BZ2File('/content/drive/MyDrive/DS-Lab/Lab/Exp3/train.ft.txt.bz2')\n",
        "test_file = bz2.BZ2File('/content/drive/MyDrive/DS-Lab/Lab/Exp3/test.ft.txt.bz2')"
      ],
      "metadata": {
        "id": "JwybAUFWWuGC"
      },
      "execution_count": null,
      "outputs": []
    },
    {
      "cell_type": "code",
      "source": [
        "train_file_lines = train_file.readlines()\n",
        "test_file_lines = test_file.readlines()"
      ],
      "metadata": {
        "id": "XK3PiFnyW5hw"
      },
      "execution_count": null,
      "outputs": []
    },
    {
      "cell_type": "code",
      "source": [
        "train_file_lines[0]"
      ],
      "metadata": {
        "colab": {
          "base_uri": "https://localhost:8080/"
        },
        "id": "ZaUgACKSXpFY",
        "outputId": "484556ab-a55e-4a25-df78-6e8f8c085d91"
      },
      "execution_count": null,
      "outputs": [
        {
          "output_type": "execute_result",
          "data": {
            "text/plain": [
              "b'__label__2 Stuning even for the non-gamer: This sound track was beautiful! It paints the senery in your mind so well I would recomend it even to people who hate vid. game music! I have played the game Chrono Cross but out of all of the games I have ever played it has the best music! It backs away from crude keyboarding and takes a fresher step with grate guitars and soulful orchestras. It would impress anyone who cares to listen! ^_^\\n'"
            ]
          },
          "metadata": {},
          "execution_count": 4
        }
      ]
    },
    {
      "cell_type": "code",
      "source": [
        "# clean the older variables\n",
        "del train_file, test_file\n",
        "gc.collect()"
      ],
      "metadata": {
        "colab": {
          "base_uri": "https://localhost:8080/"
        },
        "id": "PIiKjvYRW8yP",
        "outputId": "0f6d8e94-081a-4a36-a40f-bcfbbe7b6076"
      },
      "execution_count": null,
      "outputs": [
        {
          "output_type": "execute_result",
          "data": {
            "text/plain": [
              "11"
            ]
          },
          "metadata": {},
          "execution_count": 5
        }
      ]
    },
    {
      "cell_type": "markdown",
      "source": [
        "# Data Preprocessing and Visualization"
      ],
      "metadata": {
        "id": "y6dYwS9ZA7RX"
      }
    },
    {
      "cell_type": "markdown",
      "source": [
        "## Converting string from raw binary string to string that can be parsed."
      ],
      "metadata": {
        "id": "w82J9vJfXw66"
      }
    },
    {
      "cell_type": "code",
      "source": [
        "train_file_lines = [x.decode('utf-8') for x in train_file_lines]\n",
        "test_file_lines = [x.decode('utf-8') for x in test_file_lines]"
      ],
      "metadata": {
        "id": "4b1tkThWYBKs"
      },
      "execution_count": null,
      "outputs": []
    },
    {
      "cell_type": "code",
      "source": [
        "train_file_lines[0]"
      ],
      "metadata": {
        "colab": {
          "base_uri": "https://localhost:8080/",
          "height": 72
        },
        "id": "oYHqHbxBYCVK",
        "outputId": "cbd12329-8b99-4738-9349-d0812623710b"
      },
      "execution_count": null,
      "outputs": [
        {
          "output_type": "execute_result",
          "data": {
            "application/vnd.google.colaboratory.intrinsic+json": {
              "type": "string"
            },
            "text/plain": [
              "'__label__2 Stuning even for the non-gamer: This sound track was beautiful! It paints the senery in your mind so well I would recomend it even to people who hate vid. game music! I have played the game Chrono Cross but out of all of the games I have ever played it has the best music! It backs away from crude keyboarding and takes a fresher step with grate guitars and soulful orchestras. It would impress anyone who cares to listen! ^_^\\n'"
            ]
          },
          "metadata": {},
          "execution_count": 7
        }
      ]
    },
    {
      "cell_type": "code",
      "source": [
        "print(type(train_file_lines), type(test_file_lines), \"\\n\")\n",
        "\n",
        "print(\"Train Data Volume:\", len(train_file_lines), \"\\n\")\n",
        "print(\"Test Data Volume:\", len(test_file_lines), \"\\n\\n\")"
      ],
      "metadata": {
        "colab": {
          "base_uri": "https://localhost:8080/"
        },
        "id": "ltPuRaJvYE-O",
        "outputId": "c80ff0ec-5808-4d74-a5e6-53664fc56402"
      },
      "execution_count": null,
      "outputs": [
        {
          "output_type": "stream",
          "name": "stdout",
          "text": [
            "<class 'list'> <class 'list'> \n",
            "\n",
            "Train Data Volume: 3600000 \n",
            "\n",
            "Test Data Volume: 400000 \n",
            "\n",
            "\n"
          ]
        }
      ]
    },
    {
      "cell_type": "markdown",
      "source": [
        "## Extracting Labels from the data"
      ],
      "metadata": {
        "id": "jj_79qN4YQVS"
      }
    },
    {
      "cell_type": "markdown",
      "source": [
        "0 -> __label__1 -> 1/2 star rating\n",
        "\n",
        "1 -> __label__2 -> 4/5 star rating"
      ],
      "metadata": {
        "id": "OPwzo3vPYTpF"
      }
    },
    {
      "cell_type": "code",
      "source": [
        "train_labels = [0 if x.split(' ')[0] == '__label__1' else 1 for x in train_file_lines]\n",
        "test_labels = [0 if x.split(' ')[0] == '__label__1' else 1 for x in test_file_lines]"
      ],
      "metadata": {
        "id": "iSu95ImtYPze"
      },
      "execution_count": null,
      "outputs": []
    },
    {
      "cell_type": "code",
      "source": [
        "train_labels[0]"
      ],
      "metadata": {
        "colab": {
          "base_uri": "https://localhost:8080/"
        },
        "id": "CYfzHGNsYJxK",
        "outputId": "4a4dab4f-5b59-4cba-9f3f-9d316c9c33ad"
      },
      "execution_count": null,
      "outputs": [
        {
          "output_type": "execute_result",
          "data": {
            "text/plain": [
              "1"
            ]
          },
          "metadata": {},
          "execution_count": 10
        }
      ]
    },
    {
      "cell_type": "markdown",
      "source": [
        "## Distribution of Labels in Train and Test Set"
      ],
      "metadata": {
        "id": "ceByaIF5Ziwj"
      }
    },
    {
      "cell_type": "code",
      "source": [
        "sns.countplot(train_labels)\n",
        "plt.title('Train Labels distribution')\n",
        "plt.show()"
      ],
      "metadata": {
        "colab": {
          "base_uri": "https://localhost:8080/",
          "height": 281
        },
        "id": "c1O5knNcYbZR",
        "outputId": "04fed5f1-b9ad-4c3b-ae4d-bd208cc27ec2"
      },
      "execution_count": null,
      "outputs": [
        {
          "output_type": "display_data",
          "data": {
            "image/png": "[encoded data removed]",
            "text/plain": [
              "<Figure size 432x288 with 1 Axes>"
            ]
          },
          "metadata": {
            "needs_background": "light"
          }
        }
      ]
    },
    {
      "cell_type": "code",
      "source": [
        "sns.countplot(test_labels)\n",
        "plt.title('Test Labels distribution')\n",
        "plt.show()"
      ],
      "metadata": {
        "colab": {
          "base_uri": "https://localhost:8080/",
          "height": 281
        },
        "id": "ISeHXyPEZrBn",
        "outputId": "3da76b05-275e-419a-e122-479c26d076f4"
      },
      "execution_count": null,
      "outputs": [
        {
          "output_type": "display_data",
          "data": {
            "image/png": "[encoded data removed]",
            "text/plain": [
              "<Figure size 432x288 with 1 Axes>"
            ]
          },
          "metadata": {
            "needs_background": "light"
          }
        }
      ]
    },
    {
      "cell_type": "markdown",
      "source": [
        "We can see that there are equal number of entries for both the classes in both train and test dataset."
      ],
      "metadata": {
        "id": "7QxS0qAQaIWc"
      }
    },
    {
      "cell_type": "markdown",
      "source": [
        "## Cleaning new line character and extracting review"
      ],
      "metadata": {
        "id": "cwMgkEYFaRZ4"
      }
    },
    {
      "cell_type": "code",
      "source": [
        "train_sentences = [x.split(' ', 1)[1][:-1] for x in train_file_lines]\n",
        "test_sentences = [x.split(' ', 1)[1][:-1] for x in test_file_lines]"
      ],
      "metadata": {
        "id": "7XSyPo49aCKy"
      },
      "execution_count": null,
      "outputs": []
    },
    {
      "cell_type": "code",
      "source": [
        "train_sentences[0]"
      ],
      "metadata": {
        "colab": {
          "base_uri": "https://localhost:8080/",
          "height": 72
        },
        "id": "yvlfbPqrZ6Je",
        "outputId": "d50aab88-3e6b-45d3-91b6-3a6a420bbcbb"
      },
      "execution_count": null,
      "outputs": [
        {
          "output_type": "execute_result",
          "data": {
            "application/vnd.google.colaboratory.intrinsic+json": {
              "type": "string"
            },
            "text/plain": [
              "'Stuning even for the non-gamer: This sound track was beautiful! It paints the senery in your mind so well I would recomend it even to people who hate vid. game music! I have played the game Chrono Cross but out of all of the games I have ever played it has the best music! It backs away from crude keyboarding and takes a fresher step with grate guitars and soulful orchestras. It would impress anyone who cares to listen! ^_^'"
            ]
          },
          "metadata": {},
          "execution_count": 14
        }
      ]
    },
    {
      "cell_type": "markdown",
      "source": [
        "## Number of Words in Reviews and its Distribution"
      ],
      "metadata": {
        "id": "mIes2deFbJKk"
      }
    },
    {
      "cell_type": "code",
      "source": [
        "# counting number of words in each review\n",
        "train_sentences_size = list(map(lambda x: len(x.split()), train_sentences))"
      ],
      "metadata": {
        "id": "5o08WgdzbWrf"
      },
      "execution_count": null,
      "outputs": []
    },
    {
      "cell_type": "code",
      "source": [
        "sns.distplot(train_sentences_size)\n",
        "plt.xlabel(\"Number of words in reviews\")\n",
        "plt.ylabel(\"Frequency\")\n",
        "plt.title(\"Word Frequency Distribution in Reviews\")\n",
        "plt.show()"
      ],
      "metadata": {
        "colab": {
          "base_uri": "https://localhost:8080/",
          "height": 295
        },
        "id": "WFIMSr17b7eZ",
        "outputId": "a0f92fea-21a0-47b4-cc87-0ff888370030"
      },
      "execution_count": null,
      "outputs": [
        {
          "output_type": "display_data",
          "data": {
            "image/png": "[encoded data removed]",
            "text/plain": [
              "<Figure size 432x288 with 1 Axes>"
            ]
          },
          "metadata": {
            "needs_background": "light"
          }
        }
      ]
    },
    {
      "cell_type": "markdown",
      "source": [
        "The above plot shows the distribution of  word frequency in reviews. We can see that the frequency is higher for lower count of number of words in reviews. "
      ],
      "metadata": {
        "id": "NQYexP7AuLDY"
      }
    },
    {
      "cell_type": "markdown",
      "source": [
        "## Cleaning URLs"
      ],
      "metadata": {
        "id": "PLGzDFS-c2VK"
      }
    },
    {
      "cell_type": "code",
      "source": [
        "for i in range(len(train_sentences)):\n",
        "    if 'www.' in train_sentences[i] or 'http:' in train_sentences[i] or 'https:' in train_sentences[i] or '.com' in train_sentences[i]:\n",
        "        train_sentences[i] = re.sub(r\"([^ ]+(?<=\\.[a-z]{3}))\", \"<url>\", train_sentences[i])"
      ],
      "metadata": {
        "id": "pcjS-56ycNsT"
      },
      "execution_count": null,
      "outputs": []
    },
    {
      "cell_type": "code",
      "source": [
        "for i in range(len(test_sentences)):\n",
        "    if 'www.' in test_sentences[i] or 'http:' in test_sentences[i] or 'https:' in test_sentences[i] or '.com' in test_sentences[i]:\n",
        "        test_sentences[i] = re.sub(r\"([^ ]+(?<=\\.[a-z]{3}))\", \"<url>\", test_sentences[i])"
      ],
      "metadata": {
        "id": "hyTo5yn7c67P"
      },
      "execution_count": null,
      "outputs": []
    },
    {
      "cell_type": "code",
      "source": [
        "list(filter(lambda x: '<url>' in x, train_sentences))[0]"
      ],
      "metadata": {
        "colab": {
          "base_uri": "https://localhost:8080/",
          "height": 90
        },
        "id": "TvAz3dqRc9XS",
        "outputId": "6da6b451-134a-41c9-d4ff-13e412d87f6f"
      },
      "execution_count": null,
      "outputs": [
        {
          "output_type": "execute_result",
          "data": {
            "application/vnd.google.colaboratory.intrinsic+json": {
              "type": "string"
            },
            "text/plain": [
              "\"Bad Deal!!: I ordered this DVD and received a substitute I never received the DVD I ordered from Importcds (the Vendor). I contacted them and did not recieve any feedback. I can't rate a DVD I have never seen. I didn't bother to send it back because it would have cost me more that I orginally paid for it. In the future I will watch for the name of the person and/or persons I am buying from. I thought they were a good company. I understand a simple mistake but, to not get a response at all is not good businees sense. I spend hundreds of dollars a month on <url> building my DVD collection. I guess I will be more careful in the future.\""
            ]
          },
          "metadata": {},
          "execution_count": 19
        }
      ]
    },
    {
      "cell_type": "markdown",
      "source": [
        "We can see here that the actual URL is substituted by <'url'>"
      ],
      "metadata": {
        "id": "xaROi_8CdAf6"
      }
    },
    {
      "cell_type": "code",
      "source": [
        "del train_file_lines, test_file_lines\n",
        "gc.collect()"
      ],
      "metadata": {
        "colab": {
          "base_uri": "https://localhost:8080/"
        },
        "id": "KggSUB-uc_Nq",
        "outputId": "c5f3368e-2798-408e-869b-433f0c4f47a2"
      },
      "execution_count": null,
      "outputs": [
        {
          "output_type": "execute_result",
          "data": {
            "text/plain": [
              "10389"
            ]
          },
          "metadata": {},
          "execution_count": 20
        }
      ]
    },
    {
      "cell_type": "markdown",
      "source": [
        "## Tokenization and Lemmatization"
      ],
      "metadata": {
        "id": "ms4ITbxLeHP-"
      }
    },
    {
      "cell_type": "code",
      "source": [
        "nltk.download('averaged_perceptron_tagger')"
      ],
      "metadata": {
        "colab": {
          "base_uri": "https://localhost:8080/"
        },
        "id": "jmG1SAwPdLj4",
        "outputId": "b367667a-da39-4b43-934f-e41159b553c7"
      },
      "execution_count": null,
      "outputs": [
        {
          "output_type": "stream",
          "name": "stdout",
          "text": [
            "[nltk_data] Downloading package averaged_perceptron_tagger to\n",
            "[nltk_data]     /root/nltk_data...\n",
            "[nltk_data]   Package averaged_perceptron_tagger is already up-to-\n",
            "[nltk_data]       date!\n"
          ]
        },
        {
          "output_type": "execute_result",
          "data": {
            "text/plain": [
              "True"
            ]
          },
          "metadata": {},
          "execution_count": 21
        }
      ]
    },
    {
      "cell_type": "code",
      "source": [
        "wnl = WordNetLemmatizer()"
      ],
      "metadata": {
        "id": "4sU6dYZOePaZ"
      },
      "execution_count": null,
      "outputs": []
    },
    {
      "cell_type": "code",
      "source": [
        "# Converts Penn Treebank tags to WordNet.\n",
        "def penn2morphy(penntag):\n",
        "    morphy_tag = {'NN':'n', 'JJ':'a',\n",
        "                  'VB':'v', 'RB':'r'}\n",
        "    try:\n",
        "        return morphy_tag[penntag[:2]]\n",
        "    except:\n",
        "        return 'n' "
      ],
      "metadata": {
        "id": "l-48HasheTfE"
      },
      "execution_count": null,
      "outputs": []
    },
    {
      "cell_type": "code",
      "source": [
        "def lemmatize_sentence(text): \n",
        "    # Text input is string, returns lowercased strings.\n",
        "    return [wnl.lemmatize(word.lower(), pos=penn2morphy(tag)) \n",
        "            for word, tag in pos_tag(word_tokenize(text))]"
      ],
      "metadata": {
        "id": "NM9ljYrLfwpU"
      },
      "execution_count": null,
      "outputs": []
    },
    {
      "cell_type": "code",
      "source": [
        "nltk.download('wordnet')\n",
        "nltk.download('punkt')\n",
        "nltk.download('stopwords')"
      ],
      "metadata": {
        "colab": {
          "base_uri": "https://localhost:8080/"
        },
        "id": "TBr-XDjKgDcT",
        "outputId": "d30aadc5-736b-47f0-b362-14374f895d77"
      },
      "execution_count": null,
      "outputs": [
        {
          "output_type": "stream",
          "name": "stdout",
          "text": [
            "[nltk_data] Downloading package wordnet to /root/nltk_data...\n",
            "[nltk_data]   Package wordnet is already up-to-date!\n",
            "[nltk_data] Downloading package punkt to /root/nltk_data...\n",
            "[nltk_data]   Package punkt is already up-to-date!\n",
            "[nltk_data] Downloading package stopwords to /root/nltk_data...\n",
            "[nltk_data]   Package stopwords is already up-to-date!\n"
          ]
        },
        {
          "output_type": "execute_result",
          "data": {
            "text/plain": [
              "True"
            ]
          },
          "metadata": {},
          "execution_count": 25
        }
      ]
    },
    {
      "cell_type": "code",
      "source": [
        "lemmatize_sentence('I am reading a book')"
      ],
      "metadata": {
        "colab": {
          "base_uri": "https://localhost:8080/"
        },
        "id": "P-8nwIsrf2yE",
        "outputId": "25d45fb6-0fcb-41a2-da66-57964b743cd6"
      },
      "execution_count": null,
      "outputs": [
        {
          "output_type": "execute_result",
          "data": {
            "text/plain": [
              "['i', 'be', 'read', 'a', 'book']"
            ]
          },
          "metadata": {},
          "execution_count": 26
        }
      ]
    },
    {
      "cell_type": "markdown",
      "source": [
        "The above output shows the lemmatized format of the string."
      ],
      "metadata": {
        "id": "ToD_oNOSvA7G"
      }
    },
    {
      "cell_type": "markdown",
      "source": [
        "## Stopwords and Punctuation"
      ],
      "metadata": {
        "id": "yC4sroYOgQMx"
      }
    },
    {
      "cell_type": "markdown",
      "source": [
        "The stopword-json is given at the url given below and it has stopwrds in 50 languages\n",
        "https://github.com/6/stopwords-json"
      ],
      "metadata": {
        "id": "qMGeEK-CgU-j"
      }
    },
    {
      "cell_type": "code",
      "source": [
        "# Stopwords from stopwords-json\n",
        "stopwords_json = {\"en\":[\"a\",\"a's\",\"able\",\"about\",\"above\",\"according\",\"accordingly\",\"across\",\"actually\",\"after\",\"afterwards\",\"again\",\"against\",\"ain't\",\"all\",\"allow\",\"allows\",\"almost\",\"alone\",\"along\",\"already\",\"also\",\"although\",\"always\",\"am\",\"among\",\"amongst\",\"an\",\"and\",\"another\",\"any\",\"anybody\",\"anyhow\",\"anyone\",\"anything\",\"anyway\",\"anyways\",\"anywhere\",\"apart\",\"appear\",\"appreciate\",\"appropriate\",\"are\",\"aren't\",\"around\",\"as\",\"aside\",\"ask\",\"asking\",\"associated\",\"at\",\"available\",\"away\",\"awfully\",\"b\",\"be\",\"became\",\"because\",\"become\",\"becomes\",\"becoming\",\"been\",\"before\",\"beforehand\",\"behind\",\"being\",\"believe\",\"below\",\"beside\",\"besides\",\"best\",\"better\",\"between\",\"beyond\",\"both\",\"brief\",\"but\",\"by\",\"c\",\"c'mon\",\"c's\",\"came\",\"can\",\"can't\",\"cannot\",\"cant\",\"cause\",\"causes\",\"certain\",\"certainly\",\"changes\",\"clearly\",\"co\",\"com\",\"come\",\"comes\",\"concerning\",\"consequently\",\"consider\",\"considering\",\"contain\",\"containing\",\"contains\",\"corresponding\",\"could\",\"couldn't\",\"course\",\"currently\",\"d\",\"definitely\",\"described\",\"despite\",\"did\",\"didn't\",\"different\",\"do\",\"does\",\"doesn't\",\"doing\",\"don't\",\"done\",\"down\",\"downwards\",\"during\",\"e\",\"each\",\"edu\",\"eg\",\"eight\",\"either\",\"else\",\"elsewhere\",\"enough\",\"entirely\",\"especially\",\"et\",\"etc\",\"even\",\"ever\",\"every\",\"everybody\",\"everyone\",\"everything\",\"everywhere\",\"ex\",\"exactly\",\"example\",\"except\",\"f\",\"far\",\"few\",\"fifth\",\"first\",\"five\",\"followed\",\"following\",\"follows\",\"for\",\"former\",\"formerly\",\"forth\",\"four\",\"from\",\"further\",\"furthermore\",\"g\",\"get\",\"gets\",\"getting\",\"given\",\"gives\",\"go\",\"goes\",\"going\",\"gone\",\"got\",\"gotten\",\"greetings\",\"h\",\"had\",\"hadn't\",\"happens\",\"hardly\",\"has\",\"hasn't\",\"have\",\"haven't\",\"having\",\"he\",\"he's\",\"hello\",\"help\",\"hence\",\"her\",\"here\",\"here's\",\"hereafter\",\"hereby\",\"herein\",\"hereupon\",\"hers\",\"herself\",\"hi\",\"him\",\"himself\",\"his\",\"hither\",\"hopefully\",\"how\",\"howbeit\",\"however\",\"i\",\"i'd\",\"i'll\",\"i'm\",\"i've\",\"ie\",\"if\",\"ignored\",\"immediate\",\"in\",\"inasmuch\",\"inc\",\"indeed\",\"indicate\",\"indicated\",\"indicates\",\"inner\",\"insofar\",\"instead\",\"into\",\"inward\",\"is\",\"isn't\",\"it\",\"it'd\",\"it'll\",\"it's\",\"its\",\"itself\",\"j\",\"just\",\"k\",\"keep\",\"keeps\",\"kept\",\"know\",\"known\",\"knows\",\"l\",\"last\",\"lately\",\"later\",\"latter\",\"latterly\",\"least\",\"less\",\"lest\",\"let\",\"let's\",\"like\",\"liked\",\"likely\",\"little\",\"look\",\"looking\",\"looks\",\"ltd\",\"m\",\"mainly\",\"many\",\"may\",\"maybe\",\"me\",\"mean\",\"meanwhile\",\"merely\",\"might\",\"more\",\"moreover\",\"most\",\"mostly\",\"much\",\"must\",\"my\",\"myself\",\"n\",\"name\",\"namely\",\"nd\",\"near\",\"nearly\",\"necessary\",\"need\",\"needs\",\"neither\",\"never\",\"nevertheless\",\"new\",\"next\",\"nine\",\"no\",\"nobody\",\"non\",\"none\",\"noone\",\"nor\",\"normally\",\"not\",\"nothing\",\"novel\",\"now\",\"nowhere\",\"o\",\"obviously\",\"of\",\"off\",\"often\",\"oh\",\"ok\",\"okay\",\"old\",\"on\",\"once\",\"one\",\"ones\",\"only\",\"onto\",\"or\",\"other\",\"others\",\"otherwise\",\"ought\",\"our\",\"ours\",\"ourselves\",\"out\",\"outside\",\"over\",\"overall\",\"own\",\"p\",\"particular\",\"particularly\",\"per\",\"perhaps\",\"placed\",\"please\",\"plus\",\"possible\",\"presumably\",\"probably\",\"provides\",\"q\",\"que\",\"quite\",\"qv\",\"r\",\"rather\",\"rd\",\"re\",\"really\",\"reasonably\",\"regarding\",\"regardless\",\"regards\",\"relatively\",\"respectively\",\"right\",\"s\",\"said\",\"same\",\"saw\",\"say\",\"saying\",\"says\",\"second\",\"secondly\",\"see\",\"seeing\",\"seem\",\"seemed\",\"seeming\",\"seems\",\"seen\",\"self\",\"selves\",\"sensible\",\"sent\",\"serious\",\"seriously\",\"seven\",\"several\",\"shall\",\"she\",\"should\",\"shouldn't\",\"since\",\"six\",\"so\",\"some\",\"somebody\",\"somehow\",\"someone\",\"something\",\"sometime\",\"sometimes\",\"somewhat\",\"somewhere\",\"soon\",\"sorry\",\"specified\",\"specify\",\"specifying\",\"still\",\"sub\",\"such\",\"sup\",\"sure\",\"t\",\"t's\",\"take\",\"taken\",\"tell\",\"tends\",\"th\",\"than\",\"thank\",\"thanks\",\"thanx\",\"that\",\"that's\",\"thats\",\"the\",\"their\",\"theirs\",\"them\",\"themselves\",\"then\",\"thence\",\"there\",\"there's\",\"thereafter\",\"thereby\",\"therefore\",\"therein\",\"theres\",\"thereupon\",\"these\",\"they\",\"they'd\",\"they'll\",\"they're\",\"they've\",\"think\",\"third\",\"this\",\"thorough\",\"thoroughly\",\"those\",\"though\",\"three\",\"through\",\"throughout\",\"thru\",\"thus\",\"to\",\"together\",\"too\",\"took\",\"toward\",\"towards\",\"tried\",\"tries\",\"truly\",\"try\",\"trying\",\"twice\",\"two\",\"u\",\"un\",\"under\",\"unfortunately\",\"unless\",\"unlikely\",\"until\",\"unto\",\"up\",\"upon\",\"us\",\"use\",\"used\",\"useful\",\"uses\",\"using\",\"usually\",\"uucp\",\"v\",\"value\",\"various\",\"very\",\"via\",\"viz\",\"vs\",\"w\",\"want\",\"wants\",\"was\",\"wasn't\",\"way\",\"we\",\"we'd\",\"we'll\",\"we're\",\"we've\",\"welcome\",\"well\",\"went\",\"were\",\"weren't\",\"what\",\"what's\",\"whatever\",\"when\",\"whence\",\"whenever\",\"where\",\"where's\",\"whereafter\",\"whereas\",\"whereby\",\"wherein\",\"whereupon\",\"wherever\",\"whether\",\"which\",\"while\",\"whither\",\"who\",\"who's\",\"whoever\",\"whole\",\"whom\",\"whose\",\"why\",\"will\",\"willing\",\"wish\",\"with\",\"within\",\"without\",\"won't\",\"wonder\",\"would\",\"wouldn't\",\"x\",\"y\",\"yes\",\"yet\",\"you\",\"you'd\",\"you'll\",\"you're\",\"you've\",\"your\",\"yours\",\"yourself\",\"yourselves\",\"z\",\"zero\"]}\n",
        "stopwords_json_en = set(stopwords_json['en'])"
      ],
      "metadata": {
        "id": "poGRah_WgUrn"
      },
      "execution_count": null,
      "outputs": []
    },
    {
      "cell_type": "code",
      "source": [
        "# Stopwords from nltk\n",
        "stopwords_nltk_en = set(stopwords.words('english'))"
      ],
      "metadata": {
        "id": "Tob6Z6fFgUoH"
      },
      "execution_count": null,
      "outputs": []
    },
    {
      "cell_type": "code",
      "source": [
        "# Punctuations from string library of python\n",
        "stopwords_punct = set(punctuation)"
      ],
      "metadata": {
        "id": "8KMgewx_f7VF"
      },
      "execution_count": null,
      "outputs": []
    },
    {
      "cell_type": "code",
      "source": [
        "# Combining all stopwords and punctuations\n",
        "stoplist_combined = set.union(stopwords_nltk_en, stopwords_punct)"
      ],
      "metadata": {
        "id": "s8NetnNEg6xb"
      },
      "execution_count": null,
      "outputs": []
    },
    {
      "cell_type": "code",
      "source": [
        "def preprocess_text(text):\n",
        "    return [word for word in lemmatize_sentence(text) if word not in stoplist_combined and not word.isdigit()]"
      ],
      "metadata": {
        "id": "J04LLJEtg_pb"
      },
      "execution_count": null,
      "outputs": []
    },
    {
      "cell_type": "code",
      "source": [
        "train_sentences[0]"
      ],
      "metadata": {
        "colab": {
          "base_uri": "https://localhost:8080/",
          "height": 72
        },
        "id": "yBnXjSZDhOXY",
        "outputId": "8eb8b66a-efc4-4495-bb6a-eb88ccd5324c"
      },
      "execution_count": null,
      "outputs": [
        {
          "output_type": "execute_result",
          "data": {
            "application/vnd.google.colaboratory.intrinsic+json": {
              "type": "string"
            },
            "text/plain": [
              "'Stuning even for the non-gamer: This sound track was beautiful! It paints the senery in your mind so well I would recomend it even to people who hate vid. game music! I have played the game Chrono Cross but out of all of the games I have ever played it has the best music! It backs away from crude keyboarding and takes a fresher step with grate guitars and soulful orchestras. It would impress anyone who cares to listen! ^_^'"
            ]
          },
          "metadata": {},
          "execution_count": 32
        }
      ]
    },
    {
      "cell_type": "code",
      "source": [
        "preprocess_text(train_sentences[0])"
      ],
      "metadata": {
        "colab": {
          "base_uri": "https://localhost:8080/"
        },
        "id": "PQs7kgXDhRR5",
        "outputId": "1d2cf495-d4a3-4ccd-c8c3-faec3ddd520f"
      },
      "execution_count": null,
      "outputs": [
        {
          "output_type": "execute_result",
          "data": {
            "text/plain": [
              "['stun',\n",
              " 'even',\n",
              " 'non-gamer',\n",
              " 'sound',\n",
              " 'track',\n",
              " 'beautiful',\n",
              " 'paint',\n",
              " 'senery',\n",
              " 'mind',\n",
              " 'well',\n",
              " 'would',\n",
              " 'recomend',\n",
              " 'even',\n",
              " 'people',\n",
              " 'hate',\n",
              " 'vid',\n",
              " 'game',\n",
              " 'music',\n",
              " 'play',\n",
              " 'game',\n",
              " 'chrono',\n",
              " 'cross',\n",
              " 'game',\n",
              " 'ever',\n",
              " 'play',\n",
              " 'best',\n",
              " 'music',\n",
              " 'back',\n",
              " 'away',\n",
              " 'crude',\n",
              " 'keyboarding',\n",
              " 'take',\n",
              " 'fresh',\n",
              " 'step',\n",
              " 'grate',\n",
              " 'guitar',\n",
              " 'soulful',\n",
              " 'orchestra',\n",
              " 'would',\n",
              " 'impress',\n",
              " 'anyone',\n",
              " 'care',\n",
              " 'listen',\n",
              " '^_^']"
            ]
          },
          "metadata": {},
          "execution_count": 33
        }
      ]
    },
    {
      "cell_type": "markdown",
      "source": [
        "The above output shows the text after removing stopwords and punctuations."
      ],
      "metadata": {
        "id": "fC66rAjjvREY"
      }
    },
    {
      "cell_type": "markdown",
      "source": [
        "## Vectorization"
      ],
      "metadata": {
        "id": "guKaLdA5oDqV"
      }
    },
    {
      "cell_type": "markdown",
      "source": [
        "The dataset corpus is converted into Document Term Matrix (DTM) using CountVectorizer."
      ],
      "metadata": {
        "id": "ZbpyZ6zQvlLT"
      }
    },
    {
      "cell_type": "code",
      "source": [
        "count_vect = CountVectorizer(analyzer=preprocess_text, max_features=6000)"
      ],
      "metadata": {
        "id": "x_rrTXowhacE"
      },
      "execution_count": null,
      "outputs": []
    },
    {
      "cell_type": "code",
      "source": [
        "train_set = count_vect.fit_transform(train_sentences[:10000])"
      ],
      "metadata": {
        "id": "7q_Lf817oHpf"
      },
      "execution_count": null,
      "outputs": []
    },
    {
      "cell_type": "code",
      "source": [
        "train_set"
      ],
      "metadata": {
        "colab": {
          "base_uri": "https://localhost:8080/"
        },
        "id": "VI2Aol8JpZ3h",
        "outputId": "26d06aae-434b-4a8d-9261-ab74a0e05fd1"
      },
      "execution_count": null,
      "outputs": [
        {
          "output_type": "execute_result",
          "data": {
            "text/plain": [
              "<10000x6000 sparse matrix of type '<class 'numpy.int64'>'\n",
              "\twith 315070 stored elements in Compressed Sparse Row format>"
            ]
          },
          "metadata": {},
          "execution_count": 36
        }
      ]
    },
    {
      "cell_type": "code",
      "source": [
        "train_set.toarray().shape"
      ],
      "metadata": {
        "colab": {
          "base_uri": "https://localhost:8080/"
        },
        "id": "HPgbCuk_oL_Q",
        "outputId": "7d445290-9d1b-4bbc-dbb8-7f8bf506880e"
      },
      "execution_count": null,
      "outputs": [
        {
          "output_type": "execute_result",
          "data": {
            "text/plain": [
              "(10000, 6000)"
            ]
          },
          "metadata": {},
          "execution_count": 37
        }
      ]
    },
    {
      "cell_type": "markdown",
      "source": [
        "The document term matrix consists of 6000 columns and 10000 rows"
      ],
      "metadata": {
        "id": "s23XtqJ8v6nI"
      }
    },
    {
      "cell_type": "code",
      "source": [
        "count_vect.get_feature_names_out()"
      ],
      "metadata": {
        "colab": {
          "base_uri": "https://localhost:8080/"
        },
        "id": "2uC2FPGnvj7T",
        "outputId": "578e34c3-60eb-4dd1-ab70-18e7e77cb5b7"
      },
      "execution_count": null,
      "outputs": [
        {
          "output_type": "execute_result",
          "data": {
            "text/plain": [
              "array([\"''\", \"'d\", \"'em\", ..., 'zombie', 'zone', 'zoom'], dtype=object)"
            ]
          },
          "metadata": {},
          "execution_count": 38
        }
      ]
    },
    {
      "cell_type": "markdown",
      "source": [
        "The above output shows the features present in the document term matrix"
      ],
      "metadata": {
        "id": "poiWlwxDwGQ7"
      }
    },
    {
      "cell_type": "markdown",
      "source": [
        "The function defined below calculates the sparsity of the matrix."
      ],
      "metadata": {
        "id": "lVxNylD4wP9a"
      }
    },
    {
      "cell_type": "code",
      "source": [
        "# calculate sparsity\n",
        "def calculateSparsity(matrix):\n",
        "    return 1.0 - (np.count_nonzero(matrix))/ float(matrix.size)"
      ],
      "metadata": {
        "id": "b4TcL0fzcsOt"
      },
      "execution_count": null,
      "outputs": []
    },
    {
      "cell_type": "code",
      "source": [
        "sparsity_original_train = calculateSparsity(train_set.todense())\n",
        "print(\"Sparsity of Original Train Set: \", round(sparsity_original_train, 4))"
      ],
      "metadata": {
        "colab": {
          "base_uri": "https://localhost:8080/"
        },
        "id": "-yEN4MA5pIVm",
        "outputId": "0c23b288-b6f0-45fb-9cb0-d942af9a099f"
      },
      "execution_count": null,
      "outputs": [
        {
          "output_type": "stream",
          "name": "stdout",
          "text": [
            "Sparsity of Original Train Set:  0.9947\n"
          ]
        }
      ]
    },
    {
      "cell_type": "code",
      "source": [
        "test_set = count_vect.transform(test_sentences[:1000])"
      ],
      "metadata": {
        "id": "HCQG2bWQooU0"
      },
      "execution_count": null,
      "outputs": []
    },
    {
      "cell_type": "code",
      "source": [
        "sparsity_original_test = calculateSparsity(test_set.todense())\n",
        "print(\"Sparsity of Original Test Set: \", round(sparsity_original_test,4))"
      ],
      "metadata": {
        "colab": {
          "base_uri": "https://localhost:8080/"
        },
        "id": "i3f2EBqhpViA",
        "outputId": "53f6ec12-ab84-4b6b-ef67-4c537b838c7b"
      },
      "execution_count": null,
      "outputs": [
        {
          "output_type": "stream",
          "name": "stdout",
          "text": [
            "Sparsity of Original Test Set:  0.9948\n"
          ]
        }
      ]
    },
    {
      "cell_type": "code",
      "source": [
        "test_set.toarray().shape"
      ],
      "metadata": {
        "colab": {
          "base_uri": "https://localhost:8080/"
        },
        "id": "oVykf3F4o1Lo",
        "outputId": "c6e81084-1691-41df-be5e-296b068e300a"
      },
      "execution_count": null,
      "outputs": [
        {
          "output_type": "execute_result",
          "data": {
            "text/plain": [
              "(1000, 6000)"
            ]
          },
          "metadata": {},
          "execution_count": 43
        }
      ]
    },
    {
      "cell_type": "markdown",
      "source": [
        "## Most Frequent Words"
      ],
      "metadata": {
        "id": "HgBiFB9dxMDA"
      }
    },
    {
      "cell_type": "code",
      "source": [
        "most_freq_words = pd.DataFrame(count_vect.vocabulary_.items(), columns=['word', 'frequency'])[:100].sort_values(ascending=False, by = \"frequency\")[:20]\n",
        "most_freq_words.plot.bar(x=\"word\", y=\"frequency\", rot=70, title=\"Most Frequent Words\")\n",
        "plt.show()"
      ],
      "metadata": {
        "colab": {
          "base_uri": "https://localhost:8080/",
          "height": 341
        },
        "id": "BmCdVgdio5TO",
        "outputId": "0c61cce7-2784-46de-90b7-434b9b2b59b0"
      },
      "execution_count": null,
      "outputs": [
        {
          "output_type": "display_data",
          "data": {
            "image/png": "[encoded data removed]",
            "text/plain": [
              "<Figure size 432x288 with 1 Axes>"
            ]
          },
          "metadata": {
            "needs_background": "light"
          }
        }
      ]
    },
    {
      "cell_type": "markdown",
      "source": [
        "The above plot shows the top 20 frequent words. The words such as year, write, would, worth, work, well appear with highest frequency of 6000."
      ],
      "metadata": {
        "id": "Exo5grXWwfPg"
      }
    },
    {
      "cell_type": "markdown",
      "source": [
        "# Model and Evaluation"
      ],
      "metadata": {
        "id": "7AhWSEhhg_7o"
      }
    },
    {
      "cell_type": "markdown",
      "source": [
        "# Naive Bayes"
      ],
      "metadata": {
        "id": "FAK2_eOdQ3eX"
      }
    },
    {
      "cell_type": "markdown",
      "source": [
        "## Build the Model"
      ],
      "metadata": {
        "id": "hJKPr_FCxQC_"
      }
    },
    {
      "cell_type": "code",
      "source": [
        "nb_model = MultinomialNB()\n",
        "nb_model.fit(train_set, train_labels[:10000])"
      ],
      "metadata": {
        "colab": {
          "base_uri": "https://localhost:8080/"
        },
        "id": "gdPGCyyApmO-",
        "outputId": "a425c3e6-e87e-4b63-f39b-f92a9a6f6050"
      },
      "execution_count": null,
      "outputs": [
        {
          "output_type": "execute_result",
          "data": {
            "text/plain": [
              "MultinomialNB()"
            ]
          },
          "metadata": {},
          "execution_count": 45
        }
      ]
    },
    {
      "cell_type": "markdown",
      "source": [
        "## Prediction"
      ],
      "metadata": {
        "id": "Q4zqXCt5xr1x"
      }
    },
    {
      "cell_type": "code",
      "source": [
        "pred_labels = nb_model.predict(test_set)"
      ],
      "metadata": {
        "id": "WulJxAgMpzAd"
      },
      "execution_count": null,
      "outputs": []
    },
    {
      "cell_type": "markdown",
      "source": [
        "## Accuracy"
      ],
      "metadata": {
        "id": "Eauhhm4ZxyAU"
      }
    },
    {
      "cell_type": "code",
      "source": [
        "accuracy_naive_bayes = accuracy_score(test_labels[:1000], pred_labels) * 100\n",
        "print('Accuracy (Naive Bayes): ', round(accuracy_naive_bayes, 4), \"%\")"
      ],
      "metadata": {
        "colab": {
          "base_uri": "https://localhost:8080/"
        },
        "id": "RPtpW_WWxw-8",
        "outputId": "8fcb0f3b-fa76-4b2d-eb51-8d620b94edd5"
      },
      "execution_count": null,
      "outputs": [
        {
          "output_type": "stream",
          "name": "stdout",
          "text": [
            "Accuracy (Naive Bayes):  82.3 %\n"
          ]
        }
      ]
    },
    {
      "cell_type": "code",
      "source": [
        "gc.collect()"
      ],
      "metadata": {
        "colab": {
          "base_uri": "https://localhost:8080/"
        },
        "id": "_K0MMC1tsD_G",
        "outputId": "c44b5212-ae4f-46d3-879b-3058b1135e4b"
      },
      "execution_count": null,
      "outputs": [
        {
          "output_type": "execute_result",
          "data": {
            "text/plain": [
              "4702"
            ]
          },
          "metadata": {},
          "execution_count": 48
        }
      ]
    },
    {
      "cell_type": "markdown",
      "source": [
        "## Confusion Matrix"
      ],
      "metadata": {
        "id": "7ObPqXo9Prsh"
      }
    },
    {
      "cell_type": "code",
      "source": [
        "cm = confusion_matrix(test_labels[:1000], pred_labels)\n",
        "\n",
        "fig, ax = plt.subplots(figsize=(5, 5))\n",
        "ax.imshow(cm)\n",
        "ax.grid(False)\n",
        "ax.set_xlabel('Predicted outputs', fontsize=12, color='black')\n",
        "ax.set_ylabel('Actual outputs', fontsize=12, color='black')\n",
        "ax.xaxis.set(ticks=range(2))\n",
        "ax.yaxis.set(ticks=range(2))\n",
        "for i in range(2):\n",
        "    for j in range(2):\n",
        "        ax.text(j, i, cm[i, j], ha='center', va='center', color='white')\n",
        "plt.show()"
      ],
      "metadata": {
        "colab": {
          "base_uri": "https://localhost:8080/",
          "height": 337
        },
        "outputId": "e568e099-04d8-47b0-cc24-5ed0dda85957",
        "id": "QfZYPKPsPrsh"
      },
      "execution_count": null,
      "outputs": [
        {
          "output_type": "display_data",
          "data": {
            "image/png": "[encoded data removed]",
            "text/plain": [
              "<Figure size 360x360 with 1 Axes>"
            ]
          },
          "metadata": {
            "needs_background": "light"
          }
        }
      ]
    },
    {
      "cell_type": "markdown",
      "source": [
        "## Specificity"
      ],
      "metadata": {
        "id": "z85njwekQJXM"
      }
    },
    {
      "cell_type": "markdown",
      "source": [
        "![image.png](data:image/png;base64,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)"
      ],
      "metadata": {
        "id": "EZzHq4dIRFH8"
      }
    },
    {
      "cell_type": "code",
      "source": [
        "specificity_naive_bayes = cm[0,0]/(cm[0,0]+cm[0,1]) * 100\n",
        "print('Specificity (Naive Bayes): ', round(specificity_naive_bayes, 4), \"%\")"
      ],
      "metadata": {
        "colab": {
          "base_uri": "https://localhost:8080/"
        },
        "id": "7GsYIcZjQPeS",
        "outputId": "4c0fcc02-5a6f-4ead-aaac-da277589379e"
      },
      "execution_count": null,
      "outputs": [
        {
          "output_type": "stream",
          "name": "stdout",
          "text": [
            "Specificity (Naive Bayes):  82.9317 %\n"
          ]
        }
      ]
    },
    {
      "cell_type": "markdown",
      "source": [
        "## Sensitivity"
      ],
      "metadata": {
        "id": "2j_bUzVmRPUx"
      }
    },
    {
      "cell_type": "markdown",
      "source": [
        "![image.png](data:image/png;base64,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)"
      ],
      "metadata": {
        "id": "G7eVQlIsRToT"
      }
    },
    {
      "cell_type": "code",
      "source": [
        "sensitivity_naive_bayes = cm[1,1]/(cm[1,0]+cm[1,1]) * 100\n",
        "print('Sensitivity (Naive Bayes): ', round(sensitivity_naive_bayes, 4), \"%\")"
      ],
      "metadata": {
        "colab": {
          "base_uri": "https://localhost:8080/"
        },
        "id": "MddiDrmDRa4v",
        "outputId": "ae6b5fb4-a819-41ef-9bd0-a0378b4bd2e6"
      },
      "execution_count": null,
      "outputs": [
        {
          "output_type": "stream",
          "name": "stdout",
          "text": [
            "Sensitivity (Naive Bayes):  81.6733 %\n"
          ]
        }
      ]
    },
    {
      "cell_type": "markdown",
      "source": [
        "## Classification Report"
      ],
      "metadata": {
        "id": "Iy-nQa1QPrsh"
      }
    },
    {
      "cell_type": "code",
      "source": [
        "print(classification_report(test_labels[:1000], pred_labels))"
      ],
      "metadata": {
        "colab": {
          "base_uri": "https://localhost:8080/"
        },
        "outputId": "99974ade-6f42-4cb2-9712-66e99244551d",
        "id": "kvPm4dSuPrsh"
      },
      "execution_count": null,
      "outputs": [
        {
          "output_type": "stream",
          "name": "stdout",
          "text": [
            "              precision    recall  f1-score   support\n",
            "\n",
            "           0       0.82      0.83      0.82       498\n",
            "           1       0.83      0.82      0.82       502\n",
            "\n",
            "    accuracy                           0.82      1000\n",
            "   macro avg       0.82      0.82      0.82      1000\n",
            "weighted avg       0.82      0.82      0.82      1000\n",
            "\n"
          ]
        }
      ]
    },
    {
      "cell_type": "markdown",
      "source": [
        "## ROC Curve and AUC"
      ],
      "metadata": {
        "id": "uiY8eU_RPrsh"
      }
    },
    {
      "cell_type": "code",
      "source": [
        "y_prob = nb_model.predict_proba(test_set)\n",
        "\n",
        "y_prob = y_prob[:, 1]\n",
        "\n",
        "n_classes = len(nb_model.classes_)\n",
        "\n",
        "fpr, tpr,_ = roc_curve(test_labels[:1000], y_prob)\n",
        "roc_auc = auc(fpr, tpr)"
      ],
      "metadata": {
        "id": "Yf0_nNPMYFTZ"
      },
      "execution_count": null,
      "outputs": []
    },
    {
      "cell_type": "code",
      "source": [
        "lw = 2\n",
        "plt.plot(\n",
        "    fpr,\n",
        "    tpr,\n",
        "    color=\"darkorange\",\n",
        "    lw=lw,\n",
        "    label=\"ROC curve (area = %0.2f)\" % roc_auc,\n",
        ")\n",
        "plt.plot([0, 1], [0, 1], color=\"navy\", lw=lw, linestyle=\"--\")\n",
        "plt.xlim([0.0, 1.0])\n",
        "plt.ylim([0.0, 1.05])\n",
        "plt.xlabel(\"False Positive Rate\")\n",
        "plt.ylabel(\"True Positive Rate\")\n",
        "plt.title(\"Receiver Operating Characteristic Curve\")\n",
        "plt.legend(loc=\"lower right\")\n",
        "plt.show()"
      ],
      "metadata": {
        "colab": {
          "base_uri": "https://localhost:8080/",
          "height": 295
        },
        "outputId": "af25a468-1e76-4b3e-b1a3-b495188baba5",
        "id": "jSu5XK9zYFTa"
      },
      "execution_count": null,
      "outputs": [
        {
          "output_type": "display_data",
          "data": {
            "image/png": "[encoded data removed]",
            "text/plain": [
              "<Figure size 432x288 with 1 Axes>"
            ]
          },
          "metadata": {
            "needs_background": "light"
          }
        }
      ]
    },
    {
      "cell_type": "markdown",
      "source": [
        "The above plot shows the ROC plot for naive bayes classifier. The area under curve is 0.91 in this case."
      ],
      "metadata": {
        "id": "8fUPT11jxBgs"
      }
    },
    {
      "cell_type": "markdown",
      "source": [
        "# LDA"
      ],
      "metadata": {
        "id": "QLqTXTtzR1_A"
      }
    },
    {
      "cell_type": "markdown",
      "source": [
        "## Build the Model"
      ],
      "metadata": {
        "id": "PwV0liBsx3zt"
      }
    },
    {
      "cell_type": "code",
      "source": [
        "lda_model = LinearDiscriminantAnalysis()\n",
        "lda_model.fit(train_set.todense(), train_labels[:10000])"
      ],
      "metadata": {
        "colab": {
          "base_uri": "https://localhost:8080/"
        },
        "id": "vFUFSyOMp7Or",
        "outputId": "86975850-35c5-4bd0-b245-2784ca41b113"
      },
      "execution_count": null,
      "outputs": [
        {
          "output_type": "execute_result",
          "data": {
            "text/plain": [
              "LinearDiscriminantAnalysis()"
            ]
          },
          "metadata": {},
          "execution_count": 55
        }
      ]
    },
    {
      "cell_type": "markdown",
      "source": [
        "## Prediction"
      ],
      "metadata": {
        "id": "HgA7L6_mx8UG"
      }
    },
    {
      "cell_type": "code",
      "source": [
        "lda_pred_labels = lda_model.predict(test_set)"
      ],
      "metadata": {
        "id": "HuqKANzUqcEX"
      },
      "execution_count": null,
      "outputs": []
    },
    {
      "cell_type": "markdown",
      "source": [
        "## Accuracy"
      ],
      "metadata": {
        "id": "0eW7teqryC05"
      }
    },
    {
      "cell_type": "code",
      "source": [
        "accuracy_lda = accuracy_score(test_labels[:1000], lda_pred_labels ) * 100\n",
        "print('Accuracy (LDA): ', round(accuracy_lda, 4), \"%\")"
      ],
      "metadata": {
        "colab": {
          "base_uri": "https://localhost:8080/"
        },
        "id": "PavaHui8yCB3",
        "outputId": "d8bf62d3-cd23-4c95-9721-9c119ff2d844"
      },
      "execution_count": null,
      "outputs": [
        {
          "output_type": "stream",
          "name": "stdout",
          "text": [
            "Accuracy (LDA):  73.0 %\n"
          ]
        }
      ]
    },
    {
      "cell_type": "markdown",
      "source": [
        "## Confusion Matrix"
      ],
      "metadata": {
        "id": "nC-dnDlnM9ag"
      }
    },
    {
      "cell_type": "code",
      "source": [
        "cm = confusion_matrix(test_labels[:1000], lda_pred_labels)\n",
        "\n",
        "fig, ax = plt.subplots(figsize=(5, 5))\n",
        "ax.imshow(cm)\n",
        "ax.grid(False)\n",
        "ax.set_xlabel('Predicted outputs', fontsize=12, color='black')\n",
        "ax.set_ylabel('Actual outputs', fontsize=12, color='black')\n",
        "ax.xaxis.set(ticks=range(2))\n",
        "ax.yaxis.set(ticks=range(2))\n",
        "for i in range(2):\n",
        "    for j in range(2):\n",
        "        ax.text(j, i, cm[i, j], ha='center', va='center', color='white')\n",
        "plt.show()"
      ],
      "metadata": {
        "colab": {
          "base_uri": "https://localhost:8080/",
          "height": 337
        },
        "outputId": "a258376b-696d-40c8-f7e6-ae9cc30eef4d",
        "id": "s92fjgICM9bI"
      },
      "execution_count": null,
      "outputs": [
        {
          "output_type": "display_data",
          "data": {
            "image/png": "[encoded data removed]",
            "text/plain": [
              "<Figure size 360x360 with 1 Axes>"
            ]
          },
          "metadata": {
            "needs_background": "light"
          }
        }
      ]
    },
    {
      "cell_type": "markdown",
      "source": [
        "## Specificity"
      ],
      "metadata": {
        "id": "r5qzUbh4SFBJ"
      }
    },
    {
      "cell_type": "markdown",
      "source": [
        "![image.png](data:image/png;base64,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)"
      ],
      "metadata": {
        "id": "W33LISikSFBJ"
      }
    },
    {
      "cell_type": "code",
      "source": [
        "specificity_lda = cm[0,0]/(cm[0,0]+cm[0,1]) * 100\n",
        "print('Specificity (LDA): ', round(specificity_lda, 4), \"%\")"
      ],
      "metadata": {
        "colab": {
          "base_uri": "https://localhost:8080/"
        },
        "outputId": "f3c915a0-e5f3-4fce-9ced-65ad8b9becbe",
        "id": "VO9YSF6ZSFBL"
      },
      "execution_count": null,
      "outputs": [
        {
          "output_type": "stream",
          "name": "stdout",
          "text": [
            "Specificity (LDA):  72.6908 %\n"
          ]
        }
      ]
    },
    {
      "cell_type": "markdown",
      "source": [
        "## Sensitivity"
      ],
      "metadata": {
        "id": "vS2F9dOtSFBL"
      }
    },
    {
      "cell_type": "markdown",
      "source": [
        "![image.png](data:image/png;base64,iVBORw0KGgoAAAANSUhEUgAAATsAAABaCAYAAADHA/GMAAAAAXNSR0IArs4c6QAAAARnQU1BAACxjwv8YQUAAAAJcEhZcwAAEnQAABJ0Ad5mH3gAAC1NSURBVHhe7d0JuHbV/D7wLWMIicxknkKSqaJXEY0qZU6lK5KZjEn/KEPGJGPGTCVllowhMs9kKvM8hczs//6s3KfV/p3zvs9z6pxO56z7uta11/hd872/a9jPc5F+QNfQ0NCwzLHW/54NDQ0NyxqN7BoaGlYEGtk1NDSsCDSya2hoWBFoZNfQ0LAi0MiuoaFhRaCRXUNDw4pAI7uGhoYVgUZ2DQ0XEP773/92udPvyR17DPznP/+ZsQP7v//97/KUJukgMmNqP3L++c9/Fj9I2oQl/nJF+4KioWGREZK56EUv2l3kIheZIZy11lqruOspyc4v9totfuJGjmdkMEhMPomb+NwpB6QsyxmN7BoaFhmmXIjmYhe72IxfTVI18YyJKmGJFzd5s/nFDuyRU0MeiFE4+3JEW8Y2NCwyQihzEVj95B/tS5oxEUUGExk1aGyQOFDLZB/nvVzRNLuGhkVGiGcuwqvJh7E/d/GLX7z4x49J+mhvITbgx4yXp+Jzk1nnEw1zOaORXUPDIsJ0i0FWCKfWsv7xj390l7jEJUo4ICv2Oh5I+69//as8EydGXP5jWKYiOcQmnBukJzvlWa5oZNfQsMgw5X7/+993Rx55ZPfVr361+9Of/lRIJkQznpLIKcR005vetNt55527zTffvJCTuN/+9re7E044ofvkJz9ZZPBj2BGZtNe85jW7293udt2d73zn7iY3ucmMZhdSTDpPZjmi7dk1NFwAQHDHH3989/nPf75be+21uzvc4Q6FwK5ylat0X/va17of/vCHxb7VVlt1W2yxRSGir3zlK93Xv/71ooWF/BDT5S53ue6qV71q96Mf/agQ3m9+85vuete7XrflllsWcrv5zW/e/eIXv+iOOeaY7qijjirxohWG2Gqtcbniov9vwP/sDQ0NCwyk5a7bj3/84+4lL3lJd5vb3Kbbc889uwc+8IHdbW972+6Pf/xj9+Uvf7m72c1u1u21117dHnvsUYjwzDPP7E4//fRu/fXX7+53v/t166yzzgxZXfayl+0uf/nLd5/97Ge7n//8591d73rX7qEPfWi36667lrQbbrhhSY9YaZI3utGNuutc5zrdpS996VImMpRruS9jm2bX0LCIQCp/+ctfiqZFo7vnPe/ZbbrppkU7Q4K0urPOOqtodVe/+tUL+VjG3vjGNy5L0Ste8Yrdta51rbKvJywamTghrKtd7WrFJO21r33tbtWqVd3GG2/c/fnPf+4+9rGPlTKIL73n+CBjOaKRXUPDIgIZIbOf/vSn3SabbFK0OcQGyO673/1uIaJ11123aHGAjK5xjWt0t7jFLbrrX//6hZjAUhZBcUtreYrckKFlrXT8ERpNMIQqnoMQZWEC8ZczGtk1NCwykNj222/fHXrooWVJiXDsoTm0OO2007rLXOYyRRujxYXQuPfee+9u9913LzJqbQxxSUtbRIZXvvKVS7gwV1bYkatwy10aHq2SP1Pv/y1nNLJraFhE0LIQkCWqvTTEFsL69a9/XZaZDhcsQ3O3Thrxrnvd6xatDTkhKfCkCdqr++tf/1qWuzRF/rQ4QKSWx4x9urvc5S5FyyOXQbaeyx2N7BoaLiCEtBCNgwkHENzI7kpXulKJk2Wmp7BoYTX+8Ic/dN/73veKHJoizVHcv/3tb93Pfvaz7kMf+lB38sknF7cDi1vf+tYzhxOB+MxyRiO7hoZFBNLKnhvNKwRGq3O1BOzPWcKG4DxpeOIhtPowQdjvfve7csoqjL/l6re+9a3i9/73v7874ogjujPOOKNcYdlnn3269dZbr8iQFty5S5mWM+G1S8UNDYsIhGTKjcnF/bgDDzyw+/SnP9296lWv6nbYYYdCeIjIyWuIDKSxNLXMRVjvfe97uyc96UnlcrG9OECMwix/kZxT3zvd6U6FSKW95CUvWcLJZcha7mhk19CwyKgJL18ynHjiid2+++5b9t6QlwvBTlZDcHlCpmw0sze/+c3dox/96O6GN7xh95jHPKYcZogjXB4OJZzu2qfLp2i1vCAEGbnLDW0Z29CwiBgTFdKxX/eTn/ykfFXhgIFGl3t0gByBW/oQGXLytYRlKz8HHq6z3P72ty97cz4Pc7XFPp49wBAdI61n8uBmj3s5opFdQ8MFgBAX0nLAgLAAWdHEIMSTZ4iqhgMIX2NYltLsLnWpS/2f+EztF7CHSCFxlivmTXZ1owWz+TWcg4VoHzKnlZv4rb8WHwiFyVIWaHY0NIR1y1vesuyzpV+zrEwasDQV5mnZ65Iwrc0prj07cZOuJrNAOktkIEf8fIHBLFdMTXYag8qbRkzjcNd+40YTVvuNw5cilDHljn2+qNNH3ursk4LM9MdcaWt/8VKO2t6weNDmDglCfDQzV0cQ1gYbbFCuhdQE5wkhMEifSuukNWRHswPp7AdGDngiuoB97I785YipamZSQd3omWgaMn7sjA4R7oi99hN/rom5lJA6peyM+qTsqcskiKw6LVmRmzZhnxTSkJlBmrTk1GYsk5t/0rA3LB60O03q73//eyE9S1G/csLPxWEaXsaV/jF/MvcgfcfP8pdBdvmUjH/ySP+2Pp6HZhekATVq7R4TmcbWAfHLk/9Sx2xEptzMfMgJxvX39o2caWTVcsbpanfs9eSp04z7q2HxgIx8xvWd73yn++Uvf1n86n7Ks36Zxd+48UVEvqUly9cX6cuMqbG8lYypyC4NriHHk22uxuSvs6CeVHPFX2oYk4E2qN3zQdJHVtzTtEnd5pEROVCHwzgcavc4rGFhYVz5nvWd73xnd+qppxbCYo499thyIZg9/ZdxkrGI6OzVHXfcceUiMjdZr3nNa4p/CC5pGs7GVGSn8TWgpw6Aelk3nmCxa/DEvzBBmTPAUsfYU7d6eTEJ6oHLeBHMd0DWbV2XEeKOqeNC/JVnHNaw8DBu8tWEMeCayA1ucIPuE5/4RNm/88sokH4SP2MRuUn7gx/8oJzcOsH1Le1JJ51U/OvxlPHGrHRMfalYo5scaUTf2+U2djqkVrv55ca2+PwubJNLuTPQLBeC1HeS2+eRES3Xh9/S198oisNou0mQ+OM2TV4Bd13uhDPZ12lYPOh3hGWfLW2fvkzfp/+Es4/HRPylYa/D07f8jTfzT3jG3krF1GSXTgENmEZNw6dBuUFYUNth7F5qUJ/UDdgZ/gYsqO+k9Ug67VbLJWOcx6SQrk4jj5R7jOTNiAPi1faGxcFs/V33Xd0X6eMa+rIee9KJV48txsus9e/ZmIrs0hGeSRbCA340lu9///vlOz0bqE6a0sh+jcGJkV9dYGptYykig0e92D0zeFLnDK5JETmzpeE3jSwgL+nIrSdBCFkZ2et48Q/4Nyw80vZB+iVKAnfGlL5lZutPcvJkSv+R/b9+rPOp+3klY2qyG0+u+vnb3/62+8xnPlN+UoZb3HSeX2bww4S+0dtpp526RzziETMdvFSRpvGMUad3vetdZUPY5zl+UltdJ8FYnuWF2/Pve9/7yneLt7rVrcrnQtNgPDm4LavZ7fs4rfvc5z5XftLbJ0R+8SLlkKYu+6T1aJg/6rYHy1n2zAX9FnJiF19Y7DAmL/7jvktcaGR3Nqb6wx0NqnPSAdxpaP7+KMTPyfgFB9/n3fe+9y1/JLLNNtuUfzjykzO+AfTDhXe7293+J/UczNZpY4zjpFPrsgD72A3jeKtD4ia+J3J6+MMfXgjKL8L696YxfONo45mWa6/S3oy0GcjJW7wvfelL3WMf+9hyOdSFUn+VB5OUsS5bHVceSO9Xv/pVIeaDDjqo9Bcy9Y1kysAoo0upTvFcSFXeWtbqyiEsEGdNcecKmw+S9zQytf/5WYb5QP51GeKO3zgsRJWyj+ddbfjV42vsvjDh/B4vMDXlZ5ABu04AmtsXv/jF8iOBW2+9dXf/+9+//HOSz1doGv6r8u53v3v55yPf8EWOZ23GqP3ydmOSb9zx8wSTPb/UCglnhCUe1PbECQyWDBjEYFnuUMbH1W6sJ25kcCMwP9Fz+OGHz/wgI9SdR6Zflv3mN79ZSAbJ0b4CcqRj6vKMQU7ikR8NwZOm7cKpE7uNNtqoPMUHMsVXn2c961ndox71qLLtkLap844d4geedfzEhTpeHV4j/pOilkEr9oINIidxUpbYGfE9lxL0QT0u5oL+TN9BxmSNOjxjYRLZSwHpo/RjbQ/G7mkx7wOKDBoNym6p9LrXva7cGzJ5tttuu5mfh04n+P7PgHMCeYUrXKH4QV0EdhNImkzcOny2zktDpXPTUBkQSZ+0cecpHnvixpCT00r2TBZakHBLcoYfI3+XQ/1h8ZOf/OTyG2P+9g4pip92ICcyaXfaBRFpk/weWfJnxFUO6SJn3DYpu/iewpEzTVQelq/yyBKXIdPPA73yla8sf8iCnN3gl1Z44KZ/TtyTf8Adw98LRvrsbSpX4gXxmwbJQ9rUtZYfv9quvep2SvkhchqWHtJHeEAf6bf06Xnps3NG7QTIBEgBars3rUmhgJZP7JB4Bp4J51+P7E/VGgEZtTFAPVPpgDuTmTx5pkHGaZKvcsSvliduQGbcnoz0ZKac/ExgWhjyQgrIQ1jiusFuz9ISl79lKRKJ3OQvPoN4tAl5XgxkK0vaOXI9+Y3d6g9kcyurMIbd8tn9K1pofp02dRHunpbfUbOEtrwVV9rEiSGHPwjT9kHixK6N5BOIKy9IPDJS3tR1TUhadZYm+aass0E5Eq+OK/2k+TYsDvRHxoUxw56xDNwx88VUml0GSAaXpLFbAr3hDW8oWoLf0LIssp9lkklnYJsICs8dWRmQwpGF2+O+E7QspiXQdPyFnP0mvwaRv6H7whe+UJZp9s38UoQ9QY1kX9BJsF+S8LtgltJIJ78GkcGuHLQwJ8cmPe2Kn3AE5QcQ/VExEnCbXf0sTwP7kNlfU3aXQe3T2a/0a7PqYimPFJEYkveDjOT5lQr/7K6e8hOWX5HVpspHI3O4oHxk2ee8xz3uUWSpp8ujymQPlAanfdRVG/v8yB8ik6HN/CGy7QPkKj8y3/3udxeSe8973lNeTtLf6173mukffaddydDWyqxstiAcdHhhZejosw9+8IPFLb1w8mjwysqPAbKVATJ+ErY6iMto61pe8uRfy0p8hj8TN0yab8PiIHygX9LHdd9lzrLPF1MfUGSwjDNmRzD27Qx+4SamycaE6BIXyOKH1Ew8hEErsiS2l2XCfvSjHy2T0Smlfz43ue0LimOiIiCyaS/SIBxy/Pb+xz/+8VIGYQisLq/TVH8W/IEPfKD8kzryQS40Mwah5p+aLAOdML/61a/ujjnmmFIuBzAIlkzaBg0JySFbxGlJqn7Ki1zszyEAJOGGvIMDy36/SmsP0FUce3bIAcHIQ92Q0jve8Y5CyP4VSlsiafXUBkhGOCIj33JTmBfP2972thJHG0srDPTP61//+vJSsGenjYSxO6zQDrRNLypto17qx+gLL4FsUYCDKf9u/6Y3vam0OYIP2WmfaHrip889kbR+V175rsl4OYjvGaOtvCzGpAryyCRKGcak2LA0oE8yP9NXNQHqyzrOvDAImQpDAWZMMEz2fiCsfpg8/YEHHtivv/76/TD5+kEj6w855JB+mCD9MBhL3GGwzdiB+/TTT+8PPfTQkm7TTTfth0nTDxOvP+WUU/odd9yxH8isf9nLXtYPk6o/9thj+yc+8Yn9QCj9c57znH7QPkqcgRT6nXbaqR8IrKR98Ytf3A/Lr34gyH4g4JKXMsvPcyCZfosttuhXrVrVn3DCCf2w3O0Hsu7f8pa39FtvvXW/4YYb9sNE7wetrqQdNJv+hS98YT90RL/VVlv1AwmXepAXnHnmmf3BBx/cD9pbv8suu/QDYRb/5BtwS3+f+9ynHwihf8ITntCfdtppJWzQaPuBwPp99tmnHwixP/zww/tNNtmkH8il1HEg6VLegw46qLTPQOolnCxusvXFa1/72n6zzTbrN9poo34g1X4g1FKG1F+9tMFAsqX95CWdMPAcXir9fvvt1w8vglKmHXbYoR80u9LHA3nPxB207VIfbT1op/0b3/jG4l8jeQfSDKTaP/3pT++HF8NUZtDm+0Fr79ddd91+u+22K+VmavljKGvCx/3WsDSgT2puAP2WcSYs9vlgqtfbkFF5hl25BxkzrEsb8Dv6Nrqd/nnz+jh5IKdyKkgDyttXGun5+4ORYYIUjeFFL3pRt+2225blKU3OclJ8b3CagqXc4x//+HIw4A1Ao/HWp43502HfCbq8bElo+UajGiZCySvl5vepT32qaDIuObsGY1+KfHlb8tF2aFr8A+WQX346O/WgoXjSOhxe0CJpfrQl/pC8tcHQaUV+Dgws+9Vn6Oyi+bm797jHPa4sbXMAIr32Eb755pt3D37wg4tmKS8yBhIoZRKXpqvtlF24pae2Ij99pU2+8Y1vdANBl706fSddHUe5BjIqmpr66AtLev2q7mfX6eylJXnawR+7KCcZqTuID5Gv/uQ98pGPLKuBSY0ltQ/naZy0X2NHuZnkoQ3SJ5BnwtMXKWMzF7wB/ZK+gdqf/ZwxNz9Mfam4hkGlAPwT5omY7F1ZXiEVE80e3q677lpICFIBv9xgn0+avfbaq3vAAx5QJrQ0BvSgoRU5g2ZXrnNk+SRvF5Mte31A7Y9GXHkx8cGS6ilPeUqZyIjU1Zc0JrJ5xjOeUZakLgZbyduf4q8+rouY0MiGPH6Wdm9961u7QZvsBg2vkKK6KKeyeH7kIx/pXvGKV5S4z372s0v6LOUy0Ux2bsvPI488spD0hz/84UIQ8ko7Kgu3F8dhhx1WlpSW0uqTTXrGslF57AciDvlJq00tZcX3RJpkyxsshZ/61KeWZfzDHvawQq6WyKmLeCmLJ/OCF7ygvLy8iHx0nn1QS3XL8QMOOKB7+ctf3g2abykvkCdO8iWHX9qjDlsdpJFW2dJPQdKLA8LG+dqmeOYzn1nsqdck+TYsDvSZjw2GFUqZI15edT8x4z6dFvO6epKnzBUKMhgzCO1zITqk4zoKMnnpS19aNC8Q30kprc9Escfz/Oc/v2zE20+jJdmvsy9Hw3KNgwwagXxMeI1jv4g2gbwQITjcMCnJQ5BPe9rTyiEFpKHs6SFS2p39LERp34xWmL2tQBr7VogMOTN3vOMdCymrr3AddPTRR5d8lQ3B0ixDvlB3EgJCUtoBYfun9xriOoxBmojer2JoSySi/sK1MVKzv0jjdd1HmLLsv//+hVBpiUcddVSJL4wBBOVAwkGHlwKNHBIO0iQdDEv80gb2JPWZMqufvUVhSJ52TeNESiAtGTXGg3YcPhvISTr2jLOULf4J40588AIblvbF3rD0oJ8cillV6bd6/IA+HY+baTFvsoMwcDAWZTIef/zx5W/eLH9oAyojnmWPJd8ee+xRNDgVpV14a+fna2zsy2O//fYrSypLM2mRiQm3yy67lM19SzpfIYCGsOHtMMEhgLxpizaxhaWMyoaY3ImTHy1t55137jbbbLOiKSIycTOp1INWhxzJRbzRxMhVThoibdHS+Nhjjy2akk7TSeko8pQZ0SIOS1J2p7TCGRAfiT3vec8rZUTa7i/moEU7Wb4ffPDBheQQtjpIZ5m+++67l/bbbbfdyv+RSiMs7edwQl8oqxcOrRuE12UFdWOngWpXy0canFNX/Y9Uab077rhjIV2aX0AOmWknBriVUx3VY1JETkBjNTagll1PjqAOD8Z+tbtOW2Mct8Zc6VYnby7MlmZ1ea8Jtbw1yZkr79XFD8SZK32wujBIeMaseTSbzGlwzlpgQqRQMjWgDFgaiAkEwhMHYdiXoVVl4oC04jjZk16YvRikZT8OsdhzQWaIwESutShkgdA87Z9ZAoJJSW6I0jKLtmZpF6Sx7HFZvtEIEY5TVGRlD8ipLqQuiMWyD9G5bmJvLESXzki+SF195Zk6yzP5il//lPbGG29cNMnEjSxu+2naFsHRlhALQxaCRjrsykQjls5LhBbjWg5N10m0OMI8DRpEj+yUJSfOQfJOeWogZJqvvvai8rTc117sruNoG/nEpD61G/SVOngpeOFNYvbcc89u7733Ls/4eQEoa/peHuOy8084qHftBn7pSxDOPYbwmKD2q/0DfrXsSZD4SRM7o2zxmxTj/Mf1H9tjAunTHrV/wM88ST51+WPSpnEH7BkfMYG+jJZX+88H/3dErwEZSAptYlu+IAhLGYURzqQy4wqkojGAbBxMmLz2pWhc9n+23377sueUBkpjmljIyaS1VLSBzh8RiIN0THiaVX0FIiZ1QDK0E9qRJY68LM9csZBf3iYmtmUfNy2C3JSFnyfysO+IDBAIf8STgckdQxbypKk6PKjby1MZyRSHTMQqzwwW9+5cKbFs9qUGQtMmwpXL1ZIcPNDcgExh4gjzowzKp/1yFxKUJfmA8sQgO8Qo3FaBPO35uUqDhHLJOmkDMuUvLGXUDspHa5/tIGI2Y3zYTrAS8HJkjD3ISyDy5ZV8PZn4yzvxlVUadv4pJ3vCuMEz8oA8SBrxE5ZyMPEXb1KkzBAZUOc/rTxImdUPUm7+saeesSfvpEm+/NUTyNem4hsXMJYnPDL4R+409TgvOLsFpkAaXgFVioblvhqC4Z/GFI6M7L3RMmhn2bQWFgM0MGGWmvaBTCiaF03K50wmZjRAhrZj8CNbE8aeHlkaVWPSGBECf1pRBrY9QhPEHp/y8rMHSIa9LSfIZLgvKCyTwJKZQY6WuDQy+SRPiJaKWE16bSFfE9NhDU1OXGWwt2X5Ji555JIVk8FBnvjaR7uIh6gsJ10oftCDHlROURFhBhIC8+JRh7RpIJxsbaM8ymgZKD3op+xjQuqWZ8iORi0PLwb9izC9BJBy2iWQVj6pk/6LPPWhCeqnNRlLdMZKIX7axMsl8oB8ZQjq/NM+NYGlzZnEZbjHdRnHqSEsdWNSDoY9aZlJIQ9llZ4JyBJWk+AkSBlruyeTujLB2A2pAyMs8kKW5BiLkZ1w9cAXSRe53OrgudCYmuzqgpqIljC0LAaBWH6qFG0ICXoTmyR+/cRSK2k1ir0dZGM5Y98GeQmnzTjcoDXQ0JBC3RnyMNn5kxHNDRKu8RCdTiDLqaelrXwcTthn8lWATmCQiPwtl03AyCLHgQny0IkIRFwyHY6YPOkwkDc53NrGIYsvGlI+nU+eF0EmuzI5Va3jARmMNIiEBuWwRztbujpUyYloBpe6IFLl0i7KphzaEmGLU+fhxaG8lqO0anGRbOokrrbn1lfIBeFpfwc18thiiy1m9ukiW3ymzgvWGtylrINd+LRIPdM2kc+e/MZ5Aj9pk75G0sSAdgTxIfUJIgtqf+UI6jR5jvOeC0krvnxSvyB1n0YeiJ8yJg9GHnWcPNMO7AmvEf86LZM84maCOu44z4XEVF9QQAqukDQEm/WWNBqFm3ZgMtKgLDtMaktFn04hirpRTR5xTUITzgSlKZhwNDek4lMx6WlT0okjjWsbJrw7ctmXAo0sX8TAz+SkhfBHLojGEtCENtERLc1RfrRUV1Rs3OeqijxpQZaGymZSKyuCUib7c0gQySm3uAgWCbjuoP6WkvWemyVvtFWaCqJBUDRC2op8ldcLQ5loWrRPLwGETRtURnWD1N1TOaTRRohbGyu3JbHlPo3ZS4pbeZVHeWmm4tEUHb5YYkdm3Wf6V/nVTXs6HFEW+YjLiMvUbih+g6xCEpW/OGtC4kRunXY8sWqM3fKeLU4tTxwySzkHJCwQp5aRMsUOkVmHjdOtDknnRQPmV9LXecRMg8iuyxd3La8Oj3vcfrPZxUv78Yt/7ON8avtCYmqyqxtAZZCPCWTy+EyLxmSZhWwsNSwZ733ve5c4JlYtg9s9N09kY7Oa1kWbM6GltfxNOg2IrBAFMhWGCGkaGRTiICOTUjwT2oXYVatWzRCGgeNJm0LWnojFt6U0UHuIiAzUk4aImMii0bFvueWWJV5IwXIRiZCDXE855ZRCLn71RBmVL5OHlobIEah40pKnLULq6sEgIPXQvpaL2sS1F8Q422DxpC1qQ4RkfxDZ6oO0k/zVSVvS0MTj5zSVQZKRpwy1bC8m7aDse+21VzmUoLGLFw0w8YGdEV67x/ZJUcvRntzGoPKP5SoL1O2p3aNZezlze9LcY68NP/2tbhljoK+92IQbb4nPbmx5kSqXPJXTGE55JqnzuA4hDm7jl7y6LdaExJFePbil96KzLeGln3qok/Zg1J0/u3pxy7suDxkUHuFJYxxn3gbia3vytX/6wOok8hYSU189UTGF0mAaS6d6WroKU2h2lTUAPfPWD2q7hk5aRkdKw9AcNJhwcjPYDCKNqpHEkY9w6cXR2OSmY+UvXsomXJi8PFMfeTHkMZABQWOSbwYazS1xpCc7+YrPTxx5iy+fNDUZJkvKmHhkpDzs4mlf8cbyQNnEEyad+Ay3dMohXFval2PnJ504yqs9QF20p7jqmvYgVxx2aVwfcveP3bUYWqAwsqFOC6mPJ7BDyhD3miA+kzKBJz/5kaN/PMXhL1y5UjZt4kDHy83kBO2l7p4pU+SDtFYQD3nIQ8qLQB9oQ/uwLmXbCpEOpJOePOkcVNF6XRuyAsgYnASpm3LpE+5xuaZByqh8ZAIZyu/7a6fagTjC1EN/cmvjwEV3yoOVmjb18vODtl7M4lJUfERg1ZWXsrIb8w4eXb63kpCHlZKrVRSDaes0Lab+gqKOrhIasS5k/DxrGCAZlJFR22E2N1MPJiAnedSyEg/majjxx3ITV1gdHtkgLpNJXA8Y8TIY6jQQeTVS9qRNXnXc2DMJa2Kt48YdiKutM+ESlnjjvGs38Is/JJ4nLdTpu2Wyu3vRMIOkSbmAn7RxB8qYfMdhsyHlSllijwyoy5x6MWlD5I58aP20cpORFmyVYFUhrn1QPzILvtyxSjEhDznkkHIXNP2PLE1aX63QaNwccFcxBya0cWltd1hZuGxt71q/TFJfSB2V3fhih7q+qeMkSHpgl86L1GeDLuCrj/Lnk0ny09b63H6xlYC9+PzCjhcMwvOjE+5gCldPbevLH1p/8tPn5LivahWI4NyP1XZWGpPWY76YnRFWA5WvGzgDK40Xv7phIelqJE38Z3PnGX+GO2F1/OThCXX6GokPwkJcdVp1gjqf1Ivhrg3UcfMc22u/yArqsDzlmZdE2hkSV9nHMlIHSLzEEcYNqSOMZVhqIAEDHEk4vHBx2HLa/Uen1wZojeQd+TXIl1/yFGe2eHMh8et0sZOtHdhTd/a0FzvtVNmRlJNjl61paj5ts7w3cW0TcCM7xsGLPVVbFbS79IM8TGhkn1UIDdcWQ8gS8flaiDZDC7Ts146TQrmZuj3tRfu1GvdQo5FPg8jRLrHT5m032Ru3atAG+jb1cEmc3aePrnG5KkWjU2dA3rao8k26dmHcQrA0RoYgP+1HBgK0N639bINYdaQ8C4mpyC4F8qzN6pDwDBTwzKCEWk7scevwYBwGtdszgyODZRw3+dYDqc6jRp1WXHWApI2sOt4YwhKefOq08avjQdzjfKGOy6+2Q7S6GnPlI17tBnHtPXrT+1LCVyE+S6MBuMBtHzKXvCHp6zyTz1h+ysF/trzXhOQxTk9uZAd1nS3HaFmu2tgftY9qktI2nIIjd5PYZE86S0/7nfZ6TU79kDzFyYsGWboWo01AOAJBgGTYcnGoQwOCyM8zqN3sccuT3Y2Ht7/97WVfO0t2GKerMQ6LGSN1sX/MkO0FwI8dQdH27Glrt/hrE3YE6uXnIA5xGj/27e3LBeIjSUStzVyotzJIny40zpdcMghq1AMxT2CPexynlhG3J/meMRC/oLaDtOLEPg6PW1iWJoGwlGWcNnL51QbG9jHGftwpY43Z0oJyjsPixyhbyj3GuB4wW7vm6a3s4MLVGZ/cuUJkcPqe1sSeK13tB7V/2i7uaTFXGv7aIXU3+Zi0DbsJZslGa7EEy3IT2dG6bMIjOxM9ckxw3ySrN9RtSJYDCiRhb06bQNICrSmfOCI6cWvtNuWs7THyISt2T0j+cSd+7NFmg9qd8Hq8k0f7dKCFQHOHkb+40Zid0tOGfaNuWR+5jDjaQtt5iTho4+fQ0ZZBIK6XjkMK7ZLL8IuF2WdGw4pDBm0GNxIwEE1YBGGfxaazt/ZSRiZgiALUx9LKNRkb8S6Pm6wmt2UtDcQSjvaG8KSTxhLWp2k230HbhACQownObUM+e1NpPzJcKaLR0WYs32h+yJ4Rro1TxiDy+TP6gFt9xI9GR3sXzp66SjtG8mLEC9FJx6QutF5EpM6IO+XISyTupM1Lix+3i/L8aMK0Wf72LB1aSCuOpxcoTVc7a29tI+5sZT+/0ciuocBgNKgZdtqM37LziyzPfe5zy96NCV1rBUsVyh8giEw2daNR5JDA5M4FbJvl0c5CQuqa036kI03kuDJh4oKlLzKVxsT1RB40RocXJjXtz96UsqQ85HvKj4ns9EHixO1Zk2UgT+VLWvJTDk9pY2dSP3Z1VxcnqrRdy/zkyRx99NHl13aEy1ca8qUnN362AsRHlsiOQfZOe5Fp8osGqb3kB2RIu9BoZNdQYDAyGcjevLQ4G9M0IXss3sLClzIysevlETeYUKknYxK6fG0SIiSTL6QSOcAeE7e9KCeLgOws7ZAIcnNp3UGCpzAX6oWH3CCEVxv5xd+TCQnEv3YHSa8ecQN5CYsBz8TVBgjJnmUunUvnMMV9UXuE2ghqOWkbT0t62jEy90LUjvZFlRHh0YBTN6To+o59UOMpZVwMNLJrmIGBF5NBDSaYgVpPsKWMejKO6wGpC8JyVYKmUZMdTaMGv6QlF5G6XO3ARloHBy6nO61mXMPweSJ5fozS6bVl8mxIW6eN50L6hUFUSRcg0oSTlfKKwy8Y188y3hKUP4LL9SLfpPuPFKeqym4/DsiNPE/ascMI9+Zoa16KCNMJLvKjEfrqR93EdyWH9ogU63ItBhrZNRRkwtXaB8Q+1hqWOmgNNTKxlD9kYflG+6KZWH5lQtdxgZud0UZIgbbi6xREQPvxK8guW7trZnlrG8DvM9rvI1u7QiY9OeTFzdAMyUUONCUGOdCGEJKrM8psg18c/pbK9gXZLRGRjvqkvJEfIuUH6WdkR5by2F9D1u4EujDuniFZtDBEBmNZNENlYEd07i3am/TTap7aAuGpm4MQdUKG4pIj30XDUPiGhnNhGITlz0+YGsOALX+utJRRl3HQumb+pCV1EpZ6+XOmYeKVP4c67rjjZv7wRRzx2dMOgwYz82cvAyn0hx12WEm7//77lz8kOuuss/pBUyx/mMQu/jC5SxlAWnJTHs9AvIFAyx9F7bbbbuVPi4al3rnMOuus0w/EWsq69tprn8ufGbSoUp6BYPth+TlTR2BP/ZNv/E488cTyp1MD6ZQ/ShqWtP1AqP1ASv0BBxzQb7vttuVPncRXF0a6GPHF22abbfqTTjppRvZAyOUPsNZbb71+33337YcXQz9o0f0GG2xQ/pTqjDPOKOnrdlhoNM2uoWAYCzNawDBYy9Nb13MYkDPu8RJvqUEZGXVR1mgynjHq4koETUbd/OhDPmtKHbVBnYYmxG8grPLDDA4gHFy4PkGbcZAxkE/RWjzJkCayIG2nbGlbIEd6+6QHHXRQ0RR9Y874bUVPB0W0RBqTJaKf1+Lvmd9g9BcGfpDW6XDdb6kzyDdPfpagluHK7MIwLY5deZzEaxv1S7t4pk2AZkerlKd4ZDJkuKDtGov2sjymgWo/+5jyIYM8ftpkodHIrqEgAzgDMJOBiT3xLgxIPVJe5TehUkcb8iYhf7f/EQ0kfLb6pl0sJ7P0c+poYouXcCQDkRUZZNbuvFQCS2+Xtt1V8/cAjM/afGmQvwtApvYC6/AY8Vz9cOKsHHVeQZ0fwkd2yutuXE5ipZGPLyjcrXNwETIit5aB7CxVkZoXRupIjjuKDmaceLtzJy/LYaSYwy5xU9aFRiO7hhlkwI0HH/eFDSl/npmg3Opj34tmx+5TMJMbxIvmVbcB8KPd5OsAE9ZGOw1oHL921/bkf27J50B44qbMIRDpGFDG2h+SNib+wA21TGSvLg4SXLRG2iCuryG8BBAvwop/Lcd+nsvn5GgHaRJH3siZBudeHbKjAbqcrK3rcmjTyF1INLJrmBMZtOC5GAPyvCJlzmQC9hBY3A4CEJYlpAmJsAIaVx23lpnTR9odbTBaSo1oRzHBudpweCYe/3OFjZCyBOLV9Qtmi5dnjDjSMuqBqCxZaZQOW5KmRtIlLE+aYa7uIDsaZQ2aomU++a7pOKGmeWZZTM5s9VgonLt1GhqWATKBov2YWLQHbhPM5MypJz9LURPSck44AoRM6siTzomnaycm7OoI4ryCzJBXiMHeFpOw+E+KxE07aAOEpw6+4/WclHykR/iu3yDt7PVJzwiXj6WsdsoJspNppCgMPCfN87yikV3DsoOJVk9sJJXJBQjLdQjXNEzUXNVgB5MvaWo5CPPUU08taV2jsDyzjKPtLQRS9kBZQnLCmEmJIvHTNkhOXVwb4e9KS53XmuBbX2lpa9K5s6gd6vIopy0CS9fkm31HkO9iLWGhkV3DssKYqEy4Gm70+wTKT1aZnCbtEUcc0Z188snn+kmipCOPHHGdfvqhS3ffpPP072ZkLgRS/hAIOz/184yZBIkrrcOZ1NmdQfXmducQgU8CbeFHN901pG36A3wXtCHl9bTUp/VZ0tLofJJnjzDlCQknzUJi6p9lb2hYyjBpmEymIHaT2edRJpxrHD6Fc/nVUiuHDbSNmuwYE9J1ExqdpZi0vnc1mS0Bc5q7EEhdEBPCkK88Q37TQF0Quj00ZXb52c8yOUkl08Xqev9yLtjv9AKwB6cNkZn0uVIiH9CWCDYXjZ3wjvf2Ur9p6zItpv5Z9oaGpQzDmcmEywSqh3nCAGGYjGPiSDiSA5O2lhEkbcjx/IT85C9vSFnq8rPX5Z4LSVuXU9nJifxp65LypYx1mcjKtkAgPLLZa/dioJFdw7KDIW2ymYAmXiZkvScHIYlM8po0VucnPXnsDH/x2BcC8mPkkbzHRDIpIocMz8h0OEMm9zSIvIBcfiFQSJm1Uw5/gnFZFhKLR6sNDYuI8cSJ28QC7kxyJOVpMgb8ahni5qZ/SC5p4j4/IT8m9pTFs9b0EmdNCNlETuTzV4+8GCZF0jM5mGDIqNuijofo0v7csS8WGtk1LDuYcDGZUJmAJlmeTPzryc4/aWO4aT6Jzz0tQUyDcVmYlDlh0+Qtbk1C7GSpm3rEPSlSplruuDxp+8Sbrey5ShP3QqItYxuWJTKxQlSZTHEH7PUkhDptUBNFjUyfOv35ibpsKc9cZZkW55e8uox1e4ztTJ0XN21zIV8aNRrZNTQ0rAicP6+IhoaGhiWORnYNDQ0rAo3sGhoaVgQa2TU0NKwINLJraGhYEWhk19DQsCLQyK6hoWFFoJFdQ0PDikAju4aGhhWBRnYNDQ0rAF33/wGJ8JbrDCaPSQAAAABJRU5ErkJggg==)"
      ],
      "metadata": {
        "id": "9SxVgLjUSFBL"
      }
    },
    {
      "cell_type": "code",
      "source": [
        "sensitivity_lda = cm[1,1]/(cm[1,0]+cm[1,1]) * 100\n",
        "print('Sensitivity (LDA): ', round(sensitivity_lda, 4), \"%\")"
      ],
      "metadata": {
        "colab": {
          "base_uri": "https://localhost:8080/"
        },
        "id": "p6p8074hSFBN",
        "outputId": "7bf06cc9-6ffe-45e5-8796-1b0b482433cf"
      },
      "execution_count": null,
      "outputs": [
        {
          "output_type": "stream",
          "name": "stdout",
          "text": [
            "Sensitivity (LDA):  73.3068 %\n"
          ]
        }
      ]
    },
    {
      "cell_type": "markdown",
      "source": [
        "## Classification Report"
      ],
      "metadata": {
        "id": "wv9EPKc4M9bK"
      }
    },
    {
      "cell_type": "code",
      "source": [
        "print(classification_report(test_labels[:1000], lda_pred_labels))"
      ],
      "metadata": {
        "colab": {
          "base_uri": "https://localhost:8080/"
        },
        "outputId": "be227c57-2240-4b2f-e1b4-fc0bdf94aacb",
        "id": "MN3LvKYHM9bK"
      },
      "execution_count": null,
      "outputs": [
        {
          "output_type": "stream",
          "name": "stdout",
          "text": [
            "              precision    recall  f1-score   support\n",
            "\n",
            "           0       0.73      0.73      0.73       498\n",
            "           1       0.73      0.73      0.73       502\n",
            "\n",
            "    accuracy                           0.73      1000\n",
            "   macro avg       0.73      0.73      0.73      1000\n",
            "weighted avg       0.73      0.73      0.73      1000\n",
            "\n"
          ]
        }
      ]
    },
    {
      "cell_type": "markdown",
      "source": [
        "## ROC Curve and AUC\n",
        "\n",
        "---\n",
        "\n"
      ],
      "metadata": {
        "id": "8wnHo_pDM9bL"
      }
    },
    {
      "cell_type": "code",
      "source": [
        "y_prob = lda_model.predict_proba(test_set)\n",
        "\n",
        "y_prob = y_prob[:, 1]\n",
        "\n",
        "n_classes = len(lda_model.classes_)\n",
        "\n",
        "fpr, tpr,_ = roc_curve(test_labels[:1000], y_prob)\n",
        "roc_auc = auc(fpr, tpr)"
      ],
      "metadata": {
        "id": "g0JzTG18M9bM"
      },
      "execution_count": null,
      "outputs": []
    },
    {
      "cell_type": "code",
      "source": [
        "lw = 2\n",
        "plt.plot(\n",
        "    fpr,\n",
        "    tpr,\n",
        "    color=\"darkorange\",\n",
        "    lw=lw,\n",
        "    label=\"ROC curve (area = %0.2f)\" % roc_auc,\n",
        ")\n",
        "plt.plot([0, 1], [0, 1], color=\"navy\", lw=lw, linestyle=\"--\")\n",
        "plt.xlim([0.0, 1.0])\n",
        "plt.ylim([0.0, 1.05])\n",
        "plt.xlabel(\"False Positive Rate\")\n",
        "plt.ylabel(\"True Positive Rate\")\n",
        "plt.title(\"Receiver Operating Characteristic Curve\")\n",
        "plt.legend(loc=\"lower right\")\n",
        "plt.show()"
      ],
      "metadata": {
        "colab": {
          "base_uri": "https://localhost:8080/",
          "height": 295
        },
        "outputId": "158a1a29-c2c9-4d0d-de94-dbf7af2d6e77",
        "id": "hbFUY9qvM9bM"
      },
      "execution_count": null,
      "outputs": [
        {
          "output_type": "display_data",
          "data": {
            "image/png": "[encoded data removed]",
            "text/plain": [
              "<Figure size 432x288 with 1 Axes>"
            ]
          },
          "metadata": {
            "needs_background": "light"
          }
        }
      ]
    },
    {
      "cell_type": "markdown",
      "source": [
        "The above plot shows the ROC curve for LDA classifier with the area under curve of 0.80."
      ],
      "metadata": {
        "id": "A_160FclxKK6"
      }
    },
    {
      "cell_type": "markdown",
      "source": [
        "# Dimensionality Reduction"
      ],
      "metadata": {
        "id": "5ghpO83fN8Be"
      }
    },
    {
      "cell_type": "code",
      "source": [
        "count_vect_reduced = CountVectorizer(analyzer=preprocess_text, max_features=2000)"
      ],
      "metadata": {
        "id": "db1KHZ0YYEug"
      },
      "execution_count": null,
      "outputs": []
    },
    {
      "cell_type": "code",
      "source": [
        "train_set_reduced = count_vect_reduced.fit_transform(train_sentences[:10000])"
      ],
      "metadata": {
        "id": "blRhn2pNYEug"
      },
      "execution_count": null,
      "outputs": []
    },
    {
      "cell_type": "code",
      "source": [
        "train_set_reduced"
      ],
      "metadata": {
        "colab": {
          "base_uri": "https://localhost:8080/"
        },
        "outputId": "960b4e9a-f2a8-4284-cf99-9556a31a434e",
        "id": "fBLghf7tYEuh"
      },
      "execution_count": null,
      "outputs": [
        {
          "output_type": "execute_result",
          "data": {
            "text/plain": [
              "<10000x2000 sparse matrix of type '<class 'numpy.int64'>'\n",
              "\twith 273906 stored elements in Compressed Sparse Row format>"
            ]
          },
          "metadata": {},
          "execution_count": 66
        }
      ]
    },
    {
      "cell_type": "code",
      "source": [
        "train_set_reduced.toarray().shape"
      ],
      "metadata": {
        "colab": {
          "base_uri": "https://localhost:8080/"
        },
        "outputId": "9cf71124-9f3d-48cc-e9a6-13b7240f2667",
        "id": "efTmQ1PaYEuh"
      },
      "execution_count": null,
      "outputs": [
        {
          "output_type": "execute_result",
          "data": {
            "text/plain": [
              "(10000, 2000)"
            ]
          },
          "metadata": {},
          "execution_count": 67
        }
      ]
    },
    {
      "cell_type": "markdown",
      "source": [
        "After dimensionality reduction, the document term matrix (dtm) consists of 2000 features."
      ],
      "metadata": {
        "id": "jl5H_gIzxajg"
      }
    },
    {
      "cell_type": "code",
      "source": [
        "count_vect_reduced.get_feature_names_out()"
      ],
      "metadata": {
        "colab": {
          "base_uri": "https://localhost:8080/"
        },
        "outputId": "81b3a5bb-7cff-4e3c-c5f1-a495f0412622",
        "id": "i58uX-oWYEuh"
      },
      "execution_count": null,
      "outputs": [
        {
          "output_type": "execute_result",
          "data": {
            "text/plain": [
              "array([\"''\", \"'d\", \"'ll\", ..., 'yr', 'zen', 'zero'], dtype=object)"
            ]
          },
          "metadata": {},
          "execution_count": 68
        }
      ]
    },
    {
      "cell_type": "code",
      "source": [
        "sparsity_reduced_train = calculateSparsity(train_set_reduced.todense())\n",
        "print(\"Sparsity of Lower Dimensional Train Set: \", round(sparsity_reduced_train,4))"
      ],
      "metadata": {
        "colab": {
          "base_uri": "https://localhost:8080/"
        },
        "outputId": "f8748e5a-5cf7-47db-d4b1-57e007cdf292",
        "id": "VIVpXou3YEuh"
      },
      "execution_count": null,
      "outputs": [
        {
          "output_type": "stream",
          "name": "stdout",
          "text": [
            "Sparsity of Lower Dimensional Train Set:  0.9863\n"
          ]
        }
      ]
    },
    {
      "cell_type": "code",
      "source": [
        "test_set_reduced = count_vect_reduced.transform(test_sentences[:1000])"
      ],
      "metadata": {
        "id": "GhTGTxM-YEuh"
      },
      "execution_count": null,
      "outputs": []
    },
    {
      "cell_type": "code",
      "source": [
        "sparsity_reduced_test = calculateSparsity(test_set_reduced.todense())\n",
        "print(\"Sparsity of Lower Dimensional Test Set: \", round(sparsity_reduced_test,4))"
      ],
      "metadata": {
        "colab": {
          "base_uri": "https://localhost:8080/"
        },
        "outputId": "f6a44f9d-6a3a-4efc-f8fa-a2dc90135c67",
        "id": "cr8aZgaXYEuh"
      },
      "execution_count": null,
      "outputs": [
        {
          "output_type": "stream",
          "name": "stdout",
          "text": [
            "Sparsity of Lower Dimensional Test Set:  0.9864\n"
          ]
        }
      ]
    },
    {
      "cell_type": "code",
      "source": [
        "test_set_reduced.toarray().shape"
      ],
      "metadata": {
        "colab": {
          "base_uri": "https://localhost:8080/"
        },
        "outputId": "346c3a9a-81e7-4d24-f255-589f4fae3bfc",
        "id": "gvX8AEHIYEui"
      },
      "execution_count": null,
      "outputs": [
        {
          "output_type": "execute_result",
          "data": {
            "text/plain": [
              "(1000, 2000)"
            ]
          },
          "metadata": {},
          "execution_count": 72
        }
      ]
    },
    {
      "cell_type": "markdown",
      "source": [
        "# Naive Bayes"
      ],
      "metadata": {
        "id": "YQGn2W6QSffm"
      }
    },
    {
      "cell_type": "markdown",
      "source": [
        "## Build the Model"
      ],
      "metadata": {
        "id": "ktzc9o93Qbfr"
      }
    },
    {
      "cell_type": "code",
      "source": [
        "nb_model_reduced = MultinomialNB()\n",
        "nb_model_reduced.fit(train_set_reduced, train_labels[:10000])"
      ],
      "metadata": {
        "colab": {
          "base_uri": "https://localhost:8080/"
        },
        "outputId": "b8d78d24-e3b0-4fb5-8986-c356c1ac3550",
        "id": "NHQkBwf9Qbft"
      },
      "execution_count": null,
      "outputs": [
        {
          "output_type": "execute_result",
          "data": {
            "text/plain": [
              "MultinomialNB()"
            ]
          },
          "metadata": {},
          "execution_count": 73
        }
      ]
    },
    {
      "cell_type": "markdown",
      "source": [
        "## Prediction"
      ],
      "metadata": {
        "id": "YZN3FPa4Qbfu"
      }
    },
    {
      "cell_type": "code",
      "source": [
        "pred_labels_nb_reduced = nb_model_reduced.predict(test_set_reduced)"
      ],
      "metadata": {
        "id": "9sKBycJ5Qbfv"
      },
      "execution_count": null,
      "outputs": []
    },
    {
      "cell_type": "markdown",
      "source": [
        "## Accuracy"
      ],
      "metadata": {
        "id": "9Jh3VY_TQbfw"
      }
    },
    {
      "cell_type": "code",
      "source": [
        "accuracy_naive_bayes_reduced = accuracy_score(test_labels[:1000], pred_labels_nb_reduced ) * 100\n",
        "print('Accuracy (Naive Bayes): ', round(accuracy_naive_bayes_reduced, 4), \"%\")"
      ],
      "metadata": {
        "colab": {
          "base_uri": "https://localhost:8080/"
        },
        "outputId": "00880437-9e45-4f47-a0aa-eef5f5551bc6",
        "id": "TZ9RAIaVQbfw"
      },
      "execution_count": null,
      "outputs": [
        {
          "output_type": "stream",
          "name": "stdout",
          "text": [
            "Accuracy (Naive Bayes):  82.7 %\n"
          ]
        }
      ]
    },
    {
      "cell_type": "code",
      "source": [
        "gc.collect()"
      ],
      "metadata": {
        "colab": {
          "base_uri": "https://localhost:8080/"
        },
        "outputId": "8d06404f-667f-41dc-a8b2-864bd06b5ee4",
        "id": "G4oPBm3qQbfx"
      },
      "execution_count": null,
      "outputs": [
        {
          "output_type": "execute_result",
          "data": {
            "text/plain": [
              "7346"
            ]
          },
          "metadata": {},
          "execution_count": 76
        }
      ]
    },
    {
      "cell_type": "markdown",
      "source": [
        "## Confusion Matrix"
      ],
      "metadata": {
        "id": "QjkIrXmMQbfy"
      }
    },
    {
      "cell_type": "code",
      "source": [
        "cm = confusion_matrix(test_labels[:1000], pred_labels_nb_reduced)\n",
        "\n",
        "fig, ax = plt.subplots(figsize=(5, 5))\n",
        "ax.imshow(cm)\n",
        "ax.grid(False)\n",
        "ax.set_xlabel('Predicted outputs', fontsize=12, color='black')\n",
        "ax.set_ylabel('Actual outputs', fontsize=12, color='black')\n",
        "ax.xaxis.set(ticks=range(2))\n",
        "ax.yaxis.set(ticks=range(2))\n",
        "for i in range(2):\n",
        "    for j in range(2):\n",
        "        ax.text(j, i, cm[i, j], ha='center', va='center', color='white')\n",
        "plt.show()"
      ],
      "metadata": {
        "colab": {
          "base_uri": "https://localhost:8080/",
          "height": 337
        },
        "outputId": "3e8c7848-e8b6-4613-9e0c-c8cd0cdaf555",
        "id": "SisbbjqXQbfy"
      },
      "execution_count": null,
      "outputs": [
        {
          "output_type": "display_data",
          "data": {
            "image/png": "[encoded data removed]",
            "text/plain": [
              "<Figure size 360x360 with 1 Axes>"
            ]
          },
          "metadata": {
            "needs_background": "light"
          }
        }
      ]
    },
    {
      "cell_type": "markdown",
      "source": [
        "## Specificity"
      ],
      "metadata": {
        "id": "ECXOzOGwTDHL"
      }
    },
    {
      "cell_type": "markdown",
      "source": [
        "![image.png](data:image/png;base64,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)"
      ],
      "metadata": {
        "id": "2y2YdwYgTDHM"
      }
    },
    {
      "cell_type": "code",
      "source": [
        "specificity_naive_bayes_reduced = cm[0,0]/(cm[0,0]+cm[0,1]) * 100\n",
        "print('Specificity (Naive Bayes - Lower Dimension): ', round(specificity_naive_bayes_reduced, 4), \"%\")"
      ],
      "metadata": {
        "colab": {
          "base_uri": "https://localhost:8080/"
        },
        "outputId": "49a9299c-f7ba-4e0e-dca7-95644c8e01c9",
        "id": "ycQY6oI-TDHN"
      },
      "execution_count": null,
      "outputs": [
        {
          "output_type": "stream",
          "name": "stdout",
          "text": [
            "Specificity (Naive Bayes - Lower Dimension):  81.7269 %\n"
          ]
        }
      ]
    },
    {
      "cell_type": "markdown",
      "source": [
        "## Sensitivity"
      ],
      "metadata": {
        "id": "If7uYUOZTDHO"
      }
    },
    {
      "cell_type": "markdown",
      "source": [
        "![image.png](data:image/png;base64,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)"
      ],
      "metadata": {
        "id": "WSaUQ_ZuTDHO"
      }
    },
    {
      "cell_type": "code",
      "source": [
        "sensitivity_naive_bayes_reduced = cm[1,1]/(cm[1,0]+cm[1,1]) * 100\n",
        "print('Sensitivity (Naive Bayes - Lower Dimension): ', round(sensitivity_naive_bayes_reduced, 4), \"%\")"
      ],
      "metadata": {
        "colab": {
          "base_uri": "https://localhost:8080/"
        },
        "outputId": "201c6c8d-01a7-4bb8-f261-c449a7690782",
        "id": "HPBgw0gRTDHP"
      },
      "execution_count": null,
      "outputs": [
        {
          "output_type": "stream",
          "name": "stdout",
          "text": [
            "Sensitivity (Naive Bayes - Lower Dimension):  83.6653 %\n"
          ]
        }
      ]
    },
    {
      "cell_type": "markdown",
      "source": [
        "## Classification Report"
      ],
      "metadata": {
        "id": "XpEXtDjaQbfz"
      }
    },
    {
      "cell_type": "code",
      "source": [
        "print(classification_report(test_labels[:1000], pred_labels_nb_reduced))"
      ],
      "metadata": {
        "colab": {
          "base_uri": "https://localhost:8080/"
        },
        "outputId": "0e9f72b0-ac58-432f-8411-affcc1cd08f9",
        "id": "C7EOEKazQbf0"
      },
      "execution_count": null,
      "outputs": [
        {
          "output_type": "stream",
          "name": "stdout",
          "text": [
            "              precision    recall  f1-score   support\n",
            "\n",
            "           0       0.83      0.82      0.82       498\n",
            "           1       0.82      0.84      0.83       502\n",
            "\n",
            "    accuracy                           0.83      1000\n",
            "   macro avg       0.83      0.83      0.83      1000\n",
            "weighted avg       0.83      0.83      0.83      1000\n",
            "\n"
          ]
        }
      ]
    },
    {
      "cell_type": "markdown",
      "source": [
        "## ROC Curve and AUC"
      ],
      "metadata": {
        "id": "oAwfMRQeQbf0"
      }
    },
    {
      "cell_type": "code",
      "source": [
        "y_prob = nb_model_reduced.predict_proba(test_set_reduced)\n",
        "\n",
        "y_prob = y_prob[:, 1]\n",
        "\n",
        "n_classes = len(nb_model_reduced.classes_)\n",
        "\n",
        "fpr, tpr,_ = roc_curve(test_labels[:1000], y_prob)\n",
        "roc_auc = auc(fpr, tpr)"
      ],
      "metadata": {
        "id": "i6xOO2-9Qbf1"
      },
      "execution_count": null,
      "outputs": []
    },
    {
      "cell_type": "code",
      "source": [
        "lw = 2\n",
        "plt.plot(\n",
        "    fpr,\n",
        "    tpr,\n",
        "    color=\"darkorange\",\n",
        "    lw=lw,\n",
        "    label=\"ROC curve (area = %0.2f)\" % roc_auc,\n",
        ")\n",
        "plt.plot([0, 1], [0, 1], color=\"navy\", lw=lw, linestyle=\"--\")\n",
        "plt.xlim([0.0, 1.0])\n",
        "plt.ylim([0.0, 1.05])\n",
        "plt.xlabel(\"False Positive Rate\")\n",
        "plt.ylabel(\"True Positive Rate\")\n",
        "plt.title(\"Receiver Operating Characteristic Curve\")\n",
        "plt.legend(loc=\"lower right\")\n",
        "plt.show()"
      ],
      "metadata": {
        "colab": {
          "base_uri": "https://localhost:8080/",
          "height": 295
        },
        "outputId": "c4cc967e-d16f-4d30-e9f2-1423cf735c58",
        "id": "FKVXlc-sQbf2"
      },
      "execution_count": null,
      "outputs": [
        {
          "output_type": "display_data",
          "data": {
            "image/png": "[encoded data removed]",
            "text/plain": [
              "<Figure size 432x288 with 1 Axes>"
            ]
          },
          "metadata": {
            "needs_background": "light"
          }
        }
      ]
    },
    {
      "cell_type": "markdown",
      "source": [
        "The above plot shows ROC curve for naive bayes classifier after dimensionality reduction. The area under curve is 0.90 in this case."
      ],
      "metadata": {
        "id": "f0qeI0KAxsmJ"
      }
    },
    {
      "cell_type": "markdown",
      "source": [
        "# LDA"
      ],
      "metadata": {
        "id": "pMVw-SLISt-x"
      }
    },
    {
      "cell_type": "markdown",
      "source": [
        "## Build the Model"
      ],
      "metadata": {
        "id": "WFMTgN8DQbf2"
      }
    },
    {
      "cell_type": "code",
      "source": [
        "lda_model_reduced = LinearDiscriminantAnalysis()\n",
        "lda_model_reduced.fit(train_set_reduced.todense(), train_labels[:10000])"
      ],
      "metadata": {
        "colab": {
          "base_uri": "https://localhost:8080/"
        },
        "outputId": "776d2df6-9bb8-4db7-bd1f-deb33138b3fd",
        "id": "TzhOkU1vQbf3"
      },
      "execution_count": null,
      "outputs": [
        {
          "output_type": "execute_result",
          "data": {
            "text/plain": [
              "LinearDiscriminantAnalysis()"
            ]
          },
          "metadata": {},
          "execution_count": 83
        }
      ]
    },
    {
      "cell_type": "markdown",
      "source": [
        "## Prediction"
      ],
      "metadata": {
        "id": "NiS-QxWjQbf4"
      }
    },
    {
      "cell_type": "code",
      "source": [
        "reduced_lda_pred_labels = lda_model_reduced.predict(test_set_reduced.todense())"
      ],
      "metadata": {
        "id": "bvNLXZ6EQbf4"
      },
      "execution_count": null,
      "outputs": []
    },
    {
      "cell_type": "markdown",
      "source": [
        "## Accuracy"
      ],
      "metadata": {
        "id": "bzjAUgrTQbf5"
      }
    },
    {
      "cell_type": "code",
      "source": [
        "accuracy_lda_reduced = accuracy_score(test_labels[:1000], reduced_lda_pred_labels ) * 100\n",
        "print('Accuracy (LDA): ', round(accuracy_lda_reduced, 4), \"%\")"
      ],
      "metadata": {
        "colab": {
          "base_uri": "https://localhost:8080/"
        },
        "outputId": "4539487c-ab7b-4823-c375-1cbb263047d0",
        "id": "nikzj7ZiQbf6"
      },
      "execution_count": null,
      "outputs": [
        {
          "output_type": "stream",
          "name": "stdout",
          "text": [
            "Accuracy (LDA):  83.0 %\n"
          ]
        }
      ]
    },
    {
      "cell_type": "markdown",
      "source": [
        "## Confusion Matrix"
      ],
      "metadata": {
        "id": "n7wRoJwQQbf7"
      }
    },
    {
      "cell_type": "code",
      "source": [
        "cm = confusion_matrix(test_labels[:1000], reduced_lda_pred_labels)\n",
        "\n",
        "fig, ax = plt.subplots(figsize=(5, 5))\n",
        "ax.imshow(cm)\n",
        "ax.grid(False)\n",
        "ax.set_xlabel('Predicted outputs', fontsize=12, color='black')\n",
        "ax.set_ylabel('Actual outputs', fontsize=12, color='black')\n",
        "ax.xaxis.set(ticks=range(2))\n",
        "ax.yaxis.set(ticks=range(2))\n",
        "for i in range(2):\n",
        "    for j in range(2):\n",
        "        ax.text(j, i, cm[i, j], ha='center', va='center', color='white')\n",
        "plt.show()"
      ],
      "metadata": {
        "colab": {
          "base_uri": "https://localhost:8080/",
          "height": 337
        },
        "outputId": "10987340-736c-4086-853b-90202b409aed",
        "id": "1RfT82ZFQbf7"
      },
      "execution_count": null,
      "outputs": [
        {
          "output_type": "display_data",
          "data": {
            "image/png": "[encoded data removed]",
            "text/plain": [
              "<Figure size 360x360 with 1 Axes>"
            ]
          },
          "metadata": {
            "needs_background": "light"
          }
        }
      ]
    },
    {
      "cell_type": "markdown",
      "source": [
        "## Specificity"
      ],
      "metadata": {
        "id": "9KSqRTzNTl3R"
      }
    },
    {
      "cell_type": "markdown",
      "source": [
        "![image.png](data:image/png;base64,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)"
      ],
      "metadata": {
        "id": "KnYzpMdlTl3U"
      }
    },
    {
      "cell_type": "code",
      "source": [
        "specificity_lda_reduced = cm[0,0]/(cm[0,0]+cm[0,1]) * 100\n",
        "print('Specificity (LDA - Lower Dimension): ', round(specificity_lda_reduced, 4), \"%\")"
      ],
      "metadata": {
        "colab": {
          "base_uri": "https://localhost:8080/"
        },
        "outputId": "53daf770-69ef-444f-9009-026739093a71",
        "id": "jmVIai30Tl3W"
      },
      "execution_count": null,
      "outputs": [
        {
          "output_type": "stream",
          "name": "stdout",
          "text": [
            "Specificity (LDA - Lower Dimension):  81.5261 %\n"
          ]
        }
      ]
    },
    {
      "cell_type": "markdown",
      "source": [
        "## Sensitivity"
      ],
      "metadata": {
        "id": "fsHrQnC9Tl3W"
      }
    },
    {
      "cell_type": "markdown",
      "source": [
        "![image.png](data:image/png;base64,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)"
      ],
      "metadata": {
        "id": "wSowuHvaTl3W"
      }
    },
    {
      "cell_type": "code",
      "source": [
        "sensitivity_lda_reduced = cm[1,1]/(cm[1,0]+cm[1,1]) * 100\n",
        "print('Sensitivity (Naive Bayes - Lower Dimension): ', round(sensitivity_lda_reduced, 4), \"%\")"
      ],
      "metadata": {
        "colab": {
          "base_uri": "https://localhost:8080/"
        },
        "outputId": "c18d014f-b1de-4d23-cdaa-9e9e19cf2fbe",
        "id": "n2l_RcAaTl3Y"
      },
      "execution_count": null,
      "outputs": [
        {
          "output_type": "stream",
          "name": "stdout",
          "text": [
            "Sensitivity (Naive Bayes - Lower Dimension):  84.4622 %\n"
          ]
        }
      ]
    },
    {
      "cell_type": "markdown",
      "source": [
        "## Classification Report"
      ],
      "metadata": {
        "id": "z54JiQxxQbf8"
      }
    },
    {
      "cell_type": "code",
      "source": [
        "print(classification_report(test_labels[:1000], reduced_lda_pred_labels))"
      ],
      "metadata": {
        "colab": {
          "base_uri": "https://localhost:8080/"
        },
        "outputId": "0349d257-1931-4293-fbbe-9f604026ead5",
        "id": "-FnYS9DFQbf9"
      },
      "execution_count": null,
      "outputs": [
        {
          "output_type": "stream",
          "name": "stdout",
          "text": [
            "              precision    recall  f1-score   support\n",
            "\n",
            "           0       0.84      0.82      0.83       498\n",
            "           1       0.82      0.84      0.83       502\n",
            "\n",
            "    accuracy                           0.83      1000\n",
            "   macro avg       0.83      0.83      0.83      1000\n",
            "weighted avg       0.83      0.83      0.83      1000\n",
            "\n"
          ]
        }
      ]
    },
    {
      "cell_type": "markdown",
      "source": [
        "## ROC Curve and AUC"
      ],
      "metadata": {
        "id": "9m_4aRoKQbf-"
      }
    },
    {
      "cell_type": "code",
      "source": [
        "y_prob = lda_model_reduced.predict_proba(test_set_reduced.todense())\n",
        "\n",
        "y_prob = y_prob[:, 1]\n",
        "\n",
        "n_classes = len(lda_model_reduced.classes_)\n",
        "\n",
        "fpr, tpr,_ = roc_curve(test_labels[:1000], y_prob)\n",
        "roc_auc = auc(fpr, tpr)"
      ],
      "metadata": {
        "id": "2HFfHDjOQbf-"
      },
      "execution_count": null,
      "outputs": []
    },
    {
      "cell_type": "code",
      "source": [
        "lw = 2\n",
        "plt.plot(\n",
        "    fpr,\n",
        "    tpr,\n",
        "    color=\"darkorange\",\n",
        "    lw=lw,\n",
        "    label=\"ROC curve (area = %0.2f)\" % roc_auc,\n",
        ")\n",
        "plt.plot([0, 1], [0, 1], color=\"navy\", lw=lw, linestyle=\"--\")\n",
        "plt.xlim([0.0, 1.0])\n",
        "plt.ylim([0.0, 1.05])\n",
        "plt.xlabel(\"False Positive Rate\")\n",
        "plt.ylabel(\"True Positive Rate\")\n",
        "plt.title(\"Receiver Operating Characteristic Curve\")\n",
        "plt.legend(loc=\"lower right\")\n",
        "plt.show()"
      ],
      "metadata": {
        "colab": {
          "base_uri": "https://localhost:8080/",
          "height": 295
        },
        "outputId": "d2661cd8-7767-4daa-dea0-883a8060b186",
        "id": "8pkGuLkqQbf_"
      },
      "execution_count": null,
      "outputs": [
        {
          "output_type": "display_data",
          "data": {
            "image/png": "[encoded data removed]",
            "text/plain": [
              "<Figure size 432x288 with 1 Axes>"
            ]
          },
          "metadata": {
            "needs_background": "light"
          }
        }
      ]
    },
    {
      "cell_type": "markdown",
      "source": [
        "The above plots shows the ROC curve for LDA classifier after dimensionality reduction. The area under curve here is 0.91 here."
      ],
      "metadata": {
        "id": "WbtziQlax6g-"
      }
    },
    {
      "cell_type": "markdown",
      "source": [
        "# Comparison of Sparsity of Matrix"
      ],
      "metadata": {
        "id": "GfGWBhRrT5Sw"
      }
    },
    {
      "cell_type": "code",
      "source": [
        "sparsity_table = PrettyTable(['Set', 'Original Matrix', 'Lower Dimension Matrix'])\n",
        "sparsity_table.add_row(['Train Set', round(sparsity_original_train,4), round(sparsity_reduced_train, 4)])\n",
        "sparsity_table.add_row(['Test Set', round(sparsity_original_test,4), round(sparsity_reduced_test,4)])\n",
        "print(sparsity_table)"
      ],
      "metadata": {
        "colab": {
          "base_uri": "https://localhost:8080/"
        },
        "id": "XTQeyBD7UkrH",
        "outputId": "97b14af1-ff8e-4554-eaf1-21175f7027f6"
      },
      "execution_count": null,
      "outputs": [
        {
          "output_type": "stream",
          "name": "stdout",
          "text": [
            "+-----------+-----------------+------------------------+\n",
            "|    Set    | Original Matrix | Lower Dimension Matrix |\n",
            "+-----------+-----------------+------------------------+\n",
            "| Train Set |      0.9947     |         0.9863         |\n",
            "|  Test Set |      0.9948     |         0.9864         |\n",
            "+-----------+-----------------+------------------------+\n"
          ]
        }
      ]
    },
    {
      "cell_type": "markdown",
      "source": [
        "The above table shows the comparison of sparsity of document term matrix before and after dimensionality reduction. We can see that the sparsity of matrix decreases after dimensionality reduction."
      ],
      "metadata": {
        "id": "nosaEPuIyMFX"
      }
    },
    {
      "cell_type": "markdown",
      "source": [
        "# Comparison of Accuracy, Specificity and Sensitivity"
      ],
      "metadata": {
        "id": "pKw-4q3LV91u"
      }
    },
    {
      "cell_type": "code",
      "source": [
        "results_table = PrettyTable(['Metric', 'Naive Bayes (Original)', 'Naive Bayes (Lower Dimension)', 'LDA (Original)', 'LDA (Lower Dimension)'])\n",
        "\n",
        "results_table.add_row(['Accuracy', round(accuracy_naive_bayes, 4), round(accuracy_naive_bayes_reduced, 4), round(accuracy_lda, 4), round(accuracy_lda_reduced, 4)])\n",
        "results_table.add_row(['Specificity', round(specificity_naive_bayes, 4), round(specificity_naive_bayes_reduced, 4), round(specificity_lda, 4), round(specificity_lda_reduced, 4)])\n",
        "results_table.add_row(['Sensitivity', round(sensitivity_naive_bayes, 4), round(sensitivity_naive_bayes_reduced, 4), round(sensitivity_lda, 4), round(sensitivity_lda_reduced, 4)])\n",
        "print(results_table)"
      ],
      "metadata": {
        "colab": {
          "base_uri": "https://localhost:8080/"
        },
        "id": "NGCBLvx0VQnn",
        "outputId": "23dd700a-f537-46ac-8699-d15e1ae1bd10"
      },
      "execution_count": null,
      "outputs": [
        {
          "output_type": "stream",
          "name": "stdout",
          "text": [
            "+-------------+------------------------+-------------------------------+----------------+-----------------------+\n",
            "|    Metric   | Naive Bayes (Original) | Naive Bayes (Lower Dimension) | LDA (Original) | LDA (Lower Dimension) |\n",
            "+-------------+------------------------+-------------------------------+----------------+-----------------------+\n",
            "|   Accuracy  |          82.3          |              82.7             |      73.0      |          83.0         |\n",
            "| Specificity |        82.9317         |            81.7269            |    72.6908     |        81.5261        |\n",
            "| Sensitivity |        81.6733         |            83.6653            |    73.3068     |        84.4622        |\n",
            "+-------------+------------------------+-------------------------------+----------------+-----------------------+\n"
          ]
        }
      ]
    },
    {
      "cell_type": "markdown",
      "source": [
        "The above table shows the comparison of accuracy, specificity and sensitivity of the naive bayes classifier and LDA classifier, before and after dimensionality reduction.\n",
        "\n",
        "We can see that accuracy of naive bayes classifier increased by 0.4 % after dimensionality reduction.\n",
        "\n",
        "The accuracy of LDA classifier increased by 10% after dimensionality reduction."
      ],
      "metadata": {
        "id": "TwMD7ug1yhoX"
      }
    },
    {
      "cell_type": "markdown",
      "source": [
        "# Inference"
      ],
      "metadata": {
        "id": "NEOSHifvX2hF"
      }
    },
    {
      "cell_type": "markdown",
      "source": [
        "1. Amazon Reviews Corpus dataset used in this experiment needs preprocessing operations such as cleaning, tokenization, lemmatization and conversion to document term matrix using vectorizer for training classification model on it.\n",
        "2. The Naive Bayes model outperformed LDA with accuracy of 82.3 % on this dataset before dimensionality reduction. The accuracy of LDA came out to be 73.0 %.\n",
        "3. After that dimensions of the matrix were redueced and increase in the accuracy was observed.(Naive Bayes - 82.7 % and LDA - 83.0 % )\n",
        "4. The sparsity of the matrix was reduced after reducing the dimensions of the matrix.\n",
        "5. The comparison of LDA and Naive Bayes based on various metrics such as Specificity and Sensitivity was performed. The values for this metrics were observed to be increased after reducing the dimensions.\n",
        "6. Dimensionality Reduction reduces the time and storage space required. It helps remove multi-collinearity which improves the interpretation of the parameters of the machine learning model. It becomes easier to visualize the data when reduced to very low dimensions such as 2D or 3D.\n"
      ],
      "metadata": {
        "id": "484VhX5ccLwK"
      }
    }
  ]
}