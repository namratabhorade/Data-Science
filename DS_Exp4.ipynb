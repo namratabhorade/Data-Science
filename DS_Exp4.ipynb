{
  "nbformat": 4,
  "nbformat_minor": 0,
  "metadata": {
    "colab": {
      "name": "DS-Exp4.ipynb",
      "provenance": [],
      "collapsed_sections": []
    },
    "kernelspec": {
      "name": "python3",
      "display_name": "Python 3"
    },
    "language_info": {
      "name": "python"
    }
  },
  "cells": [
    {
      "cell_type": "markdown",
      "source": [
        "Name: Namrata Bhorade\n",
        "\n",
        "Class: BE COMPS\n",
        "\n",
        "Batch: A\n",
        "\n",
        "UID: 2018130004"
      ],
      "metadata": {
        "id": "8-H409u2DXCX"
      }
    },
    {
      "cell_type": "markdown",
      "source": [
        "# CEEL 82B, Data Science, 2022\n",
        "# Lab 4: Analyze statistical data using Python/R programming\n"
      ],
      "metadata": {
        "id": "hiWMGe_lDaAN"
      }
    },
    {
      "cell_type": "markdown",
      "source": [
        "**Objective**:\n",
        "\n",
        "Perform statistical data analysis such as: Estimators of the main statistical measures (mean, variance, standard deviation, covariance correlation, standard error), Main distributions ( Normal distribution, chi-square distribution), Hypothesis testing,  pair-wise association (Pearson correlation test, t-test, ANOVA), Non-parametric test (Spearman rank0 etc)"
      ],
      "metadata": {
        "id": "br5gJMM5KDTa"
      }
    },
    {
      "cell_type": "code",
      "source": [
        "import numpy as np\n",
        "import pandas as pd\n",
        "import matplotlib.pyplot as plt\n",
        "from matplotlib import pyplot\n",
        "import seaborn as sns\n",
        "from statsmodels.graphics.gofplots import qqplot\n",
        "import scipy.stats as stats\n",
        "from sklearn.preprocessing import LabelEncoder\n",
        "from sklearn import feature_selection\n",
        "from sklearn.preprocessing import PowerTransformer\n",
        "import itertools\n",
        "\n",
        "import warnings\n",
        "warnings.filterwarnings('ignore')"
      ],
      "metadata": {
        "id": "OCB9poupdjxA"
      },
      "execution_count": 58,
      "outputs": []
    },
    {
      "cell_type": "markdown",
      "source": [
        "## 1. Load the dataset (Use pandas )\n",
        "\n",
        "\n",
        "\n",
        " \n",
        "\n",
        " \n"
      ],
      "metadata": {
        "id": "NmJymunTatr_"
      }
    },
    {
      "cell_type": "code",
      "source": [
        "auto_data = pd.read_csv(\"/content/drive/MyDrive/DS-Lab/Lab/Exp4/auto_data.csv\", na_values=['?'])"
      ],
      "metadata": {
        "id": "4xa87ZWsbW2p"
      },
      "execution_count": 59,
      "outputs": []
    },
    {
      "cell_type": "code",
      "source": [
        "auto_data"
      ],
      "metadata": {
        "colab": {
          "base_uri": "https://localhost:8080/",
          "height": 423
        },
        "id": "oA1t9VJVcdUq",
        "outputId": "2782d17a-9bda-4a67-8290-15640689eb84"
      },
      "execution_count": 60,
      "outputs": [
        {
          "output_type": "execute_result",
          "data": {
            "text/plain": [
              "      mpg  cylinders  displacement  horsepower  weight  acceleration  \\\n",
              "0    18.0          8         307.0       130.0    3504          12.0   \n",
              "1    15.0          8         350.0       165.0    3693          11.5   \n",
              "2    18.0          8         318.0       150.0    3436          11.0   \n",
              "3    16.0          8         304.0       150.0    3433          12.0   \n",
              "4    17.0          8         302.0       140.0    3449          10.5   \n",
              "..    ...        ...           ...         ...     ...           ...   \n",
              "393  27.0          4         140.0        86.0    2790          15.6   \n",
              "394  44.0          4          97.0        52.0    2130          24.6   \n",
              "395  32.0          4         135.0        84.0    2295          11.6   \n",
              "396  28.0          4         120.0        79.0    2625          18.6   \n",
              "397  31.0          4         119.0        82.0    2720          19.4   \n",
              "\n",
              "     model_year  origin                       name  \n",
              "0            70     usa  chevrolet chevelle malibu  \n",
              "1            70     usa          buick skylark 320  \n",
              "2            70     usa         plymouth satellite  \n",
              "3            70     usa              amc rebel sst  \n",
              "4            70     usa                ford torino  \n",
              "..          ...     ...                        ...  \n",
              "393          82     usa            ford mustang gl  \n",
              "394          82  europe                  vw pickup  \n",
              "395          82     usa              dodge rampage  \n",
              "396          82     usa                ford ranger  \n",
              "397          82     usa                 chevy s-10  \n",
              "\n",
              "[398 rows x 9 columns]"
            ],
            "text/html": [
              "\n",
              "  <div id=\"df-6984c2e2-cda2-4648-be4a-848f518fcc07\">\n",
              "    <div class=\"colab-df-container\">\n",
              "      <div>\n",
              "<style scoped>\n",
              "    .dataframe tbody tr th:only-of-type {\n",
              "        vertical-align: middle;\n",
              "    }\n",
              "\n",
              "    .dataframe tbody tr th {\n",
              "        vertical-align: top;\n",
              "    }\n",
              "\n",
              "    .dataframe thead th {\n",
              "        text-align: right;\n",
              "    }\n",
              "</style>\n",
              "<table border=\"1\" class=\"dataframe\">\n",
              "  <thead>\n",
              "    <tr style=\"text-align: right;\">\n",
              "      <th></th>\n",
              "      <th>mpg</th>\n",
              "      <th>cylinders</th>\n",
              "      <th>displacement</th>\n",
              "      <th>horsepower</th>\n",
              "      <th>weight</th>\n",
              "      <th>acceleration</th>\n",
              "      <th>model_year</th>\n",
              "      <th>origin</th>\n",
              "      <th>name</th>\n",
              "    </tr>\n",
              "  </thead>\n",
              "  <tbody>\n",
              "    <tr>\n",
              "      <th>0</th>\n",
              "      <td>18.0</td>\n",
              "      <td>8</td>\n",
              "      <td>307.0</td>\n",
              "      <td>130.0</td>\n",
              "      <td>3504</td>\n",
              "      <td>12.0</td>\n",
              "      <td>70</td>\n",
              "      <td>usa</td>\n",
              "      <td>chevrolet chevelle malibu</td>\n",
              "    </tr>\n",
              "    <tr>\n",
              "      <th>1</th>\n",
              "      <td>15.0</td>\n",
              "      <td>8</td>\n",
              "      <td>350.0</td>\n",
              "      <td>165.0</td>\n",
              "      <td>3693</td>\n",
              "      <td>11.5</td>\n",
              "      <td>70</td>\n",
              "      <td>usa</td>\n",
              "      <td>buick skylark 320</td>\n",
              "    </tr>\n",
              "    <tr>\n",
              "      <th>2</th>\n",
              "      <td>18.0</td>\n",
              "      <td>8</td>\n",
              "      <td>318.0</td>\n",
              "      <td>150.0</td>\n",
              "      <td>3436</td>\n",
              "      <td>11.0</td>\n",
              "      <td>70</td>\n",
              "      <td>usa</td>\n",
              "      <td>plymouth satellite</td>\n",
              "    </tr>\n",
              "    <tr>\n",
              "      <th>3</th>\n",
              "      <td>16.0</td>\n",
              "      <td>8</td>\n",
              "      <td>304.0</td>\n",
              "      <td>150.0</td>\n",
              "      <td>3433</td>\n",
              "      <td>12.0</td>\n",
              "      <td>70</td>\n",
              "      <td>usa</td>\n",
              "      <td>amc rebel sst</td>\n",
              "    </tr>\n",
              "    <tr>\n",
              "      <th>4</th>\n",
              "      <td>17.0</td>\n",
              "      <td>8</td>\n",
              "      <td>302.0</td>\n",
              "      <td>140.0</td>\n",
              "      <td>3449</td>\n",
              "      <td>10.5</td>\n",
              "      <td>70</td>\n",
              "      <td>usa</td>\n",
              "      <td>ford torino</td>\n",
              "    </tr>\n",
              "    <tr>\n",
              "      <th>...</th>\n",
              "      <td>...</td>\n",
              "      <td>...</td>\n",
              "      <td>...</td>\n",
              "      <td>...</td>\n",
              "      <td>...</td>\n",
              "      <td>...</td>\n",
              "      <td>...</td>\n",
              "      <td>...</td>\n",
              "      <td>...</td>\n",
              "    </tr>\n",
              "    <tr>\n",
              "      <th>393</th>\n",
              "      <td>27.0</td>\n",
              "      <td>4</td>\n",
              "      <td>140.0</td>\n",
              "      <td>86.0</td>\n",
              "      <td>2790</td>\n",
              "      <td>15.6</td>\n",
              "      <td>82</td>\n",
              "      <td>usa</td>\n",
              "      <td>ford mustang gl</td>\n",
              "    </tr>\n",
              "    <tr>\n",
              "      <th>394</th>\n",
              "      <td>44.0</td>\n",
              "      <td>4</td>\n",
              "      <td>97.0</td>\n",
              "      <td>52.0</td>\n",
              "      <td>2130</td>\n",
              "      <td>24.6</td>\n",
              "      <td>82</td>\n",
              "      <td>europe</td>\n",
              "      <td>vw pickup</td>\n",
              "    </tr>\n",
              "    <tr>\n",
              "      <th>395</th>\n",
              "      <td>32.0</td>\n",
              "      <td>4</td>\n",
              "      <td>135.0</td>\n",
              "      <td>84.0</td>\n",
              "      <td>2295</td>\n",
              "      <td>11.6</td>\n",
              "      <td>82</td>\n",
              "      <td>usa</td>\n",
              "      <td>dodge rampage</td>\n",
              "    </tr>\n",
              "    <tr>\n",
              "      <th>396</th>\n",
              "      <td>28.0</td>\n",
              "      <td>4</td>\n",
              "      <td>120.0</td>\n",
              "      <td>79.0</td>\n",
              "      <td>2625</td>\n",
              "      <td>18.6</td>\n",
              "      <td>82</td>\n",
              "      <td>usa</td>\n",
              "      <td>ford ranger</td>\n",
              "    </tr>\n",
              "    <tr>\n",
              "      <th>397</th>\n",
              "      <td>31.0</td>\n",
              "      <td>4</td>\n",
              "      <td>119.0</td>\n",
              "      <td>82.0</td>\n",
              "      <td>2720</td>\n",
              "      <td>19.4</td>\n",
              "      <td>82</td>\n",
              "      <td>usa</td>\n",
              "      <td>chevy s-10</td>\n",
              "    </tr>\n",
              "  </tbody>\n",
              "</table>\n",
              "<p>398 rows × 9 columns</p>\n",
              "</div>\n",
              "      <button class=\"colab-df-convert\" onclick=\"convertToInteractive('df-6984c2e2-cda2-4648-be4a-848f518fcc07')\"\n",
              "              title=\"Convert this dataframe to an interactive table.\"\n",
              "              style=\"display:none;\">\n",
              "        \n",
              "  <svg xmlns=\"http://www.w3.org/2000/svg\" height=\"24px\"viewBox=\"0 0 24 24\"\n",
              "       width=\"24px\">\n",
              "    <path d=\"M0 0h24v24H0V0z\" fill=\"none\"/>\n",
              "    <path d=\"M18.56 5.44l.94 2.06.94-2.06 2.06-.94-2.06-.94-.94-2.06-.94 2.06-2.06.94zm-11 1L8.5 8.5l.94-2.06 2.06-.94-2.06-.94L8.5 2.5l-.94 2.06-2.06.94zm10 10l.94 2.06.94-2.06 2.06-.94-2.06-.94-.94-2.06-.94 2.06-2.06.94z\"/><path d=\"M17.41 7.96l-1.37-1.37c-.4-.4-.92-.59-1.43-.59-.52 0-1.04.2-1.43.59L10.3 9.45l-7.72 7.72c-.78.78-.78 2.05 0 2.83L4 21.41c.39.39.9.59 1.41.59.51 0 1.02-.2 1.41-.59l7.78-7.78 2.81-2.81c.8-.78.8-2.07 0-2.86zM5.41 20L4 18.59l7.72-7.72 1.47 1.35L5.41 20z\"/>\n",
              "  </svg>\n",
              "      </button>\n",
              "      \n",
              "  <style>\n",
              "    .colab-df-container {\n",
              "      display:flex;\n",
              "      flex-wrap:wrap;\n",
              "      gap: 12px;\n",
              "    }\n",
              "\n",
              "    .colab-df-convert {\n",
              "      background-color: #E8F0FE;\n",
              "      border: none;\n",
              "      border-radius: 50%;\n",
              "      cursor: pointer;\n",
              "      display: none;\n",
              "      fill: #1967D2;\n",
              "      height: 32px;\n",
              "      padding: 0 0 0 0;\n",
              "      width: 32px;\n",
              "    }\n",
              "\n",
              "    .colab-df-convert:hover {\n",
              "      background-color: #E2EBFA;\n",
              "      box-shadow: 0px 1px 2px rgba(60, 64, 67, 0.3), 0px 1px 3px 1px rgba(60, 64, 67, 0.15);\n",
              "      fill: #174EA6;\n",
              "    }\n",
              "\n",
              "    [theme=dark] .colab-df-convert {\n",
              "      background-color: #3B4455;\n",
              "      fill: #D2E3FC;\n",
              "    }\n",
              "\n",
              "    [theme=dark] .colab-df-convert:hover {\n",
              "      background-color: #434B5C;\n",
              "      box-shadow: 0px 1px 3px 1px rgba(0, 0, 0, 0.15);\n",
              "      filter: drop-shadow(0px 1px 2px rgba(0, 0, 0, 0.3));\n",
              "      fill: #FFFFFF;\n",
              "    }\n",
              "  </style>\n",
              "\n",
              "      <script>\n",
              "        const buttonEl =\n",
              "          document.querySelector('#df-6984c2e2-cda2-4648-be4a-848f518fcc07 button.colab-df-convert');\n",
              "        buttonEl.style.display =\n",
              "          google.colab.kernel.accessAllowed ? 'block' : 'none';\n",
              "\n",
              "        async function convertToInteractive(key) {\n",
              "          const element = document.querySelector('#df-6984c2e2-cda2-4648-be4a-848f518fcc07');\n",
              "          const dataTable =\n",
              "            await google.colab.kernel.invokeFunction('convertToInteractive',\n",
              "                                                     [key], {});\n",
              "          if (!dataTable) return;\n",
              "\n",
              "          const docLinkHtml = 'Like what you see? Visit the ' +\n",
              "            '<a target=\"_blank\" href=https://colab.research.google.com/notebooks/data_table.ipynb>data table notebook</a>'\n",
              "            + ' to learn more about interactive tables.';\n",
              "          element.innerHTML = '';\n",
              "          dataTable['output_type'] = 'display_data';\n",
              "          await google.colab.output.renderOutput(dataTable, element);\n",
              "          const docLink = document.createElement('div');\n",
              "          docLink.innerHTML = docLinkHtml;\n",
              "          element.appendChild(docLink);\n",
              "        }\n",
              "      </script>\n",
              "    </div>\n",
              "  </div>\n",
              "  "
            ]
          },
          "metadata": {},
          "execution_count": 60
        }
      ]
    },
    {
      "cell_type": "code",
      "source": [
        "auto_data.info()"
      ],
      "metadata": {
        "colab": {
          "base_uri": "https://localhost:8080/"
        },
        "id": "2Ypy_A3GstuA",
        "outputId": "67b35b76-cce6-4ff4-eed3-9069649e98e5"
      },
      "execution_count": 61,
      "outputs": [
        {
          "output_type": "stream",
          "name": "stdout",
          "text": [
            "<class 'pandas.core.frame.DataFrame'>\n",
            "RangeIndex: 398 entries, 0 to 397\n",
            "Data columns (total 9 columns):\n",
            " #   Column        Non-Null Count  Dtype  \n",
            "---  ------        --------------  -----  \n",
            " 0   mpg           398 non-null    float64\n",
            " 1   cylinders     398 non-null    int64  \n",
            " 2   displacement  398 non-null    float64\n",
            " 3   horsepower    392 non-null    float64\n",
            " 4   weight        398 non-null    int64  \n",
            " 5   acceleration  398 non-null    float64\n",
            " 6   model_year    398 non-null    int64  \n",
            " 7   origin        398 non-null    object \n",
            " 8   name          398 non-null    object \n",
            "dtypes: float64(4), int64(3), object(2)\n",
            "memory usage: 28.1+ KB\n"
          ]
        }
      ]
    },
    {
      "cell_type": "markdown",
      "source": [
        "The info given above gives the insights about automobile's data read using csv. It contains 398 samples and 9 features."
      ],
      "metadata": {
        "id": "k43VCCm53Mg6"
      }
    },
    {
      "cell_type": "markdown",
      "source": [
        "## 2. Data Preprocessing (Handling NA values)"
      ],
      "metadata": {
        "id": "tLiZU9ddbKzt"
      }
    },
    {
      "cell_type": "code",
      "source": [
        "# count of null values in each column\n",
        "print(auto_data.isnull().sum())"
      ],
      "metadata": {
        "colab": {
          "base_uri": "https://localhost:8080/"
        },
        "id": "EjKItk_u3c8D",
        "outputId": "e64dce9a-f77a-4bd0-9667-c9d60da239b5"
      },
      "execution_count": 62,
      "outputs": [
        {
          "output_type": "stream",
          "name": "stdout",
          "text": [
            "mpg             0\n",
            "cylinders       0\n",
            "displacement    0\n",
            "horsepower      6\n",
            "weight          0\n",
            "acceleration    0\n",
            "model_year      0\n",
            "origin          0\n",
            "name            0\n",
            "dtype: int64\n"
          ]
        }
      ]
    },
    {
      "cell_type": "markdown",
      "source": [
        "Now we can see that there are 6 null values in horsepower column. First we need to convert the horsepower column from object to numeric"
      ],
      "metadata": {
        "id": "Jui7WPb49bTq"
      }
    },
    {
      "cell_type": "code",
      "source": [
        "auto_data['horsepower'] = auto_data['horsepower'].astype(str).astype(float)"
      ],
      "metadata": {
        "id": "7AzNcA8R-Bx2"
      },
      "execution_count": 63,
      "outputs": []
    },
    {
      "cell_type": "markdown",
      "source": [
        "### Replacing null values in horsepower column with median"
      ],
      "metadata": {
        "id": "3-A7A7Gffe0w"
      }
    },
    {
      "cell_type": "code",
      "source": [
        "auto_data['horsepower']=auto_data['horsepower'].fillna(auto_data['horsepower'].median())"
      ],
      "metadata": {
        "id": "M4K6BkhifrBc"
      },
      "execution_count": 64,
      "outputs": []
    },
    {
      "cell_type": "code",
      "source": [
        "# count of null values in each column\n",
        "print(auto_data.isnull().sum())"
      ],
      "metadata": {
        "colab": {
          "base_uri": "https://localhost:8080/"
        },
        "id": "GBHr-2IGgxs7",
        "outputId": "f5fe8526-f428-4dd5-f6e6-cf2f1af950b5"
      },
      "execution_count": 65,
      "outputs": [
        {
          "output_type": "stream",
          "name": "stdout",
          "text": [
            "mpg             0\n",
            "cylinders       0\n",
            "displacement    0\n",
            "horsepower      0\n",
            "weight          0\n",
            "acceleration    0\n",
            "model_year      0\n",
            "origin          0\n",
            "name            0\n",
            "dtype: int64\n"
          ]
        }
      ]
    },
    {
      "cell_type": "markdown",
      "source": [
        "Now all there is no null value present in the dataset."
      ],
      "metadata": {
        "id": "A6b0zVNVg0Wc"
      }
    },
    {
      "cell_type": "markdown",
      "source": [
        "Now two distinct list for categorical and numerical column names are created as the analysis differ for both the types. For that the datatypes of each column are introspected and if it is of type object then it's categorical and else numerical."
      ],
      "metadata": {
        "id": "wNMwkh0d4r3E"
      }
    },
    {
      "cell_type": "code",
      "source": [
        "categorical_features = list(auto_data.select_dtypes(include=['object']).columns)\n",
        "numerical_features = list(auto_data.select_dtypes(exclude=['object']).columns)\n",
        "print(f'categorical variables:  {categorical_features}')\n",
        "print(f'numerical variables:  {numerical_features}')"
      ],
      "metadata": {
        "colab": {
          "base_uri": "https://localhost:8080/"
        },
        "id": "xRjvfouj4m72",
        "outputId": "d2d97254-0bcd-4a34-b00e-f8f12a7e259a"
      },
      "execution_count": 66,
      "outputs": [
        {
          "output_type": "stream",
          "name": "stdout",
          "text": [
            "categorical variables:  ['origin', 'name']\n",
            "numerical variables:  ['mpg', 'cylinders', 'displacement', 'horsepower', 'weight', 'acceleration', 'model_year']\n"
          ]
        }
      ]
    },
    {
      "cell_type": "code",
      "source": [
        "# let's inspect how many unique values are there in each column.\n",
        "auto_data.nunique(axis=0)"
      ],
      "metadata": {
        "colab": {
          "base_uri": "https://localhost:8080/"
        },
        "id": "CBaWn8Xv5DuM",
        "outputId": "058803d6-b556-40c6-a51a-6502e23910ba"
      },
      "execution_count": 67,
      "outputs": [
        {
          "output_type": "execute_result",
          "data": {
            "text/plain": [
              "mpg             129\n",
              "cylinders         5\n",
              "displacement     82\n",
              "horsepower       94\n",
              "weight          351\n",
              "acceleration     95\n",
              "model_year       13\n",
              "origin            3\n",
              "name            305\n",
              "dtype: int64"
            ]
          },
          "metadata": {},
          "execution_count": 67
        }
      ]
    },
    {
      "cell_type": "markdown",
      "source": [
        "As there are very few unique values for cylinders and model_year, so it's safe to make them categorical instead of numeric."
      ],
      "metadata": {
        "id": "cRsVWKBt5usa"
      }
    },
    {
      "cell_type": "code",
      "source": [
        "# cylinders and model_year also seems to be categorical so lets update the lists\n",
        "categorical_features.extend(['cylinders', 'model_year'])\n",
        "numerical_features.remove('cylinders')\n",
        "numerical_features.remove('model_year')\n",
        "\n",
        "print(f'categorical variables:  {categorical_features}')\n",
        "print(f'numerical variables:  {numerical_features}')"
      ],
      "metadata": {
        "colab": {
          "base_uri": "https://localhost:8080/"
        },
        "id": "JQN7HcMD5zYJ",
        "outputId": "a2c01db6-f23a-405c-89fc-fbee55d64589"
      },
      "execution_count": 68,
      "outputs": [
        {
          "output_type": "stream",
          "name": "stdout",
          "text": [
            "categorical variables:  ['origin', 'name', 'cylinders', 'model_year']\n",
            "numerical variables:  ['mpg', 'displacement', 'horsepower', 'weight', 'acceleration']\n"
          ]
        }
      ]
    },
    {
      "cell_type": "markdown",
      "source": [
        "# Descriptive Statistics"
      ],
      "metadata": {
        "id": "44o0JylFM4s4"
      }
    },
    {
      "cell_type": "markdown",
      "source": [
        "## Amount and Frequency Statistics"
      ],
      "metadata": {
        "id": "eWJLarEORHzd"
      }
    },
    {
      "cell_type": "markdown",
      "source": [
        "### Sum"
      ],
      "metadata": {
        "id": "dUwn_XNHRPIT"
      }
    },
    {
      "cell_type": "code",
      "source": [
        "auto_data.sum()"
      ],
      "metadata": {
        "colab": {
          "base_uri": "https://localhost:8080/"
        },
        "id": "5JkMYAxGRRri",
        "outputId": "680671de-52f8-4281-f27e-f736eee7d5c8"
      },
      "execution_count": 69,
      "outputs": [
        {
          "output_type": "execute_result",
          "data": {
            "text/plain": [
              "mpg                                                        9358.8\n",
              "cylinders                                                    2171\n",
              "displacement                                              76983.5\n",
              "horsepower                                                41513.0\n",
              "weight                                                    1182229\n",
              "acceleration                                               6196.1\n",
              "model_year                                                  30252\n",
              "origin          usausausausausausausausausausausausausausajapa...\n",
              "name            chevrolet chevelle malibubuick skylark 320plym...\n",
              "dtype: object"
            ]
          },
          "metadata": {},
          "execution_count": 69
        }
      ]
    },
    {
      "cell_type": "markdown",
      "source": [
        "### Count"
      ],
      "metadata": {
        "id": "RanohlcnRMAn"
      }
    },
    {
      "cell_type": "code",
      "source": [
        "auto_data.count()"
      ],
      "metadata": {
        "colab": {
          "base_uri": "https://localhost:8080/"
        },
        "id": "RbLVzHnoRBH9",
        "outputId": "735a72dc-ac7b-4209-e733-9c1bf9e925c1"
      },
      "execution_count": 70,
      "outputs": [
        {
          "output_type": "execute_result",
          "data": {
            "text/plain": [
              "mpg             398\n",
              "cylinders       398\n",
              "displacement    398\n",
              "horsepower      398\n",
              "weight          398\n",
              "acceleration    398\n",
              "model_year      398\n",
              "origin          398\n",
              "name            398\n",
              "dtype: int64"
            ]
          },
          "metadata": {},
          "execution_count": 70
        }
      ]
    },
    {
      "cell_type": "markdown",
      "source": [
        "## Central Tendency Statistics"
      ],
      "metadata": {
        "id": "90pw_PNPRxR4"
      }
    },
    {
      "cell_type": "markdown",
      "source": [
        "### Mean"
      ],
      "metadata": {
        "id": "X2Qq8j3cNBMY"
      }
    },
    {
      "cell_type": "code",
      "source": [
        "auto_data.mean()"
      ],
      "metadata": {
        "colab": {
          "base_uri": "https://localhost:8080/"
        },
        "id": "UereDCYFM8my",
        "outputId": "b3a47edd-1d6b-4600-b48c-fd13998b8491"
      },
      "execution_count": 71,
      "outputs": [
        {
          "output_type": "execute_result",
          "data": {
            "text/plain": [
              "mpg               23.514573\n",
              "cylinders          5.454774\n",
              "displacement     193.425879\n",
              "horsepower       104.304020\n",
              "weight          2970.424623\n",
              "acceleration      15.568090\n",
              "model_year        76.010050\n",
              "dtype: float64"
            ]
          },
          "metadata": {},
          "execution_count": 71
        }
      ]
    },
    {
      "cell_type": "markdown",
      "source": [
        "### Median"
      ],
      "metadata": {
        "id": "YBNFQCfZegIC"
      }
    },
    {
      "cell_type": "code",
      "source": [
        "auto_data.median()"
      ],
      "metadata": {
        "colab": {
          "base_uri": "https://localhost:8080/"
        },
        "id": "WrvmNKBxeiY5",
        "outputId": "696dc1bd-365c-4614-b6d9-4141f8dcb1ee"
      },
      "execution_count": 72,
      "outputs": [
        {
          "output_type": "execute_result",
          "data": {
            "text/plain": [
              "mpg               23.0\n",
              "cylinders          4.0\n",
              "displacement     148.5\n",
              "horsepower        93.5\n",
              "weight          2803.5\n",
              "acceleration      15.5\n",
              "model_year        76.0\n",
              "dtype: float64"
            ]
          },
          "metadata": {},
          "execution_count": 72
        }
      ]
    },
    {
      "cell_type": "markdown",
      "source": [
        "### Mode"
      ],
      "metadata": {
        "id": "rNYtbgLdftOB"
      }
    },
    {
      "cell_type": "code",
      "source": [
        "auto_data.mode()"
      ],
      "metadata": {
        "colab": {
          "base_uri": "https://localhost:8080/",
          "height": 112
        },
        "id": "5tIed9BxfmE1",
        "outputId": "0ff8a3a9-0e87-47b4-ab13-22c932dbf2a3"
      },
      "execution_count": 73,
      "outputs": [
        {
          "output_type": "execute_result",
          "data": {
            "text/plain": [
              "    mpg  cylinders  displacement  horsepower  weight  acceleration  \\\n",
              "0  13.0        4.0          97.0       150.0    1985          14.5   \n",
              "1   NaN        NaN           NaN         NaN    2130           NaN   \n",
              "\n",
              "   model_year origin        name  \n",
              "0        73.0    usa  ford pinto  \n",
              "1         NaN    NaN         NaN  "
            ],
            "text/html": [
              "\n",
              "  <div id=\"df-e4530f48-eb67-438a-af6a-3bf3a3f32a91\">\n",
              "    <div class=\"colab-df-container\">\n",
              "      <div>\n",
              "<style scoped>\n",
              "    .dataframe tbody tr th:only-of-type {\n",
              "        vertical-align: middle;\n",
              "    }\n",
              "\n",
              "    .dataframe tbody tr th {\n",
              "        vertical-align: top;\n",
              "    }\n",
              "\n",
              "    .dataframe thead th {\n",
              "        text-align: right;\n",
              "    }\n",
              "</style>\n",
              "<table border=\"1\" class=\"dataframe\">\n",
              "  <thead>\n",
              "    <tr style=\"text-align: right;\">\n",
              "      <th></th>\n",
              "      <th>mpg</th>\n",
              "      <th>cylinders</th>\n",
              "      <th>displacement</th>\n",
              "      <th>horsepower</th>\n",
              "      <th>weight</th>\n",
              "      <th>acceleration</th>\n",
              "      <th>model_year</th>\n",
              "      <th>origin</th>\n",
              "      <th>name</th>\n",
              "    </tr>\n",
              "  </thead>\n",
              "  <tbody>\n",
              "    <tr>\n",
              "      <th>0</th>\n",
              "      <td>13.0</td>\n",
              "      <td>4.0</td>\n",
              "      <td>97.0</td>\n",
              "      <td>150.0</td>\n",
              "      <td>1985</td>\n",
              "      <td>14.5</td>\n",
              "      <td>73.0</td>\n",
              "      <td>usa</td>\n",
              "      <td>ford pinto</td>\n",
              "    </tr>\n",
              "    <tr>\n",
              "      <th>1</th>\n",
              "      <td>NaN</td>\n",
              "      <td>NaN</td>\n",
              "      <td>NaN</td>\n",
              "      <td>NaN</td>\n",
              "      <td>2130</td>\n",
              "      <td>NaN</td>\n",
              "      <td>NaN</td>\n",
              "      <td>NaN</td>\n",
              "      <td>NaN</td>\n",
              "    </tr>\n",
              "  </tbody>\n",
              "</table>\n",
              "</div>\n",
              "      <button class=\"colab-df-convert\" onclick=\"convertToInteractive('df-e4530f48-eb67-438a-af6a-3bf3a3f32a91')\"\n",
              "              title=\"Convert this dataframe to an interactive table.\"\n",
              "              style=\"display:none;\">\n",
              "        \n",
              "  <svg xmlns=\"http://www.w3.org/2000/svg\" height=\"24px\"viewBox=\"0 0 24 24\"\n",
              "       width=\"24px\">\n",
              "    <path d=\"M0 0h24v24H0V0z\" fill=\"none\"/>\n",
              "    <path d=\"M18.56 5.44l.94 2.06.94-2.06 2.06-.94-2.06-.94-.94-2.06-.94 2.06-2.06.94zm-11 1L8.5 8.5l.94-2.06 2.06-.94-2.06-.94L8.5 2.5l-.94 2.06-2.06.94zm10 10l.94 2.06.94-2.06 2.06-.94-2.06-.94-.94-2.06-.94 2.06-2.06.94z\"/><path d=\"M17.41 7.96l-1.37-1.37c-.4-.4-.92-.59-1.43-.59-.52 0-1.04.2-1.43.59L10.3 9.45l-7.72 7.72c-.78.78-.78 2.05 0 2.83L4 21.41c.39.39.9.59 1.41.59.51 0 1.02-.2 1.41-.59l7.78-7.78 2.81-2.81c.8-.78.8-2.07 0-2.86zM5.41 20L4 18.59l7.72-7.72 1.47 1.35L5.41 20z\"/>\n",
              "  </svg>\n",
              "      </button>\n",
              "      \n",
              "  <style>\n",
              "    .colab-df-container {\n",
              "      display:flex;\n",
              "      flex-wrap:wrap;\n",
              "      gap: 12px;\n",
              "    }\n",
              "\n",
              "    .colab-df-convert {\n",
              "      background-color: #E8F0FE;\n",
              "      border: none;\n",
              "      border-radius: 50%;\n",
              "      cursor: pointer;\n",
              "      display: none;\n",
              "      fill: #1967D2;\n",
              "      height: 32px;\n",
              "      padding: 0 0 0 0;\n",
              "      width: 32px;\n",
              "    }\n",
              "\n",
              "    .colab-df-convert:hover {\n",
              "      background-color: #E2EBFA;\n",
              "      box-shadow: 0px 1px 2px rgba(60, 64, 67, 0.3), 0px 1px 3px 1px rgba(60, 64, 67, 0.15);\n",
              "      fill: #174EA6;\n",
              "    }\n",
              "\n",
              "    [theme=dark] .colab-df-convert {\n",
              "      background-color: #3B4455;\n",
              "      fill: #D2E3FC;\n",
              "    }\n",
              "\n",
              "    [theme=dark] .colab-df-convert:hover {\n",
              "      background-color: #434B5C;\n",
              "      box-shadow: 0px 1px 3px 1px rgba(0, 0, 0, 0.15);\n",
              "      filter: drop-shadow(0px 1px 2px rgba(0, 0, 0, 0.3));\n",
              "      fill: #FFFFFF;\n",
              "    }\n",
              "  </style>\n",
              "\n",
              "      <script>\n",
              "        const buttonEl =\n",
              "          document.querySelector('#df-e4530f48-eb67-438a-af6a-3bf3a3f32a91 button.colab-df-convert');\n",
              "        buttonEl.style.display =\n",
              "          google.colab.kernel.accessAllowed ? 'block' : 'none';\n",
              "\n",
              "        async function convertToInteractive(key) {\n",
              "          const element = document.querySelector('#df-e4530f48-eb67-438a-af6a-3bf3a3f32a91');\n",
              "          const dataTable =\n",
              "            await google.colab.kernel.invokeFunction('convertToInteractive',\n",
              "                                                     [key], {});\n",
              "          if (!dataTable) return;\n",
              "\n",
              "          const docLinkHtml = 'Like what you see? Visit the ' +\n",
              "            '<a target=\"_blank\" href=https://colab.research.google.com/notebooks/data_table.ipynb>data table notebook</a>'\n",
              "            + ' to learn more about interactive tables.';\n",
              "          element.innerHTML = '';\n",
              "          dataTable['output_type'] = 'display_data';\n",
              "          await google.colab.output.renderOutput(dataTable, element);\n",
              "          const docLink = document.createElement('div');\n",
              "          docLink.innerHTML = docLinkHtml;\n",
              "          element.appendChild(docLink);\n",
              "        }\n",
              "      </script>\n",
              "    </div>\n",
              "  </div>\n",
              "  "
            ]
          },
          "metadata": {},
          "execution_count": 73
        }
      ]
    },
    {
      "cell_type": "markdown",
      "source": [
        "## Dispersion Statistics"
      ],
      "metadata": {
        "id": "HdQo-enVWILc"
      }
    },
    {
      "cell_type": "markdown",
      "source": [
        "### Minimum"
      ],
      "metadata": {
        "id": "RkpjDgWlWPVp"
      }
    },
    {
      "cell_type": "code",
      "source": [
        "auto_data.min()"
      ],
      "metadata": {
        "colab": {
          "base_uri": "https://localhost:8080/"
        },
        "id": "tRvcCNEPWLgs",
        "outputId": "2289db30-338b-4ebe-8e05-eda3b963a631"
      },
      "execution_count": 74,
      "outputs": [
        {
          "output_type": "execute_result",
          "data": {
            "text/plain": [
              "mpg                                 9.0\n",
              "cylinders                             3\n",
              "displacement                       68.0\n",
              "horsepower                         46.0\n",
              "weight                             1613\n",
              "acceleration                        8.0\n",
              "model_year                           70\n",
              "origin                           europe\n",
              "name            amc ambassador brougham\n",
              "dtype: object"
            ]
          },
          "metadata": {},
          "execution_count": 74
        }
      ]
    },
    {
      "cell_type": "markdown",
      "source": [
        "### Maximum"
      ],
      "metadata": {
        "id": "KuMS4Ih8WRRf"
      }
    },
    {
      "cell_type": "code",
      "source": [
        "auto_data.max()"
      ],
      "metadata": {
        "colab": {
          "base_uri": "https://localhost:8080/"
        },
        "id": "LV60iMnIWTJB",
        "outputId": "9fc2718d-9607-4357-bd4e-9d2f926cca5d"
      },
      "execution_count": 75,
      "outputs": [
        {
          "output_type": "execute_result",
          "data": {
            "text/plain": [
              "mpg                         46.6\n",
              "cylinders                      8\n",
              "displacement               455.0\n",
              "horsepower                 230.0\n",
              "weight                      5140\n",
              "acceleration                24.8\n",
              "model_year                    82\n",
              "origin                       usa\n",
              "name            vw rabbit custom\n",
              "dtype: object"
            ]
          },
          "metadata": {},
          "execution_count": 75
        }
      ]
    },
    {
      "cell_type": "markdown",
      "source": [
        "### Variance"
      ],
      "metadata": {
        "id": "kGJkn9mOfCrs"
      }
    },
    {
      "cell_type": "code",
      "source": [
        "auto_data.var()"
      ],
      "metadata": {
        "colab": {
          "base_uri": "https://localhost:8080/"
        },
        "id": "Y23ph9RgfArZ",
        "outputId": "f0d83489-a835-461e-8507-3aeba6c6c252"
      },
      "execution_count": 76,
      "outputs": [
        {
          "output_type": "execute_result",
          "data": {
            "text/plain": [
              "mpg                 61.089611\n",
              "cylinders            2.893415\n",
              "displacement     10872.199152\n",
              "horsepower        1460.969052\n",
              "weight          717140.990526\n",
              "acceleration         7.604848\n",
              "model_year          13.672443\n",
              "dtype: float64"
            ]
          },
          "metadata": {},
          "execution_count": 76
        }
      ]
    },
    {
      "cell_type": "markdown",
      "source": [
        "### Standard Deviation"
      ],
      "metadata": {
        "id": "WyN0gZAZNQcC"
      }
    },
    {
      "cell_type": "code",
      "source": [
        "auto_data.std()"
      ],
      "metadata": {
        "colab": {
          "base_uri": "https://localhost:8080/"
        },
        "id": "aryOCQ9pNOHq",
        "outputId": "00295202-44a5-474f-941a-2e84fdd71e72"
      },
      "execution_count": 77,
      "outputs": [
        {
          "output_type": "execute_result",
          "data": {
            "text/plain": [
              "mpg               7.815984\n",
              "cylinders         1.701004\n",
              "displacement    104.269838\n",
              "horsepower       38.222625\n",
              "weight          846.841774\n",
              "acceleration      2.757689\n",
              "model_year        3.697627\n",
              "dtype: float64"
            ]
          },
          "metadata": {},
          "execution_count": 77
        }
      ]
    },
    {
      "cell_type": "markdown",
      "source": [
        "### Skewness"
      ],
      "metadata": {
        "id": "NaeeISZBfkKJ"
      }
    },
    {
      "cell_type": "code",
      "source": [
        "auto_data.skew()"
      ],
      "metadata": {
        "colab": {
          "base_uri": "https://localhost:8080/"
        },
        "id": "AQEGngeRfh14",
        "outputId": "c4db1bc0-ec4e-4275-d41d-59a36255e2e0"
      },
      "execution_count": 78,
      "outputs": [
        {
          "output_type": "execute_result",
          "data": {
            "text/plain": [
              "mpg             0.457066\n",
              "cylinders       0.526922\n",
              "displacement    0.719645\n",
              "horsepower      1.106224\n",
              "weight          0.531063\n",
              "acceleration    0.278777\n",
              "model_year      0.011535\n",
              "dtype: float64"
            ]
          },
          "metadata": {},
          "execution_count": 78
        }
      ]
    },
    {
      "cell_type": "markdown",
      "source": [
        "### Quantile"
      ],
      "metadata": {
        "id": "CqnYhELTNjwP"
      }
    },
    {
      "cell_type": "code",
      "source": [
        "auto_data.quantile()"
      ],
      "metadata": {
        "colab": {
          "base_uri": "https://localhost:8080/"
        },
        "id": "AKHqY7_HNfpN",
        "outputId": "b88cc742-a3b4-43b3-c58b-14e89ed7d51c"
      },
      "execution_count": 79,
      "outputs": [
        {
          "output_type": "execute_result",
          "data": {
            "text/plain": [
              "mpg               23.0\n",
              "cylinders          4.0\n",
              "displacement     148.5\n",
              "horsepower        93.5\n",
              "weight          2803.5\n",
              "acceleration      15.5\n",
              "model_year        76.0\n",
              "Name: 0.5, dtype: float64"
            ]
          },
          "metadata": {},
          "execution_count": 79
        }
      ]
    },
    {
      "cell_type": "markdown",
      "source": [
        "### Describe"
      ],
      "metadata": {
        "id": "ROnPGUOSQybN"
      }
    },
    {
      "cell_type": "code",
      "source": [
        "auto_data.describe()"
      ],
      "metadata": {
        "colab": {
          "base_uri": "https://localhost:8080/",
          "height": 300
        },
        "id": "FOIzheKGQ1-9",
        "outputId": "07702c6b-57e7-4120-8bee-e8f308bbf0a7"
      },
      "execution_count": 80,
      "outputs": [
        {
          "output_type": "execute_result",
          "data": {
            "text/plain": [
              "              mpg   cylinders  displacement  horsepower       weight  \\\n",
              "count  398.000000  398.000000    398.000000  398.000000   398.000000   \n",
              "mean    23.514573    5.454774    193.425879  104.304020  2970.424623   \n",
              "std      7.815984    1.701004    104.269838   38.222625   846.841774   \n",
              "min      9.000000    3.000000     68.000000   46.000000  1613.000000   \n",
              "25%     17.500000    4.000000    104.250000   76.000000  2223.750000   \n",
              "50%     23.000000    4.000000    148.500000   93.500000  2803.500000   \n",
              "75%     29.000000    8.000000    262.000000  125.000000  3608.000000   \n",
              "max     46.600000    8.000000    455.000000  230.000000  5140.000000   \n",
              "\n",
              "       acceleration  model_year  \n",
              "count    398.000000  398.000000  \n",
              "mean      15.568090   76.010050  \n",
              "std        2.757689    3.697627  \n",
              "min        8.000000   70.000000  \n",
              "25%       13.825000   73.000000  \n",
              "50%       15.500000   76.000000  \n",
              "75%       17.175000   79.000000  \n",
              "max       24.800000   82.000000  "
            ],
            "text/html": [
              "\n",
              "  <div id=\"df-7ff6891f-1f5a-43de-a4d8-f530dd4f89d8\">\n",
              "    <div class=\"colab-df-container\">\n",
              "      <div>\n",
              "<style scoped>\n",
              "    .dataframe tbody tr th:only-of-type {\n",
              "        vertical-align: middle;\n",
              "    }\n",
              "\n",
              "    .dataframe tbody tr th {\n",
              "        vertical-align: top;\n",
              "    }\n",
              "\n",
              "    .dataframe thead th {\n",
              "        text-align: right;\n",
              "    }\n",
              "</style>\n",
              "<table border=\"1\" class=\"dataframe\">\n",
              "  <thead>\n",
              "    <tr style=\"text-align: right;\">\n",
              "      <th></th>\n",
              "      <th>mpg</th>\n",
              "      <th>cylinders</th>\n",
              "      <th>displacement</th>\n",
              "      <th>horsepower</th>\n",
              "      <th>weight</th>\n",
              "      <th>acceleration</th>\n",
              "      <th>model_year</th>\n",
              "    </tr>\n",
              "  </thead>\n",
              "  <tbody>\n",
              "    <tr>\n",
              "      <th>count</th>\n",
              "      <td>398.000000</td>\n",
              "      <td>398.000000</td>\n",
              "      <td>398.000000</td>\n",
              "      <td>398.000000</td>\n",
              "      <td>398.000000</td>\n",
              "      <td>398.000000</td>\n",
              "      <td>398.000000</td>\n",
              "    </tr>\n",
              "    <tr>\n",
              "      <th>mean</th>\n",
              "      <td>23.514573</td>\n",
              "      <td>5.454774</td>\n",
              "      <td>193.425879</td>\n",
              "      <td>104.304020</td>\n",
              "      <td>2970.424623</td>\n",
              "      <td>15.568090</td>\n",
              "      <td>76.010050</td>\n",
              "    </tr>\n",
              "    <tr>\n",
              "      <th>std</th>\n",
              "      <td>7.815984</td>\n",
              "      <td>1.701004</td>\n",
              "      <td>104.269838</td>\n",
              "      <td>38.222625</td>\n",
              "      <td>846.841774</td>\n",
              "      <td>2.757689</td>\n",
              "      <td>3.697627</td>\n",
              "    </tr>\n",
              "    <tr>\n",
              "      <th>min</th>\n",
              "      <td>9.000000</td>\n",
              "      <td>3.000000</td>\n",
              "      <td>68.000000</td>\n",
              "      <td>46.000000</td>\n",
              "      <td>1613.000000</td>\n",
              "      <td>8.000000</td>\n",
              "      <td>70.000000</td>\n",
              "    </tr>\n",
              "    <tr>\n",
              "      <th>25%</th>\n",
              "      <td>17.500000</td>\n",
              "      <td>4.000000</td>\n",
              "      <td>104.250000</td>\n",
              "      <td>76.000000</td>\n",
              "      <td>2223.750000</td>\n",
              "      <td>13.825000</td>\n",
              "      <td>73.000000</td>\n",
              "    </tr>\n",
              "    <tr>\n",
              "      <th>50%</th>\n",
              "      <td>23.000000</td>\n",
              "      <td>4.000000</td>\n",
              "      <td>148.500000</td>\n",
              "      <td>93.500000</td>\n",
              "      <td>2803.500000</td>\n",
              "      <td>15.500000</td>\n",
              "      <td>76.000000</td>\n",
              "    </tr>\n",
              "    <tr>\n",
              "      <th>75%</th>\n",
              "      <td>29.000000</td>\n",
              "      <td>8.000000</td>\n",
              "      <td>262.000000</td>\n",
              "      <td>125.000000</td>\n",
              "      <td>3608.000000</td>\n",
              "      <td>17.175000</td>\n",
              "      <td>79.000000</td>\n",
              "    </tr>\n",
              "    <tr>\n",
              "      <th>max</th>\n",
              "      <td>46.600000</td>\n",
              "      <td>8.000000</td>\n",
              "      <td>455.000000</td>\n",
              "      <td>230.000000</td>\n",
              "      <td>5140.000000</td>\n",
              "      <td>24.800000</td>\n",
              "      <td>82.000000</td>\n",
              "    </tr>\n",
              "  </tbody>\n",
              "</table>\n",
              "</div>\n",
              "      <button class=\"colab-df-convert\" onclick=\"convertToInteractive('df-7ff6891f-1f5a-43de-a4d8-f530dd4f89d8')\"\n",
              "              title=\"Convert this dataframe to an interactive table.\"\n",
              "              style=\"display:none;\">\n",
              "        \n",
              "  <svg xmlns=\"http://www.w3.org/2000/svg\" height=\"24px\"viewBox=\"0 0 24 24\"\n",
              "       width=\"24px\">\n",
              "    <path d=\"M0 0h24v24H0V0z\" fill=\"none\"/>\n",
              "    <path d=\"M18.56 5.44l.94 2.06.94-2.06 2.06-.94-2.06-.94-.94-2.06-.94 2.06-2.06.94zm-11 1L8.5 8.5l.94-2.06 2.06-.94-2.06-.94L8.5 2.5l-.94 2.06-2.06.94zm10 10l.94 2.06.94-2.06 2.06-.94-2.06-.94-.94-2.06-.94 2.06-2.06.94z\"/><path d=\"M17.41 7.96l-1.37-1.37c-.4-.4-.92-.59-1.43-.59-.52 0-1.04.2-1.43.59L10.3 9.45l-7.72 7.72c-.78.78-.78 2.05 0 2.83L4 21.41c.39.39.9.59 1.41.59.51 0 1.02-.2 1.41-.59l7.78-7.78 2.81-2.81c.8-.78.8-2.07 0-2.86zM5.41 20L4 18.59l7.72-7.72 1.47 1.35L5.41 20z\"/>\n",
              "  </svg>\n",
              "      </button>\n",
              "      \n",
              "  <style>\n",
              "    .colab-df-container {\n",
              "      display:flex;\n",
              "      flex-wrap:wrap;\n",
              "      gap: 12px;\n",
              "    }\n",
              "\n",
              "    .colab-df-convert {\n",
              "      background-color: #E8F0FE;\n",
              "      border: none;\n",
              "      border-radius: 50%;\n",
              "      cursor: pointer;\n",
              "      display: none;\n",
              "      fill: #1967D2;\n",
              "      height: 32px;\n",
              "      padding: 0 0 0 0;\n",
              "      width: 32px;\n",
              "    }\n",
              "\n",
              "    .colab-df-convert:hover {\n",
              "      background-color: #E2EBFA;\n",
              "      box-shadow: 0px 1px 2px rgba(60, 64, 67, 0.3), 0px 1px 3px 1px rgba(60, 64, 67, 0.15);\n",
              "      fill: #174EA6;\n",
              "    }\n",
              "\n",
              "    [theme=dark] .colab-df-convert {\n",
              "      background-color: #3B4455;\n",
              "      fill: #D2E3FC;\n",
              "    }\n",
              "\n",
              "    [theme=dark] .colab-df-convert:hover {\n",
              "      background-color: #434B5C;\n",
              "      box-shadow: 0px 1px 3px 1px rgba(0, 0, 0, 0.15);\n",
              "      filter: drop-shadow(0px 1px 2px rgba(0, 0, 0, 0.3));\n",
              "      fill: #FFFFFF;\n",
              "    }\n",
              "  </style>\n",
              "\n",
              "      <script>\n",
              "        const buttonEl =\n",
              "          document.querySelector('#df-7ff6891f-1f5a-43de-a4d8-f530dd4f89d8 button.colab-df-convert');\n",
              "        buttonEl.style.display =\n",
              "          google.colab.kernel.accessAllowed ? 'block' : 'none';\n",
              "\n",
              "        async function convertToInteractive(key) {\n",
              "          const element = document.querySelector('#df-7ff6891f-1f5a-43de-a4d8-f530dd4f89d8');\n",
              "          const dataTable =\n",
              "            await google.colab.kernel.invokeFunction('convertToInteractive',\n",
              "                                                     [key], {});\n",
              "          if (!dataTable) return;\n",
              "\n",
              "          const docLinkHtml = 'Like what you see? Visit the ' +\n",
              "            '<a target=\"_blank\" href=https://colab.research.google.com/notebooks/data_table.ipynb>data table notebook</a>'\n",
              "            + ' to learn more about interactive tables.';\n",
              "          element.innerHTML = '';\n",
              "          dataTable['output_type'] = 'display_data';\n",
              "          await google.colab.output.renderOutput(dataTable, element);\n",
              "          const docLink = document.createElement('div');\n",
              "          docLink.innerHTML = docLinkHtml;\n",
              "          element.appendChild(docLink);\n",
              "        }\n",
              "      </script>\n",
              "    </div>\n",
              "  </div>\n",
              "  "
            ]
          },
          "metadata": {},
          "execution_count": 80
        }
      ]
    },
    {
      "cell_type": "markdown",
      "source": [
        "\n",
        "## Correlation Matrix"
      ],
      "metadata": {
        "id": "t1YtsCBGqujB"
      }
    },
    {
      "cell_type": "code",
      "source": [
        "correlation_data = auto_data.corr()\n",
        "plt.subplots(figsize=(10,8))\n",
        "sns.heatmap(correlation_data, annot=True)\n",
        "plt.show()"
      ],
      "metadata": {
        "colab": {
          "base_uri": "https://localhost:8080/",
          "height": 488
        },
        "outputId": "f81362f1-7c26-475a-8185-0c9930eb118f",
        "id": "kTlh_DoJqujB"
      },
      "execution_count": 81,
      "outputs": [
        {
          "output_type": "display_data",
          "data": {
            "text/plain": [
              "<Figure size 720x576 with 2 Axes>"
            ],
            "image/png": "[encoded data removed]"
          },
          "metadata": {
            "needs_background": "light"
          }
        }
      ]
    },
    {
      "cell_type": "markdown",
      "source": [
        "Arranging columns according to their correlation with mpg variable in descending order"
      ],
      "metadata": {
        "id": "7HcST1kaqujC"
      }
    },
    {
      "cell_type": "code",
      "source": [
        "correlation_values = correlation_data['mpg'].sort_values(ascending=False)\n",
        "correlation_values = abs(correlation_values).sort_values(ascending=False)\n",
        "print(\"Correlation of Features wrt MPG\")\n",
        "print(abs(correlation_values).sort_values(ascending=False))"
      ],
      "metadata": {
        "colab": {
          "base_uri": "https://localhost:8080/"
        },
        "outputId": "e5f7f23e-de94-496f-ee1d-a95161f7201e",
        "id": "rmI4PZMQqujC"
      },
      "execution_count": 82,
      "outputs": [
        {
          "output_type": "stream",
          "name": "stdout",
          "text": [
            "Correlation of Features wrt MPG\n",
            "mpg             1.000000\n",
            "weight          0.831741\n",
            "displacement    0.804203\n",
            "cylinders       0.775396\n",
            "horsepower      0.773453\n",
            "model_year      0.579267\n",
            "acceleration    0.420289\n",
            "Name: mpg, dtype: float64\n"
          ]
        }
      ]
    },
    {
      "cell_type": "markdown",
      "source": [
        "As origin and name consists of text data so it needs some preprocessing. Removing all extra spaces from each string, otherwise the same string with different spacings will be treated as different categories which should not be the case."
      ],
      "metadata": {
        "id": "jLJp4Q1j6uN2"
      }
    },
    {
      "cell_type": "code",
      "source": [
        "# remove extra spaces if any\n",
        "for col in ['origin', 'name']:\n",
        "    auto_data[col] = auto_data[col].apply(lambda x: ' '.join(x.split()))"
      ],
      "metadata": {
        "id": "vNQyCcZC6a5W"
      },
      "execution_count": 83,
      "outputs": []
    },
    {
      "cell_type": "code",
      "source": [
        "auto_data['mpg_level'] = auto_data['mpg'].apply(lambda x: 'low' if x<17 else 'high' if x>29 else 'medium')\n",
        "categorical_features.append('mpg_level')\n",
        "print(f'categorical variables:  {categorical_features}')"
      ],
      "metadata": {
        "colab": {
          "base_uri": "https://localhost:8080/"
        },
        "id": "pgq5bTE_66yS",
        "outputId": "167f3d5b-2353-4db9-92ea-537585cd6a1f"
      },
      "execution_count": 84,
      "outputs": [
        {
          "output_type": "stream",
          "name": "stdout",
          "text": [
            "categorical variables:  ['origin', 'name', 'cylinders', 'model_year', 'mpg_level']\n"
          ]
        }
      ]
    },
    {
      "cell_type": "markdown",
      "source": [
        "# Hypothesis Testing"
      ],
      "metadata": {
        "id": "T44_TrX4Y9JH"
      }
    },
    {
      "cell_type": "code",
      "source": [
        "alpha = 0.05"
      ],
      "metadata": {
        "id": "QTTWqgeKbN_m"
      },
      "execution_count": 85,
      "outputs": []
    },
    {
      "cell_type": "markdown",
      "source": [
        "## Tests for independence between two categorical variables\n",
        "\n"
      ],
      "metadata": {
        "id": "VCRPs9Xq7Ojd"
      }
    },
    {
      "cell_type": "markdown",
      "source": [
        "### Pearson's Chi-square test\n",
        "The Chi-square statistic is a **non-parametric statistic** tool designed to analyze group differences when the dependent variable is measured at a nominal level(ordinal data can also be used). It is commonly used to compare observed data with data we would expect to obtain according to a specific hypothesis.\n",
        "\n",
        "$$\\large \\chi ^{2} = \\sum \\frac{(O-E)^{2}}{E}$$\n",
        "\n",
        "Where,<br>\n",
        "&emsp;&emsp;O : Observed (the actual count of cases in each cell of the table)<br>\n",
        "&emsp;&emsp;E : Expected value (calculated below)<br>\n",
        "&emsp;&emsp;$\\chi ^{2}$ : The cell Chi-square value\n",
        "\n",
        "**Assumptions**<br>\n",
        "&emsp;&emsp;&emsp;**1.** The test becomes invalid if any of the expected values are below 5<br>\n",
        "&emsp;&emsp;&emsp;**2.** The p value calculated is not exact but approximate and converges to exact on increasing data(so not good for small sample size)<br>\n",
        "&emsp;&emsp;&emsp;**3.** The number of observations must be 20+<br>\n",
        "\n",
        "So, if the expected cell counts are small, it is better to use an exact test as the chi-squared test is no longer a good approximation in such cases. To overcome this we will be using fisher exact test."
      ],
      "metadata": {
        "id": "82joid1R97hE"
      }
    },
    {
      "cell_type": "code",
      "source": [
        "# Contingency Table (aka frequency table)\n",
        "pd.crosstab(auto_data.origin, auto_data.model_year)"
      ],
      "metadata": {
        "colab": {
          "base_uri": "https://localhost:8080/",
          "height": 174
        },
        "id": "mJ99FFgN7Vv9",
        "outputId": "aea89746-bcf4-4e7b-bd69-95f1d1d7a99c"
      },
      "execution_count": 86,
      "outputs": [
        {
          "output_type": "execute_result",
          "data": {
            "text/plain": [
              "model_year  70  71  72  73  74  75  76  77  78  79  80  81  82\n",
              "origin                                                        \n",
              "europe       5   4   5   7   6   6   8   4   6   4   9   4   2\n",
              "japan        2   4   5   4   6   4   4   6   8   2  13  12   9\n",
              "usa         22  20  18  29  15  20  22  18  22  23   7  13  20"
            ],
            "text/html": [
              "\n",
              "  <div id=\"df-9a16922a-a7e6-440a-ad0a-d79ac6b4050e\">\n",
              "    <div class=\"colab-df-container\">\n",
              "      <div>\n",
              "<style scoped>\n",
              "    .dataframe tbody tr th:only-of-type {\n",
              "        vertical-align: middle;\n",
              "    }\n",
              "\n",
              "    .dataframe tbody tr th {\n",
              "        vertical-align: top;\n",
              "    }\n",
              "\n",
              "    .dataframe thead th {\n",
              "        text-align: right;\n",
              "    }\n",
              "</style>\n",
              "<table border=\"1\" class=\"dataframe\">\n",
              "  <thead>\n",
              "    <tr style=\"text-align: right;\">\n",
              "      <th>model_year</th>\n",
              "      <th>70</th>\n",
              "      <th>71</th>\n",
              "      <th>72</th>\n",
              "      <th>73</th>\n",
              "      <th>74</th>\n",
              "      <th>75</th>\n",
              "      <th>76</th>\n",
              "      <th>77</th>\n",
              "      <th>78</th>\n",
              "      <th>79</th>\n",
              "      <th>80</th>\n",
              "      <th>81</th>\n",
              "      <th>82</th>\n",
              "    </tr>\n",
              "    <tr>\n",
              "      <th>origin</th>\n",
              "      <th></th>\n",
              "      <th></th>\n",
              "      <th></th>\n",
              "      <th></th>\n",
              "      <th></th>\n",
              "      <th></th>\n",
              "      <th></th>\n",
              "      <th></th>\n",
              "      <th></th>\n",
              "      <th></th>\n",
              "      <th></th>\n",
              "      <th></th>\n",
              "      <th></th>\n",
              "    </tr>\n",
              "  </thead>\n",
              "  <tbody>\n",
              "    <tr>\n",
              "      <th>europe</th>\n",
              "      <td>5</td>\n",
              "      <td>4</td>\n",
              "      <td>5</td>\n",
              "      <td>7</td>\n",
              "      <td>6</td>\n",
              "      <td>6</td>\n",
              "      <td>8</td>\n",
              "      <td>4</td>\n",
              "      <td>6</td>\n",
              "      <td>4</td>\n",
              "      <td>9</td>\n",
              "      <td>4</td>\n",
              "      <td>2</td>\n",
              "    </tr>\n",
              "    <tr>\n",
              "      <th>japan</th>\n",
              "      <td>2</td>\n",
              "      <td>4</td>\n",
              "      <td>5</td>\n",
              "      <td>4</td>\n",
              "      <td>6</td>\n",
              "      <td>4</td>\n",
              "      <td>4</td>\n",
              "      <td>6</td>\n",
              "      <td>8</td>\n",
              "      <td>2</td>\n",
              "      <td>13</td>\n",
              "      <td>12</td>\n",
              "      <td>9</td>\n",
              "    </tr>\n",
              "    <tr>\n",
              "      <th>usa</th>\n",
              "      <td>22</td>\n",
              "      <td>20</td>\n",
              "      <td>18</td>\n",
              "      <td>29</td>\n",
              "      <td>15</td>\n",
              "      <td>20</td>\n",
              "      <td>22</td>\n",
              "      <td>18</td>\n",
              "      <td>22</td>\n",
              "      <td>23</td>\n",
              "      <td>7</td>\n",
              "      <td>13</td>\n",
              "      <td>20</td>\n",
              "    </tr>\n",
              "  </tbody>\n",
              "</table>\n",
              "</div>\n",
              "      <button class=\"colab-df-convert\" onclick=\"convertToInteractive('df-9a16922a-a7e6-440a-ad0a-d79ac6b4050e')\"\n",
              "              title=\"Convert this dataframe to an interactive table.\"\n",
              "              style=\"display:none;\">\n",
              "        \n",
              "  <svg xmlns=\"http://www.w3.org/2000/svg\" height=\"24px\"viewBox=\"0 0 24 24\"\n",
              "       width=\"24px\">\n",
              "    <path d=\"M0 0h24v24H0V0z\" fill=\"none\"/>\n",
              "    <path d=\"M18.56 5.44l.94 2.06.94-2.06 2.06-.94-2.06-.94-.94-2.06-.94 2.06-2.06.94zm-11 1L8.5 8.5l.94-2.06 2.06-.94-2.06-.94L8.5 2.5l-.94 2.06-2.06.94zm10 10l.94 2.06.94-2.06 2.06-.94-2.06-.94-.94-2.06-.94 2.06-2.06.94z\"/><path d=\"M17.41 7.96l-1.37-1.37c-.4-.4-.92-.59-1.43-.59-.52 0-1.04.2-1.43.59L10.3 9.45l-7.72 7.72c-.78.78-.78 2.05 0 2.83L4 21.41c.39.39.9.59 1.41.59.51 0 1.02-.2 1.41-.59l7.78-7.78 2.81-2.81c.8-.78.8-2.07 0-2.86zM5.41 20L4 18.59l7.72-7.72 1.47 1.35L5.41 20z\"/>\n",
              "  </svg>\n",
              "      </button>\n",
              "      \n",
              "  <style>\n",
              "    .colab-df-container {\n",
              "      display:flex;\n",
              "      flex-wrap:wrap;\n",
              "      gap: 12px;\n",
              "    }\n",
              "\n",
              "    .colab-df-convert {\n",
              "      background-color: #E8F0FE;\n",
              "      border: none;\n",
              "      border-radius: 50%;\n",
              "      cursor: pointer;\n",
              "      display: none;\n",
              "      fill: #1967D2;\n",
              "      height: 32px;\n",
              "      padding: 0 0 0 0;\n",
              "      width: 32px;\n",
              "    }\n",
              "\n",
              "    .colab-df-convert:hover {\n",
              "      background-color: #E2EBFA;\n",
              "      box-shadow: 0px 1px 2px rgba(60, 64, 67, 0.3), 0px 1px 3px 1px rgba(60, 64, 67, 0.15);\n",
              "      fill: #174EA6;\n",
              "    }\n",
              "\n",
              "    [theme=dark] .colab-df-convert {\n",
              "      background-color: #3B4455;\n",
              "      fill: #D2E3FC;\n",
              "    }\n",
              "\n",
              "    [theme=dark] .colab-df-convert:hover {\n",
              "      background-color: #434B5C;\n",
              "      box-shadow: 0px 1px 3px 1px rgba(0, 0, 0, 0.15);\n",
              "      filter: drop-shadow(0px 1px 2px rgba(0, 0, 0, 0.3));\n",
              "      fill: #FFFFFF;\n",
              "    }\n",
              "  </style>\n",
              "\n",
              "      <script>\n",
              "        const buttonEl =\n",
              "          document.querySelector('#df-9a16922a-a7e6-440a-ad0a-d79ac6b4050e button.colab-df-convert');\n",
              "        buttonEl.style.display =\n",
              "          google.colab.kernel.accessAllowed ? 'block' : 'none';\n",
              "\n",
              "        async function convertToInteractive(key) {\n",
              "          const element = document.querySelector('#df-9a16922a-a7e6-440a-ad0a-d79ac6b4050e');\n",
              "          const dataTable =\n",
              "            await google.colab.kernel.invokeFunction('convertToInteractive',\n",
              "                                                     [key], {});\n",
              "          if (!dataTable) return;\n",
              "\n",
              "          const docLinkHtml = 'Like what you see? Visit the ' +\n",
              "            '<a target=\"_blank\" href=https://colab.research.google.com/notebooks/data_table.ipynb>data table notebook</a>'\n",
              "            + ' to learn more about interactive tables.';\n",
              "          element.innerHTML = '';\n",
              "          dataTable['output_type'] = 'display_data';\n",
              "          await google.colab.output.renderOutput(dataTable, element);\n",
              "          const docLink = document.createElement('div');\n",
              "          docLink.innerHTML = docLinkHtml;\n",
              "          element.appendChild(docLink);\n",
              "        }\n",
              "      </script>\n",
              "    </div>\n",
              "  </div>\n",
              "  "
            ]
          },
          "metadata": {},
          "execution_count": 86
        }
      ]
    },
    {
      "cell_type": "markdown",
      "source": [
        "So chi2 assumption failed for every pair but it's not that it cannot be aplied.\n",
        "\n",
        "The contingency table of origin and model_year is still good to try as most values are >= 5.<br>\n",
        "\n",
        "&emsp;&emsp;&emsp;$H_{0}$: origin and model_year are independent. &emsp;&emsp;&emsp;&emsp;&emsp;&emsp; $\\alpha=0.05$"
      ],
      "metadata": {
        "id": "Y9bBW70-7zz2"
      }
    },
    {
      "cell_type": "code",
      "source": [
        "observed_values = pd.crosstab(auto_data.origin, auto_data.mpg_level).values\n",
        "observed_values"
      ],
      "metadata": {
        "colab": {
          "base_uri": "https://localhost:8080/"
        },
        "id": "CJTE05y77Vsp",
        "outputId": "b041afe5-fc0b-42b2-e3d7-318e20d139c2"
      },
      "execution_count": 87,
      "outputs": [
        {
          "output_type": "execute_result",
          "data": {
            "text/plain": [
              "array([[ 24,   2,  44],\n",
              "       [ 49,   0,  30],\n",
              "       [ 24,  90, 135]])"
            ]
          },
          "metadata": {},
          "execution_count": 87
        }
      ]
    },
    {
      "cell_type": "code",
      "source": [
        "chi2, p, dof, expected_values = stats.chi2_contingency(observed_values)\n",
        "chi2, p, dof, expected_values"
      ],
      "metadata": {
        "colab": {
          "base_uri": "https://localhost:8080/"
        },
        "id": "NnJljz6-7VpF",
        "outputId": "2e1549fe-f60b-4ba1-c95f-971acbb84477"
      },
      "execution_count": 88,
      "outputs": [
        {
          "output_type": "execute_result",
          "data": {
            "text/plain": [
              "(124.67602279448344,\n",
              " 5.353157991435908e-26,\n",
              " 4,\n",
              " array([[ 17.06030151,  16.18090452,  36.75879397],\n",
              "        [ 19.25376884,  18.26130653,  41.48492462],\n",
              "        [ 60.68592965,  57.55778894, 130.75628141]]))"
            ]
          },
          "metadata": {},
          "execution_count": 88
        }
      ]
    },
    {
      "cell_type": "code",
      "source": [
        "if p <= alpha:\n",
        "    print(f'Rejected H0 under significance level {alpha} origin and model_year are dependent.')\n",
        "else:\n",
        "    print(f'Fail to reject H0 due to lack of evidence under significance level {alpha} origin and model_year are independent.')"
      ],
      "metadata": {
        "colab": {
          "base_uri": "https://localhost:8080/"
        },
        "id": "6Am-lvX67Vmr",
        "outputId": "37ad18cf-daa9-4c2e-9ee4-57887d4863d7"
      },
      "execution_count": 89,
      "outputs": [
        {
          "output_type": "stream",
          "name": "stdout",
          "text": [
            "Rejected H0 under significance level 0.05 origin and model_year are dependent.\n"
          ]
        }
      ]
    },
    {
      "cell_type": "markdown",
      "source": [
        "Testing dependency of all categorical attributes with mpg_level"
      ],
      "metadata": {
        "id": "gN1wtSBm8qCA"
      }
    },
    {
      "cell_type": "code",
      "source": [
        "auto_data_categorical_label =  pd.concat([auto_data.loc[:, ['origin', 'mpg_level']].apply(lambda x: LabelEncoder().fit_transform(x)),\n",
        "                           auto_data.loc[: , 'cylinders': 'model_year']], axis=1)\n",
        "\n",
        "auto_data_categorical_label.head()"
      ],
      "metadata": {
        "colab": {
          "base_uri": "https://localhost:8080/",
          "height": 206
        },
        "id": "5SvFDNdA7Vjk",
        "outputId": "51dc0c62-3479-433d-f8e5-27138d687bca"
      },
      "execution_count": 90,
      "outputs": [
        {
          "output_type": "execute_result",
          "data": {
            "text/plain": [
              "   origin  mpg_level  cylinders  displacement  horsepower  weight  \\\n",
              "0       2          2          8         307.0       130.0    3504   \n",
              "1       2          1          8         350.0       165.0    3693   \n",
              "2       2          2          8         318.0       150.0    3436   \n",
              "3       2          1          8         304.0       150.0    3433   \n",
              "4       2          2          8         302.0       140.0    3449   \n",
              "\n",
              "   acceleration  model_year  \n",
              "0          12.0          70  \n",
              "1          11.5          70  \n",
              "2          11.0          70  \n",
              "3          12.0          70  \n",
              "4          10.5          70  "
            ],
            "text/html": [
              "\n",
              "  <div id=\"df-de456d4c-9805-4717-b385-59aa7732a6a3\">\n",
              "    <div class=\"colab-df-container\">\n",
              "      <div>\n",
              "<style scoped>\n",
              "    .dataframe tbody tr th:only-of-type {\n",
              "        vertical-align: middle;\n",
              "    }\n",
              "\n",
              "    .dataframe tbody tr th {\n",
              "        vertical-align: top;\n",
              "    }\n",
              "\n",
              "    .dataframe thead th {\n",
              "        text-align: right;\n",
              "    }\n",
              "</style>\n",
              "<table border=\"1\" class=\"dataframe\">\n",
              "  <thead>\n",
              "    <tr style=\"text-align: right;\">\n",
              "      <th></th>\n",
              "      <th>origin</th>\n",
              "      <th>mpg_level</th>\n",
              "      <th>cylinders</th>\n",
              "      <th>displacement</th>\n",
              "      <th>horsepower</th>\n",
              "      <th>weight</th>\n",
              "      <th>acceleration</th>\n",
              "      <th>model_year</th>\n",
              "    </tr>\n",
              "  </thead>\n",
              "  <tbody>\n",
              "    <tr>\n",
              "      <th>0</th>\n",
              "      <td>2</td>\n",
              "      <td>2</td>\n",
              "      <td>8</td>\n",
              "      <td>307.0</td>\n",
              "      <td>130.0</td>\n",
              "      <td>3504</td>\n",
              "      <td>12.0</td>\n",
              "      <td>70</td>\n",
              "    </tr>\n",
              "    <tr>\n",
              "      <th>1</th>\n",
              "      <td>2</td>\n",
              "      <td>1</td>\n",
              "      <td>8</td>\n",
              "      <td>350.0</td>\n",
              "      <td>165.0</td>\n",
              "      <td>3693</td>\n",
              "      <td>11.5</td>\n",
              "      <td>70</td>\n",
              "    </tr>\n",
              "    <tr>\n",
              "      <th>2</th>\n",
              "      <td>2</td>\n",
              "      <td>2</td>\n",
              "      <td>8</td>\n",
              "      <td>318.0</td>\n",
              "      <td>150.0</td>\n",
              "      <td>3436</td>\n",
              "      <td>11.0</td>\n",
              "      <td>70</td>\n",
              "    </tr>\n",
              "    <tr>\n",
              "      <th>3</th>\n",
              "      <td>2</td>\n",
              "      <td>1</td>\n",
              "      <td>8</td>\n",
              "      <td>304.0</td>\n",
              "      <td>150.0</td>\n",
              "      <td>3433</td>\n",
              "      <td>12.0</td>\n",
              "      <td>70</td>\n",
              "    </tr>\n",
              "    <tr>\n",
              "      <th>4</th>\n",
              "      <td>2</td>\n",
              "      <td>2</td>\n",
              "      <td>8</td>\n",
              "      <td>302.0</td>\n",
              "      <td>140.0</td>\n",
              "      <td>3449</td>\n",
              "      <td>10.5</td>\n",
              "      <td>70</td>\n",
              "    </tr>\n",
              "  </tbody>\n",
              "</table>\n",
              "</div>\n",
              "      <button class=\"colab-df-convert\" onclick=\"convertToInteractive('df-de456d4c-9805-4717-b385-59aa7732a6a3')\"\n",
              "              title=\"Convert this dataframe to an interactive table.\"\n",
              "              style=\"display:none;\">\n",
              "        \n",
              "  <svg xmlns=\"http://www.w3.org/2000/svg\" height=\"24px\"viewBox=\"0 0 24 24\"\n",
              "       width=\"24px\">\n",
              "    <path d=\"M0 0h24v24H0V0z\" fill=\"none\"/>\n",
              "    <path d=\"M18.56 5.44l.94 2.06.94-2.06 2.06-.94-2.06-.94-.94-2.06-.94 2.06-2.06.94zm-11 1L8.5 8.5l.94-2.06 2.06-.94-2.06-.94L8.5 2.5l-.94 2.06-2.06.94zm10 10l.94 2.06.94-2.06 2.06-.94-2.06-.94-.94-2.06-.94 2.06-2.06.94z\"/><path d=\"M17.41 7.96l-1.37-1.37c-.4-.4-.92-.59-1.43-.59-.52 0-1.04.2-1.43.59L10.3 9.45l-7.72 7.72c-.78.78-.78 2.05 0 2.83L4 21.41c.39.39.9.59 1.41.59.51 0 1.02-.2 1.41-.59l7.78-7.78 2.81-2.81c.8-.78.8-2.07 0-2.86zM5.41 20L4 18.59l7.72-7.72 1.47 1.35L5.41 20z\"/>\n",
              "  </svg>\n",
              "      </button>\n",
              "      \n",
              "  <style>\n",
              "    .colab-df-container {\n",
              "      display:flex;\n",
              "      flex-wrap:wrap;\n",
              "      gap: 12px;\n",
              "    }\n",
              "\n",
              "    .colab-df-convert {\n",
              "      background-color: #E8F0FE;\n",
              "      border: none;\n",
              "      border-radius: 50%;\n",
              "      cursor: pointer;\n",
              "      display: none;\n",
              "      fill: #1967D2;\n",
              "      height: 32px;\n",
              "      padding: 0 0 0 0;\n",
              "      width: 32px;\n",
              "    }\n",
              "\n",
              "    .colab-df-convert:hover {\n",
              "      background-color: #E2EBFA;\n",
              "      box-shadow: 0px 1px 2px rgba(60, 64, 67, 0.3), 0px 1px 3px 1px rgba(60, 64, 67, 0.15);\n",
              "      fill: #174EA6;\n",
              "    }\n",
              "\n",
              "    [theme=dark] .colab-df-convert {\n",
              "      background-color: #3B4455;\n",
              "      fill: #D2E3FC;\n",
              "    }\n",
              "\n",
              "    [theme=dark] .colab-df-convert:hover {\n",
              "      background-color: #434B5C;\n",
              "      box-shadow: 0px 1px 3px 1px rgba(0, 0, 0, 0.15);\n",
              "      filter: drop-shadow(0px 1px 2px rgba(0, 0, 0, 0.3));\n",
              "      fill: #FFFFFF;\n",
              "    }\n",
              "  </style>\n",
              "\n",
              "      <script>\n",
              "        const buttonEl =\n",
              "          document.querySelector('#df-de456d4c-9805-4717-b385-59aa7732a6a3 button.colab-df-convert');\n",
              "        buttonEl.style.display =\n",
              "          google.colab.kernel.accessAllowed ? 'block' : 'none';\n",
              "\n",
              "        async function convertToInteractive(key) {\n",
              "          const element = document.querySelector('#df-de456d4c-9805-4717-b385-59aa7732a6a3');\n",
              "          const dataTable =\n",
              "            await google.colab.kernel.invokeFunction('convertToInteractive',\n",
              "                                                     [key], {});\n",
              "          if (!dataTable) return;\n",
              "\n",
              "          const docLinkHtml = 'Like what you see? Visit the ' +\n",
              "            '<a target=\"_blank\" href=https://colab.research.google.com/notebooks/data_table.ipynb>data table notebook</a>'\n",
              "            + ' to learn more about interactive tables.';\n",
              "          element.innerHTML = '';\n",
              "          dataTable['output_type'] = 'display_data';\n",
              "          await google.colab.output.renderOutput(dataTable, element);\n",
              "          const docLink = document.createElement('div');\n",
              "          docLink.innerHTML = docLinkHtml;\n",
              "          element.appendChild(docLink);\n",
              "        }\n",
              "      </script>\n",
              "    </div>\n",
              "  </div>\n",
              "  "
            ]
          },
          "metadata": {},
          "execution_count": 90
        }
      ]
    },
    {
      "cell_type": "code",
      "source": [
        "chi2_res = feature_selection.chi2(auto_data_categorical_label, auto_data.mpg_level)\n",
        "df_chi2 = pd.DataFrame({\n",
        "    'attr1': 'mpg_level',\n",
        "    'attr2': auto_data_categorical_label.columns,\n",
        "    'chi2': chi2_res[0],\n",
        "    'p': chi2_res[1],\n",
        "    'alpha': alpha\n",
        "})\n",
        "df_chi2['H0'] = df_chi2.p.apply(lambda x: 'rejected' if x <= alpha else 'fail to reject')\n",
        "df_chi2['relation'] = df_chi2.H0.apply(lambda x: 'dependent' if x=='rejected' else 'independent')\n",
        "df_chi2"
      ],
      "metadata": {
        "colab": {
          "base_uri": "https://localhost:8080/",
          "height": 300
        },
        "id": "QQ7QAkpK7VOQ",
        "outputId": "5d7c98c2-19e3-40da-94f3-1c981a29b94a"
      },
      "execution_count": 91,
      "outputs": [
        {
          "output_type": "execute_result",
          "data": {
            "text/plain": [
              "       attr1         attr2          chi2             p  alpha        H0  \\\n",
              "0  mpg_level        origin     29.860966  3.279244e-07   0.05  rejected   \n",
              "1  mpg_level     mpg_level    214.203922  3.063440e-47   0.05  rejected   \n",
              "2  mpg_level     cylinders    129.030964  9.578163e-29   0.05  rejected   \n",
              "3  mpg_level  displacement  15225.127486  0.000000e+00   0.05  rejected   \n",
              "4  mpg_level    horsepower   3721.271925  0.000000e+00   0.05  rejected   \n",
              "5  mpg_level        weight  66257.958068  0.000000e+00   0.05  rejected   \n",
              "6  mpg_level  acceleration     43.302779  3.952948e-10   0.05  rejected   \n",
              "7  mpg_level    model_year     22.195790  1.514417e-05   0.05  rejected   \n",
              "\n",
              "    relation  \n",
              "0  dependent  \n",
              "1  dependent  \n",
              "2  dependent  \n",
              "3  dependent  \n",
              "4  dependent  \n",
              "5  dependent  \n",
              "6  dependent  \n",
              "7  dependent  "
            ],
            "text/html": [
              "\n",
              "  <div id=\"df-9f96dc6b-0a9c-4bb7-8fd1-269c287fb167\">\n",
              "    <div class=\"colab-df-container\">\n",
              "      <div>\n",
              "<style scoped>\n",
              "    .dataframe tbody tr th:only-of-type {\n",
              "        vertical-align: middle;\n",
              "    }\n",
              "\n",
              "    .dataframe tbody tr th {\n",
              "        vertical-align: top;\n",
              "    }\n",
              "\n",
              "    .dataframe thead th {\n",
              "        text-align: right;\n",
              "    }\n",
              "</style>\n",
              "<table border=\"1\" class=\"dataframe\">\n",
              "  <thead>\n",
              "    <tr style=\"text-align: right;\">\n",
              "      <th></th>\n",
              "      <th>attr1</th>\n",
              "      <th>attr2</th>\n",
              "      <th>chi2</th>\n",
              "      <th>p</th>\n",
              "      <th>alpha</th>\n",
              "      <th>H0</th>\n",
              "      <th>relation</th>\n",
              "    </tr>\n",
              "  </thead>\n",
              "  <tbody>\n",
              "    <tr>\n",
              "      <th>0</th>\n",
              "      <td>mpg_level</td>\n",
              "      <td>origin</td>\n",
              "      <td>29.860966</td>\n",
              "      <td>3.279244e-07</td>\n",
              "      <td>0.05</td>\n",
              "      <td>rejected</td>\n",
              "      <td>dependent</td>\n",
              "    </tr>\n",
              "    <tr>\n",
              "      <th>1</th>\n",
              "      <td>mpg_level</td>\n",
              "      <td>mpg_level</td>\n",
              "      <td>214.203922</td>\n",
              "      <td>3.063440e-47</td>\n",
              "      <td>0.05</td>\n",
              "      <td>rejected</td>\n",
              "      <td>dependent</td>\n",
              "    </tr>\n",
              "    <tr>\n",
              "      <th>2</th>\n",
              "      <td>mpg_level</td>\n",
              "      <td>cylinders</td>\n",
              "      <td>129.030964</td>\n",
              "      <td>9.578163e-29</td>\n",
              "      <td>0.05</td>\n",
              "      <td>rejected</td>\n",
              "      <td>dependent</td>\n",
              "    </tr>\n",
              "    <tr>\n",
              "      <th>3</th>\n",
              "      <td>mpg_level</td>\n",
              "      <td>displacement</td>\n",
              "      <td>15225.127486</td>\n",
              "      <td>0.000000e+00</td>\n",
              "      <td>0.05</td>\n",
              "      <td>rejected</td>\n",
              "      <td>dependent</td>\n",
              "    </tr>\n",
              "    <tr>\n",
              "      <th>4</th>\n",
              "      <td>mpg_level</td>\n",
              "      <td>horsepower</td>\n",
              "      <td>3721.271925</td>\n",
              "      <td>0.000000e+00</td>\n",
              "      <td>0.05</td>\n",
              "      <td>rejected</td>\n",
              "      <td>dependent</td>\n",
              "    </tr>\n",
              "    <tr>\n",
              "      <th>5</th>\n",
              "      <td>mpg_level</td>\n",
              "      <td>weight</td>\n",
              "      <td>66257.958068</td>\n",
              "      <td>0.000000e+00</td>\n",
              "      <td>0.05</td>\n",
              "      <td>rejected</td>\n",
              "      <td>dependent</td>\n",
              "    </tr>\n",
              "    <tr>\n",
              "      <th>6</th>\n",
              "      <td>mpg_level</td>\n",
              "      <td>acceleration</td>\n",
              "      <td>43.302779</td>\n",
              "      <td>3.952948e-10</td>\n",
              "      <td>0.05</td>\n",
              "      <td>rejected</td>\n",
              "      <td>dependent</td>\n",
              "    </tr>\n",
              "    <tr>\n",
              "      <th>7</th>\n",
              "      <td>mpg_level</td>\n",
              "      <td>model_year</td>\n",
              "      <td>22.195790</td>\n",
              "      <td>1.514417e-05</td>\n",
              "      <td>0.05</td>\n",
              "      <td>rejected</td>\n",
              "      <td>dependent</td>\n",
              "    </tr>\n",
              "  </tbody>\n",
              "</table>\n",
              "</div>\n",
              "      <button class=\"colab-df-convert\" onclick=\"convertToInteractive('df-9f96dc6b-0a9c-4bb7-8fd1-269c287fb167')\"\n",
              "              title=\"Convert this dataframe to an interactive table.\"\n",
              "              style=\"display:none;\">\n",
              "        \n",
              "  <svg xmlns=\"http://www.w3.org/2000/svg\" height=\"24px\"viewBox=\"0 0 24 24\"\n",
              "       width=\"24px\">\n",
              "    <path d=\"M0 0h24v24H0V0z\" fill=\"none\"/>\n",
              "    <path d=\"M18.56 5.44l.94 2.06.94-2.06 2.06-.94-2.06-.94-.94-2.06-.94 2.06-2.06.94zm-11 1L8.5 8.5l.94-2.06 2.06-.94-2.06-.94L8.5 2.5l-.94 2.06-2.06.94zm10 10l.94 2.06.94-2.06 2.06-.94-2.06-.94-.94-2.06-.94 2.06-2.06.94z\"/><path d=\"M17.41 7.96l-1.37-1.37c-.4-.4-.92-.59-1.43-.59-.52 0-1.04.2-1.43.59L10.3 9.45l-7.72 7.72c-.78.78-.78 2.05 0 2.83L4 21.41c.39.39.9.59 1.41.59.51 0 1.02-.2 1.41-.59l7.78-7.78 2.81-2.81c.8-.78.8-2.07 0-2.86zM5.41 20L4 18.59l7.72-7.72 1.47 1.35L5.41 20z\"/>\n",
              "  </svg>\n",
              "      </button>\n",
              "      \n",
              "  <style>\n",
              "    .colab-df-container {\n",
              "      display:flex;\n",
              "      flex-wrap:wrap;\n",
              "      gap: 12px;\n",
              "    }\n",
              "\n",
              "    .colab-df-convert {\n",
              "      background-color: #E8F0FE;\n",
              "      border: none;\n",
              "      border-radius: 50%;\n",
              "      cursor: pointer;\n",
              "      display: none;\n",
              "      fill: #1967D2;\n",
              "      height: 32px;\n",
              "      padding: 0 0 0 0;\n",
              "      width: 32px;\n",
              "    }\n",
              "\n",
              "    .colab-df-convert:hover {\n",
              "      background-color: #E2EBFA;\n",
              "      box-shadow: 0px 1px 2px rgba(60, 64, 67, 0.3), 0px 1px 3px 1px rgba(60, 64, 67, 0.15);\n",
              "      fill: #174EA6;\n",
              "    }\n",
              "\n",
              "    [theme=dark] .colab-df-convert {\n",
              "      background-color: #3B4455;\n",
              "      fill: #D2E3FC;\n",
              "    }\n",
              "\n",
              "    [theme=dark] .colab-df-convert:hover {\n",
              "      background-color: #434B5C;\n",
              "      box-shadow: 0px 1px 3px 1px rgba(0, 0, 0, 0.15);\n",
              "      filter: drop-shadow(0px 1px 2px rgba(0, 0, 0, 0.3));\n",
              "      fill: #FFFFFF;\n",
              "    }\n",
              "  </style>\n",
              "\n",
              "      <script>\n",
              "        const buttonEl =\n",
              "          document.querySelector('#df-9f96dc6b-0a9c-4bb7-8fd1-269c287fb167 button.colab-df-convert');\n",
              "        buttonEl.style.display =\n",
              "          google.colab.kernel.accessAllowed ? 'block' : 'none';\n",
              "\n",
              "        async function convertToInteractive(key) {\n",
              "          const element = document.querySelector('#df-9f96dc6b-0a9c-4bb7-8fd1-269c287fb167');\n",
              "          const dataTable =\n",
              "            await google.colab.kernel.invokeFunction('convertToInteractive',\n",
              "                                                     [key], {});\n",
              "          if (!dataTable) return;\n",
              "\n",
              "          const docLinkHtml = 'Like what you see? Visit the ' +\n",
              "            '<a target=\"_blank\" href=https://colab.research.google.com/notebooks/data_table.ipynb>data table notebook</a>'\n",
              "            + ' to learn more about interactive tables.';\n",
              "          element.innerHTML = '';\n",
              "          dataTable['output_type'] = 'display_data';\n",
              "          await google.colab.output.renderOutput(dataTable, element);\n",
              "          const docLink = document.createElement('div');\n",
              "          docLink.innerHTML = docLinkHtml;\n",
              "          element.appendChild(docLink);\n",
              "        }\n",
              "      </script>\n",
              "    </div>\n",
              "  </div>\n",
              "  "
            ]
          },
          "metadata": {},
          "execution_count": 91
        }
      ]
    },
    {
      "cell_type": "markdown",
      "source": [
        "## Statistical Tests for Numerical Attributes"
      ],
      "metadata": {
        "id": "yr-1n7lu9tea"
      }
    },
    {
      "cell_type": "markdown",
      "source": [
        "### Normality Test\n"
      ],
      "metadata": {
        "id": "g8zXXpbx-Edm"
      }
    },
    {
      "cell_type": "markdown",
      "source": [
        "#### 1. Visual Normality Checks\n",
        "Visual check for normality using -\n",
        "1. Histogram\n",
        "2. Quantile-Quantile plot"
      ],
      "metadata": {
        "id": "ff0Nzpa9-H_w"
      }
    },
    {
      "cell_type": "markdown",
      "source": [
        "##### Histograms for all features"
      ],
      "metadata": {
        "id": "nvFPLb-6rFkv"
      }
    },
    {
      "cell_type": "code",
      "source": [
        "df_plot = auto_data.iloc[:, 0:7]\n",
        "\n",
        "plt.figure(figsize=(15,15))\n",
        "col = df_plot.columns\n",
        "for i in range(0,len(col)):\n",
        "    plt.subplot(len(col)//2+1,2,i+1)\n",
        "    sns.distplot(auto_data[col[i]]);\n",
        "    plt.xlabel(col[i])"
      ],
      "metadata": {
        "colab": {
          "base_uri": "https://localhost:8080/",
          "height": 878
        },
        "outputId": "a782665f-110e-4fec-a4c0-8ca3e558ac1f",
        "id": "eKTmgduFrFkv"
      },
      "execution_count": 92,
      "outputs": [
        {
          "output_type": "display_data",
          "data": {
            "text/plain": [
              "<Figure size 1080x1080 with 7 Axes>"
            ],
            "image/png": "[encoded data removed]"
          },
          "metadata": {
            "needs_background": "light"
          }
        }
      ]
    },
    {
      "cell_type": "markdown",
      "source": [
        "Insights from the above plot:\n",
        "* acceleration is the only distribution which is gaussian. There are few values in acceleration which lie outside the whiskers(the bars extending outwards from the box), these are outliers.\n",
        "* distributions of mpg & weight seems to be right-skewed gaussian.\n",
        "* distributions of displacement & horsepower seems to be far from gaussian."
      ],
      "metadata": {
        "id": "TgDQAtKE_RCX"
      }
    },
    {
      "cell_type": "markdown",
      "source": [
        "Checking whether mpg and weight are log-normal or not.\n",
        "\n",
        "A log-normal distribution is a distribution of a random variable whose logarithm is normally distributed. Thus, if the random variable X is log-normally distributed, then Y = ln(X) has a normal distribution."
      ],
      "metadata": {
        "id": "JJeX566t_7EN"
      }
    },
    {
      "cell_type": "code",
      "source": [
        "fig = plt.figure(1, (10, 4))\n",
        "\n",
        "ax = plt.subplot(1,2,1)\n",
        "sns.distplot(np.log2(auto_data.mpg))\n",
        "plt.tight_layout()\n",
        "\n",
        "ax = plt.subplot(1,2,2)\n",
        "sns.distplot(np.log2(auto_data.weight))\n",
        "plt.tight_layout()\n",
        "\n",
        "plt.show()"
      ],
      "metadata": {
        "colab": {
          "base_uri": "https://localhost:8080/",
          "height": 297
        },
        "id": "11tq5NcUbhns",
        "outputId": "38a78400-14bd-4244-a1e4-a128933e244a"
      },
      "execution_count": 93,
      "outputs": [
        {
          "output_type": "display_data",
          "data": {
            "text/plain": [
              "<Figure size 720x288 with 2 Axes>"
            ],
            "image/png": "[encoded data removed]"
          },
          "metadata": {
            "needs_background": "light"
          }
        }
      ]
    },
    {
      "cell_type": "markdown",
      "source": [
        "So after applying log transformation we find that weight is not log-normal but mpg visually looks like log-normal."
      ],
      "metadata": {
        "id": "uPYLqekPb9hp"
      }
    },
    {
      "cell_type": "markdown",
      "source": [
        "Checking for normality using quantile-quantile plots."
      ],
      "metadata": {
        "id": "zhK6TyPkAQeE"
      }
    },
    {
      "cell_type": "code",
      "source": [
        "# quantile-quantile plots on original data\n",
        "fig = pyplot.figure(1, (18,8))\n",
        "\n",
        "for i,num in enumerate(numerical_features):\n",
        "    ax = pyplot.subplot(2,3,i+1)\n",
        "    qqplot(auto_data[num], line= 's', ax=ax)\n",
        "    ax.set_title(f'qqplot - {num}')\n",
        "    pyplot.tight_layout()"
      ],
      "metadata": {
        "id": "EkiAKORgcEI7",
        "colab": {
          "base_uri": "https://localhost:8080/",
          "height": 585
        },
        "outputId": "89aabf2b-5373-4fc3-a68a-eebbf35bbaba"
      },
      "execution_count": 94,
      "outputs": [
        {
          "output_type": "display_data",
          "data": {
            "text/plain": [
              "<Figure size 1296x576 with 5 Axes>"
            ],
            "image/png": "[encoded data removed]"
          },
          "metadata": {
            "needs_background": "light"
          }
        }
      ]
    },
    {
      "cell_type": "markdown",
      "source": [
        "Both histplot & qqplot of acceleration indicates that it is indeed close to gaussian."
      ],
      "metadata": {
        "id": "eH2qzd4hAjcX"
      }
    },
    {
      "cell_type": "markdown",
      "source": [
        "#### 2. Statistical Normality Tests\n",
        "\n",
        "Shapiro wilk test.\n",
        "\n",
        "    H0 : Data is drawn from normal distribution.         α=0.05"
      ],
      "metadata": {
        "id": "grvIEdmZ2hi3"
      }
    },
    {
      "cell_type": "code",
      "source": [
        "# function for shapiro walk test\n",
        "def shapiro_wilk_test(df: pd.DataFrame, cols: list, alpha=0.05):\n",
        "    # testing the null hypothesis for columns given in cols of the dataframe auto_data under significance level alpha.\n",
        "    for col in cols:\n",
        "        _,p = stats.shapiro(df[col])\n",
        "        if p <= alpha:\n",
        "            print(f'''\\nRejected H0 under significance level {alpha}\\n{col} doesn't seems to be normally distributed''')\n",
        "        else:\n",
        "            print(f'''\\nFail to reject H0 due to lack of evidence under significance level {alpha}\\n{col} seem to be normally distributed''')"
      ],
      "metadata": {
        "id": "5b8ykh9X2odA"
      },
      "execution_count": 95,
      "outputs": []
    },
    {
      "cell_type": "code",
      "source": [
        "shapiro_wilk_test(auto_data, numerical_features)"
      ],
      "metadata": {
        "colab": {
          "base_uri": "https://localhost:8080/"
        },
        "id": "sqBlgngU2eTl",
        "outputId": "dd2646d7-784b-4203-f52c-983172085c8e"
      },
      "execution_count": 96,
      "outputs": [
        {
          "output_type": "stream",
          "name": "stdout",
          "text": [
            "\n",
            "Rejected H0 under significance level 0.05\n",
            "mpg doesn't seems to be normally distributed\n",
            "\n",
            "Rejected H0 under significance level 0.05\n",
            "displacement doesn't seems to be normally distributed\n",
            "\n",
            "Rejected H0 under significance level 0.05\n",
            "horsepower doesn't seems to be normally distributed\n",
            "\n",
            "Rejected H0 under significance level 0.05\n",
            "weight doesn't seems to be normally distributed\n",
            "\n",
            "Rejected H0 under significance level 0.05\n",
            "acceleration doesn't seems to be normally distributed\n"
          ]
        }
      ]
    },
    {
      "cell_type": "markdown",
      "source": [
        "The acceleration was expected to be normally distributed but test rejected it.\n",
        "\n",
        "Checking the p value"
      ],
      "metadata": {
        "id": "OHCPbvIRBmOL"
      }
    },
    {
      "cell_type": "code",
      "source": [
        "_, p = stats.shapiro(auto_data.acceleration)\n",
        "p"
      ],
      "metadata": {
        "colab": {
          "base_uri": "https://localhost:8080/"
        },
        "id": "oRBO3xe52CZc",
        "outputId": "e7326989-31f7-460b-cf1f-de4cb2336c7d"
      },
      "execution_count": 97,
      "outputs": [
        {
          "output_type": "execute_result",
          "data": {
            "text/plain": [
              "0.039872437715530396"
            ]
          },
          "metadata": {},
          "execution_count": 97
        }
      ]
    },
    {
      "cell_type": "markdown",
      "source": [
        "So the null hypothesis is rejected under the significance level of 5% but if it was 2.5% then the null-hypothesis would not have been rejected. One possible reason for the rejection of $H_{0}$ is maybe  data is not scaled and scaling might help."
      ],
      "metadata": {
        "id": "ZJ0x2aQrB2p3"
      }
    },
    {
      "cell_type": "markdown",
      "source": [
        "Power Transform: It transforms data featurewise to make it more Gaussian-like. Power transforms are a family of parametric, monotonic transformations that are applied to make data more Gaussian-like. This is useful for modeling issues related to heteroscedasticity (non-constant variance), or other situations where normality is desired just like here.\n",
        "\n",
        "Applying power transform to make the data more gaussian like. And after that checking for normality on the transformed data."
      ],
      "metadata": {
        "id": "lBRdqaqLDmVd"
      }
    },
    {
      "cell_type": "code",
      "source": [
        "auto_data_transformed = pd.DataFrame(PowerTransformer().fit_transform(auto_data[numerical_features]), columns=numerical_features)\n",
        "auto_data_transformed.head()"
      ],
      "metadata": {
        "id": "IkOg7ehQ2_gc",
        "colab": {
          "base_uri": "https://localhost:8080/",
          "height": 206
        },
        "outputId": "e43aee11-bdb4-4d96-c52b-1b933991a510"
      },
      "execution_count": 98,
      "outputs": [
        {
          "output_type": "execute_result",
          "data": {
            "text/plain": [
              "        mpg  displacement  horsepower    weight  acceleration\n",
              "0 -0.645513      1.129793    0.862976  0.754910     -1.327271\n",
              "1 -1.152166      1.332841    1.454628  0.929331     -1.531864\n",
              "2 -0.645513      1.185134    1.225934  0.689074     -1.740270\n",
              "3 -0.975080      1.114248    1.225934  0.686130     -1.327271\n",
              "4 -0.806477      1.103773    1.053950  0.701794     -1.952725"
            ],
            "text/html": [
              "\n",
              "  <div id=\"df-5d5ddda8-b9df-473e-85c9-6482be2485b2\">\n",
              "    <div class=\"colab-df-container\">\n",
              "      <div>\n",
              "<style scoped>\n",
              "    .dataframe tbody tr th:only-of-type {\n",
              "        vertical-align: middle;\n",
              "    }\n",
              "\n",
              "    .dataframe tbody tr th {\n",
              "        vertical-align: top;\n",
              "    }\n",
              "\n",
              "    .dataframe thead th {\n",
              "        text-align: right;\n",
              "    }\n",
              "</style>\n",
              "<table border=\"1\" class=\"dataframe\">\n",
              "  <thead>\n",
              "    <tr style=\"text-align: right;\">\n",
              "      <th></th>\n",
              "      <th>mpg</th>\n",
              "      <th>displacement</th>\n",
              "      <th>horsepower</th>\n",
              "      <th>weight</th>\n",
              "      <th>acceleration</th>\n",
              "    </tr>\n",
              "  </thead>\n",
              "  <tbody>\n",
              "    <tr>\n",
              "      <th>0</th>\n",
              "      <td>-0.645513</td>\n",
              "      <td>1.129793</td>\n",
              "      <td>0.862976</td>\n",
              "      <td>0.754910</td>\n",
              "      <td>-1.327271</td>\n",
              "    </tr>\n",
              "    <tr>\n",
              "      <th>1</th>\n",
              "      <td>-1.152166</td>\n",
              "      <td>1.332841</td>\n",
              "      <td>1.454628</td>\n",
              "      <td>0.929331</td>\n",
              "      <td>-1.531864</td>\n",
              "    </tr>\n",
              "    <tr>\n",
              "      <th>2</th>\n",
              "      <td>-0.645513</td>\n",
              "      <td>1.185134</td>\n",
              "      <td>1.225934</td>\n",
              "      <td>0.689074</td>\n",
              "      <td>-1.740270</td>\n",
              "    </tr>\n",
              "    <tr>\n",
              "      <th>3</th>\n",
              "      <td>-0.975080</td>\n",
              "      <td>1.114248</td>\n",
              "      <td>1.225934</td>\n",
              "      <td>0.686130</td>\n",
              "      <td>-1.327271</td>\n",
              "    </tr>\n",
              "    <tr>\n",
              "      <th>4</th>\n",
              "      <td>-0.806477</td>\n",
              "      <td>1.103773</td>\n",
              "      <td>1.053950</td>\n",
              "      <td>0.701794</td>\n",
              "      <td>-1.952725</td>\n",
              "    </tr>\n",
              "  </tbody>\n",
              "</table>\n",
              "</div>\n",
              "      <button class=\"colab-df-convert\" onclick=\"convertToInteractive('df-5d5ddda8-b9df-473e-85c9-6482be2485b2')\"\n",
              "              title=\"Convert this dataframe to an interactive table.\"\n",
              "              style=\"display:none;\">\n",
              "        \n",
              "  <svg xmlns=\"http://www.w3.org/2000/svg\" height=\"24px\"viewBox=\"0 0 24 24\"\n",
              "       width=\"24px\">\n",
              "    <path d=\"M0 0h24v24H0V0z\" fill=\"none\"/>\n",
              "    <path d=\"M18.56 5.44l.94 2.06.94-2.06 2.06-.94-2.06-.94-.94-2.06-.94 2.06-2.06.94zm-11 1L8.5 8.5l.94-2.06 2.06-.94-2.06-.94L8.5 2.5l-.94 2.06-2.06.94zm10 10l.94 2.06.94-2.06 2.06-.94-2.06-.94-.94-2.06-.94 2.06-2.06.94z\"/><path d=\"M17.41 7.96l-1.37-1.37c-.4-.4-.92-.59-1.43-.59-.52 0-1.04.2-1.43.59L10.3 9.45l-7.72 7.72c-.78.78-.78 2.05 0 2.83L4 21.41c.39.39.9.59 1.41.59.51 0 1.02-.2 1.41-.59l7.78-7.78 2.81-2.81c.8-.78.8-2.07 0-2.86zM5.41 20L4 18.59l7.72-7.72 1.47 1.35L5.41 20z\"/>\n",
              "  </svg>\n",
              "      </button>\n",
              "      \n",
              "  <style>\n",
              "    .colab-df-container {\n",
              "      display:flex;\n",
              "      flex-wrap:wrap;\n",
              "      gap: 12px;\n",
              "    }\n",
              "\n",
              "    .colab-df-convert {\n",
              "      background-color: #E8F0FE;\n",
              "      border: none;\n",
              "      border-radius: 50%;\n",
              "      cursor: pointer;\n",
              "      display: none;\n",
              "      fill: #1967D2;\n",
              "      height: 32px;\n",
              "      padding: 0 0 0 0;\n",
              "      width: 32px;\n",
              "    }\n",
              "\n",
              "    .colab-df-convert:hover {\n",
              "      background-color: #E2EBFA;\n",
              "      box-shadow: 0px 1px 2px rgba(60, 64, 67, 0.3), 0px 1px 3px 1px rgba(60, 64, 67, 0.15);\n",
              "      fill: #174EA6;\n",
              "    }\n",
              "\n",
              "    [theme=dark] .colab-df-convert {\n",
              "      background-color: #3B4455;\n",
              "      fill: #D2E3FC;\n",
              "    }\n",
              "\n",
              "    [theme=dark] .colab-df-convert:hover {\n",
              "      background-color: #434B5C;\n",
              "      box-shadow: 0px 1px 3px 1px rgba(0, 0, 0, 0.15);\n",
              "      filter: drop-shadow(0px 1px 2px rgba(0, 0, 0, 0.3));\n",
              "      fill: #FFFFFF;\n",
              "    }\n",
              "  </style>\n",
              "\n",
              "      <script>\n",
              "        const buttonEl =\n",
              "          document.querySelector('#df-5d5ddda8-b9df-473e-85c9-6482be2485b2 button.colab-df-convert');\n",
              "        buttonEl.style.display =\n",
              "          google.colab.kernel.accessAllowed ? 'block' : 'none';\n",
              "\n",
              "        async function convertToInteractive(key) {\n",
              "          const element = document.querySelector('#df-5d5ddda8-b9df-473e-85c9-6482be2485b2');\n",
              "          const dataTable =\n",
              "            await google.colab.kernel.invokeFunction('convertToInteractive',\n",
              "                                                     [key], {});\n",
              "          if (!dataTable) return;\n",
              "\n",
              "          const docLinkHtml = 'Like what you see? Visit the ' +\n",
              "            '<a target=\"_blank\" href=https://colab.research.google.com/notebooks/data_table.ipynb>data table notebook</a>'\n",
              "            + ' to learn more about interactive tables.';\n",
              "          element.innerHTML = '';\n",
              "          dataTable['output_type'] = 'display_data';\n",
              "          await google.colab.output.renderOutput(dataTable, element);\n",
              "          const docLink = document.createElement('div');\n",
              "          docLink.innerHTML = docLinkHtml;\n",
              "          element.appendChild(docLink);\n",
              "        }\n",
              "      </script>\n",
              "    </div>\n",
              "  </div>\n",
              "  "
            ]
          },
          "metadata": {},
          "execution_count": 98
        }
      ]
    },
    {
      "cell_type": "code",
      "source": [
        "fig = pyplot.figure(1, (18,8))\n",
        "\n",
        "for i,num in enumerate(numerical_features):\n",
        "    ax = pyplot.subplot(2,3,i+1)\n",
        "    sns.distplot(auto_data_transformed[num])\n",
        "    ax.set_xlabel(f'transformed {num}')\n",
        "    pyplot.tight_layout()"
      ],
      "metadata": {
        "colab": {
          "base_uri": "https://localhost:8080/",
          "height": 585
        },
        "id": "9dsJIIoyFv3d",
        "outputId": "cd04d60a-c433-4bee-b70d-455103e9ad1a"
      },
      "execution_count": 99,
      "outputs": [
        {
          "output_type": "display_data",
          "data": {
            "text/plain": [
              "<Figure size 1296x576 with 5 Axes>"
            ],
            "image/png": "[encoded data removed]"
          },
          "metadata": {
            "needs_background": "light"
          }
        }
      ]
    },
    {
      "cell_type": "markdown",
      "source": [
        "Power transforms does two things, first it scaled the data i.e., now data is centered at 0 and also made the distribution more gaussian-like simultaneously preserving the original structure. It does so by applying transformations like square-root, log etc.\n",
        "\n",
        "acceleration is still gaussian, skewness is removed from mpg & weight making mpg gaussian-like. Also the distribution for displacement is improved now it's bimodal which respects the observation.\n",
        "\n",
        "After applying power transform distribution, mpg & weight is quite similar to what we get on applying log transform. \n",
        "\n",
        "Checking for normality using quantile-quantile plots."
      ],
      "metadata": {
        "id": "LIyIu61xvGBX"
      }
    },
    {
      "cell_type": "code",
      "source": [
        "# quantile-quantile plots on transformed data\n",
        "fig = pyplot.figure(1, (18,8))\n",
        "\n",
        "for i,num in enumerate(numerical_features):\n",
        "    ax = pyplot.subplot(2,3,i+1)\n",
        "    qqplot(auto_data_transformed[num], line='s', ax=ax)\n",
        "    ax.set_title(f'qqplot - transformed {num}')\n",
        "    pyplot.tight_layout()"
      ],
      "metadata": {
        "id": "Pvvyos4bt7KP",
        "colab": {
          "base_uri": "https://localhost:8080/",
          "height": 585
        },
        "outputId": "c665a82e-6c9f-4b54-ea4d-f8132639b07b"
      },
      "execution_count": 100,
      "outputs": [
        {
          "output_type": "display_data",
          "data": {
            "text/plain": [
              "<Figure size 1296x576 with 5 Axes>"
            ],
            "image/png": "[encoded data removed]"
          },
          "metadata": {
            "needs_background": "light"
          }
        }
      ]
    },
    {
      "cell_type": "code",
      "source": [
        "shapiro_wilk_test(auto_data_transformed, numerical_features)"
      ],
      "metadata": {
        "colab": {
          "base_uri": "https://localhost:8080/"
        },
        "id": "sjKDrVyUycZV",
        "outputId": "7ea23ebe-5a1d-407f-b88a-82520d5a4279"
      },
      "execution_count": 101,
      "outputs": [
        {
          "output_type": "stream",
          "name": "stdout",
          "text": [
            "\n",
            "Rejected H0 under significance level 0.05\n",
            "mpg doesn't seems to be normally distributed\n",
            "\n",
            "Rejected H0 under significance level 0.05\n",
            "displacement doesn't seems to be normally distributed\n",
            "\n",
            "Rejected H0 under significance level 0.05\n",
            "horsepower doesn't seems to be normally distributed\n",
            "\n",
            "Rejected H0 under significance level 0.05\n",
            "weight doesn't seems to be normally distributed\n",
            "\n",
            "Fail to reject H0 due to lack of evidence under significance level 0.05\n",
            "acceleration seem to be normally distributed\n"
          ]
        }
      ]
    },
    {
      "cell_type": "code",
      "source": [
        "_, p = stats.shapiro(auto_data_transformed.acceleration)\n",
        "p"
      ],
      "metadata": {
        "colab": {
          "base_uri": "https://localhost:8080/"
        },
        "id": "j5D8n-bPytLQ",
        "outputId": "e38c5581-6933-48dc-87a2-c920f87cff8c"
      },
      "execution_count": 102,
      "outputs": [
        {
          "output_type": "execute_result",
          "data": {
            "text/plain": [
              "0.4130762815475464"
            ]
          },
          "metadata": {},
          "execution_count": 102
        }
      ]
    },
    {
      "cell_type": "markdown",
      "source": [
        "On normalizing the data, the likelihood of observing acceleration assuming it's normal is very high as compared to earlier.\n",
        "\n",
        "So acceleration is normally distributed both visually and statistically."
      ],
      "metadata": {
        "id": "QPadSfw7y76b"
      }
    },
    {
      "cell_type": "markdown",
      "source": [
        "## Tests for correlation between two continous variables\n",
        "\n",
        "### Covariance\n",
        "\n",
        "$$\\large Cov(x,y) = \\frac{\\sum (x_{_i}-\\bar{x})(y_{_i}-\\bar{y})}{n-1}$$\n",
        "\n",
        "The use of the mean in the calculation suggests the need for each data sample to have a Gaussian or Gaussian-like distribution hence its **parametric statistic**. Also it's hard to interpret because it can take any value.\n",
        "\n",
        "### Linear Association (Pearson's Correlation)\n",
        "\n",
        "$$\\large Corr_{_p}(x,y) = \\frac{Cov(x,y)}{\\sigma _{x}\\sigma _{y}}$$\n",
        "\n",
        "The Pearson correlation coefficient is just a **normalized covariance** between the two variables to give an interpretable score such that $Corr_{p}(x,y)\\in [-1,1]$. It can be used to summarize the strength of the linear relationship between two data samples. The use of mean and standard deviation in the calculation suggests the need for the two data samples to have a Gaussian or Gaussian-like distribution hence it's a **parametric statistic**.\n",
        "\n",
        "As a statistical hypothesis test, the method assumes that the samples are uncorrelated (fail to reject H0).\n",
        "\n",
        "**Assumptions of pearson correlation**:<br>\n",
        "&emsp;&emsp;&emsp;**1.** Both variables should have a Gaussian or Gaussian-like distribution.<br>\n",
        "&emsp;&emsp;&emsp;**2.** Relationship between the variables should be linear.<br>\n",
        "&emsp;&emsp;&emsp;**3.** Homoscedasticity i.e., a sequence of random variables where all its random variables have the same finite variance.<br>\n",
        "\n",
        "Also Pearson is quite sensitive to outliers.<br>\n",
        "\n",
        "Two variables may be related by a nonlinear relationship, such that the relationship is stronger or weaker across the distribution of the variables. In these cases, even when variables have a strong association, Pearson’s correlation would be low. Further, the two variables being considered may have a non-Gaussian distribution. To properly identify association between variables with non-linear relationships, we can use rank-based correlation approaches.\n",
        "\n",
        "### Ordinal Association (Rank correlation)\n",
        "Rank correlation refers to methods that quantify the association between variables using the ordinal relationship between the values rather than the specific values. In this we first sort data in ascending order, then assign integer rank to them and then use it to find the correlation b/w variables. Because no distribution for the values is assumed, rank correlation methods are referred to as distribution-free correlation or nonparametric correlation. \n",
        "\n",
        "### Spearman's Rank Correlation\n",
        "\n",
        "$$\\large Corr_{_s}(x,y) = \\frac{Cov(rank(x), rank(y))}{\\sigma _{rank(x)}\\sigma _{rank(y)}}$$\n",
        "\n",
        "Spearman's Correlation is a **non-parametric rank correlation** and is also interpretable because $Corr_{s}(x,y)\\in [-1,1]$. In this instead of calculating the coefficient using covariance and standard deviations on the samples themselves, these statistics are calculated by converting the raw data into rank data hence non-parametric. **This is a common approach used in non-parametric statistics.**\n",
        "\n",
        "As a statistical hypothesis test, the method assumes that the samples are uncorrelated (fail to reject H0).\n",
        "\n"
      ],
      "metadata": {
        "id": "d0Cr-xad_lel"
      }
    },
    {
      "cell_type": "markdown",
      "source": [
        "Correlation test b/w mpg and other attribute:\n",
        "\n",
        "&emsp;&emsp;&emsp;$H_{0}$: mpg and other attribute are not correlated. &emsp;&emsp;&emsp;&emsp;&emsp;&emsp; $\\alpha=0.05$"
      ],
      "metadata": {
        "id": "fnfNIwVhAkh6"
      }
    },
    {
      "cell_type": "code",
      "source": [
        "for num in numerical_features:\n",
        "    if num == 'mpg':\n",
        "        continue\n",
        "    \n",
        "    corr, p = stats.spearmanr(auto_data.mpg, auto_data[num])\n",
        "\n",
        "    print(f'\\nmpg & {num}\\n')\n",
        "    print(f'Correlation: {round(corr, 4)} \\t p: {p}')\n",
        "\n",
        "    if p <= alpha:\n",
        "        print(f'Rejected H0 under significance level {alpha}, mpg & {num} are correlated\\n')\n",
        "    else:\n",
        "        print(f'Fail to reject H0 due to lack of evidence under significance level {alpha}, mpg & {num} are not correlated\\n')"
      ],
      "metadata": {
        "colab": {
          "base_uri": "https://localhost:8080/"
        },
        "id": "yb2UcI8CAybO",
        "outputId": "db808f74-e444-4907-8e01-1a3bffebdf3a"
      },
      "execution_count": 103,
      "outputs": [
        {
          "output_type": "stream",
          "name": "stdout",
          "text": [
            "\n",
            "mpg & displacement\n",
            "\n",
            "Correlation: -0.8557 \t p: 2.3646353779685863e-115\n",
            "Rejected H0 under significance level 0.05, mpg & displacement are correlated\n",
            "\n",
            "\n",
            "mpg & horsepower\n",
            "\n",
            "Correlation: -0.848 \t p: 3.1556146766511463e-111\n",
            "Rejected H0 under significance level 0.05, mpg & horsepower are correlated\n",
            "\n",
            "\n",
            "mpg & weight\n",
            "\n",
            "Correlation: -0.8749 \t p: 8.643768710424627e-127\n",
            "Rejected H0 under significance level 0.05, mpg & weight are correlated\n",
            "\n",
            "\n",
            "mpg & acceleration\n",
            "\n",
            "Correlation: 0.4387 \t p: 3.7760574238172543e-20\n",
            "Rejected H0 under significance level 0.05, mpg & acceleration are correlated\n",
            "\n"
          ]
        }
      ]
    },
    {
      "cell_type": "markdown",
      "source": [
        "So all the H0 are rejected under the significance level of 5%. Except acceleration all the other correlations are very high.\n"
      ],
      "metadata": {
        "id": "4kZQhatUBVT7"
      }
    },
    {
      "cell_type": "markdown",
      "source": [
        "Correlation between every pair"
      ],
      "metadata": {
        "id": "y3jzR5MJBi_d"
      }
    },
    {
      "cell_type": "code",
      "source": [
        "def test_correlation(x1, x2, method='spearman', alpha=0.05):\n",
        "    # this function returns correlation, p-value and H0 for `x1` & `x2`\n",
        "    \n",
        "    ALLOWED_METHODS = ['pearson', 'spearman', 'kendall']\n",
        "    if method not in ALLOWED_METHODS:\n",
        "        raise ValueError(f'allowed methods are {ALLOWED_METHODS}')\n",
        "        \n",
        "    if method=='pearson':\n",
        "        corr, p = stats.pearsonr(x1,x2)\n",
        "    elif method=='spearman':\n",
        "        corr, p = stats.spearmanr(x1,x2)\n",
        "    else:\n",
        "        corr, p = stats.kendalltau(x1,x2)\n",
        "    \n",
        "    h0 = (\n",
        "    'rejected'\n",
        "    if p<=alpha else\n",
        "    'fail to reject')\n",
        "    \n",
        "    return corr, p, h0"
      ],
      "metadata": {
        "id": "dlQJiC5FBnlO"
      },
      "execution_count": 104,
      "outputs": []
    },
    {
      "cell_type": "code",
      "source": [
        "df_corr = pd.DataFrame(columns=['attr1', 'attr2', 'corr', 'p', 'H0'])\n",
        "\n",
        "for combo in itertools.combinations(numerical_features, r=2):\n",
        "    corr, p, h0 = test_correlation(auto_data[combo[0]], auto_data[combo[1]])\n",
        "    df_corr = df_corr.append({'attr1':combo[0], 'attr2':combo[1],'corr':round(corr, 5), 'p':p, 'H0':h0}, ignore_index=True)\n",
        "    \n",
        "df_corr"
      ],
      "metadata": {
        "colab": {
          "base_uri": "https://localhost:8080/",
          "height": 363
        },
        "id": "YluvGLkNBwIb",
        "outputId": "ef0b5456-16a1-45dc-b0d2-a25f8f18ab2f"
      },
      "execution_count": 105,
      "outputs": [
        {
          "output_type": "execute_result",
          "data": {
            "text/plain": [
              "          attr1         attr2     corr              p        H0\n",
              "0           mpg  displacement -0.85569  2.364635e-115  rejected\n",
              "1           mpg    horsepower -0.84797  3.155615e-111  rejected\n",
              "2           mpg        weight -0.87495  8.643769e-127  rejected\n",
              "3           mpg  acceleration  0.43868   3.776057e-20  rejected\n",
              "4  displacement    horsepower  0.86994  1.209720e-123  rejected\n",
              "5  displacement        weight  0.94599  8.192161e-196  rejected\n",
              "6  displacement  acceleration -0.49651   3.658901e-26  rejected\n",
              "7    horsepower        weight  0.87215  5.141212e-125  rejected\n",
              "8    horsepower  acceleration -0.65136   2.046249e-49  rejected\n",
              "9        weight  acceleration -0.40455   4.189304e-17  rejected"
            ],
            "text/html": [
              "\n",
              "  <div id=\"df-a54c73ca-5f8f-4757-9c42-4e821d802d85\">\n",
              "    <div class=\"colab-df-container\">\n",
              "      <div>\n",
              "<style scoped>\n",
              "    .dataframe tbody tr th:only-of-type {\n",
              "        vertical-align: middle;\n",
              "    }\n",
              "\n",
              "    .dataframe tbody tr th {\n",
              "        vertical-align: top;\n",
              "    }\n",
              "\n",
              "    .dataframe thead th {\n",
              "        text-align: right;\n",
              "    }\n",
              "</style>\n",
              "<table border=\"1\" class=\"dataframe\">\n",
              "  <thead>\n",
              "    <tr style=\"text-align: right;\">\n",
              "      <th></th>\n",
              "      <th>attr1</th>\n",
              "      <th>attr2</th>\n",
              "      <th>corr</th>\n",
              "      <th>p</th>\n",
              "      <th>H0</th>\n",
              "    </tr>\n",
              "  </thead>\n",
              "  <tbody>\n",
              "    <tr>\n",
              "      <th>0</th>\n",
              "      <td>mpg</td>\n",
              "      <td>displacement</td>\n",
              "      <td>-0.85569</td>\n",
              "      <td>2.364635e-115</td>\n",
              "      <td>rejected</td>\n",
              "    </tr>\n",
              "    <tr>\n",
              "      <th>1</th>\n",
              "      <td>mpg</td>\n",
              "      <td>horsepower</td>\n",
              "      <td>-0.84797</td>\n",
              "      <td>3.155615e-111</td>\n",
              "      <td>rejected</td>\n",
              "    </tr>\n",
              "    <tr>\n",
              "      <th>2</th>\n",
              "      <td>mpg</td>\n",
              "      <td>weight</td>\n",
              "      <td>-0.87495</td>\n",
              "      <td>8.643769e-127</td>\n",
              "      <td>rejected</td>\n",
              "    </tr>\n",
              "    <tr>\n",
              "      <th>3</th>\n",
              "      <td>mpg</td>\n",
              "      <td>acceleration</td>\n",
              "      <td>0.43868</td>\n",
              "      <td>3.776057e-20</td>\n",
              "      <td>rejected</td>\n",
              "    </tr>\n",
              "    <tr>\n",
              "      <th>4</th>\n",
              "      <td>displacement</td>\n",
              "      <td>horsepower</td>\n",
              "      <td>0.86994</td>\n",
              "      <td>1.209720e-123</td>\n",
              "      <td>rejected</td>\n",
              "    </tr>\n",
              "    <tr>\n",
              "      <th>5</th>\n",
              "      <td>displacement</td>\n",
              "      <td>weight</td>\n",
              "      <td>0.94599</td>\n",
              "      <td>8.192161e-196</td>\n",
              "      <td>rejected</td>\n",
              "    </tr>\n",
              "    <tr>\n",
              "      <th>6</th>\n",
              "      <td>displacement</td>\n",
              "      <td>acceleration</td>\n",
              "      <td>-0.49651</td>\n",
              "      <td>3.658901e-26</td>\n",
              "      <td>rejected</td>\n",
              "    </tr>\n",
              "    <tr>\n",
              "      <th>7</th>\n",
              "      <td>horsepower</td>\n",
              "      <td>weight</td>\n",
              "      <td>0.87215</td>\n",
              "      <td>5.141212e-125</td>\n",
              "      <td>rejected</td>\n",
              "    </tr>\n",
              "    <tr>\n",
              "      <th>8</th>\n",
              "      <td>horsepower</td>\n",
              "      <td>acceleration</td>\n",
              "      <td>-0.65136</td>\n",
              "      <td>2.046249e-49</td>\n",
              "      <td>rejected</td>\n",
              "    </tr>\n",
              "    <tr>\n",
              "      <th>9</th>\n",
              "      <td>weight</td>\n",
              "      <td>acceleration</td>\n",
              "      <td>-0.40455</td>\n",
              "      <td>4.189304e-17</td>\n",
              "      <td>rejected</td>\n",
              "    </tr>\n",
              "  </tbody>\n",
              "</table>\n",
              "</div>\n",
              "      <button class=\"colab-df-convert\" onclick=\"convertToInteractive('df-a54c73ca-5f8f-4757-9c42-4e821d802d85')\"\n",
              "              title=\"Convert this dataframe to an interactive table.\"\n",
              "              style=\"display:none;\">\n",
              "        \n",
              "  <svg xmlns=\"http://www.w3.org/2000/svg\" height=\"24px\"viewBox=\"0 0 24 24\"\n",
              "       width=\"24px\">\n",
              "    <path d=\"M0 0h24v24H0V0z\" fill=\"none\"/>\n",
              "    <path d=\"M18.56 5.44l.94 2.06.94-2.06 2.06-.94-2.06-.94-.94-2.06-.94 2.06-2.06.94zm-11 1L8.5 8.5l.94-2.06 2.06-.94-2.06-.94L8.5 2.5l-.94 2.06-2.06.94zm10 10l.94 2.06.94-2.06 2.06-.94-2.06-.94-.94-2.06-.94 2.06-2.06.94z\"/><path d=\"M17.41 7.96l-1.37-1.37c-.4-.4-.92-.59-1.43-.59-.52 0-1.04.2-1.43.59L10.3 9.45l-7.72 7.72c-.78.78-.78 2.05 0 2.83L4 21.41c.39.39.9.59 1.41.59.51 0 1.02-.2 1.41-.59l7.78-7.78 2.81-2.81c.8-.78.8-2.07 0-2.86zM5.41 20L4 18.59l7.72-7.72 1.47 1.35L5.41 20z\"/>\n",
              "  </svg>\n",
              "      </button>\n",
              "      \n",
              "  <style>\n",
              "    .colab-df-container {\n",
              "      display:flex;\n",
              "      flex-wrap:wrap;\n",
              "      gap: 12px;\n",
              "    }\n",
              "\n",
              "    .colab-df-convert {\n",
              "      background-color: #E8F0FE;\n",
              "      border: none;\n",
              "      border-radius: 50%;\n",
              "      cursor: pointer;\n",
              "      display: none;\n",
              "      fill: #1967D2;\n",
              "      height: 32px;\n",
              "      padding: 0 0 0 0;\n",
              "      width: 32px;\n",
              "    }\n",
              "\n",
              "    .colab-df-convert:hover {\n",
              "      background-color: #E2EBFA;\n",
              "      box-shadow: 0px 1px 2px rgba(60, 64, 67, 0.3), 0px 1px 3px 1px rgba(60, 64, 67, 0.15);\n",
              "      fill: #174EA6;\n",
              "    }\n",
              "\n",
              "    [theme=dark] .colab-df-convert {\n",
              "      background-color: #3B4455;\n",
              "      fill: #D2E3FC;\n",
              "    }\n",
              "\n",
              "    [theme=dark] .colab-df-convert:hover {\n",
              "      background-color: #434B5C;\n",
              "      box-shadow: 0px 1px 3px 1px rgba(0, 0, 0, 0.15);\n",
              "      filter: drop-shadow(0px 1px 2px rgba(0, 0, 0, 0.3));\n",
              "      fill: #FFFFFF;\n",
              "    }\n",
              "  </style>\n",
              "\n",
              "      <script>\n",
              "        const buttonEl =\n",
              "          document.querySelector('#df-a54c73ca-5f8f-4757-9c42-4e821d802d85 button.colab-df-convert');\n",
              "        buttonEl.style.display =\n",
              "          google.colab.kernel.accessAllowed ? 'block' : 'none';\n",
              "\n",
              "        async function convertToInteractive(key) {\n",
              "          const element = document.querySelector('#df-a54c73ca-5f8f-4757-9c42-4e821d802d85');\n",
              "          const dataTable =\n",
              "            await google.colab.kernel.invokeFunction('convertToInteractive',\n",
              "                                                     [key], {});\n",
              "          if (!dataTable) return;\n",
              "\n",
              "          const docLinkHtml = 'Like what you see? Visit the ' +\n",
              "            '<a target=\"_blank\" href=https://colab.research.google.com/notebooks/data_table.ipynb>data table notebook</a>'\n",
              "            + ' to learn more about interactive tables.';\n",
              "          element.innerHTML = '';\n",
              "          dataTable['output_type'] = 'display_data';\n",
              "          await google.colab.output.renderOutput(dataTable, element);\n",
              "          const docLink = document.createElement('div');\n",
              "          docLink.innerHTML = docLinkHtml;\n",
              "          element.appendChild(docLink);\n",
              "        }\n",
              "      </script>\n",
              "    </div>\n",
              "  </div>\n",
              "  "
            ]
          },
          "metadata": {},
          "execution_count": 105
        }
      ]
    },
    {
      "cell_type": "markdown",
      "source": [
        "Correlation of pairs (mpg, acceleration), (displacement, acceleration) and (weight, acceleration) is moderate whereas remaining all pairs has very high correlation between them."
      ],
      "metadata": {
        "id": "U7QTfbMVCJtG"
      }
    },
    {
      "cell_type": "markdown",
      "source": [
        "## Parametric Statistical Significance Tests"
      ],
      "metadata": {
        "id": "WLcNOEvazdJk"
      }
    },
    {
      "cell_type": "markdown",
      "source": [
        "Student’s t-test - It tests whether the two independent normal distributed samples has the same mean or not."
      ],
      "metadata": {
        "id": "AMCrzKq0zqkP"
      }
    },
    {
      "cell_type": "markdown",
      "source": [
        "Testing whether acceleration in Japan and USA has the same mean.\n",
        "\n",
        "Check whether acceleration of both Japan and USA are normally distributed or not and then apply the applicable tests."
      ],
      "metadata": {
        "id": "OAOikVGxzuSi"
      }
    },
    {
      "cell_type": "code",
      "source": [
        "shapiro_wilk_test(auto_data[auto_data.origin=='japan'], ['acceleration'])"
      ],
      "metadata": {
        "colab": {
          "base_uri": "https://localhost:8080/"
        },
        "id": "MAnFjOw3zqMe",
        "outputId": "f0016441-f46b-4c55-da21-7ee04e9f245c"
      },
      "execution_count": 106,
      "outputs": [
        {
          "output_type": "stream",
          "name": "stdout",
          "text": [
            "\n",
            "Fail to reject H0 due to lack of evidence under significance level 0.05\n",
            "acceleration seem to be normally distributed\n"
          ]
        }
      ]
    },
    {
      "cell_type": "code",
      "source": [
        "shapiro_wilk_test(auto_data[auto_data.origin=='usa'], ['acceleration'])"
      ],
      "metadata": {
        "colab": {
          "base_uri": "https://localhost:8080/"
        },
        "id": "yFZcnKjryxVL",
        "outputId": "fe313f8a-3977-4b6d-8e2b-149af9862333"
      },
      "execution_count": 107,
      "outputs": [
        {
          "output_type": "stream",
          "name": "stdout",
          "text": [
            "\n",
            "Fail to reject H0 due to lack of evidence under significance level 0.05\n",
            "acceleration seem to be normally distributed\n"
          ]
        }
      ]
    },
    {
      "cell_type": "markdown",
      "source": [
        "So both are normally distributed so parametric test can be applied."
      ],
      "metadata": {
        "id": "1eVHTHVx0Ipj"
      }
    },
    {
      "cell_type": "markdown",
      "source": [
        "&emsp;&emsp;&emsp;$H_{0}$: acceleration of japan and acceleration of usa has same sample mean. &emsp;&emsp;&emsp;&emsp;&emsp;&emsp; $\\alpha=0.05$"
      ],
      "metadata": {
        "id": "B_cs_WwK0P4K"
      }
    },
    {
      "cell_type": "code",
      "source": [
        "_, p = stats.ttest_ind(auto_data[auto_data.origin=='japan'].acceleration, auto_data[auto_data.origin=='usa'].acceleration, equal_var=False)\n",
        "\n",
        "if p <= alpha:\n",
        "    print(f'Rejected H0 under {alpha*100}% significance, Different distributions.')\n",
        "else:\n",
        "    print(f'Fail to Reject H0 under {alpha*100}% significance, Same distributions.')"
      ],
      "metadata": {
        "colab": {
          "base_uri": "https://localhost:8080/"
        },
        "id": "dYAYRygq0F2_",
        "outputId": "b33a4069-53de-4c38-ebf3-1c009dad5485"
      },
      "execution_count": 108,
      "outputs": [
        {
          "output_type": "stream",
          "name": "stdout",
          "text": [
            "Rejected H0 under 5.0% significance, Different distributions.\n"
          ]
        }
      ]
    },
    {
      "cell_type": "code",
      "source": [
        "_, p = stats.f_oneway(auto_data[auto_data.origin=='japan'].acceleration, auto_data[auto_data.origin=='usa'].acceleration, auto_data[auto_data.origin=='europe'].acceleration)\n",
        "\n",
        "if p <= alpha:\n",
        "    print(f'Rejected H0 under {alpha*100}% significance, Different distributions.')\n",
        "else:\n",
        "    print(f'Fail to Reject H0 under {alpha*100}% significance, Same distributions.')"
      ],
      "metadata": {
        "colab": {
          "base_uri": "https://localhost:8080/"
        },
        "id": "3eKTdt-P0meP",
        "outputId": "9860368f-413e-46d4-fbb7-0fa14cec1653"
      },
      "execution_count": 109,
      "outputs": [
        {
          "output_type": "stream",
          "name": "stdout",
          "text": [
            "Rejected H0 under 5.0% significance, Different distributions.\n"
          ]
        }
      ]
    },
    {
      "cell_type": "markdown",
      "source": [
        "## Non-Parametric Statistical Significance Tests\n",
        "\n",
        "Kruskal-Wallis H - Non-parameetric equivalent of ANOVA (it's for median)."
      ],
      "metadata": {
        "id": "H6XFaUV3_EJo"
      }
    },
    {
      "cell_type": "markdown",
      "source": [
        "Testing whether horsepower across all the regions has the same distribution or not."
      ],
      "metadata": {
        "id": "RAN5kjyS00Sr"
      }
    },
    {
      "cell_type": "code",
      "source": [
        "shapiro_wilk_test(auto_data[auto_data.origin=='japan'], ['horsepower'])"
      ],
      "metadata": {
        "colab": {
          "base_uri": "https://localhost:8080/"
        },
        "id": "mOxSxoiS0wOV",
        "outputId": "beae0260-fe0c-42e7-9565-a620696d3a5c"
      },
      "execution_count": 110,
      "outputs": [
        {
          "output_type": "stream",
          "name": "stdout",
          "text": [
            "\n",
            "Rejected H0 under significance level 0.05\n",
            "horsepower doesn't seems to be normally distributed\n"
          ]
        }
      ]
    },
    {
      "cell_type": "code",
      "source": [
        "shapiro_wilk_test(auto_data[auto_data.origin=='europe'], ['horsepower'])"
      ],
      "metadata": {
        "colab": {
          "base_uri": "https://localhost:8080/"
        },
        "id": "1uPC0j7D06ys",
        "outputId": "bf5bb57c-206c-4e24-93c4-a8e6cb911cfb"
      },
      "execution_count": 111,
      "outputs": [
        {
          "output_type": "stream",
          "name": "stdout",
          "text": [
            "\n",
            "Fail to reject H0 due to lack of evidence under significance level 0.05\n",
            "horsepower seem to be normally distributed\n"
          ]
        }
      ]
    },
    {
      "cell_type": "code",
      "source": [
        "shapiro_wilk_test(auto_data[auto_data.origin=='usa'], ['horsepower'])"
      ],
      "metadata": {
        "colab": {
          "base_uri": "https://localhost:8080/"
        },
        "id": "bxdJQw1C095V",
        "outputId": "4518474c-9b29-466c-edf8-4fa6db69d6bf"
      },
      "execution_count": 112,
      "outputs": [
        {
          "output_type": "stream",
          "name": "stdout",
          "text": [
            "\n",
            "Rejected H0 under significance level 0.05\n",
            "horsepower doesn't seems to be normally distributed\n"
          ]
        }
      ]
    },
    {
      "cell_type": "markdown",
      "source": [
        "So all of them are not normally distributed so we will apply non-parametric test."
      ],
      "metadata": {
        "id": "dLwpboc7-su4"
      }
    },
    {
      "cell_type": "markdown",
      "source": [
        "&emsp;&emsp;&emsp;$H_{0}$: Sample distributions are equal for horsepower across region. &emsp;&emsp;&emsp;&emsp;&emsp;&emsp; $\\alpha=0.05$"
      ],
      "metadata": {
        "id": "vGvPPT6o-xmF"
      }
    },
    {
      "cell_type": "code",
      "source": [
        "_, p = stats.kruskal(auto_data[auto_data.origin=='japan'].horsepower, auto_data[auto_data.origin=='usa'].horsepower, auto_data[auto_data.origin=='europe'].horsepower)\n",
        "\n",
        "if p <= alpha:\n",
        "    print(f'Rejected H0 under {alpha*100}% significance, Different distributions.')\n",
        "else:\n",
        "    print(f'Fail to Reject H0 under {alpha*100}% significance, Same distributions.')"
      ],
      "metadata": {
        "colab": {
          "base_uri": "https://localhost:8080/"
        },
        "id": "qhfKWZeq-w6W",
        "outputId": "364ee1ea-88bd-4aed-f2d2-9851bed1c4f7"
      },
      "execution_count": 113,
      "outputs": [
        {
          "output_type": "stream",
          "name": "stdout",
          "text": [
            "Rejected H0 under 5.0% significance, Different distributions.\n"
          ]
        }
      ]
    },
    {
      "cell_type": "markdown",
      "source": [
        "# Conclusion\n",
        "1. In this experiment, I performed statistical data analysis on MPG Auto dataset.\n",
        "2. The descriptive analysis is performed by evaluating mean, variance, standard deviaton, skewness, etc. of features present in the dataset.\n",
        "3. The hypothesis testing is performed for testing the independence between two categorical variables using Pearson's Chi-square test.\n",
        "4. Normality test is performed for numerical attributes by using histogram distribution for visual test and shapiro walk test for statistical test.\n",
        "5. The correlation test between pairs of continuous variables is performed using Spearman's Rank Correlation.\n",
        "5. The parametric statisical  significance test such as Student’s t-test and non-parametric statistical significance test such as Kruskal-Wallis H are performed."
      ],
      "metadata": {
        "id": "o36AzlzJ9f2U"
      }
    }
  ]
}