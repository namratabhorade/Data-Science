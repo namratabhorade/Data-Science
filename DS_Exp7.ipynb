{
  "cells": [
    {
      "cell_type": "markdown",
      "metadata": {
        "id": "8-H409u2DXCX"
      },
      "source": [
        "Name: Namrata Bhorade\n",
        "\n",
        "Class: BE COMPS\n",
        "\n",
        "Batch: A\n",
        "\n",
        "UID: 2018130004\n",
        "\n",
        "Roll No.: 03"
      ]
    },
    {
      "cell_type": "markdown",
      "metadata": {
        "id": "hiWMGe_lDaAN"
      },
      "source": [
        "# CEEL 82B, Data Science, 2022\n",
        "# Lab 7: Text Analysis\n"
      ]
    },
    {
      "cell_type": "markdown",
      "metadata": {
        "id": "xVSScaUW8VSA"
      },
      "source": [
        "**Objective**: Separating Spam From Ham"
      ]
    },
    {
      "cell_type": "markdown",
      "source": [
        "This notebook elaborates the process of email classification using a text corpus dataset. It explains the steps for creating the corpus by performing cleaning, tokenization, stemming, etc. The document term matrix is then created from the corpus for classification. The classification is performed by using three models namely, Random Forest, Naive Bayes and CART and the performance is evaluated using various evaluation metrics."
      ],
      "metadata": {
        "id": "vaMz_V8K5Q6V"
      }
    },
    {
      "cell_type": "code",
      "execution_count": null,
      "metadata": {
        "id": "stxkiRmN1qD_"
      },
      "outputs": [],
      "source": [
        "import numpy as np # linear algebra\n",
        "import pandas as pd # data processing\n",
        "import matplotlib.pyplot as plt\n",
        "import plotly.express as px\n",
        "import string \n",
        "import seaborn as sns\n",
        "import nltk\n",
        "from nltk.tokenize import word_tokenize\n",
        "from nltk.stem import PorterStemmer\n",
        "\n",
        "from string import punctuation\n",
        "\n",
        "\n",
        "from sklearn.feature_extraction.text import CountVectorizer\n",
        "\n",
        "from sklearn.model_selection import train_test_split\n",
        "\n",
        "from sklearn.naive_bayes import MultinomialNB\n",
        "\n",
        "from sklearn.tree import DecisionTreeClassifier, export_graphviz\n",
        "\n",
        "from sklearn.metrics import accuracy_score, confusion_matrix, roc_curve, roc_auc_score, auc, classification_report\n",
        "\n",
        "import re\n",
        "\n",
        "from pylab import rcParams\n",
        "\n",
        "from prettytable import PrettyTable\n",
        "\n",
        "import random\n",
        "\n",
        "import os\n",
        "\n",
        "from prettytable import PrettyTable\n",
        "\n",
        "import warnings\n",
        "warnings.filterwarnings(\"ignore\")"
      ]
    },
    {
      "cell_type": "code",
      "source": [
        "nltk.download('wordnet')\n",
        "nltk.download('punkt')\n",
        "nltk.download('stopwords')"
      ],
      "metadata": {
        "colab": {
          "base_uri": "https://localhost:8080/"
        },
        "id": "D3ZvDUK33Kuf",
        "outputId": "6886d39d-c6b6-45b9-e9c7-a40295a8d208"
      },
      "execution_count": null,
      "outputs": [
        {
          "output_type": "stream",
          "name": "stdout",
          "text": [
            "[nltk_data] Downloading package wordnet to /root/nltk_data...\n",
            "[nltk_data]   Package wordnet is already up-to-date!\n",
            "[nltk_data] Downloading package punkt to /root/nltk_data...\n",
            "[nltk_data]   Package punkt is already up-to-date!\n",
            "[nltk_data] Downloading package stopwords to /root/nltk_data...\n",
            "[nltk_data]   Package stopwords is already up-to-date!\n"
          ]
        },
        {
          "output_type": "execute_result",
          "data": {
            "text/plain": [
              "True"
            ]
          },
          "metadata": {},
          "execution_count": 2
        }
      ]
    },
    {
      "cell_type": "markdown",
      "metadata": {
        "id": "B0zpszGudF1m"
      },
      "source": [
        "# Problem 1.1 – Loading the Dataset"
      ]
    },
    {
      "cell_type": "code",
      "execution_count": null,
      "metadata": {
        "id": "-YMOw1eAbs4a"
      },
      "outputs": [],
      "source": [
        "email_data = pd.read_csv('/content/drive/MyDrive/DS-Lab/Lab/Exp7/emails.csv')\n",
        "email_data_original = pd.read_csv('/content/drive/MyDrive/DS-Lab/Lab/Exp7/emails.csv')"
      ]
    },
    {
      "cell_type": "code",
      "execution_count": null,
      "metadata": {
        "colab": {
          "base_uri": "https://localhost:8080/",
          "height": 423
        },
        "id": "_6WcRxTSc04X",
        "outputId": "f2d02d0b-235d-431f-cdc4-df35bb036bea"
      },
      "outputs": [
        {
          "output_type": "execute_result",
          "data": {
            "text/plain": [
              "                                                   text  spam\n",
              "0     Subject: naturally irresistible your corporate...     1\n",
              "1     Subject: the stock trading gunslinger  fanny i...     1\n",
              "2     Subject: unbelievable new homes made easy  im ...     1\n",
              "3     Subject: 4 color printing special  request add...     1\n",
              "4     Subject: do not have money , get software cds ...     1\n",
              "...                                                 ...   ...\n",
              "5723  Subject: re : research and development charges...     0\n",
              "5724  Subject: re : receipts from visit  jim ,  than...     0\n",
              "5725  Subject: re : enron case study update  wow ! a...     0\n",
              "5726  Subject: re : interest  david ,  please , call...     0\n",
              "5727  Subject: news : aurora 5 . 2 update  aurora ve...     0\n",
              "\n",
              "[5728 rows x 2 columns]"
            ],
            "text/html": [
              "\n",
              "  <div id=\"df-e34a1f77-47b6-439a-8ccf-a5c2c6a620f3\">\n",
              "    <div class=\"colab-df-container\">\n",
              "      <div>\n",
              "<style scoped>\n",
              "    .dataframe tbody tr th:only-of-type {\n",
              "        vertical-align: middle;\n",
              "    }\n",
              "\n",
              "    .dataframe tbody tr th {\n",
              "        vertical-align: top;\n",
              "    }\n",
              "\n",
              "    .dataframe thead th {\n",
              "        text-align: right;\n",
              "    }\n",
              "</style>\n",
              "<table border=\"1\" class=\"dataframe\">\n",
              "  <thead>\n",
              "    <tr style=\"text-align: right;\">\n",
              "      <th></th>\n",
              "      <th>text</th>\n",
              "      <th>spam</th>\n",
              "    </tr>\n",
              "  </thead>\n",
              "  <tbody>\n",
              "    <tr>\n",
              "      <th>0</th>\n",
              "      <td>Subject: naturally irresistible your corporate...</td>\n",
              "      <td>1</td>\n",
              "    </tr>\n",
              "    <tr>\n",
              "      <th>1</th>\n",
              "      <td>Subject: the stock trading gunslinger  fanny i...</td>\n",
              "      <td>1</td>\n",
              "    </tr>\n",
              "    <tr>\n",
              "      <th>2</th>\n",
              "      <td>Subject: unbelievable new homes made easy  im ...</td>\n",
              "      <td>1</td>\n",
              "    </tr>\n",
              "    <tr>\n",
              "      <th>3</th>\n",
              "      <td>Subject: 4 color printing special  request add...</td>\n",
              "      <td>1</td>\n",
              "    </tr>\n",
              "    <tr>\n",
              "      <th>4</th>\n",
              "      <td>Subject: do not have money , get software cds ...</td>\n",
              "      <td>1</td>\n",
              "    </tr>\n",
              "    <tr>\n",
              "      <th>...</th>\n",
              "      <td>...</td>\n",
              "      <td>...</td>\n",
              "    </tr>\n",
              "    <tr>\n",
              "      <th>5723</th>\n",
              "      <td>Subject: re : research and development charges...</td>\n",
              "      <td>0</td>\n",
              "    </tr>\n",
              "    <tr>\n",
              "      <th>5724</th>\n",
              "      <td>Subject: re : receipts from visit  jim ,  than...</td>\n",
              "      <td>0</td>\n",
              "    </tr>\n",
              "    <tr>\n",
              "      <th>5725</th>\n",
              "      <td>Subject: re : enron case study update  wow ! a...</td>\n",
              "      <td>0</td>\n",
              "    </tr>\n",
              "    <tr>\n",
              "      <th>5726</th>\n",
              "      <td>Subject: re : interest  david ,  please , call...</td>\n",
              "      <td>0</td>\n",
              "    </tr>\n",
              "    <tr>\n",
              "      <th>5727</th>\n",
              "      <td>Subject: news : aurora 5 . 2 update  aurora ve...</td>\n",
              "      <td>0</td>\n",
              "    </tr>\n",
              "  </tbody>\n",
              "</table>\n",
              "<p>5728 rows × 2 columns</p>\n",
              "</div>\n",
              "      <button class=\"colab-df-convert\" onclick=\"convertToInteractive('df-e34a1f77-47b6-439a-8ccf-a5c2c6a620f3')\"\n",
              "              title=\"Convert this dataframe to an interactive table.\"\n",
              "              style=\"display:none;\">\n",
              "        \n",
              "  <svg xmlns=\"http://www.w3.org/2000/svg\" height=\"24px\"viewBox=\"0 0 24 24\"\n",
              "       width=\"24px\">\n",
              "    <path d=\"M0 0h24v24H0V0z\" fill=\"none\"/>\n",
              "    <path d=\"M18.56 5.44l.94 2.06.94-2.06 2.06-.94-2.06-.94-.94-2.06-.94 2.06-2.06.94zm-11 1L8.5 8.5l.94-2.06 2.06-.94-2.06-.94L8.5 2.5l-.94 2.06-2.06.94zm10 10l.94 2.06.94-2.06 2.06-.94-2.06-.94-.94-2.06-.94 2.06-2.06.94z\"/><path d=\"M17.41 7.96l-1.37-1.37c-.4-.4-.92-.59-1.43-.59-.52 0-1.04.2-1.43.59L10.3 9.45l-7.72 7.72c-.78.78-.78 2.05 0 2.83L4 21.41c.39.39.9.59 1.41.59.51 0 1.02-.2 1.41-.59l7.78-7.78 2.81-2.81c.8-.78.8-2.07 0-2.86zM5.41 20L4 18.59l7.72-7.72 1.47 1.35L5.41 20z\"/>\n",
              "  </svg>\n",
              "      </button>\n",
              "      \n",
              "  <style>\n",
              "    .colab-df-container {\n",
              "      display:flex;\n",
              "      flex-wrap:wrap;\n",
              "      gap: 12px;\n",
              "    }\n",
              "\n",
              "    .colab-df-convert {\n",
              "      background-color: #E8F0FE;\n",
              "      border: none;\n",
              "      border-radius: 50%;\n",
              "      cursor: pointer;\n",
              "      display: none;\n",
              "      fill: #1967D2;\n",
              "      height: 32px;\n",
              "      padding: 0 0 0 0;\n",
              "      width: 32px;\n",
              "    }\n",
              "\n",
              "    .colab-df-convert:hover {\n",
              "      background-color: #E2EBFA;\n",
              "      box-shadow: 0px 1px 2px rgba(60, 64, 67, 0.3), 0px 1px 3px 1px rgba(60, 64, 67, 0.15);\n",
              "      fill: #174EA6;\n",
              "    }\n",
              "\n",
              "    [theme=dark] .colab-df-convert {\n",
              "      background-color: #3B4455;\n",
              "      fill: #D2E3FC;\n",
              "    }\n",
              "\n",
              "    [theme=dark] .colab-df-convert:hover {\n",
              "      background-color: #434B5C;\n",
              "      box-shadow: 0px 1px 3px 1px rgba(0, 0, 0, 0.15);\n",
              "      filter: drop-shadow(0px 1px 2px rgba(0, 0, 0, 0.3));\n",
              "      fill: #FFFFFF;\n",
              "    }\n",
              "  </style>\n",
              "\n",
              "      <script>\n",
              "        const buttonEl =\n",
              "          document.querySelector('#df-e34a1f77-47b6-439a-8ccf-a5c2c6a620f3 button.colab-df-convert');\n",
              "        buttonEl.style.display =\n",
              "          google.colab.kernel.accessAllowed ? 'block' : 'none';\n",
              "\n",
              "        async function convertToInteractive(key) {\n",
              "          const element = document.querySelector('#df-e34a1f77-47b6-439a-8ccf-a5c2c6a620f3');\n",
              "          const dataTable =\n",
              "            await google.colab.kernel.invokeFunction('convertToInteractive',\n",
              "                                                     [key], {});\n",
              "          if (!dataTable) return;\n",
              "\n",
              "          const docLinkHtml = 'Like what you see? Visit the ' +\n",
              "            '<a target=\"_blank\" href=https://colab.research.google.com/notebooks/data_table.ipynb>data table notebook</a>'\n",
              "            + ' to learn more about interactive tables.';\n",
              "          element.innerHTML = '';\n",
              "          dataTable['output_type'] = 'display_data';\n",
              "          await google.colab.output.renderOutput(dataTable, element);\n",
              "          const docLink = document.createElement('div');\n",
              "          docLink.innerHTML = docLinkHtml;\n",
              "          element.appendChild(docLink);\n",
              "        }\n",
              "      </script>\n",
              "    </div>\n",
              "  </div>\n",
              "  "
            ]
          },
          "metadata": {},
          "execution_count": 4
        }
      ],
      "source": [
        "email_data"
      ]
    },
    {
      "cell_type": "markdown",
      "metadata": {
        "id": "wmL2SiP_hCsk"
      },
      "source": [
        "## How many emails are in the dataset?"
      ]
    },
    {
      "cell_type": "code",
      "execution_count": null,
      "metadata": {
        "colab": {
          "base_uri": "https://localhost:8080/"
        },
        "id": "Qj1XoTi0c4V6",
        "outputId": "cbd9f1fc-0fdd-4149-cebb-8c6e82b4d40c"
      },
      "outputs": [
        {
          "output_type": "stream",
          "name": "stdout",
          "text": [
            "<class 'pandas.core.frame.DataFrame'>\n",
            "RangeIndex: 5728 entries, 0 to 5727\n",
            "Data columns (total 2 columns):\n",
            " #   Column  Non-Null Count  Dtype \n",
            "---  ------  --------------  ----- \n",
            " 0   text    5728 non-null   object\n",
            " 1   spam    5728 non-null   int64 \n",
            "dtypes: int64(1), object(1)\n",
            "memory usage: 89.6+ KB\n"
          ]
        }
      ],
      "source": [
        "email_data.info()"
      ]
    },
    {
      "cell_type": "markdown",
      "metadata": {
        "id": "1QSyjCeIc79d"
      },
      "source": [
        "**Ans - 5728**\n",
        "\n",
        "There are 5728 emails in the dataset"
      ]
    },
    {
      "cell_type": "markdown",
      "metadata": {
        "id": "GDC67S2ng7t-"
      },
      "source": [
        "## How many of the emails are spam?"
      ]
    },
    {
      "cell_type": "code",
      "execution_count": null,
      "metadata": {
        "colab": {
          "base_uri": "https://localhost:8080/"
        },
        "id": "Cxk4cDJLdJoC",
        "outputId": "1b7a31f8-3b40-4e4f-a0ff-6fdccfb9adbc"
      },
      "outputs": [
        {
          "output_type": "execute_result",
          "data": {
            "text/plain": [
              "0    4360\n",
              "1    1368\n",
              "Name: spam, dtype: int64"
            ]
          },
          "metadata": {},
          "execution_count": 6
        }
      ],
      "source": [
        "email_data.spam.value_counts()"
      ]
    },
    {
      "cell_type": "markdown",
      "metadata": {
        "id": "aknxbiK5dKP7"
      },
      "source": [
        "**Ans - 1368**\n",
        "\n",
        "There are 1368 spam emails and 4360 ham emails in the dataset."
      ]
    },
    {
      "cell_type": "markdown",
      "metadata": {
        "id": "yjhHfY5tg1MS"
      },
      "source": [
        "## Which word appears at the beginning of every email in the dataset? Respond as a lower-case word with punctuation removed."
      ]
    },
    {
      "cell_type": "code",
      "execution_count": null,
      "metadata": {
        "colab": {
          "base_uri": "https://localhost:8080/"
        },
        "id": "7rpXjTrYd-k2",
        "outputId": "e799cf1b-1b03-4514-a160-e00b85a423a1"
      },
      "outputs": [
        {
          "output_type": "stream",
          "name": "stdout",
          "text": [
            "First word that appears in every email -  subject\n"
          ]
        }
      ],
      "source": [
        "flag = True\n",
        "\n",
        "email_data['text'] = email_data['text'].str.lower()\n",
        "\n",
        "email_data['text'] = email_data['text'].str.replace('[{}]'.format(string.punctuation), '')\n",
        "\n",
        "first_word = email_data.loc[0, 'text'].split()[0]\n",
        "\n",
        "next_word = ''\n",
        "\n",
        "for i in email_data.index:\n",
        "    next_word = email_data.loc[i, 'text'].split()[0]\n",
        "    if next_word != first_word:\n",
        "        flag = False\n",
        "        break\n",
        "\n",
        "if flag==True:\n",
        "    print(\"First word that appears in every email - \",first_word)"
      ]
    },
    {
      "cell_type": "markdown",
      "metadata": {
        "id": "ekjexHcUhFXg"
      },
      "source": [
        "**Ans - subject**\n",
        "\n",
        "The word 'subject' appears at the beginning of every email in the dataset."
      ]
    },
    {
      "cell_type": "markdown",
      "metadata": {
        "id": "C7mkLJ4qhm5M"
      },
      "source": [
        "## Could a spam classifier potentially benefit from including the frequency of the word that appears in every email?\t"
      ]
    },
    {
      "cell_type": "markdown",
      "source": [
        "Yes. This is because - \n",
        "* Each email has the word “subject” appear at least once, but the frequency with which \n",
        "it appears can us differentiate spam from ham. \n",
        "* For example, a long email chain would have the word “subject” appear a number of times, and this higher frequency might be indicative of a ham message.\n",
        "\n",
        "First we calculate the frequecy of the word 'subject' in each email"
      ],
      "metadata": {
        "id": "Liy5O_gJTMMz"
      }
    },
    {
      "cell_type": "code",
      "execution_count": null,
      "metadata": {
        "colab": {
          "base_uri": "https://localhost:8080/",
          "height": 423
        },
        "id": "yc3BEDzbfII4",
        "outputId": "d4d0435c-6d66-4005-d952-7f061a938873"
      },
      "outputs": [
        {
          "output_type": "execute_result",
          "data": {
            "text/plain": [
              "      text  spam\n",
              "0        1     1\n",
              "1        1     1\n",
              "2        1     1\n",
              "3        1     1\n",
              "4        1     1\n",
              "...    ...   ...\n",
              "5723     3     0\n",
              "5724     2     0\n",
              "5725     2     0\n",
              "5726     5     0\n",
              "5727     1     0\n",
              "\n",
              "[5728 rows x 2 columns]"
            ],
            "text/html": [
              "\n",
              "  <div id=\"df-5a30ecd5-5306-4508-b16d-5ae8817824c5\">\n",
              "    <div class=\"colab-df-container\">\n",
              "      <div>\n",
              "<style scoped>\n",
              "    .dataframe tbody tr th:only-of-type {\n",
              "        vertical-align: middle;\n",
              "    }\n",
              "\n",
              "    .dataframe tbody tr th {\n",
              "        vertical-align: top;\n",
              "    }\n",
              "\n",
              "    .dataframe thead th {\n",
              "        text-align: right;\n",
              "    }\n",
              "</style>\n",
              "<table border=\"1\" class=\"dataframe\">\n",
              "  <thead>\n",
              "    <tr style=\"text-align: right;\">\n",
              "      <th></th>\n",
              "      <th>text</th>\n",
              "      <th>spam</th>\n",
              "    </tr>\n",
              "  </thead>\n",
              "  <tbody>\n",
              "    <tr>\n",
              "      <th>0</th>\n",
              "      <td>1</td>\n",
              "      <td>1</td>\n",
              "    </tr>\n",
              "    <tr>\n",
              "      <th>1</th>\n",
              "      <td>1</td>\n",
              "      <td>1</td>\n",
              "    </tr>\n",
              "    <tr>\n",
              "      <th>2</th>\n",
              "      <td>1</td>\n",
              "      <td>1</td>\n",
              "    </tr>\n",
              "    <tr>\n",
              "      <th>3</th>\n",
              "      <td>1</td>\n",
              "      <td>1</td>\n",
              "    </tr>\n",
              "    <tr>\n",
              "      <th>4</th>\n",
              "      <td>1</td>\n",
              "      <td>1</td>\n",
              "    </tr>\n",
              "    <tr>\n",
              "      <th>...</th>\n",
              "      <td>...</td>\n",
              "      <td>...</td>\n",
              "    </tr>\n",
              "    <tr>\n",
              "      <th>5723</th>\n",
              "      <td>3</td>\n",
              "      <td>0</td>\n",
              "    </tr>\n",
              "    <tr>\n",
              "      <th>5724</th>\n",
              "      <td>2</td>\n",
              "      <td>0</td>\n",
              "    </tr>\n",
              "    <tr>\n",
              "      <th>5725</th>\n",
              "      <td>2</td>\n",
              "      <td>0</td>\n",
              "    </tr>\n",
              "    <tr>\n",
              "      <th>5726</th>\n",
              "      <td>5</td>\n",
              "      <td>0</td>\n",
              "    </tr>\n",
              "    <tr>\n",
              "      <th>5727</th>\n",
              "      <td>1</td>\n",
              "      <td>0</td>\n",
              "    </tr>\n",
              "  </tbody>\n",
              "</table>\n",
              "<p>5728 rows × 2 columns</p>\n",
              "</div>\n",
              "      <button class=\"colab-df-convert\" onclick=\"convertToInteractive('df-5a30ecd5-5306-4508-b16d-5ae8817824c5')\"\n",
              "              title=\"Convert this dataframe to an interactive table.\"\n",
              "              style=\"display:none;\">\n",
              "        \n",
              "  <svg xmlns=\"http://www.w3.org/2000/svg\" height=\"24px\"viewBox=\"0 0 24 24\"\n",
              "       width=\"24px\">\n",
              "    <path d=\"M0 0h24v24H0V0z\" fill=\"none\"/>\n",
              "    <path d=\"M18.56 5.44l.94 2.06.94-2.06 2.06-.94-2.06-.94-.94-2.06-.94 2.06-2.06.94zm-11 1L8.5 8.5l.94-2.06 2.06-.94-2.06-.94L8.5 2.5l-.94 2.06-2.06.94zm10 10l.94 2.06.94-2.06 2.06-.94-2.06-.94-.94-2.06-.94 2.06-2.06.94z\"/><path d=\"M17.41 7.96l-1.37-1.37c-.4-.4-.92-.59-1.43-.59-.52 0-1.04.2-1.43.59L10.3 9.45l-7.72 7.72c-.78.78-.78 2.05 0 2.83L4 21.41c.39.39.9.59 1.41.59.51 0 1.02-.2 1.41-.59l7.78-7.78 2.81-2.81c.8-.78.8-2.07 0-2.86zM5.41 20L4 18.59l7.72-7.72 1.47 1.35L5.41 20z\"/>\n",
              "  </svg>\n",
              "      </button>\n",
              "      \n",
              "  <style>\n",
              "    .colab-df-container {\n",
              "      display:flex;\n",
              "      flex-wrap:wrap;\n",
              "      gap: 12px;\n",
              "    }\n",
              "\n",
              "    .colab-df-convert {\n",
              "      background-color: #E8F0FE;\n",
              "      border: none;\n",
              "      border-radius: 50%;\n",
              "      cursor: pointer;\n",
              "      display: none;\n",
              "      fill: #1967D2;\n",
              "      height: 32px;\n",
              "      padding: 0 0 0 0;\n",
              "      width: 32px;\n",
              "    }\n",
              "\n",
              "    .colab-df-convert:hover {\n",
              "      background-color: #E2EBFA;\n",
              "      box-shadow: 0px 1px 2px rgba(60, 64, 67, 0.3), 0px 1px 3px 1px rgba(60, 64, 67, 0.15);\n",
              "      fill: #174EA6;\n",
              "    }\n",
              "\n",
              "    [theme=dark] .colab-df-convert {\n",
              "      background-color: #3B4455;\n",
              "      fill: #D2E3FC;\n",
              "    }\n",
              "\n",
              "    [theme=dark] .colab-df-convert:hover {\n",
              "      background-color: #434B5C;\n",
              "      box-shadow: 0px 1px 3px 1px rgba(0, 0, 0, 0.15);\n",
              "      filter: drop-shadow(0px 1px 2px rgba(0, 0, 0, 0.3));\n",
              "      fill: #FFFFFF;\n",
              "    }\n",
              "  </style>\n",
              "\n",
              "      <script>\n",
              "        const buttonEl =\n",
              "          document.querySelector('#df-5a30ecd5-5306-4508-b16d-5ae8817824c5 button.colab-df-convert');\n",
              "        buttonEl.style.display =\n",
              "          google.colab.kernel.accessAllowed ? 'block' : 'none';\n",
              "\n",
              "        async function convertToInteractive(key) {\n",
              "          const element = document.querySelector('#df-5a30ecd5-5306-4508-b16d-5ae8817824c5');\n",
              "          const dataTable =\n",
              "            await google.colab.kernel.invokeFunction('convertToInteractive',\n",
              "                                                     [key], {});\n",
              "          if (!dataTable) return;\n",
              "\n",
              "          const docLinkHtml = 'Like what you see? Visit the ' +\n",
              "            '<a target=\"_blank\" href=https://colab.research.google.com/notebooks/data_table.ipynb>data table notebook</a>'\n",
              "            + ' to learn more about interactive tables.';\n",
              "          element.innerHTML = '';\n",
              "          dataTable['output_type'] = 'display_data';\n",
              "          await google.colab.output.renderOutput(dataTable, element);\n",
              "          const docLink = document.createElement('div');\n",
              "          docLink.innerHTML = docLinkHtml;\n",
              "          element.appendChild(docLink);\n",
              "        }\n",
              "      </script>\n",
              "    </div>\n",
              "  </div>\n",
              "  "
            ]
          },
          "metadata": {},
          "execution_count": 8
        }
      ],
      "source": [
        "frequency_count_df = pd.concat([pd.DataFrame(email_data.text.str.count('subject')), pd.DataFrame(email_data['spam'])], axis=1)\n",
        "frequency_count_df"
      ]
    },
    {
      "cell_type": "code",
      "execution_count": null,
      "metadata": {
        "colab": {
          "base_uri": "https://localhost:8080/",
          "height": 300
        },
        "id": "TCAKIakDiSdB",
        "outputId": "0179c9c5-97d7-43e9-8c5b-66052cba248d"
      },
      "outputs": [
        {
          "output_type": "execute_result",
          "data": {
            "text/plain": [
              "              text         spam\n",
              "count  5728.000000  5728.000000\n",
              "mean      1.781075     0.238827\n",
              "std       1.270164     0.426404\n",
              "min       1.000000     0.000000\n",
              "25%       1.000000     0.000000\n",
              "50%       1.000000     0.000000\n",
              "75%       2.000000     0.000000\n",
              "max      15.000000     1.000000"
            ],
            "text/html": [
              "\n",
              "  <div id=\"df-94afe57d-81b0-4fd4-b47e-aaa087abe140\">\n",
              "    <div class=\"colab-df-container\">\n",
              "      <div>\n",
              "<style scoped>\n",
              "    .dataframe tbody tr th:only-of-type {\n",
              "        vertical-align: middle;\n",
              "    }\n",
              "\n",
              "    .dataframe tbody tr th {\n",
              "        vertical-align: top;\n",
              "    }\n",
              "\n",
              "    .dataframe thead th {\n",
              "        text-align: right;\n",
              "    }\n",
              "</style>\n",
              "<table border=\"1\" class=\"dataframe\">\n",
              "  <thead>\n",
              "    <tr style=\"text-align: right;\">\n",
              "      <th></th>\n",
              "      <th>text</th>\n",
              "      <th>spam</th>\n",
              "    </tr>\n",
              "  </thead>\n",
              "  <tbody>\n",
              "    <tr>\n",
              "      <th>count</th>\n",
              "      <td>5728.000000</td>\n",
              "      <td>5728.000000</td>\n",
              "    </tr>\n",
              "    <tr>\n",
              "      <th>mean</th>\n",
              "      <td>1.781075</td>\n",
              "      <td>0.238827</td>\n",
              "    </tr>\n",
              "    <tr>\n",
              "      <th>std</th>\n",
              "      <td>1.270164</td>\n",
              "      <td>0.426404</td>\n",
              "    </tr>\n",
              "    <tr>\n",
              "      <th>min</th>\n",
              "      <td>1.000000</td>\n",
              "      <td>0.000000</td>\n",
              "    </tr>\n",
              "    <tr>\n",
              "      <th>25%</th>\n",
              "      <td>1.000000</td>\n",
              "      <td>0.000000</td>\n",
              "    </tr>\n",
              "    <tr>\n",
              "      <th>50%</th>\n",
              "      <td>1.000000</td>\n",
              "      <td>0.000000</td>\n",
              "    </tr>\n",
              "    <tr>\n",
              "      <th>75%</th>\n",
              "      <td>2.000000</td>\n",
              "      <td>0.000000</td>\n",
              "    </tr>\n",
              "    <tr>\n",
              "      <th>max</th>\n",
              "      <td>15.000000</td>\n",
              "      <td>1.000000</td>\n",
              "    </tr>\n",
              "  </tbody>\n",
              "</table>\n",
              "</div>\n",
              "      <button class=\"colab-df-convert\" onclick=\"convertToInteractive('df-94afe57d-81b0-4fd4-b47e-aaa087abe140')\"\n",
              "              title=\"Convert this dataframe to an interactive table.\"\n",
              "              style=\"display:none;\">\n",
              "        \n",
              "  <svg xmlns=\"http://www.w3.org/2000/svg\" height=\"24px\"viewBox=\"0 0 24 24\"\n",
              "       width=\"24px\">\n",
              "    <path d=\"M0 0h24v24H0V0z\" fill=\"none\"/>\n",
              "    <path d=\"M18.56 5.44l.94 2.06.94-2.06 2.06-.94-2.06-.94-.94-2.06-.94 2.06-2.06.94zm-11 1L8.5 8.5l.94-2.06 2.06-.94-2.06-.94L8.5 2.5l-.94 2.06-2.06.94zm10 10l.94 2.06.94-2.06 2.06-.94-2.06-.94-.94-2.06-.94 2.06-2.06.94z\"/><path d=\"M17.41 7.96l-1.37-1.37c-.4-.4-.92-.59-1.43-.59-.52 0-1.04.2-1.43.59L10.3 9.45l-7.72 7.72c-.78.78-.78 2.05 0 2.83L4 21.41c.39.39.9.59 1.41.59.51 0 1.02-.2 1.41-.59l7.78-7.78 2.81-2.81c.8-.78.8-2.07 0-2.86zM5.41 20L4 18.59l7.72-7.72 1.47 1.35L5.41 20z\"/>\n",
              "  </svg>\n",
              "      </button>\n",
              "      \n",
              "  <style>\n",
              "    .colab-df-container {\n",
              "      display:flex;\n",
              "      flex-wrap:wrap;\n",
              "      gap: 12px;\n",
              "    }\n",
              "\n",
              "    .colab-df-convert {\n",
              "      background-color: #E8F0FE;\n",
              "      border: none;\n",
              "      border-radius: 50%;\n",
              "      cursor: pointer;\n",
              "      display: none;\n",
              "      fill: #1967D2;\n",
              "      height: 32px;\n",
              "      padding: 0 0 0 0;\n",
              "      width: 32px;\n",
              "    }\n",
              "\n",
              "    .colab-df-convert:hover {\n",
              "      background-color: #E2EBFA;\n",
              "      box-shadow: 0px 1px 2px rgba(60, 64, 67, 0.3), 0px 1px 3px 1px rgba(60, 64, 67, 0.15);\n",
              "      fill: #174EA6;\n",
              "    }\n",
              "\n",
              "    [theme=dark] .colab-df-convert {\n",
              "      background-color: #3B4455;\n",
              "      fill: #D2E3FC;\n",
              "    }\n",
              "\n",
              "    [theme=dark] .colab-df-convert:hover {\n",
              "      background-color: #434B5C;\n",
              "      box-shadow: 0px 1px 3px 1px rgba(0, 0, 0, 0.15);\n",
              "      filter: drop-shadow(0px 1px 2px rgba(0, 0, 0, 0.3));\n",
              "      fill: #FFFFFF;\n",
              "    }\n",
              "  </style>\n",
              "\n",
              "      <script>\n",
              "        const buttonEl =\n",
              "          document.querySelector('#df-94afe57d-81b0-4fd4-b47e-aaa087abe140 button.colab-df-convert');\n",
              "        buttonEl.style.display =\n",
              "          google.colab.kernel.accessAllowed ? 'block' : 'none';\n",
              "\n",
              "        async function convertToInteractive(key) {\n",
              "          const element = document.querySelector('#df-94afe57d-81b0-4fd4-b47e-aaa087abe140');\n",
              "          const dataTable =\n",
              "            await google.colab.kernel.invokeFunction('convertToInteractive',\n",
              "                                                     [key], {});\n",
              "          if (!dataTable) return;\n",
              "\n",
              "          const docLinkHtml = 'Like what you see? Visit the ' +\n",
              "            '<a target=\"_blank\" href=https://colab.research.google.com/notebooks/data_table.ipynb>data table notebook</a>'\n",
              "            + ' to learn more about interactive tables.';\n",
              "          element.innerHTML = '';\n",
              "          dataTable['output_type'] = 'display_data';\n",
              "          await google.colab.output.renderOutput(dataTable, element);\n",
              "          const docLink = document.createElement('div');\n",
              "          docLink.innerHTML = docLinkHtml;\n",
              "          element.appendChild(docLink);\n",
              "        }\n",
              "      </script>\n",
              "    </div>\n",
              "  </div>\n",
              "  "
            ]
          },
          "metadata": {},
          "execution_count": 9
        }
      ],
      "source": [
        "frequency_count_df.describe()"
      ]
    },
    {
      "cell_type": "markdown",
      "source": [
        "We can see that the word subject appears in emails for minimum 1 time and maximum of 15 times with mean frequency being 1.78"
      ],
      "metadata": {
        "id": "tfSRAIYLUCJT"
      }
    },
    {
      "cell_type": "code",
      "execution_count": null,
      "metadata": {
        "colab": {
          "base_uri": "https://localhost:8080/",
          "height": 385
        },
        "id": "zChVyjvnj9hy",
        "outputId": "4d67b855-309b-44c4-8b29-2bd124f878b2"
      },
      "outputs": [
        {
          "output_type": "display_data",
          "data": {
            "text/plain": [
              "<Figure size 402.375x360 with 1 Axes>"
            ],
            "image/png": "[encoded data removed]"
          },
          "metadata": {
            "needs_background": "light"
          }
        }
      ],
      "source": [
        "sns.catplot(y=\"text\", hue=\"spam\", kind=\"count\",palette=\"pastel\", edgecolor=\".6\",data=frequency_count_df)\n",
        "plt.title('Frequency of word subject')\n",
        "plt.show()"
      ]
    },
    {
      "cell_type": "markdown",
      "source": [
        "The above plot shows the frequency of word subject along with the class distribution. We can see that the count is higher for class 0 i.e. ham for lower frequency and at higher frequency only ham class is present.\n",
        "\n",
        "Hence, a spam classifier can potentially benefit from including the frequency of the word that appears in every email"
      ],
      "metadata": {
        "id": "VNLcvqBrUOjT"
      }
    },
    {
      "cell_type": "markdown",
      "metadata": {
        "id": "TwxjuuvIl1Hg"
      },
      "source": [
        "## How many characters are in the longest email in the dataset (where longest is measured in terms of the maximum number of characters)?"
      ]
    },
    {
      "cell_type": "code",
      "execution_count": null,
      "metadata": {
        "colab": {
          "base_uri": "https://localhost:8080/"
        },
        "id": "9Y6YnZdTlcbC",
        "outputId": "3c369db6-0054-4c78-d0df-078e3af88e55"
      },
      "outputs": [
        {
          "output_type": "execute_result",
          "data": {
            "text/plain": [
              "43952"
            ]
          },
          "metadata": {},
          "execution_count": 11
        }
      ],
      "source": [
        "email_data_original.text.map(lambda x: len(x)).max()"
      ]
    },
    {
      "cell_type": "markdown",
      "metadata": {
        "id": "ShD8QQPJmGya"
      },
      "source": [
        "**Ans - 43952**\n",
        "\n",
        "There are 43952 characters in the longest email."
      ]
    },
    {
      "cell_type": "markdown",
      "metadata": {
        "id": "WigWr0vCmQRE"
      },
      "source": [
        "# Problem 2.1 - Preparing the Corpus"
      ]
    },
    {
      "cell_type": "markdown",
      "metadata": {
        "id": "QxBIDJMhXiL2"
      },
      "source": [
        "## Build a new corpus variable called corpus"
      ]
    },
    {
      "cell_type": "code",
      "execution_count": null,
      "metadata": {
        "id": "XhZsqfxvrvDv"
      },
      "outputs": [],
      "source": [
        "corpus = email_data.copy(deep=True)"
      ]
    },
    {
      "cell_type": "markdown",
      "metadata": {
        "id": "twpEnD2SXeSO"
      },
      "source": [
        "## Convert the text to lowercase"
      ]
    },
    {
      "cell_type": "code",
      "execution_count": null,
      "metadata": {
        "id": "mOC6wyZalgIb"
      },
      "outputs": [],
      "source": [
        "corpus['text'] = corpus['text'].apply(lambda x: x.lower())"
      ]
    },
    {
      "cell_type": "code",
      "execution_count": null,
      "metadata": {
        "colab": {
          "base_uri": "https://localhost:8080/",
          "height": 423
        },
        "id": "RfFuBRg1Ziqr",
        "outputId": "bbb37042-ae01-4dcb-d87c-57982ceacb59"
      },
      "outputs": [
        {
          "output_type": "execute_result",
          "data": {
            "text/plain": [
              "                                                   text  spam\n",
              "0     subject naturally irresistible your corporate ...     1\n",
              "1     subject the stock trading gunslinger  fanny is...     1\n",
              "2     subject unbelievable new homes made easy  im w...     1\n",
              "3     subject 4 color printing special  request addi...     1\n",
              "4     subject do not have money  get software cds fr...     1\n",
              "...                                                 ...   ...\n",
              "5723  subject re  research and development charges t...     0\n",
              "5724  subject re  receipts from visit  jim   thanks ...     0\n",
              "5725  subject re  enron case study update  wow  all ...     0\n",
              "5726  subject re  interest  david   please  call shi...     0\n",
              "5727  subject news  aurora 5  2 update  aurora versi...     0\n",
              "\n",
              "[5728 rows x 2 columns]"
            ],
            "text/html": [
              "\n",
              "  <div id=\"df-613e7928-9e99-4141-945e-f93db031b22e\">\n",
              "    <div class=\"colab-df-container\">\n",
              "      <div>\n",
              "<style scoped>\n",
              "    .dataframe tbody tr th:only-of-type {\n",
              "        vertical-align: middle;\n",
              "    }\n",
              "\n",
              "    .dataframe tbody tr th {\n",
              "        vertical-align: top;\n",
              "    }\n",
              "\n",
              "    .dataframe thead th {\n",
              "        text-align: right;\n",
              "    }\n",
              "</style>\n",
              "<table border=\"1\" class=\"dataframe\">\n",
              "  <thead>\n",
              "    <tr style=\"text-align: right;\">\n",
              "      <th></th>\n",
              "      <th>text</th>\n",
              "      <th>spam</th>\n",
              "    </tr>\n",
              "  </thead>\n",
              "  <tbody>\n",
              "    <tr>\n",
              "      <th>0</th>\n",
              "      <td>subject naturally irresistible your corporate ...</td>\n",
              "      <td>1</td>\n",
              "    </tr>\n",
              "    <tr>\n",
              "      <th>1</th>\n",
              "      <td>subject the stock trading gunslinger  fanny is...</td>\n",
              "      <td>1</td>\n",
              "    </tr>\n",
              "    <tr>\n",
              "      <th>2</th>\n",
              "      <td>subject unbelievable new homes made easy  im w...</td>\n",
              "      <td>1</td>\n",
              "    </tr>\n",
              "    <tr>\n",
              "      <th>3</th>\n",
              "      <td>subject 4 color printing special  request addi...</td>\n",
              "      <td>1</td>\n",
              "    </tr>\n",
              "    <tr>\n",
              "      <th>4</th>\n",
              "      <td>subject do not have money  get software cds fr...</td>\n",
              "      <td>1</td>\n",
              "    </tr>\n",
              "    <tr>\n",
              "      <th>...</th>\n",
              "      <td>...</td>\n",
              "      <td>...</td>\n",
              "    </tr>\n",
              "    <tr>\n",
              "      <th>5723</th>\n",
              "      <td>subject re  research and development charges t...</td>\n",
              "      <td>0</td>\n",
              "    </tr>\n",
              "    <tr>\n",
              "      <th>5724</th>\n",
              "      <td>subject re  receipts from visit  jim   thanks ...</td>\n",
              "      <td>0</td>\n",
              "    </tr>\n",
              "    <tr>\n",
              "      <th>5725</th>\n",
              "      <td>subject re  enron case study update  wow  all ...</td>\n",
              "      <td>0</td>\n",
              "    </tr>\n",
              "    <tr>\n",
              "      <th>5726</th>\n",
              "      <td>subject re  interest  david   please  call shi...</td>\n",
              "      <td>0</td>\n",
              "    </tr>\n",
              "    <tr>\n",
              "      <th>5727</th>\n",
              "      <td>subject news  aurora 5  2 update  aurora versi...</td>\n",
              "      <td>0</td>\n",
              "    </tr>\n",
              "  </tbody>\n",
              "</table>\n",
              "<p>5728 rows × 2 columns</p>\n",
              "</div>\n",
              "      <button class=\"colab-df-convert\" onclick=\"convertToInteractive('df-613e7928-9e99-4141-945e-f93db031b22e')\"\n",
              "              title=\"Convert this dataframe to an interactive table.\"\n",
              "              style=\"display:none;\">\n",
              "        \n",
              "  <svg xmlns=\"http://www.w3.org/2000/svg\" height=\"24px\"viewBox=\"0 0 24 24\"\n",
              "       width=\"24px\">\n",
              "    <path d=\"M0 0h24v24H0V0z\" fill=\"none\"/>\n",
              "    <path d=\"M18.56 5.44l.94 2.06.94-2.06 2.06-.94-2.06-.94-.94-2.06-.94 2.06-2.06.94zm-11 1L8.5 8.5l.94-2.06 2.06-.94-2.06-.94L8.5 2.5l-.94 2.06-2.06.94zm10 10l.94 2.06.94-2.06 2.06-.94-2.06-.94-.94-2.06-.94 2.06-2.06.94z\"/><path d=\"M17.41 7.96l-1.37-1.37c-.4-.4-.92-.59-1.43-.59-.52 0-1.04.2-1.43.59L10.3 9.45l-7.72 7.72c-.78.78-.78 2.05 0 2.83L4 21.41c.39.39.9.59 1.41.59.51 0 1.02-.2 1.41-.59l7.78-7.78 2.81-2.81c.8-.78.8-2.07 0-2.86zM5.41 20L4 18.59l7.72-7.72 1.47 1.35L5.41 20z\"/>\n",
              "  </svg>\n",
              "      </button>\n",
              "      \n",
              "  <style>\n",
              "    .colab-df-container {\n",
              "      display:flex;\n",
              "      flex-wrap:wrap;\n",
              "      gap: 12px;\n",
              "    }\n",
              "\n",
              "    .colab-df-convert {\n",
              "      background-color: #E8F0FE;\n",
              "      border: none;\n",
              "      border-radius: 50%;\n",
              "      cursor: pointer;\n",
              "      display: none;\n",
              "      fill: #1967D2;\n",
              "      height: 32px;\n",
              "      padding: 0 0 0 0;\n",
              "      width: 32px;\n",
              "    }\n",
              "\n",
              "    .colab-df-convert:hover {\n",
              "      background-color: #E2EBFA;\n",
              "      box-shadow: 0px 1px 2px rgba(60, 64, 67, 0.3), 0px 1px 3px 1px rgba(60, 64, 67, 0.15);\n",
              "      fill: #174EA6;\n",
              "    }\n",
              "\n",
              "    [theme=dark] .colab-df-convert {\n",
              "      background-color: #3B4455;\n",
              "      fill: #D2E3FC;\n",
              "    }\n",
              "\n",
              "    [theme=dark] .colab-df-convert:hover {\n",
              "      background-color: #434B5C;\n",
              "      box-shadow: 0px 1px 3px 1px rgba(0, 0, 0, 0.15);\n",
              "      filter: drop-shadow(0px 1px 2px rgba(0, 0, 0, 0.3));\n",
              "      fill: #FFFFFF;\n",
              "    }\n",
              "  </style>\n",
              "\n",
              "      <script>\n",
              "        const buttonEl =\n",
              "          document.querySelector('#df-613e7928-9e99-4141-945e-f93db031b22e button.colab-df-convert');\n",
              "        buttonEl.style.display =\n",
              "          google.colab.kernel.accessAllowed ? 'block' : 'none';\n",
              "\n",
              "        async function convertToInteractive(key) {\n",
              "          const element = document.querySelector('#df-613e7928-9e99-4141-945e-f93db031b22e');\n",
              "          const dataTable =\n",
              "            await google.colab.kernel.invokeFunction('convertToInteractive',\n",
              "                                                     [key], {});\n",
              "          if (!dataTable) return;\n",
              "\n",
              "          const docLinkHtml = 'Like what you see? Visit the ' +\n",
              "            '<a target=\"_blank\" href=https://colab.research.google.com/notebooks/data_table.ipynb>data table notebook</a>'\n",
              "            + ' to learn more about interactive tables.';\n",
              "          element.innerHTML = '';\n",
              "          dataTable['output_type'] = 'display_data';\n",
              "          await google.colab.output.renderOutput(dataTable, element);\n",
              "          const docLink = document.createElement('div');\n",
              "          docLink.innerHTML = docLinkHtml;\n",
              "          element.appendChild(docLink);\n",
              "        }\n",
              "      </script>\n",
              "    </div>\n",
              "  </div>\n",
              "  "
            ]
          },
          "metadata": {},
          "execution_count": 14
        }
      ],
      "source": [
        "corpus"
      ]
    },
    {
      "cell_type": "markdown",
      "metadata": {
        "id": "tqwFqr3sa4qK"
      },
      "source": [
        "## Tokenization"
      ]
    },
    {
      "cell_type": "code",
      "execution_count": null,
      "metadata": {
        "id": "lrZE6_jKa7X6"
      },
      "outputs": [],
      "source": [
        "corpus['text'] = corpus['text'].apply(lambda x : word_tokenize(x))"
      ]
    },
    {
      "cell_type": "code",
      "execution_count": null,
      "metadata": {
        "colab": {
          "base_uri": "https://localhost:8080/",
          "height": 423
        },
        "id": "cUvUCVsUbgp3",
        "outputId": "500535bd-2a4e-42af-cc89-eb6206bfd992"
      },
      "outputs": [
        {
          "output_type": "execute_result",
          "data": {
            "text/plain": [
              "                                                   text  spam\n",
              "0     [subject, naturally, irresistible, your, corpo...     1\n",
              "1     [subject, the, stock, trading, gunslinger, fan...     1\n",
              "2     [subject, unbelievable, new, homes, made, easy...     1\n",
              "3     [subject, 4, color, printing, special, request...     1\n",
              "4     [subject, do, not, have, money, get, software,...     1\n",
              "...                                                 ...   ...\n",
              "5723  [subject, re, research, and, development, char...     0\n",
              "5724  [subject, re, receipts, from, visit, jim, than...     0\n",
              "5725  [subject, re, enron, case, study, update, wow,...     0\n",
              "5726  [subject, re, interest, david, please, call, s...     0\n",
              "5727  [subject, news, aurora, 5, 2, update, aurora, ...     0\n",
              "\n",
              "[5728 rows x 2 columns]"
            ],
            "text/html": [
              "\n",
              "  <div id=\"df-820661a2-c60d-4039-a49f-dd011ba86ed7\">\n",
              "    <div class=\"colab-df-container\">\n",
              "      <div>\n",
              "<style scoped>\n",
              "    .dataframe tbody tr th:only-of-type {\n",
              "        vertical-align: middle;\n",
              "    }\n",
              "\n",
              "    .dataframe tbody tr th {\n",
              "        vertical-align: top;\n",
              "    }\n",
              "\n",
              "    .dataframe thead th {\n",
              "        text-align: right;\n",
              "    }\n",
              "</style>\n",
              "<table border=\"1\" class=\"dataframe\">\n",
              "  <thead>\n",
              "    <tr style=\"text-align: right;\">\n",
              "      <th></th>\n",
              "      <th>text</th>\n",
              "      <th>spam</th>\n",
              "    </tr>\n",
              "  </thead>\n",
              "  <tbody>\n",
              "    <tr>\n",
              "      <th>0</th>\n",
              "      <td>[subject, naturally, irresistible, your, corpo...</td>\n",
              "      <td>1</td>\n",
              "    </tr>\n",
              "    <tr>\n",
              "      <th>1</th>\n",
              "      <td>[subject, the, stock, trading, gunslinger, fan...</td>\n",
              "      <td>1</td>\n",
              "    </tr>\n",
              "    <tr>\n",
              "      <th>2</th>\n",
              "      <td>[subject, unbelievable, new, homes, made, easy...</td>\n",
              "      <td>1</td>\n",
              "    </tr>\n",
              "    <tr>\n",
              "      <th>3</th>\n",
              "      <td>[subject, 4, color, printing, special, request...</td>\n",
              "      <td>1</td>\n",
              "    </tr>\n",
              "    <tr>\n",
              "      <th>4</th>\n",
              "      <td>[subject, do, not, have, money, get, software,...</td>\n",
              "      <td>1</td>\n",
              "    </tr>\n",
              "    <tr>\n",
              "      <th>...</th>\n",
              "      <td>...</td>\n",
              "      <td>...</td>\n",
              "    </tr>\n",
              "    <tr>\n",
              "      <th>5723</th>\n",
              "      <td>[subject, re, research, and, development, char...</td>\n",
              "      <td>0</td>\n",
              "    </tr>\n",
              "    <tr>\n",
              "      <th>5724</th>\n",
              "      <td>[subject, re, receipts, from, visit, jim, than...</td>\n",
              "      <td>0</td>\n",
              "    </tr>\n",
              "    <tr>\n",
              "      <th>5725</th>\n",
              "      <td>[subject, re, enron, case, study, update, wow,...</td>\n",
              "      <td>0</td>\n",
              "    </tr>\n",
              "    <tr>\n",
              "      <th>5726</th>\n",
              "      <td>[subject, re, interest, david, please, call, s...</td>\n",
              "      <td>0</td>\n",
              "    </tr>\n",
              "    <tr>\n",
              "      <th>5727</th>\n",
              "      <td>[subject, news, aurora, 5, 2, update, aurora, ...</td>\n",
              "      <td>0</td>\n",
              "    </tr>\n",
              "  </tbody>\n",
              "</table>\n",
              "<p>5728 rows × 2 columns</p>\n",
              "</div>\n",
              "      <button class=\"colab-df-convert\" onclick=\"convertToInteractive('df-820661a2-c60d-4039-a49f-dd011ba86ed7')\"\n",
              "              title=\"Convert this dataframe to an interactive table.\"\n",
              "              style=\"display:none;\">\n",
              "        \n",
              "  <svg xmlns=\"http://www.w3.org/2000/svg\" height=\"24px\"viewBox=\"0 0 24 24\"\n",
              "       width=\"24px\">\n",
              "    <path d=\"M0 0h24v24H0V0z\" fill=\"none\"/>\n",
              "    <path d=\"M18.56 5.44l.94 2.06.94-2.06 2.06-.94-2.06-.94-.94-2.06-.94 2.06-2.06.94zm-11 1L8.5 8.5l.94-2.06 2.06-.94-2.06-.94L8.5 2.5l-.94 2.06-2.06.94zm10 10l.94 2.06.94-2.06 2.06-.94-2.06-.94-.94-2.06-.94 2.06-2.06.94z\"/><path d=\"M17.41 7.96l-1.37-1.37c-.4-.4-.92-.59-1.43-.59-.52 0-1.04.2-1.43.59L10.3 9.45l-7.72 7.72c-.78.78-.78 2.05 0 2.83L4 21.41c.39.39.9.59 1.41.59.51 0 1.02-.2 1.41-.59l7.78-7.78 2.81-2.81c.8-.78.8-2.07 0-2.86zM5.41 20L4 18.59l7.72-7.72 1.47 1.35L5.41 20z\"/>\n",
              "  </svg>\n",
              "      </button>\n",
              "      \n",
              "  <style>\n",
              "    .colab-df-container {\n",
              "      display:flex;\n",
              "      flex-wrap:wrap;\n",
              "      gap: 12px;\n",
              "    }\n",
              "\n",
              "    .colab-df-convert {\n",
              "      background-color: #E8F0FE;\n",
              "      border: none;\n",
              "      border-radius: 50%;\n",
              "      cursor: pointer;\n",
              "      display: none;\n",
              "      fill: #1967D2;\n",
              "      height: 32px;\n",
              "      padding: 0 0 0 0;\n",
              "      width: 32px;\n",
              "    }\n",
              "\n",
              "    .colab-df-convert:hover {\n",
              "      background-color: #E2EBFA;\n",
              "      box-shadow: 0px 1px 2px rgba(60, 64, 67, 0.3), 0px 1px 3px 1px rgba(60, 64, 67, 0.15);\n",
              "      fill: #174EA6;\n",
              "    }\n",
              "\n",
              "    [theme=dark] .colab-df-convert {\n",
              "      background-color: #3B4455;\n",
              "      fill: #D2E3FC;\n",
              "    }\n",
              "\n",
              "    [theme=dark] .colab-df-convert:hover {\n",
              "      background-color: #434B5C;\n",
              "      box-shadow: 0px 1px 3px 1px rgba(0, 0, 0, 0.15);\n",
              "      filter: drop-shadow(0px 1px 2px rgba(0, 0, 0, 0.3));\n",
              "      fill: #FFFFFF;\n",
              "    }\n",
              "  </style>\n",
              "\n",
              "      <script>\n",
              "        const buttonEl =\n",
              "          document.querySelector('#df-820661a2-c60d-4039-a49f-dd011ba86ed7 button.colab-df-convert');\n",
              "        buttonEl.style.display =\n",
              "          google.colab.kernel.accessAllowed ? 'block' : 'none';\n",
              "\n",
              "        async function convertToInteractive(key) {\n",
              "          const element = document.querySelector('#df-820661a2-c60d-4039-a49f-dd011ba86ed7');\n",
              "          const dataTable =\n",
              "            await google.colab.kernel.invokeFunction('convertToInteractive',\n",
              "                                                     [key], {});\n",
              "          if (!dataTable) return;\n",
              "\n",
              "          const docLinkHtml = 'Like what you see? Visit the ' +\n",
              "            '<a target=\"_blank\" href=https://colab.research.google.com/notebooks/data_table.ipynb>data table notebook</a>'\n",
              "            + ' to learn more about interactive tables.';\n",
              "          element.innerHTML = '';\n",
              "          dataTable['output_type'] = 'display_data';\n",
              "          await google.colab.output.renderOutput(dataTable, element);\n",
              "          const docLink = document.createElement('div');\n",
              "          docLink.innerHTML = docLinkHtml;\n",
              "          element.appendChild(docLink);\n",
              "        }\n",
              "      </script>\n",
              "    </div>\n",
              "  </div>\n",
              "  "
            ]
          },
          "metadata": {},
          "execution_count": 16
        }
      ],
      "source": [
        "corpus"
      ]
    },
    {
      "cell_type": "markdown",
      "metadata": {
        "id": "lQ04zEn_Xl_M"
      },
      "source": [
        "## Remove all punctuation from the corpus"
      ]
    },
    {
      "cell_type": "code",
      "execution_count": null,
      "metadata": {
        "colab": {
          "base_uri": "https://localhost:8080/"
        },
        "id": "8Tx94orEghPt",
        "outputId": "235a103c-6b1e-4668-e9b4-7f0dca8fff4e"
      },
      "outputs": [
        {
          "output_type": "execute_result",
          "data": {
            "text/plain": [
              "{'!',\n",
              " '\"',\n",
              " '#',\n",
              " '$',\n",
              " '%',\n",
              " '&',\n",
              " \"'\",\n",
              " '(',\n",
              " ')',\n",
              " '*',\n",
              " '+',\n",
              " ',',\n",
              " '-',\n",
              " '.',\n",
              " '/',\n",
              " ':',\n",
              " ';',\n",
              " '<',\n",
              " '=',\n",
              " '>',\n",
              " '?',\n",
              " '@',\n",
              " '[',\n",
              " '\\\\',\n",
              " ']',\n",
              " '^',\n",
              " '_',\n",
              " '`',\n",
              " '{',\n",
              " '|',\n",
              " '}',\n",
              " '~'}"
            ]
          },
          "metadata": {},
          "execution_count": 17
        }
      ],
      "source": [
        "# Punctuations from string library of python\n",
        "punct = set(punctuation)\n",
        "punct"
      ]
    },
    {
      "cell_type": "code",
      "execution_count": null,
      "metadata": {
        "id": "pahjEdn2r0RD"
      },
      "outputs": [],
      "source": [
        "corpus['text'] = corpus['text'].apply(lambda x: [word for word in x if word not in punct])"
      ]
    },
    {
      "cell_type": "code",
      "execution_count": null,
      "metadata": {
        "colab": {
          "base_uri": "https://localhost:8080/",
          "height": 423
        },
        "id": "xmC0Gkf8ZkIP",
        "outputId": "10e9d9d9-b88e-460d-bfa8-11863a242b55"
      },
      "outputs": [
        {
          "output_type": "execute_result",
          "data": {
            "text/plain": [
              "                                                   text  spam\n",
              "0     [subject, naturally, irresistible, your, corpo...     1\n",
              "1     [subject, the, stock, trading, gunslinger, fan...     1\n",
              "2     [subject, unbelievable, new, homes, made, easy...     1\n",
              "3     [subject, 4, color, printing, special, request...     1\n",
              "4     [subject, do, not, have, money, get, software,...     1\n",
              "...                                                 ...   ...\n",
              "5723  [subject, re, research, and, development, char...     0\n",
              "5724  [subject, re, receipts, from, visit, jim, than...     0\n",
              "5725  [subject, re, enron, case, study, update, wow,...     0\n",
              "5726  [subject, re, interest, david, please, call, s...     0\n",
              "5727  [subject, news, aurora, 5, 2, update, aurora, ...     0\n",
              "\n",
              "[5728 rows x 2 columns]"
            ],
            "text/html": [
              "\n",
              "  <div id=\"df-0642acd7-5ee9-47d3-b52c-1b98fdccc594\">\n",
              "    <div class=\"colab-df-container\">\n",
              "      <div>\n",
              "<style scoped>\n",
              "    .dataframe tbody tr th:only-of-type {\n",
              "        vertical-align: middle;\n",
              "    }\n",
              "\n",
              "    .dataframe tbody tr th {\n",
              "        vertical-align: top;\n",
              "    }\n",
              "\n",
              "    .dataframe thead th {\n",
              "        text-align: right;\n",
              "    }\n",
              "</style>\n",
              "<table border=\"1\" class=\"dataframe\">\n",
              "  <thead>\n",
              "    <tr style=\"text-align: right;\">\n",
              "      <th></th>\n",
              "      <th>text</th>\n",
              "      <th>spam</th>\n",
              "    </tr>\n",
              "  </thead>\n",
              "  <tbody>\n",
              "    <tr>\n",
              "      <th>0</th>\n",
              "      <td>[subject, naturally, irresistible, your, corpo...</td>\n",
              "      <td>1</td>\n",
              "    </tr>\n",
              "    <tr>\n",
              "      <th>1</th>\n",
              "      <td>[subject, the, stock, trading, gunslinger, fan...</td>\n",
              "      <td>1</td>\n",
              "    </tr>\n",
              "    <tr>\n",
              "      <th>2</th>\n",
              "      <td>[subject, unbelievable, new, homes, made, easy...</td>\n",
              "      <td>1</td>\n",
              "    </tr>\n",
              "    <tr>\n",
              "      <th>3</th>\n",
              "      <td>[subject, 4, color, printing, special, request...</td>\n",
              "      <td>1</td>\n",
              "    </tr>\n",
              "    <tr>\n",
              "      <th>4</th>\n",
              "      <td>[subject, do, not, have, money, get, software,...</td>\n",
              "      <td>1</td>\n",
              "    </tr>\n",
              "    <tr>\n",
              "      <th>...</th>\n",
              "      <td>...</td>\n",
              "      <td>...</td>\n",
              "    </tr>\n",
              "    <tr>\n",
              "      <th>5723</th>\n",
              "      <td>[subject, re, research, and, development, char...</td>\n",
              "      <td>0</td>\n",
              "    </tr>\n",
              "    <tr>\n",
              "      <th>5724</th>\n",
              "      <td>[subject, re, receipts, from, visit, jim, than...</td>\n",
              "      <td>0</td>\n",
              "    </tr>\n",
              "    <tr>\n",
              "      <th>5725</th>\n",
              "      <td>[subject, re, enron, case, study, update, wow,...</td>\n",
              "      <td>0</td>\n",
              "    </tr>\n",
              "    <tr>\n",
              "      <th>5726</th>\n",
              "      <td>[subject, re, interest, david, please, call, s...</td>\n",
              "      <td>0</td>\n",
              "    </tr>\n",
              "    <tr>\n",
              "      <th>5727</th>\n",
              "      <td>[subject, news, aurora, 5, 2, update, aurora, ...</td>\n",
              "      <td>0</td>\n",
              "    </tr>\n",
              "  </tbody>\n",
              "</table>\n",
              "<p>5728 rows × 2 columns</p>\n",
              "</div>\n",
              "      <button class=\"colab-df-convert\" onclick=\"convertToInteractive('df-0642acd7-5ee9-47d3-b52c-1b98fdccc594')\"\n",
              "              title=\"Convert this dataframe to an interactive table.\"\n",
              "              style=\"display:none;\">\n",
              "        \n",
              "  <svg xmlns=\"http://www.w3.org/2000/svg\" height=\"24px\"viewBox=\"0 0 24 24\"\n",
              "       width=\"24px\">\n",
              "    <path d=\"M0 0h24v24H0V0z\" fill=\"none\"/>\n",
              "    <path d=\"M18.56 5.44l.94 2.06.94-2.06 2.06-.94-2.06-.94-.94-2.06-.94 2.06-2.06.94zm-11 1L8.5 8.5l.94-2.06 2.06-.94-2.06-.94L8.5 2.5l-.94 2.06-2.06.94zm10 10l.94 2.06.94-2.06 2.06-.94-2.06-.94-.94-2.06-.94 2.06-2.06.94z\"/><path d=\"M17.41 7.96l-1.37-1.37c-.4-.4-.92-.59-1.43-.59-.52 0-1.04.2-1.43.59L10.3 9.45l-7.72 7.72c-.78.78-.78 2.05 0 2.83L4 21.41c.39.39.9.59 1.41.59.51 0 1.02-.2 1.41-.59l7.78-7.78 2.81-2.81c.8-.78.8-2.07 0-2.86zM5.41 20L4 18.59l7.72-7.72 1.47 1.35L5.41 20z\"/>\n",
              "  </svg>\n",
              "      </button>\n",
              "      \n",
              "  <style>\n",
              "    .colab-df-container {\n",
              "      display:flex;\n",
              "      flex-wrap:wrap;\n",
              "      gap: 12px;\n",
              "    }\n",
              "\n",
              "    .colab-df-convert {\n",
              "      background-color: #E8F0FE;\n",
              "      border: none;\n",
              "      border-radius: 50%;\n",
              "      cursor: pointer;\n",
              "      display: none;\n",
              "      fill: #1967D2;\n",
              "      height: 32px;\n",
              "      padding: 0 0 0 0;\n",
              "      width: 32px;\n",
              "    }\n",
              "\n",
              "    .colab-df-convert:hover {\n",
              "      background-color: #E2EBFA;\n",
              "      box-shadow: 0px 1px 2px rgba(60, 64, 67, 0.3), 0px 1px 3px 1px rgba(60, 64, 67, 0.15);\n",
              "      fill: #174EA6;\n",
              "    }\n",
              "\n",
              "    [theme=dark] .colab-df-convert {\n",
              "      background-color: #3B4455;\n",
              "      fill: #D2E3FC;\n",
              "    }\n",
              "\n",
              "    [theme=dark] .colab-df-convert:hover {\n",
              "      background-color: #434B5C;\n",
              "      box-shadow: 0px 1px 3px 1px rgba(0, 0, 0, 0.15);\n",
              "      filter: drop-shadow(0px 1px 2px rgba(0, 0, 0, 0.3));\n",
              "      fill: #FFFFFF;\n",
              "    }\n",
              "  </style>\n",
              "\n",
              "      <script>\n",
              "        const buttonEl =\n",
              "          document.querySelector('#df-0642acd7-5ee9-47d3-b52c-1b98fdccc594 button.colab-df-convert');\n",
              "        buttonEl.style.display =\n",
              "          google.colab.kernel.accessAllowed ? 'block' : 'none';\n",
              "\n",
              "        async function convertToInteractive(key) {\n",
              "          const element = document.querySelector('#df-0642acd7-5ee9-47d3-b52c-1b98fdccc594');\n",
              "          const dataTable =\n",
              "            await google.colab.kernel.invokeFunction('convertToInteractive',\n",
              "                                                     [key], {});\n",
              "          if (!dataTable) return;\n",
              "\n",
              "          const docLinkHtml = 'Like what you see? Visit the ' +\n",
              "            '<a target=\"_blank\" href=https://colab.research.google.com/notebooks/data_table.ipynb>data table notebook</a>'\n",
              "            + ' to learn more about interactive tables.';\n",
              "          element.innerHTML = '';\n",
              "          dataTable['output_type'] = 'display_data';\n",
              "          await google.colab.output.renderOutput(dataTable, element);\n",
              "          const docLink = document.createElement('div');\n",
              "          docLink.innerHTML = docLinkHtml;\n",
              "          element.appendChild(docLink);\n",
              "        }\n",
              "      </script>\n",
              "    </div>\n",
              "  </div>\n",
              "  "
            ]
          },
          "metadata": {},
          "execution_count": 19
        }
      ],
      "source": [
        "corpus"
      ]
    },
    {
      "cell_type": "markdown",
      "metadata": {
        "id": "Kbrkv5lnXraf"
      },
      "source": [
        "## Remove all English stopwords from the corpus"
      ]
    },
    {
      "cell_type": "code",
      "execution_count": null,
      "metadata": {
        "id": "IsMkNFNCs4lp"
      },
      "outputs": [],
      "source": [
        "stopwords = [\"i\", \"me\", \"my\", \"myself\", \"we\", \"our\", \"ours\", \"ourselves\", \"you\", \"your\", \"yours\", \"yourself\", \"yourselves\", \"he\", \"him\", \"his\", \"himself\", \"she\", \"her\", \"hers\", \"herself\", \"it\", \"its\", \"itself\", \"they\", \"them\", \"their\", \"theirs\", \"themselves\", \"what\", \"which\", \"who\", \"whom\", \"this\", \"that\", \"these\", \"those\", \"am\", \"is\", \"are\", \"was\", \"were\", \"be\", \"been\", \"being\", \"have\", \"has\", \"had\", \"having\", \"do\", \"does\", \"did\", \"doing\", \"would\", \"should\", \"could\", \"ought\", \"i'm\", \"you're\", \"he's\", \"she's\", \"it's\", \"we're\", \"they're\", \"i've\", \"you've\", \"we've\", \"they've\", \"i'd\", \"you'd\", \"he'd\", \"she'd\", \"we'd\", \"they'd\", \"i'll\", \"you'll\", \"he'll\", \"she'll\", \"we'll\", \"they'll\", \"isn't\", \"aren't\", \"wasn't\", \"weren't\", \"hasn't\", \"haven't\", \"hadn't\", \"doesn't\", \"don't\", \"didn't\", \"won't\", \"wouldn't\", \"shan't\", \"shouldn't\", \"can't\", \"cannot\", \"couldn't\", \"mustn't\", \"let's\", \"that's\", \"who's\", \"what's\", \"here's\", \"there's\", \"when's\", \"where's\", \"why's\", \"how's\", \"a\", \"an\", \"the\", \"and\", \"but\", \"if\", \"or\", \"because\", \"as\", \"until\", \"while\", \"of\", \"at\", \"by\", \"for\", \"with\", \"about\", \"against\", \"between\", \"into\", \"through\", \"during\", \"before\", \"after\", \"above\", \"below\", \"to\", \"from\", \"up\", \"down\", \"in\", \"out\", \"on\", \"off\", \"over\", \"under\", \"again\", \"further\", \"then\", \"once\", \"here\", \"there\", \"when\", \"where\", \"why\", \"how\", \"all\", \"any\", \"both\", \"each\", \"few\", \"more\", \"most\", \"other\", \"some\", \"such\", \"no\", \"nor\", \"not\", \"only\", \"own\", \"same\", \"so\", \"than\", \"too\", \"very\"]"
      ]
    },
    {
      "cell_type": "code",
      "execution_count": null,
      "metadata": {
        "colab": {
          "base_uri": "https://localhost:8080/"
        },
        "id": "O8ECTEqBYN5m",
        "outputId": "07ecfc62-ebcd-4c8b-f599-b21aecbf7c09"
      },
      "outputs": [
        {
          "output_type": "execute_result",
          "data": {
            "text/plain": [
              "174"
            ]
          },
          "metadata": {},
          "execution_count": 21
        }
      ],
      "source": [
        "len(stopwords)"
      ]
    },
    {
      "cell_type": "code",
      "execution_count": null,
      "metadata": {
        "id": "D5DPVqzvtHMb"
      },
      "outputs": [],
      "source": [
        "corpus['text'] = corpus['text'].apply(lambda x: [word for word in x if word not in stopwords])"
      ]
    },
    {
      "cell_type": "code",
      "execution_count": null,
      "metadata": {
        "colab": {
          "base_uri": "https://localhost:8080/",
          "height": 423
        },
        "id": "PrpbWkLOZnME",
        "outputId": "4e93a1f5-c883-42a3-9dcf-9f1c2d1f3987"
      },
      "outputs": [
        {
          "output_type": "execute_result",
          "data": {
            "text/plain": [
              "                                                   text  spam\n",
              "0     [subject, naturally, irresistible, corporate, ...     1\n",
              "1     [subject, stock, trading, gunslinger, fanny, m...     1\n",
              "2     [subject, unbelievable, new, homes, made, easy...     1\n",
              "3     [subject, 4, color, printing, special, request...     1\n",
              "4     [subject, money, get, software, cds, software,...     1\n",
              "...                                                 ...   ...\n",
              "5723  [subject, re, research, development, charges, ...     0\n",
              "5724  [subject, re, receipts, visit, jim, thanks, in...     0\n",
              "5725  [subject, re, enron, case, study, update, wow,...     0\n",
              "5726  [subject, re, interest, david, please, call, s...     0\n",
              "5727  [subject, news, aurora, 5, 2, update, aurora, ...     0\n",
              "\n",
              "[5728 rows x 2 columns]"
            ],
            "text/html": [
              "\n",
              "  <div id=\"df-b97f4af4-d2e6-4e81-96c5-d1fa70f8da59\">\n",
              "    <div class=\"colab-df-container\">\n",
              "      <div>\n",
              "<style scoped>\n",
              "    .dataframe tbody tr th:only-of-type {\n",
              "        vertical-align: middle;\n",
              "    }\n",
              "\n",
              "    .dataframe tbody tr th {\n",
              "        vertical-align: top;\n",
              "    }\n",
              "\n",
              "    .dataframe thead th {\n",
              "        text-align: right;\n",
              "    }\n",
              "</style>\n",
              "<table border=\"1\" class=\"dataframe\">\n",
              "  <thead>\n",
              "    <tr style=\"text-align: right;\">\n",
              "      <th></th>\n",
              "      <th>text</th>\n",
              "      <th>spam</th>\n",
              "    </tr>\n",
              "  </thead>\n",
              "  <tbody>\n",
              "    <tr>\n",
              "      <th>0</th>\n",
              "      <td>[subject, naturally, irresistible, corporate, ...</td>\n",
              "      <td>1</td>\n",
              "    </tr>\n",
              "    <tr>\n",
              "      <th>1</th>\n",
              "      <td>[subject, stock, trading, gunslinger, fanny, m...</td>\n",
              "      <td>1</td>\n",
              "    </tr>\n",
              "    <tr>\n",
              "      <th>2</th>\n",
              "      <td>[subject, unbelievable, new, homes, made, easy...</td>\n",
              "      <td>1</td>\n",
              "    </tr>\n",
              "    <tr>\n",
              "      <th>3</th>\n",
              "      <td>[subject, 4, color, printing, special, request...</td>\n",
              "      <td>1</td>\n",
              "    </tr>\n",
              "    <tr>\n",
              "      <th>4</th>\n",
              "      <td>[subject, money, get, software, cds, software,...</td>\n",
              "      <td>1</td>\n",
              "    </tr>\n",
              "    <tr>\n",
              "      <th>...</th>\n",
              "      <td>...</td>\n",
              "      <td>...</td>\n",
              "    </tr>\n",
              "    <tr>\n",
              "      <th>5723</th>\n",
              "      <td>[subject, re, research, development, charges, ...</td>\n",
              "      <td>0</td>\n",
              "    </tr>\n",
              "    <tr>\n",
              "      <th>5724</th>\n",
              "      <td>[subject, re, receipts, visit, jim, thanks, in...</td>\n",
              "      <td>0</td>\n",
              "    </tr>\n",
              "    <tr>\n",
              "      <th>5725</th>\n",
              "      <td>[subject, re, enron, case, study, update, wow,...</td>\n",
              "      <td>0</td>\n",
              "    </tr>\n",
              "    <tr>\n",
              "      <th>5726</th>\n",
              "      <td>[subject, re, interest, david, please, call, s...</td>\n",
              "      <td>0</td>\n",
              "    </tr>\n",
              "    <tr>\n",
              "      <th>5727</th>\n",
              "      <td>[subject, news, aurora, 5, 2, update, aurora, ...</td>\n",
              "      <td>0</td>\n",
              "    </tr>\n",
              "  </tbody>\n",
              "</table>\n",
              "<p>5728 rows × 2 columns</p>\n",
              "</div>\n",
              "      <button class=\"colab-df-convert\" onclick=\"convertToInteractive('df-b97f4af4-d2e6-4e81-96c5-d1fa70f8da59')\"\n",
              "              title=\"Convert this dataframe to an interactive table.\"\n",
              "              style=\"display:none;\">\n",
              "        \n",
              "  <svg xmlns=\"http://www.w3.org/2000/svg\" height=\"24px\"viewBox=\"0 0 24 24\"\n",
              "       width=\"24px\">\n",
              "    <path d=\"M0 0h24v24H0V0z\" fill=\"none\"/>\n",
              "    <path d=\"M18.56 5.44l.94 2.06.94-2.06 2.06-.94-2.06-.94-.94-2.06-.94 2.06-2.06.94zm-11 1L8.5 8.5l.94-2.06 2.06-.94-2.06-.94L8.5 2.5l-.94 2.06-2.06.94zm10 10l.94 2.06.94-2.06 2.06-.94-2.06-.94-.94-2.06-.94 2.06-2.06.94z\"/><path d=\"M17.41 7.96l-1.37-1.37c-.4-.4-.92-.59-1.43-.59-.52 0-1.04.2-1.43.59L10.3 9.45l-7.72 7.72c-.78.78-.78 2.05 0 2.83L4 21.41c.39.39.9.59 1.41.59.51 0 1.02-.2 1.41-.59l7.78-7.78 2.81-2.81c.8-.78.8-2.07 0-2.86zM5.41 20L4 18.59l7.72-7.72 1.47 1.35L5.41 20z\"/>\n",
              "  </svg>\n",
              "      </button>\n",
              "      \n",
              "  <style>\n",
              "    .colab-df-container {\n",
              "      display:flex;\n",
              "      flex-wrap:wrap;\n",
              "      gap: 12px;\n",
              "    }\n",
              "\n",
              "    .colab-df-convert {\n",
              "      background-color: #E8F0FE;\n",
              "      border: none;\n",
              "      border-radius: 50%;\n",
              "      cursor: pointer;\n",
              "      display: none;\n",
              "      fill: #1967D2;\n",
              "      height: 32px;\n",
              "      padding: 0 0 0 0;\n",
              "      width: 32px;\n",
              "    }\n",
              "\n",
              "    .colab-df-convert:hover {\n",
              "      background-color: #E2EBFA;\n",
              "      box-shadow: 0px 1px 2px rgba(60, 64, 67, 0.3), 0px 1px 3px 1px rgba(60, 64, 67, 0.15);\n",
              "      fill: #174EA6;\n",
              "    }\n",
              "\n",
              "    [theme=dark] .colab-df-convert {\n",
              "      background-color: #3B4455;\n",
              "      fill: #D2E3FC;\n",
              "    }\n",
              "\n",
              "    [theme=dark] .colab-df-convert:hover {\n",
              "      background-color: #434B5C;\n",
              "      box-shadow: 0px 1px 3px 1px rgba(0, 0, 0, 0.15);\n",
              "      filter: drop-shadow(0px 1px 2px rgba(0, 0, 0, 0.3));\n",
              "      fill: #FFFFFF;\n",
              "    }\n",
              "  </style>\n",
              "\n",
              "      <script>\n",
              "        const buttonEl =\n",
              "          document.querySelector('#df-b97f4af4-d2e6-4e81-96c5-d1fa70f8da59 button.colab-df-convert');\n",
              "        buttonEl.style.display =\n",
              "          google.colab.kernel.accessAllowed ? 'block' : 'none';\n",
              "\n",
              "        async function convertToInteractive(key) {\n",
              "          const element = document.querySelector('#df-b97f4af4-d2e6-4e81-96c5-d1fa70f8da59');\n",
              "          const dataTable =\n",
              "            await google.colab.kernel.invokeFunction('convertToInteractive',\n",
              "                                                     [key], {});\n",
              "          if (!dataTable) return;\n",
              "\n",
              "          const docLinkHtml = 'Like what you see? Visit the ' +\n",
              "            '<a target=\"_blank\" href=https://colab.research.google.com/notebooks/data_table.ipynb>data table notebook</a>'\n",
              "            + ' to learn more about interactive tables.';\n",
              "          element.innerHTML = '';\n",
              "          dataTable['output_type'] = 'display_data';\n",
              "          await google.colab.output.renderOutput(dataTable, element);\n",
              "          const docLink = document.createElement('div');\n",
              "          docLink.innerHTML = docLinkHtml;\n",
              "          element.appendChild(docLink);\n",
              "        }\n",
              "      </script>\n",
              "    </div>\n",
              "  </div>\n",
              "  "
            ]
          },
          "metadata": {},
          "execution_count": 23
        }
      ],
      "source": [
        "corpus"
      ]
    },
    {
      "cell_type": "code",
      "execution_count": null,
      "metadata": {
        "colab": {
          "base_uri": "https://localhost:8080/"
        },
        "id": "ukgwRFwbb9IQ",
        "outputId": "b8ee9299-fb06-4e56-96b7-bdb209588586"
      },
      "outputs": [
        {
          "output_type": "execute_result",
          "data": {
            "text/plain": [
              "['subject',\n",
              " 'naturally',\n",
              " 'irresistible',\n",
              " 'corporate',\n",
              " 'identity',\n",
              " 'lt',\n",
              " 'really',\n",
              " 'hard',\n",
              " 'recollect',\n",
              " 'company',\n",
              " 'market',\n",
              " 'full',\n",
              " 'suqgestions',\n",
              " 'information',\n",
              " 'isoverwhelminq',\n",
              " 'good',\n",
              " 'catchy',\n",
              " 'logo',\n",
              " 'stylish',\n",
              " 'statlonery',\n",
              " 'outstanding',\n",
              " 'website',\n",
              " 'will',\n",
              " 'make',\n",
              " 'task',\n",
              " 'much',\n",
              " 'easier',\n",
              " 'promise',\n",
              " 'havinq',\n",
              " 'ordered',\n",
              " 'iogo',\n",
              " 'company',\n",
              " 'will',\n",
              " 'automaticaily',\n",
              " 'become',\n",
              " 'world',\n",
              " 'ieader',\n",
              " 'isguite',\n",
              " 'ciear',\n",
              " 'without',\n",
              " 'good',\n",
              " 'products',\n",
              " 'effective',\n",
              " 'business',\n",
              " 'organization',\n",
              " 'practicable',\n",
              " 'aim',\n",
              " 'will',\n",
              " 'hotat',\n",
              " 'nowadays',\n",
              " 'market',\n",
              " 'promise',\n",
              " 'marketing',\n",
              " 'efforts',\n",
              " 'will',\n",
              " 'become',\n",
              " 'much',\n",
              " 'effective',\n",
              " 'list',\n",
              " 'clear',\n",
              " 'benefits',\n",
              " 'creativeness',\n",
              " 'hand',\n",
              " 'made',\n",
              " 'original',\n",
              " 'logos',\n",
              " 'specially',\n",
              " 'done',\n",
              " 'reflect',\n",
              " 'distinctive',\n",
              " 'company',\n",
              " 'image',\n",
              " 'convenience',\n",
              " 'logo',\n",
              " 'stationery',\n",
              " 'provided',\n",
              " 'formats',\n",
              " 'easy',\n",
              " 'use',\n",
              " 'content',\n",
              " 'management',\n",
              " 'system',\n",
              " 'letsyou',\n",
              " 'change',\n",
              " 'website',\n",
              " 'content',\n",
              " 'even',\n",
              " 'structure',\n",
              " 'promptness',\n",
              " 'will',\n",
              " 'see',\n",
              " 'logo',\n",
              " 'drafts',\n",
              " 'within',\n",
              " 'three',\n",
              " 'business',\n",
              " 'days',\n",
              " 'affordability',\n",
              " 'marketing',\n",
              " 'break',\n",
              " 'shouldn',\n",
              " 't',\n",
              " 'make',\n",
              " 'gaps',\n",
              " 'budget',\n",
              " '100',\n",
              " 'satisfaction',\n",
              " 'guaranteed',\n",
              " 'provide',\n",
              " 'unlimited',\n",
              " 'amount',\n",
              " 'changes',\n",
              " 'extra',\n",
              " 'fees',\n",
              " 'surethat',\n",
              " 'will',\n",
              " 'love',\n",
              " 'result',\n",
              " 'collaboration',\n",
              " 'look',\n",
              " 'portfolio',\n",
              " 'interested']"
            ]
          },
          "metadata": {},
          "execution_count": 24
        }
      ],
      "source": [
        "corpus['text'][0]"
      ]
    },
    {
      "cell_type": "markdown",
      "metadata": {
        "id": "wTcqD5XFXvN8"
      },
      "source": [
        "## Stem the words in the corpus"
      ]
    },
    {
      "cell_type": "code",
      "execution_count": null,
      "metadata": {
        "id": "Qe1HFpv2tdsu"
      },
      "outputs": [],
      "source": [
        "ps = PorterStemmer()\n",
        "corpus['text'] = corpus['text'].apply(lambda x: [ps.stem(word) for word in x])"
      ]
    },
    {
      "cell_type": "code",
      "execution_count": null,
      "metadata": {
        "colab": {
          "base_uri": "https://localhost:8080/",
          "height": 423
        },
        "id": "QNQHe3cAZoZV",
        "outputId": "e1827134-1bbd-4c12-cf61-4ea6603970bf"
      },
      "outputs": [
        {
          "output_type": "execute_result",
          "data": {
            "text/plain": [
              "                                                   text  spam\n",
              "0     [subject, natur, irresist, corpor, ident, lt, ...     1\n",
              "1     [subject, stock, trade, gunsling, fanni, merri...     1\n",
              "2     [subject, unbeliev, new, home, made, easi, im,...     1\n",
              "3     [subject, 4, color, print, special, request, a...     1\n",
              "4     [subject, money, get, softwar, cd, softwar, co...     1\n",
              "...                                                 ...   ...\n",
              "5723  [subject, re, research, develop, charg, gpg, f...     0\n",
              "5724  [subject, re, receipt, visit, jim, thank, invi...     0\n",
              "5725  [subject, re, enron, case, studi, updat, wow, ...     0\n",
              "5726  [subject, re, interest, david, pleas, call, sh...     0\n",
              "5727  [subject, news, aurora, 5, 2, updat, aurora, v...     0\n",
              "\n",
              "[5728 rows x 2 columns]"
            ],
            "text/html": [
              "\n",
              "  <div id=\"df-6fb93c58-cfd9-4d9d-b587-d891930cd266\">\n",
              "    <div class=\"colab-df-container\">\n",
              "      <div>\n",
              "<style scoped>\n",
              "    .dataframe tbody tr th:only-of-type {\n",
              "        vertical-align: middle;\n",
              "    }\n",
              "\n",
              "    .dataframe tbody tr th {\n",
              "        vertical-align: top;\n",
              "    }\n",
              "\n",
              "    .dataframe thead th {\n",
              "        text-align: right;\n",
              "    }\n",
              "</style>\n",
              "<table border=\"1\" class=\"dataframe\">\n",
              "  <thead>\n",
              "    <tr style=\"text-align: right;\">\n",
              "      <th></th>\n",
              "      <th>text</th>\n",
              "      <th>spam</th>\n",
              "    </tr>\n",
              "  </thead>\n",
              "  <tbody>\n",
              "    <tr>\n",
              "      <th>0</th>\n",
              "      <td>[subject, natur, irresist, corpor, ident, lt, ...</td>\n",
              "      <td>1</td>\n",
              "    </tr>\n",
              "    <tr>\n",
              "      <th>1</th>\n",
              "      <td>[subject, stock, trade, gunsling, fanni, merri...</td>\n",
              "      <td>1</td>\n",
              "    </tr>\n",
              "    <tr>\n",
              "      <th>2</th>\n",
              "      <td>[subject, unbeliev, new, home, made, easi, im,...</td>\n",
              "      <td>1</td>\n",
              "    </tr>\n",
              "    <tr>\n",
              "      <th>3</th>\n",
              "      <td>[subject, 4, color, print, special, request, a...</td>\n",
              "      <td>1</td>\n",
              "    </tr>\n",
              "    <tr>\n",
              "      <th>4</th>\n",
              "      <td>[subject, money, get, softwar, cd, softwar, co...</td>\n",
              "      <td>1</td>\n",
              "    </tr>\n",
              "    <tr>\n",
              "      <th>...</th>\n",
              "      <td>...</td>\n",
              "      <td>...</td>\n",
              "    </tr>\n",
              "    <tr>\n",
              "      <th>5723</th>\n",
              "      <td>[subject, re, research, develop, charg, gpg, f...</td>\n",
              "      <td>0</td>\n",
              "    </tr>\n",
              "    <tr>\n",
              "      <th>5724</th>\n",
              "      <td>[subject, re, receipt, visit, jim, thank, invi...</td>\n",
              "      <td>0</td>\n",
              "    </tr>\n",
              "    <tr>\n",
              "      <th>5725</th>\n",
              "      <td>[subject, re, enron, case, studi, updat, wow, ...</td>\n",
              "      <td>0</td>\n",
              "    </tr>\n",
              "    <tr>\n",
              "      <th>5726</th>\n",
              "      <td>[subject, re, interest, david, pleas, call, sh...</td>\n",
              "      <td>0</td>\n",
              "    </tr>\n",
              "    <tr>\n",
              "      <th>5727</th>\n",
              "      <td>[subject, news, aurora, 5, 2, updat, aurora, v...</td>\n",
              "      <td>0</td>\n",
              "    </tr>\n",
              "  </tbody>\n",
              "</table>\n",
              "<p>5728 rows × 2 columns</p>\n",
              "</div>\n",
              "      <button class=\"colab-df-convert\" onclick=\"convertToInteractive('df-6fb93c58-cfd9-4d9d-b587-d891930cd266')\"\n",
              "              title=\"Convert this dataframe to an interactive table.\"\n",
              "              style=\"display:none;\">\n",
              "        \n",
              "  <svg xmlns=\"http://www.w3.org/2000/svg\" height=\"24px\"viewBox=\"0 0 24 24\"\n",
              "       width=\"24px\">\n",
              "    <path d=\"M0 0h24v24H0V0z\" fill=\"none\"/>\n",
              "    <path d=\"M18.56 5.44l.94 2.06.94-2.06 2.06-.94-2.06-.94-.94-2.06-.94 2.06-2.06.94zm-11 1L8.5 8.5l.94-2.06 2.06-.94-2.06-.94L8.5 2.5l-.94 2.06-2.06.94zm10 10l.94 2.06.94-2.06 2.06-.94-2.06-.94-.94-2.06-.94 2.06-2.06.94z\"/><path d=\"M17.41 7.96l-1.37-1.37c-.4-.4-.92-.59-1.43-.59-.52 0-1.04.2-1.43.59L10.3 9.45l-7.72 7.72c-.78.78-.78 2.05 0 2.83L4 21.41c.39.39.9.59 1.41.59.51 0 1.02-.2 1.41-.59l7.78-7.78 2.81-2.81c.8-.78.8-2.07 0-2.86zM5.41 20L4 18.59l7.72-7.72 1.47 1.35L5.41 20z\"/>\n",
              "  </svg>\n",
              "      </button>\n",
              "      \n",
              "  <style>\n",
              "    .colab-df-container {\n",
              "      display:flex;\n",
              "      flex-wrap:wrap;\n",
              "      gap: 12px;\n",
              "    }\n",
              "\n",
              "    .colab-df-convert {\n",
              "      background-color: #E8F0FE;\n",
              "      border: none;\n",
              "      border-radius: 50%;\n",
              "      cursor: pointer;\n",
              "      display: none;\n",
              "      fill: #1967D2;\n",
              "      height: 32px;\n",
              "      padding: 0 0 0 0;\n",
              "      width: 32px;\n",
              "    }\n",
              "\n",
              "    .colab-df-convert:hover {\n",
              "      background-color: #E2EBFA;\n",
              "      box-shadow: 0px 1px 2px rgba(60, 64, 67, 0.3), 0px 1px 3px 1px rgba(60, 64, 67, 0.15);\n",
              "      fill: #174EA6;\n",
              "    }\n",
              "\n",
              "    [theme=dark] .colab-df-convert {\n",
              "      background-color: #3B4455;\n",
              "      fill: #D2E3FC;\n",
              "    }\n",
              "\n",
              "    [theme=dark] .colab-df-convert:hover {\n",
              "      background-color: #434B5C;\n",
              "      box-shadow: 0px 1px 3px 1px rgba(0, 0, 0, 0.15);\n",
              "      filter: drop-shadow(0px 1px 2px rgba(0, 0, 0, 0.3));\n",
              "      fill: #FFFFFF;\n",
              "    }\n",
              "  </style>\n",
              "\n",
              "      <script>\n",
              "        const buttonEl =\n",
              "          document.querySelector('#df-6fb93c58-cfd9-4d9d-b587-d891930cd266 button.colab-df-convert');\n",
              "        buttonEl.style.display =\n",
              "          google.colab.kernel.accessAllowed ? 'block' : 'none';\n",
              "\n",
              "        async function convertToInteractive(key) {\n",
              "          const element = document.querySelector('#df-6fb93c58-cfd9-4d9d-b587-d891930cd266');\n",
              "          const dataTable =\n",
              "            await google.colab.kernel.invokeFunction('convertToInteractive',\n",
              "                                                     [key], {});\n",
              "          if (!dataTable) return;\n",
              "\n",
              "          const docLinkHtml = 'Like what you see? Visit the ' +\n",
              "            '<a target=\"_blank\" href=https://colab.research.google.com/notebooks/data_table.ipynb>data table notebook</a>'\n",
              "            + ' to learn more about interactive tables.';\n",
              "          element.innerHTML = '';\n",
              "          dataTable['output_type'] = 'display_data';\n",
              "          await google.colab.output.renderOutput(dataTable, element);\n",
              "          const docLink = document.createElement('div');\n",
              "          docLink.innerHTML = docLinkHtml;\n",
              "          element.appendChild(docLink);\n",
              "        }\n",
              "      </script>\n",
              "    </div>\n",
              "  </div>\n",
              "  "
            ]
          },
          "metadata": {},
          "execution_count": 26
        }
      ],
      "source": [
        "corpus"
      ]
    },
    {
      "cell_type": "markdown",
      "metadata": {
        "id": "zQVkq8m-dfY_"
      },
      "source": [
        "## Build a document term matrix from the corpus"
      ]
    },
    {
      "cell_type": "code",
      "execution_count": null,
      "metadata": {
        "id": "hBPyQQORe9MX"
      },
      "outputs": [],
      "source": [
        "corpus['text'] = corpus['text'].apply(lambda x: ' '.join(x))"
      ]
    },
    {
      "cell_type": "code",
      "execution_count": null,
      "metadata": {
        "colab": {
          "base_uri": "https://localhost:8080/",
          "height": 423
        },
        "id": "GxAjq649fKzm",
        "outputId": "420ca661-4dab-494a-b7ff-70e24117f9c8"
      },
      "outputs": [
        {
          "output_type": "execute_result",
          "data": {
            "text/plain": [
              "                                                   text  spam\n",
              "0     subject natur irresist corpor ident lt realli ...     1\n",
              "1     subject stock trade gunsling fanni merril muzo...     1\n",
              "2     subject unbeliev new home made easi im want sh...     1\n",
              "3     subject 4 color print special request addit in...     1\n",
              "4     subject money get softwar cd softwar compat ai...     1\n",
              "...                                                 ...   ...\n",
              "5723  subject re research develop charg gpg forward ...     0\n",
              "5724  subject re receipt visit jim thank invit visit...     0\n",
              "5725  subject re enron case studi updat wow day s su...     0\n",
              "5726  subject re interest david pleas call shirley c...     0\n",
              "5727  subject news aurora 5 2 updat aurora version 5...     0\n",
              "\n",
              "[5728 rows x 2 columns]"
            ],
            "text/html": [
              "\n",
              "  <div id=\"df-f4c2c967-4aeb-40fc-8db4-5868549af8ec\">\n",
              "    <div class=\"colab-df-container\">\n",
              "      <div>\n",
              "<style scoped>\n",
              "    .dataframe tbody tr th:only-of-type {\n",
              "        vertical-align: middle;\n",
              "    }\n",
              "\n",
              "    .dataframe tbody tr th {\n",
              "        vertical-align: top;\n",
              "    }\n",
              "\n",
              "    .dataframe thead th {\n",
              "        text-align: right;\n",
              "    }\n",
              "</style>\n",
              "<table border=\"1\" class=\"dataframe\">\n",
              "  <thead>\n",
              "    <tr style=\"text-align: right;\">\n",
              "      <th></th>\n",
              "      <th>text</th>\n",
              "      <th>spam</th>\n",
              "    </tr>\n",
              "  </thead>\n",
              "  <tbody>\n",
              "    <tr>\n",
              "      <th>0</th>\n",
              "      <td>subject natur irresist corpor ident lt realli ...</td>\n",
              "      <td>1</td>\n",
              "    </tr>\n",
              "    <tr>\n",
              "      <th>1</th>\n",
              "      <td>subject stock trade gunsling fanni merril muzo...</td>\n",
              "      <td>1</td>\n",
              "    </tr>\n",
              "    <tr>\n",
              "      <th>2</th>\n",
              "      <td>subject unbeliev new home made easi im want sh...</td>\n",
              "      <td>1</td>\n",
              "    </tr>\n",
              "    <tr>\n",
              "      <th>3</th>\n",
              "      <td>subject 4 color print special request addit in...</td>\n",
              "      <td>1</td>\n",
              "    </tr>\n",
              "    <tr>\n",
              "      <th>4</th>\n",
              "      <td>subject money get softwar cd softwar compat ai...</td>\n",
              "      <td>1</td>\n",
              "    </tr>\n",
              "    <tr>\n",
              "      <th>...</th>\n",
              "      <td>...</td>\n",
              "      <td>...</td>\n",
              "    </tr>\n",
              "    <tr>\n",
              "      <th>5723</th>\n",
              "      <td>subject re research develop charg gpg forward ...</td>\n",
              "      <td>0</td>\n",
              "    </tr>\n",
              "    <tr>\n",
              "      <th>5724</th>\n",
              "      <td>subject re receipt visit jim thank invit visit...</td>\n",
              "      <td>0</td>\n",
              "    </tr>\n",
              "    <tr>\n",
              "      <th>5725</th>\n",
              "      <td>subject re enron case studi updat wow day s su...</td>\n",
              "      <td>0</td>\n",
              "    </tr>\n",
              "    <tr>\n",
              "      <th>5726</th>\n",
              "      <td>subject re interest david pleas call shirley c...</td>\n",
              "      <td>0</td>\n",
              "    </tr>\n",
              "    <tr>\n",
              "      <th>5727</th>\n",
              "      <td>subject news aurora 5 2 updat aurora version 5...</td>\n",
              "      <td>0</td>\n",
              "    </tr>\n",
              "  </tbody>\n",
              "</table>\n",
              "<p>5728 rows × 2 columns</p>\n",
              "</div>\n",
              "      <button class=\"colab-df-convert\" onclick=\"convertToInteractive('df-f4c2c967-4aeb-40fc-8db4-5868549af8ec')\"\n",
              "              title=\"Convert this dataframe to an interactive table.\"\n",
              "              style=\"display:none;\">\n",
              "        \n",
              "  <svg xmlns=\"http://www.w3.org/2000/svg\" height=\"24px\"viewBox=\"0 0 24 24\"\n",
              "       width=\"24px\">\n",
              "    <path d=\"M0 0h24v24H0V0z\" fill=\"none\"/>\n",
              "    <path d=\"M18.56 5.44l.94 2.06.94-2.06 2.06-.94-2.06-.94-.94-2.06-.94 2.06-2.06.94zm-11 1L8.5 8.5l.94-2.06 2.06-.94-2.06-.94L8.5 2.5l-.94 2.06-2.06.94zm10 10l.94 2.06.94-2.06 2.06-.94-2.06-.94-.94-2.06-.94 2.06-2.06.94z\"/><path d=\"M17.41 7.96l-1.37-1.37c-.4-.4-.92-.59-1.43-.59-.52 0-1.04.2-1.43.59L10.3 9.45l-7.72 7.72c-.78.78-.78 2.05 0 2.83L4 21.41c.39.39.9.59 1.41.59.51 0 1.02-.2 1.41-.59l7.78-7.78 2.81-2.81c.8-.78.8-2.07 0-2.86zM5.41 20L4 18.59l7.72-7.72 1.47 1.35L5.41 20z\"/>\n",
              "  </svg>\n",
              "      </button>\n",
              "      \n",
              "  <style>\n",
              "    .colab-df-container {\n",
              "      display:flex;\n",
              "      flex-wrap:wrap;\n",
              "      gap: 12px;\n",
              "    }\n",
              "\n",
              "    .colab-df-convert {\n",
              "      background-color: #E8F0FE;\n",
              "      border: none;\n",
              "      border-radius: 50%;\n",
              "      cursor: pointer;\n",
              "      display: none;\n",
              "      fill: #1967D2;\n",
              "      height: 32px;\n",
              "      padding: 0 0 0 0;\n",
              "      width: 32px;\n",
              "    }\n",
              "\n",
              "    .colab-df-convert:hover {\n",
              "      background-color: #E2EBFA;\n",
              "      box-shadow: 0px 1px 2px rgba(60, 64, 67, 0.3), 0px 1px 3px 1px rgba(60, 64, 67, 0.15);\n",
              "      fill: #174EA6;\n",
              "    }\n",
              "\n",
              "    [theme=dark] .colab-df-convert {\n",
              "      background-color: #3B4455;\n",
              "      fill: #D2E3FC;\n",
              "    }\n",
              "\n",
              "    [theme=dark] .colab-df-convert:hover {\n",
              "      background-color: #434B5C;\n",
              "      box-shadow: 0px 1px 3px 1px rgba(0, 0, 0, 0.15);\n",
              "      filter: drop-shadow(0px 1px 2px rgba(0, 0, 0, 0.3));\n",
              "      fill: #FFFFFF;\n",
              "    }\n",
              "  </style>\n",
              "\n",
              "      <script>\n",
              "        const buttonEl =\n",
              "          document.querySelector('#df-f4c2c967-4aeb-40fc-8db4-5868549af8ec button.colab-df-convert');\n",
              "        buttonEl.style.display =\n",
              "          google.colab.kernel.accessAllowed ? 'block' : 'none';\n",
              "\n",
              "        async function convertToInteractive(key) {\n",
              "          const element = document.querySelector('#df-f4c2c967-4aeb-40fc-8db4-5868549af8ec');\n",
              "          const dataTable =\n",
              "            await google.colab.kernel.invokeFunction('convertToInteractive',\n",
              "                                                     [key], {});\n",
              "          if (!dataTable) return;\n",
              "\n",
              "          const docLinkHtml = 'Like what you see? Visit the ' +\n",
              "            '<a target=\"_blank\" href=https://colab.research.google.com/notebooks/data_table.ipynb>data table notebook</a>'\n",
              "            + ' to learn more about interactive tables.';\n",
              "          element.innerHTML = '';\n",
              "          dataTable['output_type'] = 'display_data';\n",
              "          await google.colab.output.renderOutput(dataTable, element);\n",
              "          const docLink = document.createElement('div');\n",
              "          docLink.innerHTML = docLinkHtml;\n",
              "          element.appendChild(docLink);\n",
              "        }\n",
              "      </script>\n",
              "    </div>\n",
              "  </div>\n",
              "  "
            ]
          },
          "metadata": {},
          "execution_count": 28
        }
      ],
      "source": [
        "corpus"
      ]
    },
    {
      "cell_type": "code",
      "execution_count": null,
      "metadata": {
        "id": "BYnIReofceNT"
      },
      "outputs": [],
      "source": [
        "# Independent attributes\n",
        "X = corpus['text']\n",
        "\n",
        "# Dependent attributes\n",
        "Y = corpus['spam']"
      ]
    },
    {
      "cell_type": "code",
      "execution_count": null,
      "metadata": {
        "id": "cMnoRtIReHhh"
      },
      "outputs": [],
      "source": [
        "vectorizer = CountVectorizer()\n",
        "X_vec = vectorizer.fit_transform(X)"
      ]
    },
    {
      "cell_type": "markdown",
      "source": [
        "## How many terms are in dtm? "
      ],
      "metadata": {
        "id": "n52Cu0pN2MnC"
      }
    },
    {
      "cell_type": "code",
      "execution_count": null,
      "metadata": {
        "colab": {
          "base_uri": "https://localhost:8080/"
        },
        "id": "ObuFI0T4ec0b",
        "outputId": "c988edeb-1e77-4792-f07a-ab58862e99e9"
      },
      "outputs": [
        {
          "output_type": "execute_result",
          "data": {
            "text/plain": [
              "(5728, 29267)"
            ]
          },
          "metadata": {},
          "execution_count": 31
        }
      ],
      "source": [
        "X_vec.toarray().shape"
      ]
    },
    {
      "cell_type": "markdown",
      "source": [
        "**Ans: 29267**\n",
        "\n",
        "There are 29267 terms in dtm"
      ],
      "metadata": {
        "id": "dIHuqbGd2TrO"
      }
    },
    {
      "cell_type": "code",
      "execution_count": null,
      "metadata": {
        "colab": {
          "base_uri": "https://localhost:8080/"
        },
        "id": "1PCCZeCMi5fe",
        "outputId": "3b05380e-8323-49a0-c8d1-cef3d2cf6b59"
      },
      "outputs": [
        {
          "output_type": "execute_result",
          "data": {
            "text/plain": [
              "array([[0, 0, 0, ..., 0, 0, 0],\n",
              "       [0, 0, 0, ..., 0, 0, 0],\n",
              "       [0, 0, 0, ..., 0, 0, 0],\n",
              "       ...,\n",
              "       [4, 0, 0, ..., 0, 0, 0],\n",
              "       [0, 0, 0, ..., 0, 0, 0],\n",
              "       [0, 0, 0, ..., 0, 0, 0]])"
            ]
          },
          "metadata": {},
          "execution_count": 32
        }
      ],
      "source": [
        "X_vec.toarray()"
      ]
    },
    {
      "cell_type": "markdown",
      "metadata": {
        "id": "0Ib4ApmDiM_M"
      },
      "source": [
        "## Problem 3.1 – Building machine learning models"
      ]
    },
    {
      "cell_type": "code",
      "execution_count": null,
      "metadata": {
        "id": "zaY1wDBqenuk"
      },
      "outputs": [],
      "source": [
        "# Splitting dataset into training and testing set\n",
        "X_train, X_test, y_train, y_test = train_test_split(X_vec.toarray(), Y, test_size=0.30, random_state=42)"
      ]
    },
    {
      "cell_type": "markdown",
      "metadata": {
        "id": "DqYpreb3pSMe"
      },
      "source": [
        "## Random Forest"
      ]
    },
    {
      "cell_type": "code",
      "execution_count": null,
      "metadata": {
        "colab": {
          "base_uri": "https://localhost:8080/"
        },
        "id": "c-wj0odOiwcP",
        "outputId": "421186c5-ddc6-40ca-fe74-b82a24872277"
      },
      "outputs": [
        {
          "output_type": "execute_result",
          "data": {
            "text/plain": [
              "RandomForestClassifier()"
            ]
          },
          "metadata": {},
          "execution_count": 34
        }
      ],
      "source": [
        "from sklearn.ensemble import RandomForestClassifier\n",
        "\n",
        "spamRF = RandomForestClassifier()\n",
        "spamRF.fit(X_train, y_train)"
      ]
    },
    {
      "cell_type": "markdown",
      "metadata": {
        "id": "ifgPQ4fKpZEI"
      },
      "source": [
        "### Train Prediction"
      ]
    },
    {
      "cell_type": "code",
      "execution_count": null,
      "metadata": {
        "id": "gwedCnr2pZEJ"
      },
      "outputs": [],
      "source": [
        "train_rf_pred_labels = spamRF.predict(X_train)"
      ]
    },
    {
      "cell_type": "markdown",
      "metadata": {
        "id": "X_ishGsXpZEJ"
      },
      "source": [
        "### Training Set Accuracy"
      ]
    },
    {
      "cell_type": "code",
      "execution_count": null,
      "metadata": {
        "colab": {
          "base_uri": "https://localhost:8080/"
        },
        "id": "mLAaTL_OpZEJ",
        "outputId": "f87f2cc7-828b-4147-8464-53f219142e3b"
      },
      "outputs": [
        {
          "output_type": "stream",
          "name": "stdout",
          "text": [
            "Training Accuracy (Random Forest):  100.0 %\n"
          ]
        }
      ],
      "source": [
        "train_accuracy_rf = accuracy_score(y_train, train_rf_pred_labels) * 100\n",
        "print('Training Accuracy (Random Forest): ', round(train_accuracy_rf, 4), \"%\")"
      ]
    },
    {
      "cell_type": "markdown",
      "source": [
        "What is the training set accuracy of spamRF, using a threshold of 0.5 for predictions?\n",
        "\n",
        "Ans: 100%"
      ],
      "metadata": {
        "id": "17n-4z61PKPX"
      }
    },
    {
      "cell_type": "markdown",
      "metadata": {
        "id": "VJtLbMS5pZEO"
      },
      "source": [
        "### Training Set ROC Curve and AUC"
      ]
    },
    {
      "cell_type": "code",
      "execution_count": null,
      "metadata": {
        "id": "sT1p-VPapZEO"
      },
      "outputs": [],
      "source": [
        "y_prob = spamRF.predict_proba(X_train)\n",
        "\n",
        "y_prob = y_prob[:, 1]\n",
        "\n",
        "n_classes = len(spamRF.classes_)\n",
        "\n",
        "fpr, tpr,_ = roc_curve(y_train, y_prob)\n",
        "train_roc_auc_rf = auc(fpr, tpr)"
      ]
    },
    {
      "cell_type": "code",
      "execution_count": null,
      "metadata": {
        "colab": {
          "base_uri": "https://localhost:8080/",
          "height": 295
        },
        "id": "muu7bGb8pZEO",
        "outputId": "8bd4e8b6-e87e-4228-f1ac-1f31bc8a7fc5"
      },
      "outputs": [
        {
          "output_type": "display_data",
          "data": {
            "text/plain": [
              "<Figure size 432x288 with 1 Axes>"
            ],
            "image/png": "[encoded data removed]"
          },
          "metadata": {
            "needs_background": "light"
          }
        }
      ],
      "source": [
        "lw = 2\n",
        "plt.plot(\n",
        "    fpr,\n",
        "    tpr,\n",
        "    color=\"darkorange\",\n",
        "    lw=lw,\n",
        "    label=\"ROC curve (area = %0.2f)\" % train_roc_auc_rf,\n",
        ")\n",
        "plt.plot([0, 1], [0, 1], color=\"navy\", lw=lw, linestyle=\"--\")\n",
        "plt.xlim([0.0, 1.0])\n",
        "plt.ylim([0.0, 1.05])\n",
        "plt.xlabel(\"False Positive Rate\")\n",
        "plt.ylabel(\"True Positive Rate\")\n",
        "plt.title(\"Receiver Operating Characteristic Curve\")\n",
        "plt.legend(loc=\"lower right\")\n",
        "plt.show()"
      ]
    },
    {
      "cell_type": "markdown",
      "source": [
        "What is the training set AUC of spamRF?\n",
        "\n",
        "Ans: 1.00"
      ],
      "metadata": {
        "id": "Oo7jmsyuPl9L"
      }
    },
    {
      "cell_type": "markdown",
      "metadata": {
        "id": "Zo0T8duwj_lI"
      },
      "source": [
        "## Naive Bayes"
      ]
    },
    {
      "cell_type": "code",
      "execution_count": null,
      "metadata": {
        "colab": {
          "base_uri": "https://localhost:8080/"
        },
        "id": "gdPGCyyApmO-",
        "outputId": "bd289836-3e75-4a60-8fd2-a351a410f629"
      },
      "outputs": [
        {
          "output_type": "execute_result",
          "data": {
            "text/plain": [
              "MultinomialNB()"
            ]
          },
          "metadata": {},
          "execution_count": 39
        }
      ],
      "source": [
        "nb_model = MultinomialNB()\n",
        "nb_model.fit(X_train, y_train)"
      ]
    },
    {
      "cell_type": "markdown",
      "metadata": {
        "id": "Q4zqXCt5xr1x"
      },
      "source": [
        "### Train Prediction"
      ]
    },
    {
      "cell_type": "code",
      "execution_count": null,
      "metadata": {
        "id": "WulJxAgMpzAd"
      },
      "outputs": [],
      "source": [
        "train_pred_labels = nb_model.predict(X_train)"
      ]
    },
    {
      "cell_type": "markdown",
      "metadata": {
        "id": "Eauhhm4ZxyAU"
      },
      "source": [
        "### Training Set Accuracy"
      ]
    },
    {
      "cell_type": "code",
      "execution_count": null,
      "metadata": {
        "colab": {
          "base_uri": "https://localhost:8080/"
        },
        "id": "RPtpW_WWxw-8",
        "outputId": "4f7446ba-81c7-4f02-aae6-4a6fcd2d8db0"
      },
      "outputs": [
        {
          "output_type": "stream",
          "name": "stdout",
          "text": [
            "Training Accuracy (Naive Bayes):  99.6009 %\n"
          ]
        }
      ],
      "source": [
        "train_accuracy_naive_bayes = accuracy_score(y_train, train_pred_labels) * 100\n",
        "print('Training Accuracy (Naive Bayes): ', round(train_accuracy_naive_bayes, 4), \"%\")"
      ]
    },
    {
      "cell_type": "markdown",
      "metadata": {
        "id": "uiY8eU_RPrsh"
      },
      "source": [
        "### Training Set ROC Curve and AUC"
      ]
    },
    {
      "cell_type": "code",
      "execution_count": null,
      "metadata": {
        "id": "Yf0_nNPMYFTZ"
      },
      "outputs": [],
      "source": [
        "y_prob = nb_model.predict_proba(X_test)\n",
        "\n",
        "y_prob = y_prob[:, 1]\n",
        "\n",
        "n_classes = len(nb_model.classes_)\n",
        "\n",
        "fpr, tpr,_ = roc_curve(y_test, y_prob)\n",
        "train_roc_auc_nb = auc(fpr, tpr)"
      ]
    },
    {
      "cell_type": "code",
      "execution_count": null,
      "metadata": {
        "colab": {
          "base_uri": "https://localhost:8080/",
          "height": 295
        },
        "id": "jSu5XK9zYFTa",
        "outputId": "72f346c4-cbe1-4e50-b91c-006ed18e86e2"
      },
      "outputs": [
        {
          "output_type": "display_data",
          "data": {
            "text/plain": [
              "<Figure size 432x288 with 1 Axes>"
            ],
            "image/png": "[encoded data removed]"
          },
          "metadata": {
            "needs_background": "light"
          }
        }
      ],
      "source": [
        "lw = 2\n",
        "plt.plot(\n",
        "    fpr,\n",
        "    tpr,\n",
        "    color=\"darkorange\",\n",
        "    lw=lw,\n",
        "    label=\"ROC curve (area = %0.2f)\" % train_roc_auc_nb,\n",
        ")\n",
        "plt.plot([0, 1], [0, 1], color=\"navy\", lw=lw, linestyle=\"--\")\n",
        "plt.xlim([0.0, 1.0])\n",
        "plt.ylim([0.0, 1.05])\n",
        "plt.xlabel(\"False Positive Rate\")\n",
        "plt.ylabel(\"True Positive Rate\")\n",
        "plt.title(\"Receiver Operating Characteristic Curve\")\n",
        "plt.legend(loc=\"lower right\")\n",
        "plt.show()"
      ]
    },
    {
      "cell_type": "markdown",
      "metadata": {
        "id": "ECGTTHrwoLXn"
      },
      "source": [
        "## CART"
      ]
    },
    {
      "cell_type": "code",
      "execution_count": null,
      "metadata": {
        "colab": {
          "base_uri": "https://localhost:8080/"
        },
        "id": "2aqFtaDUoObz",
        "outputId": "f64cd9d6-09bf-49a6-f192-23f684f12786"
      },
      "outputs": [
        {
          "output_type": "execute_result",
          "data": {
            "text/plain": [
              "DecisionTreeClassifier()"
            ]
          },
          "metadata": {},
          "execution_count": 44
        }
      ],
      "source": [
        "spamCART = DecisionTreeClassifier(criterion='gini')\n",
        "spamCART.fit(X_train, y_train)"
      ]
    },
    {
      "cell_type": "markdown",
      "metadata": {
        "id": "pelAdG8Jofmy"
      },
      "source": [
        "### Train Prediction"
      ]
    },
    {
      "cell_type": "code",
      "execution_count": null,
      "metadata": {
        "id": "w8gR4uk1ofmz"
      },
      "outputs": [],
      "source": [
        "train_cart_pred_labels = spamCART.predict(X_train)"
      ]
    },
    {
      "cell_type": "markdown",
      "metadata": {
        "id": "Kzpr0754ofm0"
      },
      "source": [
        "### Training Set Accuracy"
      ]
    },
    {
      "cell_type": "code",
      "execution_count": null,
      "metadata": {
        "colab": {
          "base_uri": "https://localhost:8080/"
        },
        "id": "SaiT3N4Rofm1",
        "outputId": "60e42ec3-48a7-46fc-cc1d-7b4cb68f832f"
      },
      "outputs": [
        {
          "output_type": "stream",
          "name": "stdout",
          "text": [
            "Training Accuracy (CART):  100.0 %\n"
          ]
        }
      ],
      "source": [
        "train_accuracy_cart = accuracy_score(y_train, train_cart_pred_labels) * 100\n",
        "print('Training Accuracy (CART): ', round(train_accuracy_cart, 4), \"%\")"
      ]
    },
    {
      "cell_type": "markdown",
      "source": [
        "What is the training set accuracy of spamCART, using a threshold of 0.5 for predictions?\n",
        "\n",
        "Ans: 100%"
      ],
      "metadata": {
        "id": "RxY7RBuNPBb9"
      }
    },
    {
      "cell_type": "markdown",
      "metadata": {
        "id": "xyLhVTu_ofm_"
      },
      "source": [
        "### Training Set ROC Curve and AUC"
      ]
    },
    {
      "cell_type": "code",
      "execution_count": null,
      "metadata": {
        "id": "KGgIRUzHofnB"
      },
      "outputs": [],
      "source": [
        "y_prob = spamCART.predict_proba(X_test)\n",
        "\n",
        "y_prob = y_prob[:, 1]\n",
        "\n",
        "n_classes = len(spamCART.classes_)\n",
        "\n",
        "fpr, tpr,_ = roc_curve(y_test, y_prob)\n",
        "train_roc_auc_cart = auc(fpr, tpr)"
      ]
    },
    {
      "cell_type": "code",
      "execution_count": null,
      "metadata": {
        "colab": {
          "base_uri": "https://localhost:8080/",
          "height": 295
        },
        "id": "Bj70W0KOofnB",
        "outputId": "e3ba8eca-0ecc-40ab-e549-c3e652403295"
      },
      "outputs": [
        {
          "output_type": "display_data",
          "data": {
            "text/plain": [
              "<Figure size 432x288 with 1 Axes>"
            ],
            "image/png": "[encoded data removed]"
          },
          "metadata": {
            "needs_background": "light"
          }
        }
      ],
      "source": [
        "lw = 2\n",
        "plt.plot(\n",
        "    fpr,\n",
        "    tpr,\n",
        "    color=\"darkorange\",\n",
        "    lw=lw,\n",
        "    label=\"ROC curve (area = %0.2f)\" % train_roc_auc_cart,\n",
        ")\n",
        "plt.plot([0, 1], [0, 1], color=\"navy\", lw=lw, linestyle=\"--\")\n",
        "plt.xlim([0.0, 1.0])\n",
        "plt.ylim([0.0, 1.05])\n",
        "plt.xlabel(\"False Positive Rate\")\n",
        "plt.ylabel(\"True Positive Rate\")\n",
        "plt.title(\"Receiver Operating Characteristic Curve\")\n",
        "plt.legend(loc=\"lower right\")\n",
        "plt.show()"
      ]
    },
    {
      "cell_type": "markdown",
      "source": [
        "What is the training set AUC of spamCART?\n",
        "\n",
        "Ans: 0.94"
      ],
      "metadata": {
        "id": "dRXfJjKePhsw"
      }
    },
    {
      "cell_type": "markdown",
      "source": [
        "## Comparison of Result"
      ],
      "metadata": {
        "id": "zRp0EIBUMZna"
      }
    },
    {
      "cell_type": "code",
      "source": [
        "training_results_table = PrettyTable(['Model','Accuracy (%)', \"Area Under Curve(AUC)\"])\n",
        "training_results_table.add_row(['Random Forest', round(train_accuracy_rf, 4), round(train_roc_auc_rf,4) ])\n",
        "training_results_table.add_row(['Naive Bayes', round(train_accuracy_naive_bayes, 4), round(train_roc_auc_nb,4)  ])\n",
        "training_results_table.add_row(['CART', round(train_accuracy_cart, 4), round(train_roc_auc_cart,4) ])\n",
        "print(training_results_table)"
      ],
      "metadata": {
        "colab": {
          "base_uri": "https://localhost:8080/"
        },
        "id": "LRbej6jcMcTM",
        "outputId": "8802a205-38f2-41a8-9526-ca05c363266c"
      },
      "execution_count": null,
      "outputs": [
        {
          "output_type": "stream",
          "name": "stdout",
          "text": [
            "+---------------+--------------+-----------------------+\n",
            "|     Model     | Accuracy (%) | Area Under Curve(AUC) |\n",
            "+---------------+--------------+-----------------------+\n",
            "| Random Forest |    100.0     |          1.0          |\n",
            "|  Naive Bayes  |   99.6009    |         0.996         |\n",
            "|      CART     |    100.0     |         0.9398        |\n",
            "+---------------+--------------+-----------------------+\n"
          ]
        }
      ]
    },
    {
      "cell_type": "markdown",
      "source": [
        "From the above table, we can see that the traing accuracy of Random Forest and CART model is 100%. The training set AUC of Random Forest (1.0) is more than CART (0.9398) model."
      ],
      "metadata": {
        "id": "r2g7g2awVmCg"
      }
    },
    {
      "cell_type": "markdown",
      "source": [
        "## Problem 4.1 – Evaluating on the Test Set"
      ],
      "metadata": {
        "id": "YeqyB_7BYqju"
      }
    },
    {
      "cell_type": "markdown",
      "source": [
        "## Random Forest"
      ],
      "metadata": {
        "id": "LAY0w0mCYx29"
      }
    },
    {
      "cell_type": "markdown",
      "metadata": {
        "id": "TyNzUs1zZJSD"
      },
      "source": [
        "### Prediction"
      ]
    },
    {
      "cell_type": "code",
      "execution_count": null,
      "metadata": {
        "id": "8JqYR0cIZJSD"
      },
      "outputs": [],
      "source": [
        "rf_pred_labels = spamRF.predict(X_test)"
      ]
    },
    {
      "cell_type": "markdown",
      "metadata": {
        "id": "-hO7f5oXZJSE"
      },
      "source": [
        "### Accuracy"
      ]
    },
    {
      "cell_type": "code",
      "execution_count": null,
      "metadata": {
        "colab": {
          "base_uri": "https://localhost:8080/"
        },
        "outputId": "044b01dc-0a17-4239-f07a-1c9888926df6",
        "id": "0qisM9ebZJSE"
      },
      "outputs": [
        {
          "output_type": "stream",
          "name": "stdout",
          "text": [
            "Accuracy (Random Forest):  97.2077 %\n"
          ]
        }
      ],
      "source": [
        "accuracy_rf = accuracy_score(y_test, rf_pred_labels) * 100\n",
        "print('Accuracy (Random Forest): ', round(accuracy_rf, 4), \"%\")"
      ]
    },
    {
      "cell_type": "markdown",
      "source": [
        "What is the testing set accuracy of spamRF, using a threshold of 0.5 for predictions?\n",
        "\n",
        "Ans: 97.2077 %"
      ],
      "metadata": {
        "id": "M7Q-yw-BP_JQ"
      }
    },
    {
      "cell_type": "markdown",
      "metadata": {
        "id": "hVyYfChyZJSE"
      },
      "source": [
        "### Confusion Matrix"
      ]
    },
    {
      "cell_type": "code",
      "execution_count": null,
      "metadata": {
        "colab": {
          "base_uri": "https://localhost:8080/",
          "height": 337
        },
        "outputId": "2761aa0a-8a87-4e0d-f21b-54362a9b294d",
        "id": "-lbedz-PZJSE"
      },
      "outputs": [
        {
          "output_type": "display_data",
          "data": {
            "text/plain": [
              "<Figure size 360x360 with 1 Axes>"
            ],
            "image/png": "[encoded data removed]"
          },
          "metadata": {
            "needs_background": "light"
          }
        }
      ],
      "source": [
        "cm = confusion_matrix(y_test, rf_pred_labels)\n",
        "\n",
        "fig, ax = plt.subplots(figsize=(5, 5))\n",
        "ax.imshow(cm)\n",
        "ax.grid(False)\n",
        "ax.set_xlabel('Predicted outputs', fontsize=12, color='black')\n",
        "ax.set_ylabel('Actual outputs', fontsize=12, color='black')\n",
        "ax.xaxis.set(ticks=range(2))\n",
        "ax.yaxis.set(ticks=range(2))\n",
        "for i in range(2):\n",
        "    for j in range(2):\n",
        "        ax.text(j, i, cm[i, j], ha='center', va='center', color='white')\n",
        "plt.show()"
      ]
    },
    {
      "cell_type": "markdown",
      "metadata": {
        "id": "d17pc0YLZJSF"
      },
      "source": [
        "### Specificity"
      ]
    },
    {
      "cell_type": "markdown",
      "metadata": {
        "id": "qd-NlzSWZJSF"
      },
      "source": [
        "![image.png](data:image/png;base64,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)"
      ]
    },
    {
      "cell_type": "code",
      "execution_count": null,
      "metadata": {
        "colab": {
          "base_uri": "https://localhost:8080/"
        },
        "outputId": "6da83234-8cfb-41e2-9fea-581b4f760575",
        "id": "YdAZTJu_ZJSL"
      },
      "outputs": [
        {
          "output_type": "stream",
          "name": "stdout",
          "text": [
            "Specificity (Random Forest):  100.0 %\n"
          ]
        }
      ],
      "source": [
        "specificity_rf = cm[0,0]/(cm[0,0]+cm[0,1]) * 100\n",
        "print('Specificity (Random Forest): ', round(specificity_rf, 4), \"%\")"
      ]
    },
    {
      "cell_type": "markdown",
      "metadata": {
        "id": "XQwGT1dRZJSM"
      },
      "source": [
        "### Sensitivity"
      ]
    },
    {
      "cell_type": "markdown",
      "metadata": {
        "id": "qSuN009UZJSM"
      },
      "source": [
        "![image.png](data:image/png;base64,iVBORw0KGgoAAAANSUhEUgAAATsAAABaCAYAAADHA/GMAAAAAXNSR0IArs4c6QAAAARnQU1BAACxjwv8YQUAAAAJcEhZcwAAEnQAABJ0Ad5mH3gAAC1NSURBVHhe7d0JuHbV/D7wLWMIicxknkKSqaJXEY0qZU6lK5KZjEn/KEPGJGPGTCVllowhMs9kKvM8hczs//6s3KfV/p3zvs9z6pxO56z7uta11/hd872/a9jPc5F+QNfQ0NCwzLHW/54NDQ0NyxqN7BoaGlYEGtk1NDSsCDSya2hoWBFoZNfQ0LAi0MiuoaFhRaCRXUNDw4pAI7uGhoYVgUZ2DQ0XEP773/92udPvyR17DPznP/+ZsQP7v//97/KUJukgMmNqP3L++c9/Fj9I2oQl/nJF+4KioWGREZK56EUv2l3kIheZIZy11lqruOspyc4v9totfuJGjmdkMEhMPomb+NwpB6QsyxmN7BoaFhmmXIjmYhe72IxfTVI18YyJKmGJFzd5s/nFDuyRU0MeiFE4+3JEW8Y2NCwyQihzEVj95B/tS5oxEUUGExk1aGyQOFDLZB/nvVzRNLuGhkVGiGcuwqvJh7E/d/GLX7z4x49J+mhvITbgx4yXp+Jzk1nnEw1zOaORXUPDIsJ0i0FWCKfWsv7xj390l7jEJUo4ICv2Oh5I+69//as8EydGXP5jWKYiOcQmnBukJzvlWa5oZNfQsMgw5X7/+993Rx55ZPfVr361+9Of/lRIJkQznpLIKcR005vetNt55527zTffvJCTuN/+9re7E044ofvkJz9ZZPBj2BGZtNe85jW7293udt2d73zn7iY3ucmMZhdSTDpPZjmi7dk1NFwAQHDHH3989/nPf75be+21uzvc4Q6FwK5ylat0X/va17of/vCHxb7VVlt1W2yxRSGir3zlK93Xv/71ooWF/BDT5S53ue6qV71q96Mf/agQ3m9+85vuete7XrflllsWcrv5zW/e/eIXv+iOOeaY7qijjirxohWG2Gqtcbniov9vwP/sDQ0NCwyk5a7bj3/84+4lL3lJd5vb3Kbbc889uwc+8IHdbW972+6Pf/xj9+Uvf7m72c1u1u21117dHnvsUYjwzDPP7E4//fRu/fXX7+53v/t166yzzgxZXfayl+0uf/nLd5/97Ge7n//8591d73rX7qEPfWi36667lrQbbrhhSY9YaZI3utGNuutc5zrdpS996VImMpRruS9jm2bX0LCIQCp/+ctfiqZFo7vnPe/ZbbrppkU7Q4K0urPOOqtodVe/+tUL+VjG3vjGNy5L0Ste8Yrdta51rbKvJywamTghrKtd7WrFJO21r33tbtWqVd3GG2/c/fnPf+4+9rGPlTKIL73n+CBjOaKRXUPDIgIZIbOf/vSn3SabbFK0OcQGyO673/1uIaJ11123aHGAjK5xjWt0t7jFLbrrX//6hZjAUhZBcUtreYrckKFlrXT8ERpNMIQqnoMQZWEC8ZczGtk1NCwykNj222/fHXrooWVJiXDsoTm0OO2007rLXOYyRRujxYXQuPfee+9u9913LzJqbQxxSUtbRIZXvvKVS7gwV1bYkatwy10aHq2SP1Pv/y1nNLJraFhE0LIQkCWqvTTEFsL69a9/XZaZDhcsQ3O3Thrxrnvd6xatDTkhKfCkCdqr++tf/1qWuzRF/rQ4QKSWx4x9urvc5S5FyyOXQbaeyx2N7BoaLiCEtBCNgwkHENzI7kpXulKJk2Wmp7BoYTX+8Ic/dN/73veKHJoizVHcv/3tb93Pfvaz7kMf+lB38sknF7cDi1vf+tYzhxOB+MxyRiO7hoZFBNLKnhvNKwRGq3O1BOzPWcKG4DxpeOIhtPowQdjvfve7csoqjL/l6re+9a3i9/73v7874ogjujPOOKNcYdlnn3269dZbr8iQFty5S5mWM+G1S8UNDYsIhGTKjcnF/bgDDzyw+/SnP9296lWv6nbYYYdCeIjIyWuIDKSxNLXMRVjvfe97uyc96UnlcrG9OECMwix/kZxT3zvd6U6FSKW95CUvWcLJZcha7mhk19CwyKgJL18ynHjiid2+++5b9t6QlwvBTlZDcHlCpmw0sze/+c3dox/96O6GN7xh95jHPKYcZogjXB4OJZzu2qfLp2i1vCAEGbnLDW0Z29CwiBgTFdKxX/eTn/ykfFXhgIFGl3t0gByBW/oQGXLytYRlKz8HHq6z3P72ty97cz4Pc7XFPp49wBAdI61n8uBmj3s5opFdQ8MFgBAX0nLAgLAAWdHEIMSTZ4iqhgMIX2NYltLsLnWpS/2f+EztF7CHSCFxlivmTXZ1owWz+TWcg4VoHzKnlZv4rb8WHwiFyVIWaHY0NIR1y1vesuyzpV+zrEwasDQV5mnZ65Iwrc0prj07cZOuJrNAOktkIEf8fIHBLFdMTXYag8qbRkzjcNd+40YTVvuNw5cilDHljn2+qNNH3ursk4LM9MdcaWt/8VKO2t6weNDmDglCfDQzV0cQ1gYbbFCuhdQE5wkhMEifSuukNWRHswPp7AdGDngiuoB97I785YipamZSQd3omWgaMn7sjA4R7oi99hN/rom5lJA6peyM+qTsqcskiKw6LVmRmzZhnxTSkJlBmrTk1GYsk5t/0rA3LB60O03q73//eyE9S1G/csLPxWEaXsaV/jF/MvcgfcfP8pdBdvmUjH/ySP+2Pp6HZhekATVq7R4TmcbWAfHLk/9Sx2xEptzMfMgJxvX39o2caWTVcsbpanfs9eSp04z7q2HxgIx8xvWd73yn++Uvf1n86n7Ks36Zxd+48UVEvqUly9cX6cuMqbG8lYypyC4NriHHk22uxuSvs6CeVHPFX2oYk4E2qN3zQdJHVtzTtEnd5pEROVCHwzgcavc4rGFhYVz5nvWd73xnd+qppxbCYo499thyIZg9/ZdxkrGI6OzVHXfcceUiMjdZr3nNa4p/CC5pGs7GVGSn8TWgpw6Aelk3nmCxa/DEvzBBmTPAUsfYU7d6eTEJ6oHLeBHMd0DWbV2XEeKOqeNC/JVnHNaw8DBu8tWEMeCayA1ucIPuE5/4RNm/88sokH4SP2MRuUn7gx/8oJzcOsH1Le1JJ51U/OvxlPHGrHRMfalYo5scaUTf2+U2djqkVrv55ca2+PwubJNLuTPQLBeC1HeS2+eRES3Xh9/S198oisNou0mQ+OM2TV4Bd13uhDPZ12lYPOh3hGWfLW2fvkzfp/+Es4/HRPylYa/D07f8jTfzT3jG3krF1GSXTgENmEZNw6dBuUFYUNth7F5qUJ/UDdgZ/gYsqO+k9Ug67VbLJWOcx6SQrk4jj5R7jOTNiAPi1faGxcFs/V33Xd0X6eMa+rIee9KJV48txsus9e/ZmIrs0hGeSRbCA340lu9///vlOz0bqE6a0sh+jcGJkV9dYGptYykig0e92D0zeFLnDK5JETmzpeE3jSwgL+nIrSdBCFkZ2et48Q/4Nyw80vZB+iVKAnfGlL5lZutPcvJkSv+R/b9+rPOp+3klY2qyG0+u+vnb3/62+8xnPlN+UoZb3HSeX2bww4S+0dtpp526RzziETMdvFSRpvGMUad3vetdZUPY5zl+UltdJ8FYnuWF2/Pve9/7yneLt7rVrcrnQtNgPDm4LavZ7fs4rfvc5z5XftLbJ0R+8SLlkKYu+6T1aJg/6rYHy1n2zAX9FnJiF19Y7DAmL/7jvktcaGR3Nqb6wx0NqnPSAdxpaP7+KMTPyfgFB9/n3fe+9y1/JLLNNtuUfzjykzO+AfTDhXe7293+J/UczNZpY4zjpFPrsgD72A3jeKtD4ia+J3J6+MMfXgjKL8L696YxfONo45mWa6/S3oy0GcjJW7wvfelL3WMf+9hyOdSFUn+VB5OUsS5bHVceSO9Xv/pVIeaDDjqo9Bcy9Y1kysAoo0upTvFcSFXeWtbqyiEsEGdNcecKmw+S9zQytf/5WYb5QP51GeKO3zgsRJWyj+ddbfjV42vsvjDh/B4vMDXlZ5ABu04AmtsXv/jF8iOBW2+9dXf/+9+//HOSz1doGv6r8u53v3v55yPf8EWOZ23GqP3ydmOSb9zx8wSTPb/UCglnhCUe1PbECQyWDBjEYFnuUMbH1W6sJ25kcCMwP9Fz+OGHz/wgI9SdR6Zflv3mN79ZSAbJ0b4CcqRj6vKMQU7ikR8NwZOm7cKpE7uNNtqoPMUHMsVXn2c961ndox71qLLtkLap844d4geedfzEhTpeHV4j/pOilkEr9oINIidxUpbYGfE9lxL0QT0u5oL+TN9BxmSNOjxjYRLZSwHpo/RjbQ/G7mkx7wOKDBoNym6p9LrXva7cGzJ5tttuu5mfh04n+P7PgHMCeYUrXKH4QV0EdhNImkzcOny2zktDpXPTUBkQSZ+0cecpHnvixpCT00r2TBZakHBLcoYfI3+XQ/1h8ZOf/OTyG2P+9g4pip92ICcyaXfaBRFpk/weWfJnxFUO6SJn3DYpu/iewpEzTVQelq/yyBKXIdPPA73yla8sf8iCnN3gl1Z44KZ/TtyTf8Adw98LRvrsbSpX4gXxmwbJQ9rUtZYfv9quvep2SvkhchqWHtJHeEAf6bf06Xnps3NG7QTIBEgBars3rUmhgJZP7JB4Bp4J51+P7E/VGgEZtTFAPVPpgDuTmTx5pkHGaZKvcsSvliduQGbcnoz0ZKac/ExgWhjyQgrIQ1jiusFuz9ISl79lKRKJ3OQvPoN4tAl5XgxkK0vaOXI9+Y3d6g9kcyurMIbd8tn9K1pofp02dRHunpbfUbOEtrwVV9rEiSGHPwjT9kHixK6N5BOIKy9IPDJS3tR1TUhadZYm+aass0E5Eq+OK/2k+TYsDvRHxoUxw56xDNwx88VUml0GSAaXpLFbAr3hDW8oWoLf0LIssp9lkklnYJsICs8dWRmQwpGF2+O+E7QspiXQdPyFnP0mvwaRv6H7whe+UJZp9s38UoQ9QY1kX9BJsF+S8LtgltJIJ78GkcGuHLQwJ8cmPe2Kn3AE5QcQ/VExEnCbXf0sTwP7kNlfU3aXQe3T2a/0a7PqYimPFJEYkveDjOT5lQr/7K6e8hOWX5HVpspHI3O4oHxk2ee8xz3uUWSpp8ujymQPlAanfdRVG/v8yB8ik6HN/CGy7QPkKj8y3/3udxeSe8973lNeTtLf6173mukffaddydDWyqxstiAcdHhhZejosw9+8IPFLb1w8mjwysqPAbKVATJ+ErY6iMto61pe8uRfy0p8hj8TN0yab8PiIHygX9LHdd9lzrLPF1MfUGSwjDNmRzD27Qx+4SamycaE6BIXyOKH1Ew8hEErsiS2l2XCfvSjHy2T0Smlfz43ue0LimOiIiCyaS/SIBxy/Pb+xz/+8VIGYQisLq/TVH8W/IEPfKD8kzryQS40Mwah5p+aLAOdML/61a/ujjnmmFIuBzAIlkzaBg0JySFbxGlJqn7Ki1zszyEAJOGGvIMDy36/SmsP0FUce3bIAcHIQ92Q0jve8Y5CyP4VSlsiafXUBkhGOCIj33JTmBfP2972thJHG0srDPTP61//+vJSsGenjYSxO6zQDrRNLypto17qx+gLL4FsUYCDKf9u/6Y3vam0OYIP2WmfaHrip889kbR+V175rsl4OYjvGaOtvCzGpAryyCRKGcak2LA0oE8yP9NXNQHqyzrOvDAImQpDAWZMMEz2fiCsfpg8/YEHHtivv/76/TD5+kEj6w855JB+mCD9MBhL3GGwzdiB+/TTT+8PPfTQkm7TTTfth0nTDxOvP+WUU/odd9yxH8isf9nLXtYPk6o/9thj+yc+8Yn9QCj9c57znH7QPkqcgRT6nXbaqR8IrKR98Ytf3A/Lr34gyH4g4JKXMsvPcyCZfosttuhXrVrVn3DCCf2w3O0Hsu7f8pa39FtvvXW/4YYb9sNE7wetrqQdNJv+hS98YT90RL/VVlv1AwmXepAXnHnmmf3BBx/cD9pbv8suu/QDYRb/5BtwS3+f+9ynHwihf8ITntCfdtppJWzQaPuBwPp99tmnHwixP/zww/tNNtmkH8il1HEg6VLegw46qLTPQOolnCxusvXFa1/72n6zzTbrN9poo34g1X4g1FKG1F+9tMFAsqX95CWdMPAcXir9fvvt1w8vglKmHXbYoR80u9LHA3nPxB207VIfbT1op/0b3/jG4l8jeQfSDKTaP/3pT++HF8NUZtDm+0Fr79ddd91+u+22K+VmavljKGvCx/3WsDSgT2puAP2WcSYs9vlgqtfbkFF5hl25BxkzrEsb8Dv6Nrqd/nnz+jh5IKdyKkgDyttXGun5+4ORYYIUjeFFL3pRt+2225blKU3OclJ8b3CagqXc4x//+HIw4A1Ao/HWp43502HfCbq8bElo+UajGiZCySvl5vepT32qaDIuObsGY1+KfHlb8tF2aFr8A+WQX346O/WgoXjSOhxe0CJpfrQl/pC8tcHQaUV+Dgws+9Vn6Oyi+bm797jHPa4sbXMAIr32Eb755pt3D37wg4tmKS8yBhIoZRKXpqvtlF24pae2Ij99pU2+8Y1vdANBl706fSddHUe5BjIqmpr66AtLev2q7mfX6eylJXnawR+7KCcZqTuID5Gv/uQ98pGPLKuBSY0ltQ/naZy0X2NHuZnkoQ3SJ5BnwtMXKWMzF7wB/ZK+gdqf/ZwxNz9Mfam4hkGlAPwT5omY7F1ZXiEVE80e3q677lpICFIBv9xgn0+avfbaq3vAAx5QJrQ0BvSgoRU5g2ZXrnNk+SRvF5Mte31A7Y9GXHkx8cGS6ilPeUqZyIjU1Zc0JrJ5xjOeUZakLgZbyduf4q8+rouY0MiGPH6Wdm9961u7QZvsBg2vkKK6KKeyeH7kIx/pXvGKV5S4z372s0v6LOUy0Ux2bsvPI488spD0hz/84UIQ8ko7Kgu3F8dhhx1WlpSW0uqTTXrGslF57AciDvlJq00tZcX3RJpkyxsshZ/61KeWZfzDHvawQq6WyKmLeCmLJ/OCF7ygvLy8iHx0nn1QS3XL8QMOOKB7+ctf3g2abykvkCdO8iWHX9qjDlsdpJFW2dJPQdKLA8LG+dqmeOYzn1nsqdck+TYsDvSZjw2GFUqZI15edT8x4z6dFvO6epKnzBUKMhgzCO1zITqk4zoKMnnpS19aNC8Q30kprc9Escfz/Oc/v2zE20+jJdmvsy9Hw3KNgwwagXxMeI1jv4g2gbwQITjcMCnJQ5BPe9rTyiEFpKHs6SFS2p39LERp34xWmL2tQBr7VogMOTN3vOMdCymrr3AddPTRR5d8lQ3B0ixDvlB3EgJCUtoBYfun9xriOoxBmojer2JoSySi/sK1MVKzv0jjdd1HmLLsv//+hVBpiUcddVSJL4wBBOVAwkGHlwKNHBIO0iQdDEv80gb2JPWZMqufvUVhSJ52TeNESiAtGTXGg3YcPhvISTr2jLOULf4J40588AIblvbF3rD0oJ8cillV6bd6/IA+HY+baTFvsoMwcDAWZTIef/zx5W/eLH9oAyojnmWPJd8ee+xRNDgVpV14a+fna2zsy2O//fYrSypLM2mRiQm3yy67lM19SzpfIYCGsOHtMMEhgLxpizaxhaWMyoaY3ImTHy1t55137jbbbLOiKSIycTOp1INWhxzJRbzRxMhVThoibdHS+Nhjjy2akk7TSeko8pQZ0SIOS1J2p7TCGRAfiT3vec8rZUTa7i/moEU7Wb4ffPDBheQQtjpIZ5m+++67l/bbbbfdyv+RSiMs7edwQl8oqxcOrRuE12UFdWOngWpXy0canFNX/Y9Uab077rhjIV2aX0AOmWknBriVUx3VY1JETkBjNTagll1PjqAOD8Z+tbtOW2Mct8Zc6VYnby7MlmZ1ea8Jtbw1yZkr79XFD8SZK32wujBIeMaseTSbzGlwzlpgQqRQMjWgDFgaiAkEwhMHYdiXoVVl4oC04jjZk16YvRikZT8OsdhzQWaIwESutShkgdA87Z9ZAoJJSW6I0jKLtmZpF6Sx7HFZvtEIEY5TVGRlD8ipLqQuiMWyD9G5bmJvLESXzki+SF195Zk6yzP5il//lPbGG29cNMnEjSxu+2naFsHRlhALQxaCRjrsykQjls5LhBbjWg5N10m0OMI8DRpEj+yUJSfOQfJOeWogZJqvvvai8rTc117sruNoG/nEpD61G/SVOngpeOFNYvbcc89u7733Ls/4eQEoa/peHuOy8084qHftBn7pSxDOPYbwmKD2q/0DfrXsSZD4SRM7o2zxmxTj/Mf1H9tjAunTHrV/wM88ST51+WPSpnEH7BkfMYG+jJZX+88H/3dErwEZSAptYlu+IAhLGYURzqQy4wqkojGAbBxMmLz2pWhc9n+23377sueUBkpjmljIyaS1VLSBzh8RiIN0THiaVX0FIiZ1QDK0E9qRJY68LM9csZBf3iYmtmUfNy2C3JSFnyfysO+IDBAIf8STgckdQxbypKk6PKjby1MZyRSHTMQqzwwW9+5cKbFs9qUGQtMmwpXL1ZIcPNDcgExh4gjzowzKp/1yFxKUJfmA8sQgO8Qo3FaBPO35uUqDhHLJOmkDMuUvLGXUDspHa5/tIGI2Y3zYTrAS8HJkjD3ISyDy5ZV8PZn4yzvxlVUadv4pJ3vCuMEz8oA8SBrxE5ZyMPEXb1KkzBAZUOc/rTxImdUPUm7+saeesSfvpEm+/NUTyNem4hsXMJYnPDL4R+409TgvOLsFpkAaXgFVioblvhqC4Z/GFI6M7L3RMmhn2bQWFgM0MGGWmvaBTCiaF03K50wmZjRAhrZj8CNbE8aeHlkaVWPSGBECf1pRBrY9QhPEHp/y8rMHSIa9LSfIZLgvKCyTwJKZQY6WuDQy+SRPiJaKWE16bSFfE9NhDU1OXGWwt2X5Ji555JIVk8FBnvjaR7uIh6gsJ10oftCDHlROURFhBhIC8+JRh7RpIJxsbaM8ymgZKD3op+xjQuqWZ8iORi0PLwb9izC9BJBy2iWQVj6pk/6LPPWhCeqnNRlLdMZKIX7axMsl8oB8ZQjq/NM+NYGlzZnEZbjHdRnHqSEsdWNSDoY9aZlJIQ9llZ4JyBJWk+AkSBlruyeTujLB2A2pAyMs8kKW5BiLkZ1w9cAXSRe53OrgudCYmuzqgpqIljC0LAaBWH6qFG0ICXoTmyR+/cRSK2k1ir0dZGM5Y98GeQmnzTjcoDXQ0JBC3RnyMNn5kxHNDRKu8RCdTiDLqaelrXwcTthn8lWATmCQiPwtl03AyCLHgQny0IkIRFwyHY6YPOkwkDc53NrGIYsvGlI+nU+eF0EmuzI5Va3jARmMNIiEBuWwRztbujpUyYloBpe6IFLl0i7KphzaEmGLU+fhxaG8lqO0anGRbOokrrbn1lfIBeFpfwc18thiiy1m9ukiW3ymzgvWGtylrINd+LRIPdM2kc+e/MZ5Aj9pk75G0sSAdgTxIfUJIgtqf+UI6jR5jvOeC0krvnxSvyB1n0YeiJ8yJg9GHnWcPNMO7AmvEf86LZM84maCOu44z4XEVF9QQAqukDQEm/WWNBqFm3ZgMtKgLDtMaktFn04hirpRTR5xTUITzgSlKZhwNDek4lMx6WlT0okjjWsbJrw7ctmXAo0sX8TAz+SkhfBHLojGEtCENtERLc1RfrRUV1Rs3OeqijxpQZaGymZSKyuCUib7c0gQySm3uAgWCbjuoP6WkvWemyVvtFWaCqJBUDRC2op8ldcLQ5loWrRPLwGETRtURnWD1N1TOaTRRohbGyu3JbHlPo3ZS4pbeZVHeWmm4tEUHb5YYkdm3Wf6V/nVTXs6HFEW+YjLiMvUbih+g6xCEpW/OGtC4kRunXY8sWqM3fKeLU4tTxwySzkHJCwQp5aRMsUOkVmHjdOtDknnRQPmV9LXecRMg8iuyxd3La8Oj3vcfrPZxUv78Yt/7ON8avtCYmqyqxtAZZCPCWTy+EyLxmSZhWwsNSwZ733ve5c4JlYtg9s9N09kY7Oa1kWbM6GltfxNOg2IrBAFMhWGCGkaGRTiICOTUjwT2oXYVatWzRCGgeNJm0LWnojFt6U0UHuIiAzUk4aImMii0bFvueWWJV5IwXIRiZCDXE855ZRCLn71RBmVL5OHlobIEah40pKnLULq6sEgIPXQvpaL2sS1F8Q422DxpC1qQ4RkfxDZ6oO0k/zVSVvS0MTj5zSVQZKRpwy1bC8m7aDse+21VzmUoLGLFw0w8YGdEV67x/ZJUcvRntzGoPKP5SoL1O2p3aNZezlze9LcY68NP/2tbhljoK+92IQbb4nPbmx5kSqXPJXTGE55JqnzuA4hDm7jl7y6LdaExJFePbil96KzLeGln3qok/Zg1J0/u3pxy7suDxkUHuFJYxxn3gbia3vytX/6wOok8hYSU189UTGF0mAaS6d6WroKU2h2lTUAPfPWD2q7hk5aRkdKw9AcNJhwcjPYDCKNqpHEkY9w6cXR2OSmY+UvXsomXJi8PFMfeTHkMZABQWOSbwYazS1xpCc7+YrPTxx5iy+fNDUZJkvKmHhkpDzs4mlf8cbyQNnEEyad+Ay3dMohXFval2PnJ504yqs9QF20p7jqmvYgVxx2aVwfcveP3bUYWqAwsqFOC6mPJ7BDyhD3miA+kzKBJz/5kaN/PMXhL1y5UjZt4kDHy83kBO2l7p4pU+SDtFYQD3nIQ8qLQB9oQ/uwLmXbCpEOpJOePOkcVNF6XRuyAsgYnASpm3LpE+5xuaZByqh8ZAIZyu/7a6fagTjC1EN/cmvjwEV3yoOVmjb18vODtl7M4lJUfERg1ZWXsrIb8w4eXb63kpCHlZKrVRSDaes0Lab+gqKOrhIasS5k/DxrGCAZlJFR22E2N1MPJiAnedSyEg/majjxx3ITV1gdHtkgLpNJXA8Y8TIY6jQQeTVS9qRNXnXc2DMJa2Kt48YdiKutM+ESlnjjvGs38Is/JJ4nLdTpu2Wyu3vRMIOkSbmAn7RxB8qYfMdhsyHlSllijwyoy5x6MWlD5I58aP20cpORFmyVYFUhrn1QPzILvtyxSjEhDznkkHIXNP2PLE1aX63QaNwccFcxBya0cWltd1hZuGxt71q/TFJfSB2V3fhih7q+qeMkSHpgl86L1GeDLuCrj/Lnk0ny09b63H6xlYC9+PzCjhcMwvOjE+5gCldPbevLH1p/8tPn5LivahWI4NyP1XZWGpPWY76YnRFWA5WvGzgDK40Xv7phIelqJE38Z3PnGX+GO2F1/OThCXX6GokPwkJcdVp1gjqf1Ivhrg3UcfMc22u/yArqsDzlmZdE2hkSV9nHMlIHSLzEEcYNqSOMZVhqIAEDHEk4vHBx2HLa/Uen1wZojeQd+TXIl1/yFGe2eHMh8et0sZOtHdhTd/a0FzvtVNmRlJNjl61paj5ts7w3cW0TcCM7xsGLPVVbFbS79IM8TGhkn1UIDdcWQ8gS8flaiDZDC7Ts146TQrmZuj3tRfu1GvdQo5FPg8jRLrHT5m032Ru3atAG+jb1cEmc3aePrnG5KkWjU2dA3rao8k26dmHcQrA0RoYgP+1HBgK0N639bINYdaQ8C4mpyC4F8qzN6pDwDBTwzKCEWk7scevwYBwGtdszgyODZRw3+dYDqc6jRp1WXHWApI2sOt4YwhKefOq08avjQdzjfKGOy6+2Q7S6GnPlI17tBnHtPXrT+1LCVyE+S6MBuMBtHzKXvCHp6zyTz1h+ysF/trzXhOQxTk9uZAd1nS3HaFmu2tgftY9qktI2nIIjd5PYZE86S0/7nfZ6TU79kDzFyYsGWboWo01AOAJBgGTYcnGoQwOCyM8zqN3sccuT3Y2Ht7/97WVfO0t2GKerMQ6LGSN1sX/MkO0FwI8dQdH27Glrt/hrE3YE6uXnIA5xGj/27e3LBeIjSUStzVyotzJIny40zpdcMghq1AMxT2CPexynlhG3J/meMRC/oLaDtOLEPg6PW1iWJoGwlGWcNnL51QbG9jHGftwpY43Z0oJyjsPixyhbyj3GuB4wW7vm6a3s4MLVGZ/cuUJkcPqe1sSeK13tB7V/2i7uaTFXGv7aIXU3+Zi0DbsJZslGa7EEy3IT2dG6bMIjOxM9ckxw3ySrN9RtSJYDCiRhb06bQNICrSmfOCI6cWvtNuWs7THyISt2T0j+cSd+7NFmg9qd8Hq8k0f7dKCFQHOHkb+40Zid0tOGfaNuWR+5jDjaQtt5iTho4+fQ0ZZBIK6XjkMK7ZLL8IuF2WdGw4pDBm0GNxIwEE1YBGGfxaazt/ZSRiZgiALUx9LKNRkb8S6Pm6wmt2UtDcQSjvaG8KSTxhLWp2k230HbhACQownObUM+e1NpPzJcKaLR0WYs32h+yJ4Rro1TxiDy+TP6gFt9xI9GR3sXzp66SjtG8mLEC9FJx6QutF5EpM6IO+XISyTupM1Lix+3i/L8aMK0Wf72LB1aSCuOpxcoTVc7a29tI+5sZT+/0ciuocBgNKgZdtqM37LziyzPfe5zy96NCV1rBUsVyh8giEw2daNR5JDA5M4FbJvl0c5CQuqa036kI03kuDJh4oKlLzKVxsT1RB40RocXJjXtz96UsqQ85HvKj4ns9EHixO1Zk2UgT+VLWvJTDk9pY2dSP3Z1VxcnqrRdy/zkyRx99NHl13aEy1ca8qUnN362AsRHlsiOQfZOe5Fp8osGqb3kB2RIu9BoZNdQYDAyGcjevLQ4G9M0IXss3sLClzIysevlETeYUKknYxK6fG0SIiSTL6QSOcAeE7e9KCeLgOws7ZAIcnNp3UGCpzAX6oWH3CCEVxv5xd+TCQnEv3YHSa8ecQN5CYsBz8TVBgjJnmUunUvnMMV9UXuE2ghqOWkbT0t62jEy90LUjvZFlRHh0YBTN6To+o59UOMpZVwMNLJrmIGBF5NBDSaYgVpPsKWMejKO6wGpC8JyVYKmUZMdTaMGv6QlF5G6XO3ARloHBy6nO61mXMPweSJ5fozS6bVl8mxIW6eN50L6hUFUSRcg0oSTlfKKwy8Y188y3hKUP4LL9SLfpPuPFKeqym4/DsiNPE/ascMI9+Zoa16KCNMJLvKjEfrqR93EdyWH9ogU63ItBhrZNRRkwtXaB8Q+1hqWOmgNNTKxlD9kYflG+6KZWH5lQtdxgZud0UZIgbbi6xREQPvxK8guW7trZnlrG8DvM9rvI1u7QiY9OeTFzdAMyUUONCUGOdCGEJKrM8psg18c/pbK9gXZLRGRjvqkvJEfIuUH6WdkR5by2F9D1u4EujDuniFZtDBEBmNZNENlYEd07i3am/TTap7aAuGpm4MQdUKG4pIj30XDUPiGhnNhGITlz0+YGsOALX+utJRRl3HQumb+pCV1EpZ6+XOmYeKVP4c67rjjZv7wRRzx2dMOgwYz82cvAyn0hx12WEm7//77lz8kOuuss/pBUyx/mMQu/jC5SxlAWnJTHs9AvIFAyx9F7bbbbuVPi4al3rnMOuus0w/EWsq69tprn8ufGbSoUp6BYPth+TlTR2BP/ZNv/E488cTyp1MD6ZQ/ShqWtP1AqP1ASv0BBxzQb7vttuVPncRXF0a6GPHF22abbfqTTjppRvZAyOUPsNZbb71+33337YcXQz9o0f0GG2xQ/pTqjDPOKOnrdlhoNM2uoWAYCzNawDBYy9Nb13MYkDPu8RJvqUEZGXVR1mgynjHq4koETUbd/OhDPmtKHbVBnYYmxG8grPLDDA4gHFy4PkGbcZAxkE/RWjzJkCayIG2nbGlbIEd6+6QHHXRQ0RR9Y874bUVPB0W0RBqTJaKf1+Lvmd9g9BcGfpDW6XDdb6kzyDdPfpagluHK7MIwLY5deZzEaxv1S7t4pk2AZkerlKd4ZDJkuKDtGov2sjymgWo/+5jyIYM8ftpkodHIrqEgAzgDMJOBiT3xLgxIPVJe5TehUkcb8iYhf7f/EQ0kfLb6pl0sJ7P0c+poYouXcCQDkRUZZNbuvFQCS2+Xtt1V8/cAjM/afGmQvwtApvYC6/AY8Vz9cOKsHHVeQZ0fwkd2yutuXE5ipZGPLyjcrXNwETIit5aB7CxVkZoXRupIjjuKDmaceLtzJy/LYaSYwy5xU9aFRiO7hhlkwI0HH/eFDSl/npmg3Opj34tmx+5TMJMbxIvmVbcB8KPd5OsAE9ZGOw1oHL921/bkf27J50B44qbMIRDpGFDG2h+SNib+wA21TGSvLg4SXLRG2iCuryG8BBAvwop/Lcd+nsvn5GgHaRJH3siZBudeHbKjAbqcrK3rcmjTyF1INLJrmBMZtOC5GAPyvCJlzmQC9hBY3A4CEJYlpAmJsAIaVx23lpnTR9odbTBaSo1oRzHBudpweCYe/3OFjZCyBOLV9Qtmi5dnjDjSMuqBqCxZaZQOW5KmRtIlLE+aYa7uIDsaZQ2aomU++a7pOKGmeWZZTM5s9VgonLt1GhqWATKBov2YWLQHbhPM5MypJz9LURPSck44AoRM6siTzomnaycm7OoI4ryCzJBXiMHeFpOw+E+KxE07aAOEpw6+4/WclHykR/iu3yDt7PVJzwiXj6WsdsoJspNppCgMPCfN87yikV3DsoOJVk9sJJXJBQjLdQjXNEzUXNVgB5MvaWo5CPPUU08taV2jsDyzjKPtLQRS9kBZQnLCmEmJIvHTNkhOXVwb4e9KS53XmuBbX2lpa9K5s6gd6vIopy0CS9fkm31HkO9iLWGhkV3DssKYqEy4Gm70+wTKT1aZnCbtEUcc0Z188snn+kmipCOPHHGdfvqhS3ffpPP072ZkLgRS/hAIOz/184yZBIkrrcOZ1NmdQfXmducQgU8CbeFHN901pG36A3wXtCHl9bTUp/VZ0tLofJJnjzDlCQknzUJi6p9lb2hYyjBpmEymIHaT2edRJpxrHD6Fc/nVUiuHDbSNmuwYE9J1ExqdpZi0vnc1mS0Bc5q7EEhdEBPCkK88Q37TQF0Quj00ZXb52c8yOUkl08Xqev9yLtjv9AKwB6cNkZn0uVIiH9CWCDYXjZ3wjvf2Ur9p6zItpv5Z9oaGpQzDmcmEywSqh3nCAGGYjGPiSDiSA5O2lhEkbcjx/IT85C9vSFnq8rPX5Z4LSVuXU9nJifxp65LypYx1mcjKtkAgPLLZa/dioJFdw7KDIW2ymYAmXiZkvScHIYlM8po0VucnPXnsDH/x2BcC8mPkkbzHRDIpIocMz8h0OEMm9zSIvIBcfiFQSJm1Uw5/gnFZFhKLR6sNDYuI8cSJ28QC7kxyJOVpMgb8ahni5qZ/SC5p4j4/IT8m9pTFs9b0EmdNCNlETuTzV4+8GCZF0jM5mGDIqNuijofo0v7csS8WGtk1LDuYcDGZUJmAJlmeTPzryc4/aWO4aT6Jzz0tQUyDcVmYlDlh0+Qtbk1C7GSpm3rEPSlSplruuDxp+8Sbrey5ShP3QqItYxuWJTKxQlSZTHEH7PUkhDptUBNFjUyfOv35ibpsKc9cZZkW55e8uox1e4ztTJ0XN21zIV8aNRrZNTQ0rAicP6+IhoaGhiWORnYNDQ0rAo3sGhoaVgQa2TU0NKwINLJraGhYEWhk19DQsCLQyK6hoWFFoJFdQ0PDikAju4aGhhWBRnYNDQ0rAF33/wGJ8JbrDCaPSQAAAABJRU5ErkJggg==)"
      ]
    },
    {
      "cell_type": "code",
      "execution_count": null,
      "metadata": {
        "colab": {
          "base_uri": "https://localhost:8080/"
        },
        "outputId": "1571f3b7-c43a-4583-f09d-e3b779e22087",
        "id": "h8zZD2uAZJSN"
      },
      "outputs": [
        {
          "output_type": "stream",
          "name": "stdout",
          "text": [
            "Sensitivity (Random Forest):  89.1156 %\n"
          ]
        }
      ],
      "source": [
        "sensitivity_rf = cm[1,1]/(cm[1,0]+cm[1,1]) * 100\n",
        "print('Sensitivity (Random Forest): ', round(sensitivity_rf, 4), \"%\")"
      ]
    },
    {
      "cell_type": "markdown",
      "metadata": {
        "id": "6ofQoPveZJSN"
      },
      "source": [
        "### Classification Report"
      ]
    },
    {
      "cell_type": "code",
      "execution_count": null,
      "metadata": {
        "colab": {
          "base_uri": "https://localhost:8080/"
        },
        "outputId": "096ddb84-21a3-481b-8422-0299ad65eee8",
        "id": "pnox63DvZJSN"
      },
      "outputs": [
        {
          "output_type": "stream",
          "name": "stdout",
          "text": [
            "              precision    recall  f1-score   support\n",
            "\n",
            "           0       0.96      1.00      0.98      1278\n",
            "           1       1.00      0.89      0.94       441\n",
            "\n",
            "    accuracy                           0.97      1719\n",
            "   macro avg       0.98      0.95      0.96      1719\n",
            "weighted avg       0.97      0.97      0.97      1719\n",
            "\n"
          ]
        }
      ],
      "source": [
        "print(classification_report(y_test, rf_pred_labels))"
      ]
    },
    {
      "cell_type": "markdown",
      "metadata": {
        "id": "ssbhvnZhZJSN"
      },
      "source": [
        "### ROC Curve and AUC"
      ]
    },
    {
      "cell_type": "code",
      "execution_count": null,
      "metadata": {
        "id": "PylfvMxLZJSN"
      },
      "outputs": [],
      "source": [
        "y_prob = spamRF.predict_proba(X_test)\n",
        "\n",
        "y_prob = y_prob[:, 1]\n",
        "\n",
        "n_classes = len(spamRF.classes_)\n",
        "\n",
        "fpr, tpr,_ = roc_curve(y_test, y_prob)\n",
        "roc_auc_rf = auc(fpr, tpr)"
      ]
    },
    {
      "cell_type": "code",
      "execution_count": null,
      "metadata": {
        "colab": {
          "base_uri": "https://localhost:8080/",
          "height": 295
        },
        "outputId": "5e6d1da2-a668-4a54-b0a0-2b56bbdea282",
        "id": "NiFbNuw9ZJSO"
      },
      "outputs": [
        {
          "output_type": "display_data",
          "data": {
            "text/plain": [
              "<Figure size 432x288 with 1 Axes>"
            ],
            "image/png": "[encoded data removed]"
          },
          "metadata": {
            "needs_background": "light"
          }
        }
      ],
      "source": [
        "lw = 2\n",
        "plt.plot(\n",
        "    fpr,\n",
        "    tpr,\n",
        "    color=\"darkorange\",\n",
        "    lw=lw,\n",
        "    label=\"ROC curve (area = %0.2f)\" % roc_auc_rf,\n",
        ")\n",
        "plt.plot([0, 1], [0, 1], color=\"navy\", lw=lw, linestyle=\"--\")\n",
        "plt.xlim([0.0, 1.0])\n",
        "plt.ylim([0.0, 1.05])\n",
        "plt.xlabel(\"False Positive Rate\")\n",
        "plt.ylabel(\"True Positive Rate\")\n",
        "plt.title(\"Receiver Operating Characteristic Curve\")\n",
        "plt.legend(loc=\"lower right\")\n",
        "plt.show()"
      ]
    },
    {
      "cell_type": "markdown",
      "source": [
        "What is the testing set AUC of spamRF?\n",
        "\n",
        "Ans: 1.00"
      ],
      "metadata": {
        "id": "ZmUsrUkwQFBp"
      }
    },
    {
      "cell_type": "markdown",
      "source": [
        "## Naive Bayes"
      ],
      "metadata": {
        "id": "RuVoFsSrY1oI"
      }
    },
    {
      "cell_type": "markdown",
      "metadata": {
        "id": "oDOIvTDjZOli"
      },
      "source": [
        "### Prediction"
      ]
    },
    {
      "cell_type": "code",
      "execution_count": null,
      "metadata": {
        "id": "ibIA30bxZOli"
      },
      "outputs": [],
      "source": [
        "pred_labels = nb_model.predict(X_test)"
      ]
    },
    {
      "cell_type": "markdown",
      "metadata": {
        "id": "wk0SSRY2ZOlj"
      },
      "source": [
        "### Accuracy"
      ]
    },
    {
      "cell_type": "code",
      "execution_count": null,
      "metadata": {
        "colab": {
          "base_uri": "https://localhost:8080/"
        },
        "outputId": "0120bef4-4486-4cd0-8179-030a86e1072d",
        "id": "FQmr4AC-ZOlj"
      },
      "outputs": [
        {
          "output_type": "stream",
          "name": "stdout",
          "text": [
            "Accuracy (Naive Bayes):  98.5457 %\n"
          ]
        }
      ],
      "source": [
        "accuracy_naive_bayes = accuracy_score(y_test, pred_labels) * 100\n",
        "print('Accuracy (Naive Bayes): ', round(accuracy_naive_bayes, 4), \"%\")"
      ]
    },
    {
      "cell_type": "markdown",
      "metadata": {
        "id": "__CCRlhsZOlj"
      },
      "source": [
        "### Confusion Matrix"
      ]
    },
    {
      "cell_type": "code",
      "execution_count": null,
      "metadata": {
        "colab": {
          "base_uri": "https://localhost:8080/",
          "height": 337
        },
        "outputId": "eeb8cacf-2868-451e-acf5-5a0d9140cbec",
        "id": "S75yadw_ZOlj"
      },
      "outputs": [
        {
          "output_type": "display_data",
          "data": {
            "text/plain": [
              "<Figure size 360x360 with 1 Axes>"
            ],
            "image/png": "[encoded data removed]"
          },
          "metadata": {
            "needs_background": "light"
          }
        }
      ],
      "source": [
        "cm = confusion_matrix(y_test, pred_labels)\n",
        "\n",
        "fig, ax = plt.subplots(figsize=(5, 5))\n",
        "ax.imshow(cm)\n",
        "ax.grid(False)\n",
        "ax.set_xlabel('Predicted outputs', fontsize=12, color='black')\n",
        "ax.set_ylabel('Actual outputs', fontsize=12, color='black')\n",
        "ax.xaxis.set(ticks=range(2))\n",
        "ax.yaxis.set(ticks=range(2))\n",
        "for i in range(2):\n",
        "    for j in range(2):\n",
        "        ax.text(j, i, cm[i, j], ha='center', va='center', color='white')\n",
        "plt.show()"
      ]
    },
    {
      "cell_type": "markdown",
      "metadata": {
        "id": "Ar50W5o3ZOlj"
      },
      "source": [
        "### Specificity"
      ]
    },
    {
      "cell_type": "markdown",
      "metadata": {
        "id": "-pRQkdOKZOlj"
      },
      "source": [
        "![image.png](data:image/png;base64,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)"
      ]
    },
    {
      "cell_type": "code",
      "execution_count": null,
      "metadata": {
        "colab": {
          "base_uri": "https://localhost:8080/"
        },
        "outputId": "6862d511-f6f4-4f28-8fb1-364a1b23987a",
        "id": "EgNUK2QDZOll"
      },
      "outputs": [
        {
          "output_type": "stream",
          "name": "stdout",
          "text": [
            "Specificity (Naive Bayes):  98.6698 %\n"
          ]
        }
      ],
      "source": [
        "specificity_naive_bayes = cm[0,0]/(cm[0,0]+cm[0,1]) * 100\n",
        "print('Specificity (Naive Bayes): ', round(specificity_naive_bayes, 4), \"%\")"
      ]
    },
    {
      "cell_type": "markdown",
      "metadata": {
        "id": "MVTRzbXhZOll"
      },
      "source": [
        "### Sensitivity"
      ]
    },
    {
      "cell_type": "markdown",
      "metadata": {
        "id": "h5ktXXefZOll"
      },
      "source": [
        "![image.png](data:image/png;base64,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)"
      ]
    },
    {
      "cell_type": "code",
      "execution_count": null,
      "metadata": {
        "colab": {
          "base_uri": "https://localhost:8080/"
        },
        "outputId": "e718f433-f1ae-4682-9350-b964d4bbd6ca",
        "id": "cL8RxDybZOlm"
      },
      "outputs": [
        {
          "output_type": "stream",
          "name": "stdout",
          "text": [
            "Sensitivity (Naive Bayes):  98.1859 %\n"
          ]
        }
      ],
      "source": [
        "sensitivity_naive_bayes = cm[1,1]/(cm[1,0]+cm[1,1]) * 100\n",
        "print('Sensitivity (Naive Bayes): ', round(sensitivity_naive_bayes, 4), \"%\")"
      ]
    },
    {
      "cell_type": "markdown",
      "metadata": {
        "id": "X6ujMp1rZOlm"
      },
      "source": [
        "### Classification Report"
      ]
    },
    {
      "cell_type": "code",
      "execution_count": null,
      "metadata": {
        "colab": {
          "base_uri": "https://localhost:8080/"
        },
        "outputId": "cc385969-b635-4f87-e6da-4b51be6845df",
        "id": "5K8FBNljZOlm"
      },
      "outputs": [
        {
          "output_type": "stream",
          "name": "stdout",
          "text": [
            "              precision    recall  f1-score   support\n",
            "\n",
            "           0       0.99      0.99      0.99      1278\n",
            "           1       0.96      0.98      0.97       441\n",
            "\n",
            "    accuracy                           0.99      1719\n",
            "   macro avg       0.98      0.98      0.98      1719\n",
            "weighted avg       0.99      0.99      0.99      1719\n",
            "\n"
          ]
        }
      ],
      "source": [
        "print(classification_report(y_test, pred_labels))"
      ]
    },
    {
      "cell_type": "markdown",
      "metadata": {
        "id": "LybDPjnqZOln"
      },
      "source": [
        "### ROC Curve and AUC"
      ]
    },
    {
      "cell_type": "code",
      "execution_count": null,
      "metadata": {
        "id": "r3xc-1j8ZOln"
      },
      "outputs": [],
      "source": [
        "y_prob = nb_model.predict_proba(X_test)\n",
        "\n",
        "y_prob = y_prob[:, 1]\n",
        "\n",
        "n_classes = len(nb_model.classes_)\n",
        "\n",
        "fpr, tpr,_ = roc_curve(y_test, y_prob)\n",
        "roc_auc_nb = auc(fpr, tpr)"
      ]
    },
    {
      "cell_type": "code",
      "execution_count": null,
      "metadata": {
        "colab": {
          "base_uri": "https://localhost:8080/",
          "height": 295
        },
        "outputId": "4366ee75-ac77-46df-fd6d-afe05a0ea5c7",
        "id": "KRHWC8vfZOln"
      },
      "outputs": [
        {
          "output_type": "display_data",
          "data": {
            "text/plain": [
              "<Figure size 432x288 with 1 Axes>"
            ],
            "image/png": "[encoded data removed]"
          },
          "metadata": {
            "needs_background": "light"
          }
        }
      ],
      "source": [
        "lw = 2\n",
        "plt.plot(\n",
        "    fpr,\n",
        "    tpr,\n",
        "    color=\"darkorange\",\n",
        "    lw=lw,\n",
        "    label=\"ROC curve (area = %0.2f)\" % roc_auc_nb,\n",
        ")\n",
        "plt.plot([0, 1], [0, 1], color=\"navy\", lw=lw, linestyle=\"--\")\n",
        "plt.xlim([0.0, 1.0])\n",
        "plt.ylim([0.0, 1.05])\n",
        "plt.xlabel(\"False Positive Rate\")\n",
        "plt.ylabel(\"True Positive Rate\")\n",
        "plt.title(\"Receiver Operating Characteristic Curve\")\n",
        "plt.legend(loc=\"lower right\")\n",
        "plt.show()"
      ]
    },
    {
      "cell_type": "markdown",
      "source": [
        "## CART"
      ],
      "metadata": {
        "id": "w9CmUvGNY4Ws"
      }
    },
    {
      "cell_type": "markdown",
      "metadata": {
        "id": "jFbQSVAHZT5z"
      },
      "source": [
        "### Prediction"
      ]
    },
    {
      "cell_type": "code",
      "execution_count": null,
      "metadata": {
        "id": "F4jfQMD4ZT5z"
      },
      "outputs": [],
      "source": [
        "cart_pred_labels = spamCART.predict(X_test)"
      ]
    },
    {
      "cell_type": "markdown",
      "metadata": {
        "id": "zisFLAi0ZT50"
      },
      "source": [
        "### Accuracy"
      ]
    },
    {
      "cell_type": "code",
      "execution_count": null,
      "metadata": {
        "colab": {
          "base_uri": "https://localhost:8080/"
        },
        "outputId": "0a504332-5625-41f7-dd0d-b280fa0e1771",
        "id": "5L3Q_4v6ZT50"
      },
      "outputs": [
        {
          "output_type": "stream",
          "name": "stdout",
          "text": [
            "Accuracy (CART):  95.5788 %\n"
          ]
        }
      ],
      "source": [
        "accuracy_cart = accuracy_score(y_test, cart_pred_labels) * 100\n",
        "print('Accuracy (CART): ', round(accuracy_cart, 4), \"%\")"
      ]
    },
    {
      "cell_type": "markdown",
      "source": [
        "What is the testing set accuracy of spamCART, using a threshold of 0.5 for predictions?\n",
        "\n",
        "Ans: 95.5788 %"
      ],
      "metadata": {
        "id": "Ruqxl3wpPr3w"
      }
    },
    {
      "cell_type": "markdown",
      "metadata": {
        "id": "6hHZftFyZT50"
      },
      "source": [
        "### Confusion Matrix"
      ]
    },
    {
      "cell_type": "code",
      "execution_count": null,
      "metadata": {
        "colab": {
          "base_uri": "https://localhost:8080/",
          "height": 337
        },
        "outputId": "89f922ec-54a8-40cf-f733-1e31dde92d7e",
        "id": "Ebu0fa9aZT50"
      },
      "outputs": [
        {
          "output_type": "display_data",
          "data": {
            "text/plain": [
              "<Figure size 360x360 with 1 Axes>"
            ],
            "image/png": "[encoded data removed]"
          },
          "metadata": {
            "needs_background": "light"
          }
        }
      ],
      "source": [
        "cm = confusion_matrix(y_test, cart_pred_labels)\n",
        "\n",
        "fig, ax = plt.subplots(figsize=(5, 5))\n",
        "ax.imshow(cm)\n",
        "ax.grid(False)\n",
        "ax.set_xlabel('Predicted outputs', fontsize=12, color='black')\n",
        "ax.set_ylabel('Actual outputs', fontsize=12, color='black')\n",
        "ax.xaxis.set(ticks=range(2))\n",
        "ax.yaxis.set(ticks=range(2))\n",
        "for i in range(2):\n",
        "    for j in range(2):\n",
        "        ax.text(j, i, cm[i, j], ha='center', va='center', color='white')\n",
        "plt.show()"
      ]
    },
    {
      "cell_type": "markdown",
      "metadata": {
        "id": "ggN3TsryZT50"
      },
      "source": [
        "### Specificity"
      ]
    },
    {
      "cell_type": "markdown",
      "metadata": {
        "id": "sObfm_oDZT50"
      },
      "source": [
        "![image.png](data:image/png;base64,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)"
      ]
    },
    {
      "cell_type": "code",
      "execution_count": null,
      "metadata": {
        "colab": {
          "base_uri": "https://localhost:8080/"
        },
        "outputId": "0f2fbc64-a3ef-42be-d0c7-280bc17fd84f",
        "id": "T3ebG4wtZT52"
      },
      "outputs": [
        {
          "output_type": "stream",
          "name": "stdout",
          "text": [
            "Specificity (CART):  97.2613 %\n"
          ]
        }
      ],
      "source": [
        "specificity_cart = cm[0,0]/(cm[0,0]+cm[0,1]) * 100\n",
        "print('Specificity (CART): ', round(specificity_cart, 4), \"%\")"
      ]
    },
    {
      "cell_type": "markdown",
      "metadata": {
        "id": "QAfO47JkZT52"
      },
      "source": [
        "### Sensitivity"
      ]
    },
    {
      "cell_type": "markdown",
      "metadata": {
        "id": "5KYBq9ElZT52"
      },
      "source": [
        "![image.png](data:image/png;base64,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)"
      ]
    },
    {
      "cell_type": "code",
      "execution_count": null,
      "metadata": {
        "colab": {
          "base_uri": "https://localhost:8080/"
        },
        "outputId": "edf5a3d8-efb6-42a8-aaf3-56cca9419399",
        "id": "pxfYqBmyZT53"
      },
      "outputs": [
        {
          "output_type": "stream",
          "name": "stdout",
          "text": [
            "Sensitivity (CART):  90.7029 %\n"
          ]
        }
      ],
      "source": [
        "sensitivity_cart = cm[1,1]/(cm[1,0]+cm[1,1]) * 100\n",
        "print('Sensitivity (CART): ', round(sensitivity_cart, 4), \"%\")"
      ]
    },
    {
      "cell_type": "markdown",
      "metadata": {
        "id": "D1USEEIJZT54"
      },
      "source": [
        "### Classification Report"
      ]
    },
    {
      "cell_type": "code",
      "execution_count": null,
      "metadata": {
        "colab": {
          "base_uri": "https://localhost:8080/"
        },
        "outputId": "184ca1f4-1508-4368-c5d7-fc83abe051a7",
        "id": "O69T4AyWZT54"
      },
      "outputs": [
        {
          "output_type": "stream",
          "name": "stdout",
          "text": [
            "              precision    recall  f1-score   support\n",
            "\n",
            "           0       0.97      0.97      0.97      1278\n",
            "           1       0.92      0.91      0.91       441\n",
            "\n",
            "    accuracy                           0.96      1719\n",
            "   macro avg       0.94      0.94      0.94      1719\n",
            "weighted avg       0.96      0.96      0.96      1719\n",
            "\n"
          ]
        }
      ],
      "source": [
        "print(classification_report(y_test, cart_pred_labels))"
      ]
    },
    {
      "cell_type": "markdown",
      "metadata": {
        "id": "JWV6U3XwZT54"
      },
      "source": [
        "### ROC Curve and AUC"
      ]
    },
    {
      "cell_type": "code",
      "execution_count": null,
      "metadata": {
        "id": "RVVGM6UJZT54"
      },
      "outputs": [],
      "source": [
        "y_prob = spamCART.predict_proba(X_test)\n",
        "\n",
        "y_prob = y_prob[:, 1]\n",
        "\n",
        "n_classes = len(spamCART.classes_)\n",
        "\n",
        "fpr, tpr,_ = roc_curve(y_test, y_prob)\n",
        "roc_auc_cart = auc(fpr, tpr)"
      ]
    },
    {
      "cell_type": "code",
      "execution_count": null,
      "metadata": {
        "colab": {
          "base_uri": "https://localhost:8080/",
          "height": 295
        },
        "outputId": "128132e3-1fb3-407e-b243-3f9ea954801d",
        "id": "mGsBxN1GZT54"
      },
      "outputs": [
        {
          "output_type": "display_data",
          "data": {
            "text/plain": [
              "<Figure size 432x288 with 1 Axes>"
            ],
            "image/png": "[encoded data removed]"
          },
          "metadata": {
            "needs_background": "light"
          }
        }
      ],
      "source": [
        "lw = 2\n",
        "plt.plot(\n",
        "    fpr,\n",
        "    tpr,\n",
        "    color=\"darkorange\",\n",
        "    lw=lw,\n",
        "    label=\"ROC curve (area = %0.2f)\" % roc_auc_cart,\n",
        ")\n",
        "plt.plot([0, 1], [0, 1], color=\"navy\", lw=lw, linestyle=\"--\")\n",
        "plt.xlim([0.0, 1.0])\n",
        "plt.ylim([0.0, 1.05])\n",
        "plt.xlabel(\"False Positive Rate\")\n",
        "plt.ylabel(\"True Positive Rate\")\n",
        "plt.title(\"Receiver Operating Characteristic Curve\")\n",
        "plt.legend(loc=\"lower right\")\n",
        "plt.show()"
      ]
    },
    {
      "cell_type": "markdown",
      "source": [
        "What is the testing set AUC of spamCART?\n",
        "\n",
        "Ans: 0.94"
      ],
      "metadata": {
        "id": "j2k2qF79Px6G"
      }
    },
    {
      "cell_type": "markdown",
      "source": [
        "## Comparison of Results"
      ],
      "metadata": {
        "id": "jFhL9wyG-PbT"
      }
    },
    {
      "cell_type": "code",
      "source": [
        "results_table = PrettyTable(['Model','Accuracy (%)', 'Specificity (%)', 'Sensitivity (%)', \"Area Under Curve(AUC)\"])\n",
        "results_table.add_row(['Random Forest', round(accuracy_rf, 4),  round(specificity_rf, 4), round(sensitivity_rf, 4), round(roc_auc_rf,4) ])\n",
        "results_table.add_row(['Naive Bayes', round(accuracy_naive_bayes, 4), round(specificity_naive_bayes, 4),round(sensitivity_naive_bayes, 4), round(roc_auc_nb,4)  ])\n",
        "results_table.add_row(['CART', round(accuracy_cart, 4), round(specificity_cart, 4), round(sensitivity_cart, 4), round(roc_auc_cart,4) ])\n",
        "print(results_table)"
      ],
      "metadata": {
        "execution": {
          "iopub.status.busy": "2022-03-08T19:16:04.800226Z",
          "iopub.execute_input": "2022-03-08T19:16:04.800945Z",
          "iopub.status.idle": "2022-03-08T19:16:04.824815Z",
          "shell.execute_reply.started": "2022-03-08T19:16:04.800880Z",
          "shell.execute_reply": "2022-03-08T19:16:04.823911Z"
        },
        "trusted": true,
        "colab": {
          "base_uri": "https://localhost:8080/"
        },
        "id": "YnbuFfOW-PbT",
        "outputId": "a336660d-7733-41e4-d512-6196b94bf424"
      },
      "execution_count": null,
      "outputs": [
        {
          "output_type": "stream",
          "name": "stdout",
          "text": [
            "+---------------+--------------+-----------------+-----------------+-----------------------+\n",
            "|     Model     | Accuracy (%) | Specificity (%) | Sensitivity (%) | Area Under Curve(AUC) |\n",
            "+---------------+--------------+-----------------+-----------------+-----------------------+\n",
            "| Random Forest |   97.2077    |      100.0      |     89.1156     |         0.9968        |\n",
            "|  Naive Bayes  |   98.5457    |     98.6698     |     98.1859     |         0.996         |\n",
            "|      CART     |   95.5788    |     97.2613     |     90.7029     |         0.9398        |\n",
            "+---------------+--------------+-----------------+-----------------+-----------------------+\n"
          ]
        }
      ]
    },
    {
      "cell_type": "markdown",
      "source": [
        "Which model had the best testing set performance, in terms of accuracy and AUC? - CART or Random Forest\n",
        "\n",
        "Ans: Random Forest has the best testing performance compared to CART in terms of accuracy and AUC."
      ],
      "metadata": {
        "id": "fxOS1sk4QKDY"
      }
    },
    {
      "cell_type": "markdown",
      "source": [
        "# Inference\n",
        "\n",
        "1. The email dataset had uneven class distribution with 1368 spam emails and 4360 ham emails.\n",
        "In this experiment, I performed text analysis for separating spam email from ham.\n",
        "2. A spam classifier can potentially benefit from including the frequency of the word that appears in every email.\n",
        "3. Random Forest model outperformed CART model in terms of Accuracy and AUC.\n",
        "5. This is because Random forests consist of multiple single trees each based on a random sample of the training data. They are typically more accurate than single decision trees.\n",
        "6. While a single decision tree like CART is often pruned, a random forest tree is fully grown and unpruned, and so, naturally, the feature space is split into more and smaller regions.\n",
        "7. Each random forest tree is learned on a random sample, and at each node, a random set of features are considered for splitting. Both mechanisms create diversity among the trees."
      ],
      "metadata": {
        "id": "ffPYaoHFNSaZ"
      }
    }
  ],
  "metadata": {
    "colab": {
      "collapsed_sections": [],
      "name": "DS-Exp7.ipynb",
      "provenance": []
    },
    "kernelspec": {
      "display_name": "Python 3",
      "name": "python3"
    },
    "language_info": {
      "name": "python"
    }
  },
  "nbformat": 4,
  "nbformat_minor": 0
}